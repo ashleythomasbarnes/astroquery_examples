{
 "cells": [
  {
   "cell_type": "markdown",
   "metadata": {},
   "source": [
    "<hr style=\"border:2px solid #0281c9\"> </hr>\n",
    "\n",
    "<img align=\"left\" alt=\"ESO Logo\" src=\"http://archive.eso.org/i/esologo.png\">  \n",
    "\n",
    "<div align=\"center\">\n",
    "  <h1 style=\"color: #0281c9; font-weight: bold;\">ESO Science Archive</h1> \n",
    "  <h2 style=\"color: #0281c9; font-weight: bold;\">Jupyter Notebooks</h2>\n",
    "</div>\n",
    "\n",
    "<hr style=\"border:2px solid #0281c9\"> </hr>"
   ]
  },
  {
   "cell_type": "markdown",
   "metadata": {},
   "source": [
    "## Query by source name/position\n",
    "\n",
    "This notebook demonstrates how to use the ``astroquery.eso`` module to search for and download science-ready **HAWK-I** near-infrared data from the ESO archive, specifically targeting **Sgr A**, the supermassive black hole at the center of the Milky Way. It guides users through constructing and executing the query to locate relevant **HAWK-I** observations, filtering results to identify processed data products, and downloading these datasets for further analysis, providing a streamlined approach to accessing ESO’s extensive observational resources programatically. \n",
    "\n",
    "<hr style=\"border:2px solid #0281c9\"> </hr>"
   ]
  },
  {
   "cell_type": "markdown",
   "metadata": {},
   "source": [
    "### Importing and basic usage of astroquery.eso "
   ]
  },
  {
   "cell_type": "markdown",
   "metadata": {},
   "source": [
    "In this example, we will create an instance of the ESO class using:\n",
    "\n",
    "```python\n",
    "from astroquery.eso import Eso # import the ESO module from astroquery\n",
    "eso = Eso()  # create an instance of the ESO class\n",
    "```\n",
    "\n",
    "This instance will be used to demonstrate various queries to the ESO Archive, including searching for raw data and data products from a range of instruments and sources."
   ]
  },
  {
   "cell_type": "code",
   "execution_count": 1,
   "metadata": {},
   "outputs": [],
   "source": [
    "from astroquery.eso import Eso # import the ESO module from astroquery"
   ]
  },
  {
   "cell_type": "code",
   "execution_count": 2,
   "metadata": {},
   "outputs": [],
   "source": [
    "eso = Eso() # create an instance of the ESO class "
   ]
  },
  {
   "cell_type": "markdown",
   "metadata": {},
   "source": [
    "### Identify available collections (reduced data)\n",
    "\n",
    "ESO provides access to processed or reduced data, which has undergone various calibration and analysis steps to make it more immediately useful for scientific research. These processed datasets are grouped into `collections`, each corresponding to a specific survey, instrument, or science case. The list of available collections can be obtained as follows:"
   ]
  },
  {
   "cell_type": "code",
   "execution_count": 8,
   "metadata": {},
   "outputs": [
    {
     "data": {
      "text/plain": [
       "['081.C-0827', '092.A-0472', '096.B-0054']"
      ]
     },
     "execution_count": 8,
     "metadata": {},
     "output_type": "execute_result"
    }
   ],
   "source": [
    "collections = eso.list_collections() # list all collections\n",
    "collections[:3] # print the first 3 collections"
   ]
  },
  {
   "cell_type": "code",
   "execution_count": 9,
   "metadata": {},
   "outputs": [
    {
     "data": {
      "text/plain": [
       "True"
      ]
     },
     "execution_count": 9,
     "metadata": {},
     "output_type": "execute_result"
    }
   ],
   "source": [
    "'HAWKI' in collections # check if 'HAWKI' is in the collections"
   ]
  },
  {
   "cell_type": "markdown",
   "metadata": {},
   "source": [
    "### Performing a Small Cone Search Around Sgr A*\n",
    "\n",
    "To perform a small cone search of **10 arcseconds** around the source **Sgr A**, we first need to resolve the source name to obtain its **Right Ascension (RA)** and **Declination (Dec)** coordinates. This can be done using an online name resolver such as the ``SkyCoord.from_name()`` method from astropy.coordinates, which allows us to resolve object names into precise RA/Dec coordinates using online astronomical databases. This gives: \n",
    "\n",
    "```python\n",
    "ra = 266.835\n",
    "dec = -28.38528\n",
    "```\n",
    "\n",
    "In coordinate values of degrees in the ICRS (International Celestial Reference System) frame."
   ]
  },
  {
   "cell_type": "code",
   "execution_count": 10,
   "metadata": {},
   "outputs": [],
   "source": [
    "from astropy.coordinates import SkyCoord # import the SkyCoord class from the astropy.coordinates module\n",
    "import astropy.units as u # import the astropy.units module\n",
    "\n",
    "coords = SkyCoord.from_name('Sgr A*') # create a SkyCoord object from the name of the source\n",
    "radius = 20 *u.arcmin # set the radius of the search to 20 arcminutes"
   ]
  },
  {
   "cell_type": "markdown",
   "metadata": {},
   "source": [
    "We use `astroquery.eso` to search for observations of **Sgr A** taken with the **HAWKI** instrument on the **VLT (Very Large Telescope)**.\n",
    "\n",
    "This search can also be accessed via the following: \n",
    "\n",
    "[tap-link]: https://archive.eso.org/tap_obs/sync?REQUEST=doQuery&amp;LANG=ADQL&amp;MAXREC=200&amp;FORMAT=txt&amp;QUERY=SELECT%20*%0Afrom%20ivoa.obscore%0Awhere%20intersects(s_region,%20circle(%27%27,%20266.835,%20-28.38528,%200.1666))=1%0AAND%20instrument_name%20=%20%27HAWKI%27\n",
    "\n",
    "[sp-link]: https://archive.eso.org/scienceportal/home?data_release_date=*:2025-02-07&pos=266.41682,-29.00782&r=0.016667&fovcorners=266.800868,-29.226927,266.033328,-29.226929,266.034957,-28.787142,266.799236,-28.787141&ins_id=HAWKI&dp_type=IMAGE&sort=dist,-fov,-obs_date&s=P%2fDSS2%2fcolor&f=0.669626&fc=266.799236,-28.787141&cs=J2000&av=true&ac=false&c=9,10,11,12,13,15,16,17,18,19,20,21&ta=RES&dts=true&sdtm=%7b%22IMAGE%22%3atrue%7d&at=266.41682,-29.00782&sr=i\n",
    "\n",
    "- **TAP** - [see here][tap-link]\n",
    "- **ESO Science Portal** [see here](sp-link)"
   ]
  },
  {
   "cell_type": "code",
   "execution_count": 11,
   "metadata": {},
   "outputs": [],
   "source": [
    "instrument = 'HAWKI'       # set the instrument to HAWKI\n",
    "ra = coords.ra             # get the right ascension of the source\n",
    "dec = coords.dec           # get the declination of the source\n",
    "radius = radius.to('deg')  # convert the radius to degrees\n",
    "\n",
    "table = eso.query_collections(instrument, ra=ra.value, dec=dec.value, radius=radius.value) # query the ESO archive for VIRCAM data around Sgr A*"
   ]
  },
  {
   "cell_type": "markdown",
   "metadata": {},
   "source": [
    "We can now inspect the results, which are stored as an ``astropy.table``. However note here these results include all data from the science achive, included non-science data... "
   ]
  },
  {
   "cell_type": "code",
   "execution_count": 13,
   "metadata": {},
   "outputs": [
    {
     "data": {
      "text/html": [
       "<i>Row index=0</i>\n",
       "<table id=\"table4428587888\">\n",
       "<thead><tr><th>abmaglim</th><th>access_estsize</th><th>access_format</th><th>access_url</th><th>bib_reference</th><th>calib_level</th><th>dataproduct_subtype</th><th>dataproduct_type</th><th>dp_id</th><th>em_max</th><th>em_min</th><th>em_res_power</th><th>em_xel</th><th>facility_name</th><th>filter</th><th>gal_lat</th><th>gal_lon</th><th>instrument_name</th><th>last_mod_date</th><th>multi_ob</th><th>n_obs</th><th>o_calib_status</th><th>o_ucd</th><th>obs_collection</th><th>obs_creator_did</th><th>obs_creator_name</th><th>obs_id</th><th>obs_publisher_did</th><th>obs_release_date</th><th>obs_title</th><th>obstech</th><th>p3orig</th><th>pol_states</th><th>pol_xel</th><th>preview_html</th><th>proposal_id</th><th>publication_date</th><th>release_description</th><th>s_dec</th><th>s_fov</th><th>s_pixel_scale</th><th>s_ra</th><th>s_region</th><th>s_resolution</th><th>s_xel1</th><th>s_xel2</th><th>snr</th><th>strehl</th><th>t_exptime</th><th>t_max</th><th>t_min</th><th>t_resolution</th><th>t_xel</th><th>target_name</th></tr></thead>\n",
       "<thead><tr><th>mag</th><th>kB</th><th></th><th></th><th></th><th></th><th></th><th></th><th></th><th>m</th><th>m</th><th></th><th></th><th></th><th></th><th>deg</th><th>deg</th><th></th><th></th><th></th><th></th><th></th><th></th><th></th><th></th><th></th><th></th><th></th><th></th><th></th><th></th><th></th><th></th><th></th><th></th><th></th><th></th><th></th><th>deg</th><th>deg</th><th>arcsec</th><th>deg</th><th></th><th>arcsec</th><th></th><th></th><th></th><th></th><th>s</th><th>d</th><th>d</th><th>s</th><th></th><th></th></tr></thead>\n",
       "<thead><tr><th>float64</th><th>int64</th><th>object</th><th>object</th><th>object</th><th>int32</th><th>object</th><th>object</th><th>object</th><th>float64</th><th>float64</th><th>float64</th><th>int64</th><th>object</th><th>object</th><th>float64</th><th>float64</th><th>object</th><th>object</th><th>object</th><th>int32</th><th>object</th><th>object</th><th>object</th><th>object</th><th>object</th><th>object</th><th>object</th><th>object</th><th>object</th><th>object</th><th>object</th><th>object</th><th>int64</th><th>object</th><th>object</th><th>object</th><th>object</th><th>float64</th><th>float64</th><th>float64</th><th>float64</th><th>object</th><th>float64</th><th>int64</th><th>int64</th><th>float64</th><th>float64</th><th>float64</th><th>float64</th><th>float64</th><th>float64</th><th>int64</th><th>object</th></tr></thead>\n",
       "<tr><td>21.069</td><td>25182</td><td>application/x-votable+xml;content=datalink</td><td>http://archive.eso.org/datalink/links?ID=ivo://eso.org/ID?ADP.2019-08-19T15:05:20.895</td><td></td><td>2</td><td>srctbl</td><td>measurements</td><td>ADP.2019-08-19T15:05:20.895</td><td>2.307e-06</td><td>1.982e-06</td><td>6.5985</td><td>1</td><td>ESO-VLT-U4</td><td>Ks</td><td>-0.001327</td><td>0.258407</td><td>HAWKI</td><td>2020-10-27T08:54:19.823Z</td><td>S</td><td>1</td><td>absolute</td><td></td><td>HAWKI</td><td>ivo://eso.org/origfile?HI_SOBJ_2355202_2019-07-12T06:47:40.886_f1Ks_f2OPEN_AO.fits</td><td>ZOCCALI, MANUELA</td><td>2355202</td><td>ivo://eso.org/ID?ADP.2019-08-19T15:05:20.895</td><td>2020-07-12T07:00:41.643Z</td><td></td><td>IMAGE</td><td>IDP</td><td></td><td>--</td><td>https://archive.eso.org/dataset/ADP.2019-08-19T15:05:20.895</td><td>0103.B-0262(A)</td><td>2019-08-19T15:12:41Z</td><td>http://www.eso.org/rm/api/v1/public/releaseDescriptions/87</td><td>-28.716261</td><td>0.18998676777</td><td>--</td><td>266.55974</td><td>UNION J2000 (POLYGON J2000 266.66529 -28.694905 266.623308 -28.753569 266.55647799999997 -28.716751 266.598483 -28.658108 POLYGON J2000 266.625682 -28.750113 266.583623 -28.808703 266.516814 -28.771821 266.558896 -28.713251 POLYGON J2000 266.60258799999997 -28.660628 266.560609 -28.719283 266.493811 -28.682455 266.535813 -28.623821 POLYGON J2000 266.563044 -28.715763 266.52104099999997 -28.774408 266.454191 -28.737563 266.496216 -28.678939)</td><td>0.327</td><td>--</td><td>--</td><td>--</td><td>--</td><td>160.0</td><td>58676.28740017</td><td>58676.28311211</td><td>370.488384</td><td>--</td><td>NPL054</td></tr>\n",
       "</table>"
      ],
      "text/plain": [
       "<Row index=0>\n",
       "abmaglim access_estsize               access_format                                                      access_url                                      bib_reference calib_level dataproduct_subtype dataproduct_type            dp_id              em_max    em_min  em_res_power em_xel facility_name filter  gal_lat  gal_lon  instrument_name      last_mod_date       multi_ob n_obs o_calib_status o_ucd  obs_collection                                  obs_creator_did                                   obs_creator_name  obs_id              obs_publisher_did                   obs_release_date     obs_title obstech p3orig pol_states pol_xel                         preview_html                         proposal_id     publication_date                      release_description                       s_dec        s_fov     s_pixel_scale    s_ra                                                                                                                                                                                                                             s_region                                                                                                                                                                                                                           s_resolution s_xel1 s_xel2   snr    strehl t_exptime     t_max          t_min      t_resolution t_xel target_name\n",
       "  mag          kB                                                                                                                                                                                                                                       m         m                                                 deg      deg                                                                                                                                                                                                                                                                                                                                                                                                                                                                                             deg          deg          arcsec       deg                                                                                                                                                                                                                                                                                                                                                                                                                                                                    arcsec                                      s           d              d             s                        \n",
       "float64      int64                        object                                                           object                                            object       int32           object            object                 object            float64   float64    float64    int64      object    object  float64  float64       object              object           object  int32     object     object     object                                           object                                            object       object                    object                             object            object   object object   object    int64                             object                               object            object                                  object                            float64      float64       float64     float64                                                                                                                                                                                                                             object                                                                                                                                                                                                                              float64    int64  int64  float64 float64  float64     float64        float64       float64    int64    object  \n",
       "-------- -------------- ------------------------------------------ ------------------------------------------------------------------------------------- ------------- ----------- ------------------- ---------------- --------------------------- --------- --------- ------------ ------ ------------- ------ --------- -------- --------------- ------------------------ -------- ----- -------------- ------ -------------- ---------------------------------------------------------------------------------- ---------------- ------- -------------------------------------------- ------------------------ --------- ------- ------ ---------- ------- ----------------------------------------------------------- -------------- -------------------- ---------------------------------------------------------- ---------- ------------- ------------- --------- ------------------------------------------------------------------------------------------------------------------------------------------------------------------------------------------------------------------------------------------------------------------------------------------------------------------------------------------------------------------------------------------------------------------------------------------------------------ ------------ ------ ------ ------- ------- --------- -------------- -------------- ------------ ----- -----------\n",
       "  21.069          25182 application/x-votable+xml;content=datalink http://archive.eso.org/datalink/links?ID=ivo://eso.org/ID?ADP.2019-08-19T15:05:20.895                         2              srctbl     measurements ADP.2019-08-19T15:05:20.895 2.307e-06 1.982e-06       6.5985      1    ESO-VLT-U4     Ks -0.001327 0.258407           HAWKI 2020-10-27T08:54:19.823Z        S     1       absolute                 HAWKI ivo://eso.org/origfile?HI_SOBJ_2355202_2019-07-12T06:47:40.886_f1Ks_f2OPEN_AO.fits ZOCCALI, MANUELA 2355202 ivo://eso.org/ID?ADP.2019-08-19T15:05:20.895 2020-07-12T07:00:41.643Z             IMAGE    IDP                 -- https://archive.eso.org/dataset/ADP.2019-08-19T15:05:20.895 0103.B-0262(A) 2019-08-19T15:12:41Z http://www.eso.org/rm/api/v1/public/releaseDescriptions/87 -28.716261 0.18998676777            -- 266.55974 UNION J2000 (POLYGON J2000 266.66529 -28.694905 266.623308 -28.753569 266.55647799999997 -28.716751 266.598483 -28.658108 POLYGON J2000 266.625682 -28.750113 266.583623 -28.808703 266.516814 -28.771821 266.558896 -28.713251 POLYGON J2000 266.60258799999997 -28.660628 266.560609 -28.719283 266.493811 -28.682455 266.535813 -28.623821 POLYGON J2000 266.563044 -28.715763 266.52104099999997 -28.774408 266.454191 -28.737563 266.496216 -28.678939)        0.327     --     --      --      --     160.0 58676.28740017 58676.28311211   370.488384    --      NPL054"
      ]
     },
     "execution_count": 13,
     "metadata": {},
     "output_type": "execute_result"
    }
   ],
   "source": [
    "table[0] # print the first row of the table"
   ]
  },
  {
   "cell_type": "markdown",
   "metadata": {},
   "source": [
    "We can check all the column names in the table by printing the ``table.colnames`` attribute to see what else we could filter... "
   ]
  },
  {
   "cell_type": "code",
   "execution_count": 15,
   "metadata": {},
   "outputs": [
    {
     "data": {
      "text/plain": [
       "['abmaglim',\n",
       " 'access_estsize',\n",
       " 'access_format',\n",
       " 'access_url',\n",
       " 'bib_reference',\n",
       " 'calib_level',\n",
       " 'dataproduct_subtype',\n",
       " 'dataproduct_type',\n",
       " 'dp_id',\n",
       " 'em_max',\n",
       " 'em_min',\n",
       " 'em_res_power',\n",
       " 'em_xel',\n",
       " 'facility_name',\n",
       " 'filter',\n",
       " 'gal_lat',\n",
       " 'gal_lon',\n",
       " 'instrument_name',\n",
       " 'last_mod_date',\n",
       " 'multi_ob',\n",
       " 'n_obs',\n",
       " 'o_calib_status',\n",
       " 'o_ucd',\n",
       " 'obs_collection',\n",
       " 'obs_creator_did',\n",
       " 'obs_creator_name',\n",
       " 'obs_id',\n",
       " 'obs_publisher_did',\n",
       " 'obs_release_date',\n",
       " 'obs_title',\n",
       " 'obstech',\n",
       " 'p3orig',\n",
       " 'pol_states',\n",
       " 'pol_xel',\n",
       " 'preview_html',\n",
       " 'proposal_id',\n",
       " 'publication_date',\n",
       " 'release_description',\n",
       " 's_dec',\n",
       " 's_fov',\n",
       " 's_pixel_scale',\n",
       " 's_ra',\n",
       " 's_region',\n",
       " 's_resolution',\n",
       " 's_xel1',\n",
       " 's_xel2',\n",
       " 'snr',\n",
       " 'strehl',\n",
       " 't_exptime',\n",
       " 't_max',\n",
       " 't_min',\n",
       " 't_resolution',\n",
       " 't_xel',\n",
       " 'target_name']"
      ]
     },
     "execution_count": 15,
     "metadata": {},
     "output_type": "execute_result"
    }
   ],
   "source": [
    "table[0].colnames # print the column names of the table"
   ]
  },
  {
   "cell_type": "markdown",
   "metadata": {},
   "source": [
    "## Downloading datasets from the archive"
   ]
  },
  {
   "cell_type": "markdown",
   "metadata": {},
   "source": [
    "The returned table has an ``dp_id`` column. It can be used to retrieve the datasets with ``retrieve_data()``.\n",
    "\n",
    "The file names, returned in ``data_files``, points to the decompressed datasets (without the .Z extension) that have been locally downloaded. \n",
    "\n",
    "The default location (in the ``astropy`` cache) of the decompressed datasets can be adjusted by providing a destination keyword in the call to ``retrieve_data()``. By default, if a requested dataset is already found, it is not downloaded again from the archive. To force the retrieval of data that are present in the destination directory, use ``continuation=True`` in the call to ``retrieve_data()``."
   ]
  },
  {
   "cell_type": "code",
   "execution_count": 16,
   "metadata": {},
   "outputs": [
    {
     "name": "stdout",
     "output_type": "stream",
     "text": [
      "INFO: Downloading datasets ... [astroquery.eso.core]\n",
      "INFO: Downloading 1 files ... [astroquery.eso.core]\n",
      "INFO: Downloading file 1/1 https://dataportal.eso.org/dataPortal/file/ADP.2019-08-19T15:05:20.895 to /Users/abarnes/.astropy/cache/astroquery/Eso [astroquery.eso.core]\n",
      "INFO: Successfully downloaded dataset ADP.2019-08-19T15:05:20.895 to ... [astroquery.eso.core]\n",
      "INFO: Done! [astroquery.eso.core]\n"
     ]
    }
   ],
   "source": [
    "data_files = eso.retrieve_data(table['dp_id'][0]) # download the first data product\n",
    "# data_files = eso.retrieve_data(table['dp_id'][0], continuation=True) # force the download of all files even if present in the destination directory\n",
    "# data_files = eso.retrieve_data(table['dp_id'][0], destination='./') # specify the destination directory for the download"
   ]
  },
  {
   "cell_type": "markdown",
   "metadata": {},
   "source": [
    "<hr style=\"border:2px solid #0281c9\"> </hr>"
   ]
  }
 ],
 "metadata": {
  "kernelspec": {
   "display_name": "tst",
   "language": "python",
   "name": "python3"
  },
  "language_info": {
   "codemirror_mode": {
    "name": "ipython",
    "version": 3
   },
   "file_extension": ".py",
   "mimetype": "text/x-python",
   "name": "python",
   "nbconvert_exporter": "python",
   "pygments_lexer": "ipython3",
   "version": "3.9.21"
  }
 },
 "nbformat": 4,
 "nbformat_minor": 2
}
