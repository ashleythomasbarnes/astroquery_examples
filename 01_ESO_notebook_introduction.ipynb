{
 "cells": [
  {
   "cell_type": "markdown",
   "metadata": {},
   "source": [
    "<hr style=\"border:2px solid #0281c9\"> </hr>\n",
    "\n",
    "<img align=\"left\" alt=\"ESO Logo\" src=\"http://archive.eso.org/i/esologo.png\">  \n",
    "\n",
    "<div align=\"center\">\n",
    "  <h1 style=\"color: #0281c9; font-weight: bold;\">ESO Science Archive</h1> \n",
    "  <h2 style=\"color: #0281c9; font-weight: bold;\">Jupyter Notebooks</h2>\n",
    "</div>\n",
    "\n",
    "<hr style=\"border:2px solid #0281c9\"> </hr>"
   ]
  },
  {
   "cell_type": "markdown",
   "metadata": {
    "vscode": {
     "languageId": "plaintext"
    }
   },
   "source": [
    "## Introduction\n",
    "\n",
    "The [ESO archive](http://archive.eso.org/cms.html) currently (as of February 2025) contains around [4.2 million products](https://archive.eso.org/scienceportal/home?data_release_date=*:2025-02-07&sort=-obs_date&s=P%2fDSS2%2fcolor&f=176.339692&fc=-1,-1&cs=J2000&av=true&ac=false&c=9,10,11,12,13,14,15,16,17,18,19,20,21&ta=RES&dts=true&at=237.301616,-35.65163&sr=i), including [3.6 million La Silla Paranal APEX products](https://archive.eso.org/scienceportal/home?data_release_date=*:2025-02-07&observatory=%22La%20Silla%20Paranal%20APEX%22&sort=-obs_date&s=P%2fDSS2%2fcolor&f=176.339692&fc=-1,-1&cs=J2000&av=true&ac=false&c=9,10,11,12,13,14,15,16,17,18,19,20,21&ta=RES&dts=true&at=237.301616,-35.65163&sr=i) and [500,000 ALMA products](https://archive.eso.org/scienceportal/home?data_release_date=*:2025-02-07&observatory=ALMA&sort=-obs_date&s=P%2fDSS2%2fcolor&f=176.339692&fc=-1,-1&cs=J2000&av=true&ac=false&c=9,10,11,12,13,14,15,16,17,18,19,20,21&ta=RES&dts=true&at=343.49061642502505,16.14821135280152&sr=i). Of these there are almost [2.2 million spectra](https://archive.eso.org/scienceportal/home?data_release_date=*:2025-02-07&dp_type=SPECTRUM&sort=-obs_date&s=P%2fDSS2%2fcolor&f=176.339692&fc=-1,-1&cs=J2000&av=true&ac=false&c=9,10,11,12,13,14,15,16,17,18,19,20,21&ta=RES&dts=true&sdtm=%7b%22SPECTRUM%22%3atrue%7d&at=237.301616,-35.65163&sr=i), more than [900,000 images](https://archive.eso.org/scienceportal/home?data_release_date=*:2025-02-07&dp_type=IMAGE&sort=-obs_date&s=P%2fDSS2%2fcolor&f=176.339692&fc=-1,-1&cs=J2000&av=true&ac=false&c=9,10,11,12,13,14,15,16,17,18,19,20,21&ta=RES&dts=true&sdtm=%7b%22IMAGE%22%3atrue%7d&at=119.371746,11.610771&sr=i), and more than [500,000 cubes](https://archive.eso.org/scienceportal/home?data_release_date=*:2025-02-07&dp_type=CUBE&sort=-obs_date&s=P%2fDSS2%2fcolor&f=176.339692&fc=-1,-1&cs=J2000&av=true&ac=false&c=9,10,11,12,13,14,15,16,17,18,19,20,21&ta=RES&dts=true&sdtm=%7b%22CUBE%22%3atrue%7d&at=150.125652,2.336817&sr=i) that are reduced or fully calibrated, and, in addition, [667,875 individual catalogues](https://archive.eso.org/scienceportal/home?data_release_date=*:2025-02-07&sort=-obs_date&s=P%2FDSS2%2Fcolor&f=176.339692&fc=-1,-1&cs=J2000&av=true&ac=false&c=9,10,11,12,13,14,15,16,17,18,19,20,21&ta=RES&dts=true&at=237.301616,-35.65163&sr=i). \n",
    "\n",
    "### Data\n",
    "\n",
    "There are four main ways to access the vast amount of information present in the [ESO archive](http://archive.eso.org/cms.html):\n",
    "\n",
    "- the [Raw Data query form](http://archive.eso.org/eso/eso_archive_main.html)\n",
    "- the [Science Portal](http://archive.eso.org/scienceportal/home) to browse and access the processed data\n",
    "- the [Programmatic and Tools access](http://archive.eso.org/programmatic/) which permits direct database access to both raw and processed data, as well as to the ambient condition measurements\n",
    "- the [Catalogue Query Interface](https://www.eso.org/qi/)\n",
    "\n",
    "### Astroquery\n",
    "\n",
    "Astroquery is part of the Astropy project and offers a unified, consistent interface to query a wide range of astronomical databases. In addition to the ESO module, astroquery supports archives such as NASA’s Exoplanet Archive, SIMBAD, SDSS, GAIA, and many others. This seamless integration with Astropy’s tools and data structures simplifies the process of combining data from multiple sources in your research. For comprehensive details, including usage examples, API documentation, troubleshooting tips, and updates, please refer to the official astroquery documentation at [astroquery.readthedocs.io](https://astroquery.readthedocs.io/en/latest/index.html). \n",
    "\n",
    "The ESO [astroquery](https://astroquery.readthedocs.io/en/latest/eso/eso.html) module, `astroquery.eso`, provides simple wrappers to efficiently embed access to the [ESO archive](http://archive.eso.org/cms.html) into Python routines. Currently, the module supports:\n",
    "\n",
    "- Listing available instruments\n",
    "- Listing available surveys (phase 3)\n",
    "- Searching all instrument-specific raw data ([more info](http://archive.eso.org/cms/eso-data/instrument-specific-query-forms.html))\n",
    "- Searching data products (phase 3) ([more info](http://archive.eso.org/wdb/wdb/adp/phase3_main/form))\n",
    "- Downloading data by dataset identifiers ([more info](http://archive.eso.org/cms/eso-data/eso-data-direct-retrieval.html))\n",
    "\n",
    "**Note**  \n",
    "At present, catalogue searches are not supported using the astroquery.eso module. Functionality for querying catalogues will be added in a future release.\n",
    "\n",
    "### Additional Information\n",
    "\n",
    "**Prerequisites and Installation**  \n",
    "These examples assume that you have a working Python environment (Python 3.9 or later is recommended) and that you have installed the necessary packages. You can install astroquery (which includes the ESO module) via pip:\n",
    "\n",
    "```bash\n",
    "pip install astroquery\n",
    "```\n",
    "\n",
    "Uniquely in the Astropy ecosystem, Astroquery is operating with a continuous deployment model. It means that a release is instantaneously available after a pull request has been merged. These releases are automatically uploaded to ``PyPI``, and therefore the latest version of astroquery can be pip installed. The version number of these automated releases contain the 'dev' tag, thus pip needs to be told to look for these releases during an upgrade, using the ``--pre`` install option. If astroquery is already installed, please make sure you use the ``--upgrade`` (or ``-U``) install option as well.\n",
    "\n",
    "**Default configuration file**  \n",
    "To customize this, copy the [default configuration](https://astroquery.readthedocs.io/en/latest/configuration.html) to ``$HOME/.astropy/config/astroquery.cfg``, uncomment the relevant configuration item(s), and insert your desired value(s).\n",
    "\n",
    "**Astroquery-wide settings**  \n",
    "Whether caching is active and when cached files expire are controlled centrally through the astroquery ``cache_conf``| module, and shared among all services. Astroquery uses the Astropy configuration infrastructure, information about temporarily or permanently changing configuration values can be found [here](https://docs.astropy.org/en/latest/config/index.html).\n",
    "\n",
    "**Usage**  \n",
    "You can access this file as an interactive jupyter notebook, which you can download and run on your machine [(instructions)](https://jupyter.org/install). To interact with the jupyter notebook (if you have download it): move up and down the various cells using the arrow keys, execute the code by pressing CTRL+ENTER; you can also modify the code and execute it at will.\n",
    "\n",
    "**Version** \n",
    "Please note that this notebook uses Python version 3.9.13 and Jupyter Notebook version 6.4.10. Compatibility with other versions cannot be guaranteed.\n",
    "\n",
    "<hr style=\"border:2px solid #0281c9\"> </hr>"
   ]
  },
  {
   "cell_type": "markdown",
   "metadata": {},
   "source": [
    "## Importing and basic usage of astroquery.eso "
   ]
  },
  {
   "cell_type": "code",
   "execution_count": 1,
   "metadata": {},
   "outputs": [],
   "source": [
    "from astroquery.eso import Eso # import the ESO module from astroquery"
   ]
  },
  {
   "cell_type": "code",
   "execution_count": 2,
   "metadata": {},
   "outputs": [],
   "source": [
    "eso = Eso() # create an instance of the ESO class "
   ]
  },
  {
   "cell_type": "markdown",
   "metadata": {},
   "source": [
    "In the examples provided in the accompanying notebooks, we will create an instance of the ESO class using:\n",
    "\n",
    "```python\n",
    "eso = Eso()  # create an instance of the ESO class\n",
    "```\n",
    "\n",
    "This instance will be used to demonstrate various queries to the ESO Archive, including searching for raw data and data products from a range of instruments and sources."
   ]
  },
  {
   "cell_type": "markdown",
   "metadata": {},
   "source": [
    "--- "
   ]
  },
  {
   "cell_type": "markdown",
   "metadata": {},
   "source": [
    "## Raw data"
   ]
  },
  {
   "cell_type": "markdown",
   "metadata": {},
   "source": [
    "### Identifying available instrument-specific queries \n",
    "\n",
    "The first thing to do is to identify the `instrument` to query. The list of available instrument-specific queries can be obtained with the ``list_instruments()`` method.\n",
    "\n",
    "The instruments listed on the following web page: [ESO Instrument Specific Query Forms](http://archive.eso.org/cms/eso-data/instrument-specific-query-forms.html)."
   ]
  },
  {
   "cell_type": "code",
   "execution_count": 3,
   "metadata": {},
   "outputs": [
    {
     "ename": "RuntimeError",
     "evalue": "\n\n                            Unknown exception ConnectionError: HTTPConnectionPool(host='dfidev5.hq.eso.org', port=8123): Max retries exceeded with url: /tap_obs/sync (Caused by NameResolutionError(\"<urllib3.connection.HTTPConnection object at 0x118079700>: Failed to resolve 'dfidev5.hq.eso.org' ([Errno 8] nodename nor servname provided, or not known)\")) while executing the                            following query: \n\nselect table_name from TAP_SCHEMA.tables where schema_name='ist' order by table_name\n\n                            See examples here: http://archive.eso.org/tap_obs/examples\n\n",
     "output_type": "error",
     "traceback": [
      "\u001b[0;31m---------------------------------------------------------------------------\u001b[0m",
      "\u001b[0;31mgaierror\u001b[0m                                  Traceback (most recent call last)",
      "File \u001b[0;32m/opt/anaconda3/envs/tst/lib/python3.9/site-packages/urllib3/connection.py:198\u001b[0m, in \u001b[0;36mHTTPConnection._new_conn\u001b[0;34m(self)\u001b[0m\n\u001b[1;32m    197\u001b[0m \u001b[38;5;28;01mtry\u001b[39;00m:\n\u001b[0;32m--> 198\u001b[0m     sock \u001b[38;5;241m=\u001b[39m \u001b[43mconnection\u001b[49m\u001b[38;5;241;43m.\u001b[39;49m\u001b[43mcreate_connection\u001b[49m\u001b[43m(\u001b[49m\n\u001b[1;32m    199\u001b[0m \u001b[43m        \u001b[49m\u001b[43m(\u001b[49m\u001b[38;5;28;43mself\u001b[39;49m\u001b[38;5;241;43m.\u001b[39;49m\u001b[43m_dns_host\u001b[49m\u001b[43m,\u001b[49m\u001b[43m \u001b[49m\u001b[38;5;28;43mself\u001b[39;49m\u001b[38;5;241;43m.\u001b[39;49m\u001b[43mport\u001b[49m\u001b[43m)\u001b[49m\u001b[43m,\u001b[49m\n\u001b[1;32m    200\u001b[0m \u001b[43m        \u001b[49m\u001b[38;5;28;43mself\u001b[39;49m\u001b[38;5;241;43m.\u001b[39;49m\u001b[43mtimeout\u001b[49m\u001b[43m,\u001b[49m\n\u001b[1;32m    201\u001b[0m \u001b[43m        \u001b[49m\u001b[43msource_address\u001b[49m\u001b[38;5;241;43m=\u001b[39;49m\u001b[38;5;28;43mself\u001b[39;49m\u001b[38;5;241;43m.\u001b[39;49m\u001b[43msource_address\u001b[49m\u001b[43m,\u001b[49m\n\u001b[1;32m    202\u001b[0m \u001b[43m        \u001b[49m\u001b[43msocket_options\u001b[49m\u001b[38;5;241;43m=\u001b[39;49m\u001b[38;5;28;43mself\u001b[39;49m\u001b[38;5;241;43m.\u001b[39;49m\u001b[43msocket_options\u001b[49m\u001b[43m,\u001b[49m\n\u001b[1;32m    203\u001b[0m \u001b[43m    \u001b[49m\u001b[43m)\u001b[49m\n\u001b[1;32m    204\u001b[0m \u001b[38;5;28;01mexcept\u001b[39;00m socket\u001b[38;5;241m.\u001b[39mgaierror \u001b[38;5;28;01mas\u001b[39;00m e:\n",
      "File \u001b[0;32m/opt/anaconda3/envs/tst/lib/python3.9/site-packages/urllib3/util/connection.py:60\u001b[0m, in \u001b[0;36mcreate_connection\u001b[0;34m(address, timeout, source_address, socket_options)\u001b[0m\n\u001b[1;32m     58\u001b[0m     \u001b[38;5;28;01mraise\u001b[39;00m LocationParseError(\u001b[38;5;124mf\u001b[39m\u001b[38;5;124m\"\u001b[39m\u001b[38;5;124m'\u001b[39m\u001b[38;5;132;01m{\u001b[39;00mhost\u001b[38;5;132;01m}\u001b[39;00m\u001b[38;5;124m'\u001b[39m\u001b[38;5;124m, label empty or too long\u001b[39m\u001b[38;5;124m\"\u001b[39m) \u001b[38;5;28;01mfrom\u001b[39;00m\u001b[38;5;250m \u001b[39m\u001b[38;5;28;01mNone\u001b[39;00m\n\u001b[0;32m---> 60\u001b[0m \u001b[38;5;28;01mfor\u001b[39;00m res \u001b[38;5;129;01min\u001b[39;00m \u001b[43msocket\u001b[49m\u001b[38;5;241;43m.\u001b[39;49m\u001b[43mgetaddrinfo\u001b[49m\u001b[43m(\u001b[49m\u001b[43mhost\u001b[49m\u001b[43m,\u001b[49m\u001b[43m \u001b[49m\u001b[43mport\u001b[49m\u001b[43m,\u001b[49m\u001b[43m \u001b[49m\u001b[43mfamily\u001b[49m\u001b[43m,\u001b[49m\u001b[43m \u001b[49m\u001b[43msocket\u001b[49m\u001b[38;5;241;43m.\u001b[39;49m\u001b[43mSOCK_STREAM\u001b[49m\u001b[43m)\u001b[49m:\n\u001b[1;32m     61\u001b[0m     af, socktype, proto, canonname, sa \u001b[38;5;241m=\u001b[39m res\n",
      "File \u001b[0;32m/opt/anaconda3/envs/tst/lib/python3.9/socket.py:966\u001b[0m, in \u001b[0;36mgetaddrinfo\u001b[0;34m(host, port, family, type, proto, flags)\u001b[0m\n\u001b[1;32m    965\u001b[0m addrlist \u001b[38;5;241m=\u001b[39m []\n\u001b[0;32m--> 966\u001b[0m \u001b[38;5;28;01mfor\u001b[39;00m res \u001b[38;5;129;01min\u001b[39;00m \u001b[43m_socket\u001b[49m\u001b[38;5;241;43m.\u001b[39;49m\u001b[43mgetaddrinfo\u001b[49m\u001b[43m(\u001b[49m\u001b[43mhost\u001b[49m\u001b[43m,\u001b[49m\u001b[43m \u001b[49m\u001b[43mport\u001b[49m\u001b[43m,\u001b[49m\u001b[43m \u001b[49m\u001b[43mfamily\u001b[49m\u001b[43m,\u001b[49m\u001b[43m \u001b[49m\u001b[38;5;28;43mtype\u001b[39;49m\u001b[43m,\u001b[49m\u001b[43m \u001b[49m\u001b[43mproto\u001b[49m\u001b[43m,\u001b[49m\u001b[43m \u001b[49m\u001b[43mflags\u001b[49m\u001b[43m)\u001b[49m:\n\u001b[1;32m    967\u001b[0m     af, socktype, proto, canonname, sa \u001b[38;5;241m=\u001b[39m res\n",
      "\u001b[0;31mgaierror\u001b[0m: [Errno 8] nodename nor servname provided, or not known",
      "\nThe above exception was the direct cause of the following exception:\n",
      "\u001b[0;31mNameResolutionError\u001b[0m                       Traceback (most recent call last)",
      "File \u001b[0;32m/opt/anaconda3/envs/tst/lib/python3.9/site-packages/urllib3/connectionpool.py:787\u001b[0m, in \u001b[0;36mHTTPConnectionPool.urlopen\u001b[0;34m(self, method, url, body, headers, retries, redirect, assert_same_host, timeout, pool_timeout, release_conn, chunked, body_pos, preload_content, decode_content, **response_kw)\u001b[0m\n\u001b[1;32m    786\u001b[0m \u001b[38;5;66;03m# Make the request on the HTTPConnection object\u001b[39;00m\n\u001b[0;32m--> 787\u001b[0m response \u001b[38;5;241m=\u001b[39m \u001b[38;5;28;43mself\u001b[39;49m\u001b[38;5;241;43m.\u001b[39;49m\u001b[43m_make_request\u001b[49m\u001b[43m(\u001b[49m\n\u001b[1;32m    788\u001b[0m \u001b[43m    \u001b[49m\u001b[43mconn\u001b[49m\u001b[43m,\u001b[49m\n\u001b[1;32m    789\u001b[0m \u001b[43m    \u001b[49m\u001b[43mmethod\u001b[49m\u001b[43m,\u001b[49m\n\u001b[1;32m    790\u001b[0m \u001b[43m    \u001b[49m\u001b[43murl\u001b[49m\u001b[43m,\u001b[49m\n\u001b[1;32m    791\u001b[0m \u001b[43m    \u001b[49m\u001b[43mtimeout\u001b[49m\u001b[38;5;241;43m=\u001b[39;49m\u001b[43mtimeout_obj\u001b[49m\u001b[43m,\u001b[49m\n\u001b[1;32m    792\u001b[0m \u001b[43m    \u001b[49m\u001b[43mbody\u001b[49m\u001b[38;5;241;43m=\u001b[39;49m\u001b[43mbody\u001b[49m\u001b[43m,\u001b[49m\n\u001b[1;32m    793\u001b[0m \u001b[43m    \u001b[49m\u001b[43mheaders\u001b[49m\u001b[38;5;241;43m=\u001b[39;49m\u001b[43mheaders\u001b[49m\u001b[43m,\u001b[49m\n\u001b[1;32m    794\u001b[0m \u001b[43m    \u001b[49m\u001b[43mchunked\u001b[49m\u001b[38;5;241;43m=\u001b[39;49m\u001b[43mchunked\u001b[49m\u001b[43m,\u001b[49m\n\u001b[1;32m    795\u001b[0m \u001b[43m    \u001b[49m\u001b[43mretries\u001b[49m\u001b[38;5;241;43m=\u001b[39;49m\u001b[43mretries\u001b[49m\u001b[43m,\u001b[49m\n\u001b[1;32m    796\u001b[0m \u001b[43m    \u001b[49m\u001b[43mresponse_conn\u001b[49m\u001b[38;5;241;43m=\u001b[39;49m\u001b[43mresponse_conn\u001b[49m\u001b[43m,\u001b[49m\n\u001b[1;32m    797\u001b[0m \u001b[43m    \u001b[49m\u001b[43mpreload_content\u001b[49m\u001b[38;5;241;43m=\u001b[39;49m\u001b[43mpreload_content\u001b[49m\u001b[43m,\u001b[49m\n\u001b[1;32m    798\u001b[0m \u001b[43m    \u001b[49m\u001b[43mdecode_content\u001b[49m\u001b[38;5;241;43m=\u001b[39;49m\u001b[43mdecode_content\u001b[49m\u001b[43m,\u001b[49m\n\u001b[1;32m    799\u001b[0m \u001b[43m    \u001b[49m\u001b[38;5;241;43m*\u001b[39;49m\u001b[38;5;241;43m*\u001b[39;49m\u001b[43mresponse_kw\u001b[49m\u001b[43m,\u001b[49m\n\u001b[1;32m    800\u001b[0m \u001b[43m\u001b[49m\u001b[43m)\u001b[49m\n\u001b[1;32m    802\u001b[0m \u001b[38;5;66;03m# Everything went great!\u001b[39;00m\n",
      "File \u001b[0;32m/opt/anaconda3/envs/tst/lib/python3.9/site-packages/urllib3/connectionpool.py:493\u001b[0m, in \u001b[0;36mHTTPConnectionPool._make_request\u001b[0;34m(self, conn, method, url, body, headers, retries, timeout, chunked, response_conn, preload_content, decode_content, enforce_content_length)\u001b[0m\n\u001b[1;32m    492\u001b[0m \u001b[38;5;28;01mtry\u001b[39;00m:\n\u001b[0;32m--> 493\u001b[0m     \u001b[43mconn\u001b[49m\u001b[38;5;241;43m.\u001b[39;49m\u001b[43mrequest\u001b[49m\u001b[43m(\u001b[49m\n\u001b[1;32m    494\u001b[0m \u001b[43m        \u001b[49m\u001b[43mmethod\u001b[49m\u001b[43m,\u001b[49m\n\u001b[1;32m    495\u001b[0m \u001b[43m        \u001b[49m\u001b[43murl\u001b[49m\u001b[43m,\u001b[49m\n\u001b[1;32m    496\u001b[0m \u001b[43m        \u001b[49m\u001b[43mbody\u001b[49m\u001b[38;5;241;43m=\u001b[39;49m\u001b[43mbody\u001b[49m\u001b[43m,\u001b[49m\n\u001b[1;32m    497\u001b[0m \u001b[43m        \u001b[49m\u001b[43mheaders\u001b[49m\u001b[38;5;241;43m=\u001b[39;49m\u001b[43mheaders\u001b[49m\u001b[43m,\u001b[49m\n\u001b[1;32m    498\u001b[0m \u001b[43m        \u001b[49m\u001b[43mchunked\u001b[49m\u001b[38;5;241;43m=\u001b[39;49m\u001b[43mchunked\u001b[49m\u001b[43m,\u001b[49m\n\u001b[1;32m    499\u001b[0m \u001b[43m        \u001b[49m\u001b[43mpreload_content\u001b[49m\u001b[38;5;241;43m=\u001b[39;49m\u001b[43mpreload_content\u001b[49m\u001b[43m,\u001b[49m\n\u001b[1;32m    500\u001b[0m \u001b[43m        \u001b[49m\u001b[43mdecode_content\u001b[49m\u001b[38;5;241;43m=\u001b[39;49m\u001b[43mdecode_content\u001b[49m\u001b[43m,\u001b[49m\n\u001b[1;32m    501\u001b[0m \u001b[43m        \u001b[49m\u001b[43menforce_content_length\u001b[49m\u001b[38;5;241;43m=\u001b[39;49m\u001b[43menforce_content_length\u001b[49m\u001b[43m,\u001b[49m\n\u001b[1;32m    502\u001b[0m \u001b[43m    \u001b[49m\u001b[43m)\u001b[49m\n\u001b[1;32m    504\u001b[0m \u001b[38;5;66;03m# We are swallowing BrokenPipeError (errno.EPIPE) since the server is\u001b[39;00m\n\u001b[1;32m    505\u001b[0m \u001b[38;5;66;03m# legitimately able to close the connection after sending a valid response.\u001b[39;00m\n\u001b[1;32m    506\u001b[0m \u001b[38;5;66;03m# With this behaviour, the received response is still readable.\u001b[39;00m\n",
      "File \u001b[0;32m/opt/anaconda3/envs/tst/lib/python3.9/site-packages/urllib3/connection.py:445\u001b[0m, in \u001b[0;36mHTTPConnection.request\u001b[0;34m(self, method, url, body, headers, chunked, preload_content, decode_content, enforce_content_length)\u001b[0m\n\u001b[1;32m    444\u001b[0m     \u001b[38;5;28mself\u001b[39m\u001b[38;5;241m.\u001b[39mputheader(header, value)\n\u001b[0;32m--> 445\u001b[0m \u001b[38;5;28;43mself\u001b[39;49m\u001b[38;5;241;43m.\u001b[39;49m\u001b[43mendheaders\u001b[49m\u001b[43m(\u001b[49m\u001b[43m)\u001b[49m\n\u001b[1;32m    447\u001b[0m \u001b[38;5;66;03m# If we're given a body we start sending that in chunks.\u001b[39;00m\n",
      "File \u001b[0;32m/opt/anaconda3/envs/tst/lib/python3.9/http/client.py:1280\u001b[0m, in \u001b[0;36mHTTPConnection.endheaders\u001b[0;34m(self, message_body, encode_chunked)\u001b[0m\n\u001b[1;32m   1279\u001b[0m     \u001b[38;5;28;01mraise\u001b[39;00m CannotSendHeader()\n\u001b[0;32m-> 1280\u001b[0m \u001b[38;5;28;43mself\u001b[39;49m\u001b[38;5;241;43m.\u001b[39;49m\u001b[43m_send_output\u001b[49m\u001b[43m(\u001b[49m\u001b[43mmessage_body\u001b[49m\u001b[43m,\u001b[49m\u001b[43m \u001b[49m\u001b[43mencode_chunked\u001b[49m\u001b[38;5;241;43m=\u001b[39;49m\u001b[43mencode_chunked\u001b[49m\u001b[43m)\u001b[49m\n",
      "File \u001b[0;32m/opt/anaconda3/envs/tst/lib/python3.9/http/client.py:1040\u001b[0m, in \u001b[0;36mHTTPConnection._send_output\u001b[0;34m(self, message_body, encode_chunked)\u001b[0m\n\u001b[1;32m   1039\u001b[0m \u001b[38;5;28;01mdel\u001b[39;00m \u001b[38;5;28mself\u001b[39m\u001b[38;5;241m.\u001b[39m_buffer[:]\n\u001b[0;32m-> 1040\u001b[0m \u001b[38;5;28;43mself\u001b[39;49m\u001b[38;5;241;43m.\u001b[39;49m\u001b[43msend\u001b[49m\u001b[43m(\u001b[49m\u001b[43mmsg\u001b[49m\u001b[43m)\u001b[49m\n\u001b[1;32m   1042\u001b[0m \u001b[38;5;28;01mif\u001b[39;00m message_body \u001b[38;5;129;01mis\u001b[39;00m \u001b[38;5;129;01mnot\u001b[39;00m \u001b[38;5;28;01mNone\u001b[39;00m:\n\u001b[1;32m   1043\u001b[0m \n\u001b[1;32m   1044\u001b[0m     \u001b[38;5;66;03m# create a consistent interface to message_body\u001b[39;00m\n",
      "File \u001b[0;32m/opt/anaconda3/envs/tst/lib/python3.9/http/client.py:980\u001b[0m, in \u001b[0;36mHTTPConnection.send\u001b[0;34m(self, data)\u001b[0m\n\u001b[1;32m    979\u001b[0m \u001b[38;5;28;01mif\u001b[39;00m \u001b[38;5;28mself\u001b[39m\u001b[38;5;241m.\u001b[39mauto_open:\n\u001b[0;32m--> 980\u001b[0m     \u001b[38;5;28;43mself\u001b[39;49m\u001b[38;5;241;43m.\u001b[39;49m\u001b[43mconnect\u001b[49m\u001b[43m(\u001b[49m\u001b[43m)\u001b[49m\n\u001b[1;32m    981\u001b[0m \u001b[38;5;28;01melse\u001b[39;00m:\n",
      "File \u001b[0;32m/opt/anaconda3/envs/tst/lib/python3.9/site-packages/urllib3/connection.py:276\u001b[0m, in \u001b[0;36mHTTPConnection.connect\u001b[0;34m(self)\u001b[0m\n\u001b[1;32m    275\u001b[0m \u001b[38;5;28;01mdef\u001b[39;00m\u001b[38;5;250m \u001b[39m\u001b[38;5;21mconnect\u001b[39m(\u001b[38;5;28mself\u001b[39m) \u001b[38;5;241m-\u001b[39m\u001b[38;5;241m>\u001b[39m \u001b[38;5;28;01mNone\u001b[39;00m:\n\u001b[0;32m--> 276\u001b[0m     \u001b[38;5;28mself\u001b[39m\u001b[38;5;241m.\u001b[39msock \u001b[38;5;241m=\u001b[39m \u001b[38;5;28;43mself\u001b[39;49m\u001b[38;5;241;43m.\u001b[39;49m\u001b[43m_new_conn\u001b[49m\u001b[43m(\u001b[49m\u001b[43m)\u001b[49m\n\u001b[1;32m    277\u001b[0m     \u001b[38;5;28;01mif\u001b[39;00m \u001b[38;5;28mself\u001b[39m\u001b[38;5;241m.\u001b[39m_tunnel_host:\n\u001b[1;32m    278\u001b[0m         \u001b[38;5;66;03m# If we're tunneling it means we're connected to our proxy.\u001b[39;00m\n",
      "File \u001b[0;32m/opt/anaconda3/envs/tst/lib/python3.9/site-packages/urllib3/connection.py:205\u001b[0m, in \u001b[0;36mHTTPConnection._new_conn\u001b[0;34m(self)\u001b[0m\n\u001b[1;32m    204\u001b[0m \u001b[38;5;28;01mexcept\u001b[39;00m socket\u001b[38;5;241m.\u001b[39mgaierror \u001b[38;5;28;01mas\u001b[39;00m e:\n\u001b[0;32m--> 205\u001b[0m     \u001b[38;5;28;01mraise\u001b[39;00m NameResolutionError(\u001b[38;5;28mself\u001b[39m\u001b[38;5;241m.\u001b[39mhost, \u001b[38;5;28mself\u001b[39m, e) \u001b[38;5;28;01mfrom\u001b[39;00m\u001b[38;5;250m \u001b[39m\u001b[38;5;21;01me\u001b[39;00m\n\u001b[1;32m    206\u001b[0m \u001b[38;5;28;01mexcept\u001b[39;00m SocketTimeout \u001b[38;5;28;01mas\u001b[39;00m e:\n",
      "\u001b[0;31mNameResolutionError\u001b[0m: <urllib3.connection.HTTPConnection object at 0x118079700>: Failed to resolve 'dfidev5.hq.eso.org' ([Errno 8] nodename nor servname provided, or not known)",
      "\nThe above exception was the direct cause of the following exception:\n",
      "\u001b[0;31mMaxRetryError\u001b[0m                             Traceback (most recent call last)",
      "File \u001b[0;32m/opt/anaconda3/envs/tst/lib/python3.9/site-packages/requests/adapters.py:667\u001b[0m, in \u001b[0;36mHTTPAdapter.send\u001b[0;34m(self, request, stream, timeout, verify, cert, proxies)\u001b[0m\n\u001b[1;32m    666\u001b[0m \u001b[38;5;28;01mtry\u001b[39;00m:\n\u001b[0;32m--> 667\u001b[0m     resp \u001b[38;5;241m=\u001b[39m \u001b[43mconn\u001b[49m\u001b[38;5;241;43m.\u001b[39;49m\u001b[43murlopen\u001b[49m\u001b[43m(\u001b[49m\n\u001b[1;32m    668\u001b[0m \u001b[43m        \u001b[49m\u001b[43mmethod\u001b[49m\u001b[38;5;241;43m=\u001b[39;49m\u001b[43mrequest\u001b[49m\u001b[38;5;241;43m.\u001b[39;49m\u001b[43mmethod\u001b[49m\u001b[43m,\u001b[49m\n\u001b[1;32m    669\u001b[0m \u001b[43m        \u001b[49m\u001b[43murl\u001b[49m\u001b[38;5;241;43m=\u001b[39;49m\u001b[43murl\u001b[49m\u001b[43m,\u001b[49m\n\u001b[1;32m    670\u001b[0m \u001b[43m        \u001b[49m\u001b[43mbody\u001b[49m\u001b[38;5;241;43m=\u001b[39;49m\u001b[43mrequest\u001b[49m\u001b[38;5;241;43m.\u001b[39;49m\u001b[43mbody\u001b[49m\u001b[43m,\u001b[49m\n\u001b[1;32m    671\u001b[0m \u001b[43m        \u001b[49m\u001b[43mheaders\u001b[49m\u001b[38;5;241;43m=\u001b[39;49m\u001b[43mrequest\u001b[49m\u001b[38;5;241;43m.\u001b[39;49m\u001b[43mheaders\u001b[49m\u001b[43m,\u001b[49m\n\u001b[1;32m    672\u001b[0m \u001b[43m        \u001b[49m\u001b[43mredirect\u001b[49m\u001b[38;5;241;43m=\u001b[39;49m\u001b[38;5;28;43;01mFalse\u001b[39;49;00m\u001b[43m,\u001b[49m\n\u001b[1;32m    673\u001b[0m \u001b[43m        \u001b[49m\u001b[43massert_same_host\u001b[49m\u001b[38;5;241;43m=\u001b[39;49m\u001b[38;5;28;43;01mFalse\u001b[39;49;00m\u001b[43m,\u001b[49m\n\u001b[1;32m    674\u001b[0m \u001b[43m        \u001b[49m\u001b[43mpreload_content\u001b[49m\u001b[38;5;241;43m=\u001b[39;49m\u001b[38;5;28;43;01mFalse\u001b[39;49;00m\u001b[43m,\u001b[49m\n\u001b[1;32m    675\u001b[0m \u001b[43m        \u001b[49m\u001b[43mdecode_content\u001b[49m\u001b[38;5;241;43m=\u001b[39;49m\u001b[38;5;28;43;01mFalse\u001b[39;49;00m\u001b[43m,\u001b[49m\n\u001b[1;32m    676\u001b[0m \u001b[43m        \u001b[49m\u001b[43mretries\u001b[49m\u001b[38;5;241;43m=\u001b[39;49m\u001b[38;5;28;43mself\u001b[39;49m\u001b[38;5;241;43m.\u001b[39;49m\u001b[43mmax_retries\u001b[49m\u001b[43m,\u001b[49m\n\u001b[1;32m    677\u001b[0m \u001b[43m        \u001b[49m\u001b[43mtimeout\u001b[49m\u001b[38;5;241;43m=\u001b[39;49m\u001b[43mtimeout\u001b[49m\u001b[43m,\u001b[49m\n\u001b[1;32m    678\u001b[0m \u001b[43m        \u001b[49m\u001b[43mchunked\u001b[49m\u001b[38;5;241;43m=\u001b[39;49m\u001b[43mchunked\u001b[49m\u001b[43m,\u001b[49m\n\u001b[1;32m    679\u001b[0m \u001b[43m    \u001b[49m\u001b[43m)\u001b[49m\n\u001b[1;32m    681\u001b[0m \u001b[38;5;28;01mexcept\u001b[39;00m (ProtocolError, \u001b[38;5;167;01mOSError\u001b[39;00m) \u001b[38;5;28;01mas\u001b[39;00m err:\n",
      "File \u001b[0;32m/opt/anaconda3/envs/tst/lib/python3.9/site-packages/urllib3/connectionpool.py:841\u001b[0m, in \u001b[0;36mHTTPConnectionPool.urlopen\u001b[0;34m(self, method, url, body, headers, retries, redirect, assert_same_host, timeout, pool_timeout, release_conn, chunked, body_pos, preload_content, decode_content, **response_kw)\u001b[0m\n\u001b[1;32m    839\u001b[0m     new_e \u001b[38;5;241m=\u001b[39m ProtocolError(\u001b[38;5;124m\"\u001b[39m\u001b[38;5;124mConnection aborted.\u001b[39m\u001b[38;5;124m\"\u001b[39m, new_e)\n\u001b[0;32m--> 841\u001b[0m retries \u001b[38;5;241m=\u001b[39m \u001b[43mretries\u001b[49m\u001b[38;5;241;43m.\u001b[39;49m\u001b[43mincrement\u001b[49m\u001b[43m(\u001b[49m\n\u001b[1;32m    842\u001b[0m \u001b[43m    \u001b[49m\u001b[43mmethod\u001b[49m\u001b[43m,\u001b[49m\u001b[43m \u001b[49m\u001b[43murl\u001b[49m\u001b[43m,\u001b[49m\u001b[43m \u001b[49m\u001b[43merror\u001b[49m\u001b[38;5;241;43m=\u001b[39;49m\u001b[43mnew_e\u001b[49m\u001b[43m,\u001b[49m\u001b[43m \u001b[49m\u001b[43m_pool\u001b[49m\u001b[38;5;241;43m=\u001b[39;49m\u001b[38;5;28;43mself\u001b[39;49m\u001b[43m,\u001b[49m\u001b[43m \u001b[49m\u001b[43m_stacktrace\u001b[49m\u001b[38;5;241;43m=\u001b[39;49m\u001b[43msys\u001b[49m\u001b[38;5;241;43m.\u001b[39;49m\u001b[43mexc_info\u001b[49m\u001b[43m(\u001b[49m\u001b[43m)\u001b[49m\u001b[43m[\u001b[49m\u001b[38;5;241;43m2\u001b[39;49m\u001b[43m]\u001b[49m\n\u001b[1;32m    843\u001b[0m \u001b[43m\u001b[49m\u001b[43m)\u001b[49m\n\u001b[1;32m    844\u001b[0m retries\u001b[38;5;241m.\u001b[39msleep()\n",
      "File \u001b[0;32m/opt/anaconda3/envs/tst/lib/python3.9/site-packages/urllib3/util/retry.py:519\u001b[0m, in \u001b[0;36mRetry.increment\u001b[0;34m(self, method, url, response, error, _pool, _stacktrace)\u001b[0m\n\u001b[1;32m    518\u001b[0m     reason \u001b[38;5;241m=\u001b[39m error \u001b[38;5;129;01mor\u001b[39;00m ResponseError(cause)\n\u001b[0;32m--> 519\u001b[0m     \u001b[38;5;28;01mraise\u001b[39;00m MaxRetryError(_pool, url, reason) \u001b[38;5;28;01mfrom\u001b[39;00m\u001b[38;5;250m \u001b[39m\u001b[38;5;21;01mreason\u001b[39;00m  \u001b[38;5;66;03m# type: ignore[arg-type]\u001b[39;00m\n\u001b[1;32m    521\u001b[0m log\u001b[38;5;241m.\u001b[39mdebug(\u001b[38;5;124m\"\u001b[39m\u001b[38;5;124mIncremented Retry for (url=\u001b[39m\u001b[38;5;124m'\u001b[39m\u001b[38;5;132;01m%s\u001b[39;00m\u001b[38;5;124m'\u001b[39m\u001b[38;5;124m): \u001b[39m\u001b[38;5;132;01m%r\u001b[39;00m\u001b[38;5;124m\"\u001b[39m, url, new_retry)\n",
      "\u001b[0;31mMaxRetryError\u001b[0m: HTTPConnectionPool(host='dfidev5.hq.eso.org', port=8123): Max retries exceeded with url: /tap_obs/sync (Caused by NameResolutionError(\"<urllib3.connection.HTTPConnection object at 0x118079700>: Failed to resolve 'dfidev5.hq.eso.org' ([Errno 8] nodename nor servname provided, or not known)\"))",
      "\nDuring handling of the above exception, another exception occurred:\n",
      "\u001b[0;31mConnectionError\u001b[0m                           Traceback (most recent call last)",
      "File \u001b[0;32m/opt/anaconda3/envs/tst/lib/python3.9/site-packages/pyvo/dal/query.py:258\u001b[0m, in \u001b[0;36mDALQuery.execute_votable\u001b[0;34m(self, post)\u001b[0m\n\u001b[1;32m    257\u001b[0m \u001b[38;5;28;01mtry\u001b[39;00m:\n\u001b[0;32m--> 258\u001b[0m     \u001b[38;5;28;01mreturn\u001b[39;00m votableparse(\u001b[38;5;28;43mself\u001b[39;49m\u001b[38;5;241;43m.\u001b[39;49m\u001b[43mexecute_stream\u001b[49m\u001b[43m(\u001b[49m\u001b[43mpost\u001b[49m\u001b[38;5;241;43m=\u001b[39;49m\u001b[43mpost\u001b[49m\u001b[43m)\u001b[49m\u001b[38;5;241m.\u001b[39mread)\n\u001b[1;32m    259\u001b[0m \u001b[38;5;28;01mexcept\u001b[39;00m \u001b[38;5;167;01mException\u001b[39;00m \u001b[38;5;28;01mas\u001b[39;00m e:\n",
      "File \u001b[0;32m/opt/anaconda3/envs/tst/lib/python3.9/site-packages/pyvo/dal/tap.py:1101\u001b[0m, in \u001b[0;36mTAPQuery.execute_stream\u001b[0;34m(self, post)\u001b[0m\n\u001b[1;32m   1098\u001b[0m     \u001b[38;5;28;01mraise\u001b[39;00m DALServiceError(\n\u001b[1;32m   1099\u001b[0m         \u001b[38;5;124m\"\u001b[39m\u001b[38;5;124mCannot execute a non-synchronous query. Use submit instead\u001b[39m\u001b[38;5;124m\"\u001b[39m)\n\u001b[0;32m-> 1101\u001b[0m \u001b[38;5;28;01mreturn\u001b[39;00m \u001b[38;5;28;43msuper\u001b[39;49m\u001b[43m(\u001b[49m\u001b[43m)\u001b[49m\u001b[38;5;241;43m.\u001b[39;49m\u001b[43mexecute_stream\u001b[49m\u001b[43m(\u001b[49m\u001b[43mpost\u001b[49m\u001b[38;5;241;43m=\u001b[39;49m\u001b[43mpost\u001b[49m\u001b[43m)\u001b[49m\n",
      "File \u001b[0;32m/opt/anaconda3/envs/tst/lib/python3.9/site-packages/pyvo/utils/decorators.py:9\u001b[0m, in \u001b[0;36mstream_decode_content.<locals>.wrapper\u001b[0;34m(*args, **kwargs)\u001b[0m\n\u001b[1;32m      7\u001b[0m \u001b[38;5;129m@wraps\u001b[39m(func)\n\u001b[1;32m      8\u001b[0m \u001b[38;5;28;01mdef\u001b[39;00m\u001b[38;5;250m \u001b[39m\u001b[38;5;21mwrapper\u001b[39m(\u001b[38;5;241m*\u001b[39margs, \u001b[38;5;241m*\u001b[39m\u001b[38;5;241m*\u001b[39mkwargs):\n\u001b[0;32m----> 9\u001b[0m     raw \u001b[38;5;241m=\u001b[39m \u001b[43mfunc\u001b[49m\u001b[43m(\u001b[49m\u001b[38;5;241;43m*\u001b[39;49m\u001b[43margs\u001b[49m\u001b[43m,\u001b[49m\u001b[43m \u001b[49m\u001b[38;5;241;43m*\u001b[39;49m\u001b[38;5;241;43m*\u001b[39;49m\u001b[43mkwargs\u001b[49m\u001b[43m)\u001b[49m\n\u001b[1;32m     10\u001b[0m     raw\u001b[38;5;241m.\u001b[39mread \u001b[38;5;241m=\u001b[39m partial(raw\u001b[38;5;241m.\u001b[39mread, decode_content\u001b[38;5;241m=\u001b[39m\u001b[38;5;28;01mTrue\u001b[39;00m)\n",
      "File \u001b[0;32m/opt/anaconda3/envs/tst/lib/python3.9/site-packages/pyvo/dal/query.py:207\u001b[0m, in \u001b[0;36mDALQuery.execute_stream\u001b[0;34m(self, post)\u001b[0m\n\u001b[1;32m    201\u001b[0m \u001b[38;5;250m\u001b[39m\u001b[38;5;124;03m\"\"\"\u001b[39;00m\n\u001b[1;32m    202\u001b[0m \u001b[38;5;124;03mSubmit the query and return the raw response as a file stream.\u001b[39;00m\n\u001b[1;32m    203\u001b[0m \n\u001b[1;32m    204\u001b[0m \u001b[38;5;124;03mNo exceptions are raised here because non-2xx responses might still\u001b[39;00m\n\u001b[1;32m    205\u001b[0m \u001b[38;5;124;03mcontain payload. They can be raised later by calling ``raise_if_error``\u001b[39;00m\n\u001b[1;32m    206\u001b[0m \u001b[38;5;124;03m\"\"\"\u001b[39;00m\n\u001b[0;32m--> 207\u001b[0m response \u001b[38;5;241m=\u001b[39m \u001b[38;5;28;43mself\u001b[39;49m\u001b[38;5;241;43m.\u001b[39;49m\u001b[43msubmit\u001b[49m\u001b[43m(\u001b[49m\u001b[43mpost\u001b[49m\u001b[38;5;241;43m=\u001b[39;49m\u001b[43mpost\u001b[49m\u001b[43m)\u001b[49m\n\u001b[1;32m    209\u001b[0m \u001b[38;5;28;01mtry\u001b[39;00m:\n",
      "File \u001b[0;32m/opt/anaconda3/envs/tst/lib/python3.9/site-packages/pyvo/dal/tap.py:1134\u001b[0m, in \u001b[0;36mTAPQuery.submit\u001b[0;34m(self, post)\u001b[0m\n\u001b[1;32m   1128\u001b[0m files \u001b[38;5;241m=\u001b[39m {\n\u001b[1;32m   1129\u001b[0m     upload\u001b[38;5;241m.\u001b[39mname: upload\u001b[38;5;241m.\u001b[39mfileobj()\n\u001b[1;32m   1130\u001b[0m     \u001b[38;5;28;01mfor\u001b[39;00m upload \u001b[38;5;129;01min\u001b[39;00m \u001b[38;5;28mself\u001b[39m\u001b[38;5;241m.\u001b[39m_uploads\n\u001b[1;32m   1131\u001b[0m     \u001b[38;5;28;01mif\u001b[39;00m upload\u001b[38;5;241m.\u001b[39mis_inline\n\u001b[1;32m   1132\u001b[0m }\n\u001b[0;32m-> 1134\u001b[0m response \u001b[38;5;241m=\u001b[39m \u001b[38;5;28;43mself\u001b[39;49m\u001b[38;5;241;43m.\u001b[39;49m\u001b[43m_session\u001b[49m\u001b[38;5;241;43m.\u001b[39;49m\u001b[43mpost\u001b[49m\u001b[43m(\u001b[49m\n\u001b[1;32m   1135\u001b[0m \u001b[43m    \u001b[49m\u001b[43murl\u001b[49m\u001b[43m,\u001b[49m\u001b[43m \u001b[49m\u001b[43mdata\u001b[49m\u001b[38;5;241;43m=\u001b[39;49m\u001b[38;5;28;43mself\u001b[39;49m\u001b[43m,\u001b[49m\u001b[43m \u001b[49m\u001b[43mstream\u001b[49m\u001b[38;5;241;43m=\u001b[39;49m\u001b[38;5;28;43;01mTrue\u001b[39;49;00m\u001b[43m,\u001b[49m\u001b[43m \u001b[49m\u001b[43mfiles\u001b[49m\u001b[38;5;241;43m=\u001b[39;49m\u001b[43mfiles\u001b[49m\u001b[43m)\u001b[49m\n\u001b[1;32m   1136\u001b[0m \u001b[38;5;66;03m# requests doesn't decode the content by default\u001b[39;00m\n",
      "File \u001b[0;32m/opt/anaconda3/envs/tst/lib/python3.9/site-packages/requests/sessions.py:637\u001b[0m, in \u001b[0;36mSession.post\u001b[0;34m(self, url, data, json, **kwargs)\u001b[0m\n\u001b[1;32m    627\u001b[0m \u001b[38;5;250m\u001b[39m\u001b[38;5;124mr\u001b[39m\u001b[38;5;124;03m\"\"\"Sends a POST request. Returns :class:`Response` object.\u001b[39;00m\n\u001b[1;32m    628\u001b[0m \n\u001b[1;32m    629\u001b[0m \u001b[38;5;124;03m:param url: URL for the new :class:`Request` object.\u001b[39;00m\n\u001b[0;32m   (...)\u001b[0m\n\u001b[1;32m    634\u001b[0m \u001b[38;5;124;03m:rtype: requests.Response\u001b[39;00m\n\u001b[1;32m    635\u001b[0m \u001b[38;5;124;03m\"\"\"\u001b[39;00m\n\u001b[0;32m--> 637\u001b[0m \u001b[38;5;28;01mreturn\u001b[39;00m \u001b[38;5;28;43mself\u001b[39;49m\u001b[38;5;241;43m.\u001b[39;49m\u001b[43mrequest\u001b[49m\u001b[43m(\u001b[49m\u001b[38;5;124;43m\"\u001b[39;49m\u001b[38;5;124;43mPOST\u001b[39;49m\u001b[38;5;124;43m\"\u001b[39;49m\u001b[43m,\u001b[49m\u001b[43m \u001b[49m\u001b[43murl\u001b[49m\u001b[43m,\u001b[49m\u001b[43m \u001b[49m\u001b[43mdata\u001b[49m\u001b[38;5;241;43m=\u001b[39;49m\u001b[43mdata\u001b[49m\u001b[43m,\u001b[49m\u001b[43m \u001b[49m\u001b[43mjson\u001b[49m\u001b[38;5;241;43m=\u001b[39;49m\u001b[43mjson\u001b[49m\u001b[43m,\u001b[49m\u001b[43m \u001b[49m\u001b[38;5;241;43m*\u001b[39;49m\u001b[38;5;241;43m*\u001b[39;49m\u001b[43mkwargs\u001b[49m\u001b[43m)\u001b[49m\n",
      "File \u001b[0;32m/opt/anaconda3/envs/tst/lib/python3.9/site-packages/requests/sessions.py:589\u001b[0m, in \u001b[0;36mSession.request\u001b[0;34m(self, method, url, params, data, headers, cookies, files, auth, timeout, allow_redirects, proxies, hooks, stream, verify, cert, json)\u001b[0m\n\u001b[1;32m    588\u001b[0m send_kwargs\u001b[38;5;241m.\u001b[39mupdate(settings)\n\u001b[0;32m--> 589\u001b[0m resp \u001b[38;5;241m=\u001b[39m \u001b[38;5;28;43mself\u001b[39;49m\u001b[38;5;241;43m.\u001b[39;49m\u001b[43msend\u001b[49m\u001b[43m(\u001b[49m\u001b[43mprep\u001b[49m\u001b[43m,\u001b[49m\u001b[43m \u001b[49m\u001b[38;5;241;43m*\u001b[39;49m\u001b[38;5;241;43m*\u001b[39;49m\u001b[43msend_kwargs\u001b[49m\u001b[43m)\u001b[49m\n\u001b[1;32m    591\u001b[0m \u001b[38;5;28;01mreturn\u001b[39;00m resp\n",
      "File \u001b[0;32m/opt/anaconda3/envs/tst/lib/python3.9/site-packages/requests/sessions.py:703\u001b[0m, in \u001b[0;36mSession.send\u001b[0;34m(self, request, **kwargs)\u001b[0m\n\u001b[1;32m    702\u001b[0m \u001b[38;5;66;03m# Send the request\u001b[39;00m\n\u001b[0;32m--> 703\u001b[0m r \u001b[38;5;241m=\u001b[39m \u001b[43madapter\u001b[49m\u001b[38;5;241;43m.\u001b[39;49m\u001b[43msend\u001b[49m\u001b[43m(\u001b[49m\u001b[43mrequest\u001b[49m\u001b[43m,\u001b[49m\u001b[43m \u001b[49m\u001b[38;5;241;43m*\u001b[39;49m\u001b[38;5;241;43m*\u001b[39;49m\u001b[43mkwargs\u001b[49m\u001b[43m)\u001b[49m\n\u001b[1;32m    705\u001b[0m \u001b[38;5;66;03m# Total elapsed time of the request (approximately)\u001b[39;00m\n",
      "File \u001b[0;32m/opt/anaconda3/envs/tst/lib/python3.9/site-packages/requests/adapters.py:700\u001b[0m, in \u001b[0;36mHTTPAdapter.send\u001b[0;34m(self, request, stream, timeout, verify, cert, proxies)\u001b[0m\n\u001b[1;32m    698\u001b[0m         \u001b[38;5;28;01mraise\u001b[39;00m SSLError(e, request\u001b[38;5;241m=\u001b[39mrequest)\n\u001b[0;32m--> 700\u001b[0m     \u001b[38;5;28;01mraise\u001b[39;00m \u001b[38;5;167;01mConnectionError\u001b[39;00m(e, request\u001b[38;5;241m=\u001b[39mrequest)\n\u001b[1;32m    702\u001b[0m \u001b[38;5;28;01mexcept\u001b[39;00m ClosedPoolError \u001b[38;5;28;01mas\u001b[39;00m e:\n",
      "\u001b[0;31mConnectionError\u001b[0m: HTTPConnectionPool(host='dfidev5.hq.eso.org', port=8123): Max retries exceeded with url: /tap_obs/sync (Caused by NameResolutionError(\"<urllib3.connection.HTTPConnection object at 0x118079700>: Failed to resolve 'dfidev5.hq.eso.org' ([Errno 8] nodename nor servname provided, or not known)\"))",
      "\nDuring handling of the above exception, another exception occurred:\n",
      "\u001b[0;31mDALFormatError\u001b[0m                            Traceback (most recent call last)",
      "File \u001b[0;32m/opt/anaconda3/envs/tst/lib/python3.9/site-packages/astroquery/eso/core.py:277\u001b[0m, in \u001b[0;36mEsoClass.query_tap_service\u001b[0;34m(self, query_str, cache)\u001b[0m\n\u001b[1;32m    276\u001b[0m \u001b[38;5;28;01mif\u001b[39;00m \u001b[38;5;129;01mnot\u001b[39;00m table_to_return:\n\u001b[0;32m--> 277\u001b[0m     table_to_return \u001b[38;5;241m=\u001b[39m \u001b[43mtap\u001b[49m\u001b[38;5;241;43m.\u001b[39;49m\u001b[43msearch\u001b[49m\u001b[43m(\u001b[49m\u001b[43mquery_str\u001b[49m\u001b[43m)\u001b[49m\u001b[38;5;241m.\u001b[39mto_table()\n\u001b[1;32m    278\u001b[0m     to_cache(table_to_return, \u001b[38;5;28mself\u001b[39m\u001b[38;5;241m.\u001b[39mrequest_file(query_str\u001b[38;5;241m=\u001b[39mquery_str))\n",
      "File \u001b[0;32m/opt/anaconda3/envs/tst/lib/python3.9/site-packages/pyvo/dal/tap.py:276\u001b[0m, in \u001b[0;36mTAPService.run_sync\u001b[0;34m(self, query, language, maxrec, uploads, **keywords)\u001b[0m\n\u001b[1;32m    252\u001b[0m \u001b[38;5;250m\u001b[39m\u001b[38;5;124;03m\"\"\"\u001b[39;00m\n\u001b[1;32m    253\u001b[0m \u001b[38;5;124;03mruns sync query and returns its result\u001b[39;00m\n\u001b[1;32m    254\u001b[0m \n\u001b[0;32m   (...)\u001b[0m\n\u001b[1;32m    274\u001b[0m \u001b[38;5;124;03mTAPResults\u001b[39;00m\n\u001b[1;32m    275\u001b[0m \u001b[38;5;124;03m\"\"\"\u001b[39;00m\n\u001b[0;32m--> 276\u001b[0m \u001b[38;5;28;01mreturn\u001b[39;00m \u001b[38;5;28;43mself\u001b[39;49m\u001b[38;5;241;43m.\u001b[39;49m\u001b[43mcreate_query\u001b[49m\u001b[43m(\u001b[49m\n\u001b[1;32m    277\u001b[0m \u001b[43m    \u001b[49m\u001b[43mquery\u001b[49m\u001b[43m,\u001b[49m\u001b[43m \u001b[49m\u001b[43mlanguage\u001b[49m\u001b[38;5;241;43m=\u001b[39;49m\u001b[43mlanguage\u001b[49m\u001b[43m,\u001b[49m\u001b[43m \u001b[49m\u001b[43mmaxrec\u001b[49m\u001b[38;5;241;43m=\u001b[39;49m\u001b[43mmaxrec\u001b[49m\u001b[43m,\u001b[49m\u001b[43m \u001b[49m\u001b[43muploads\u001b[49m\u001b[38;5;241;43m=\u001b[39;49m\u001b[43muploads\u001b[49m\u001b[43m,\u001b[49m\n\u001b[1;32m    278\u001b[0m \u001b[43m    \u001b[49m\u001b[38;5;241;43m*\u001b[39;49m\u001b[38;5;241;43m*\u001b[39;49m\u001b[43mkeywords\u001b[49m\u001b[43m)\u001b[49m\u001b[38;5;241;43m.\u001b[39;49m\u001b[43mexecute\u001b[49m\u001b[43m(\u001b[49m\u001b[43m)\u001b[49m\n",
      "File \u001b[0;32m/opt/anaconda3/envs/tst/lib/python3.9/site-packages/pyvo/dal/tap.py:1117\u001b[0m, in \u001b[0;36mTAPQuery.execute\u001b[0;34m(self)\u001b[0m\n\u001b[1;32m   1104\u001b[0m \u001b[38;5;250m\u001b[39m\u001b[38;5;124;03m\"\"\"\u001b[39;00m\n\u001b[1;32m   1105\u001b[0m \u001b[38;5;124;03msubmit the query and return the results as a TAPResults instance\u001b[39;00m\n\u001b[1;32m   1106\u001b[0m \n\u001b[0;32m   (...)\u001b[0m\n\u001b[1;32m   1115\u001b[0m \u001b[38;5;124;03m   for errors parsing the VOTable response\u001b[39;00m\n\u001b[1;32m   1116\u001b[0m \u001b[38;5;124;03m\"\"\"\u001b[39;00m\n\u001b[0;32m-> 1117\u001b[0m \u001b[38;5;28;01mreturn\u001b[39;00m TAPResults(\u001b[38;5;28;43mself\u001b[39;49m\u001b[38;5;241;43m.\u001b[39;49m\u001b[43mexecute_votable\u001b[49m\u001b[43m(\u001b[49m\u001b[43m)\u001b[49m, url\u001b[38;5;241m=\u001b[39m\u001b[38;5;28mself\u001b[39m\u001b[38;5;241m.\u001b[39mqueryurl, session\u001b[38;5;241m=\u001b[39m\u001b[38;5;28mself\u001b[39m\u001b[38;5;241m.\u001b[39m_session)\n",
      "File \u001b[0;32m/opt/anaconda3/envs/tst/lib/python3.9/site-packages/pyvo/dal/query.py:261\u001b[0m, in \u001b[0;36mDALQuery.execute_votable\u001b[0;34m(self, post)\u001b[0m\n\u001b[1;32m    260\u001b[0m \u001b[38;5;28mself\u001b[39m\u001b[38;5;241m.\u001b[39mraise_if_error()\n\u001b[0;32m--> 261\u001b[0m \u001b[38;5;28;01mraise\u001b[39;00m DALFormatError(e, \u001b[38;5;28mself\u001b[39m\u001b[38;5;241m.\u001b[39mqueryurl)\n",
      "\u001b[0;31mDALFormatError\u001b[0m: ConnectionError: HTTPConnectionPool(host='dfidev5.hq.eso.org', port=8123): Max retries exceeded with url: /tap_obs/sync (Caused by NameResolutionError(\"<urllib3.connection.HTTPConnection object at 0x118079700>: Failed to resolve 'dfidev5.hq.eso.org' ([Errno 8] nodename nor servname provided, or not known)\"))",
      "\nThe above exception was the direct cause of the following exception:\n",
      "\u001b[0;31mRuntimeError\u001b[0m                              Traceback (most recent call last)",
      "Cell \u001b[0;32mIn[3], line 1\u001b[0m\n\u001b[0;32m----> 1\u001b[0m instruments \u001b[38;5;241m=\u001b[39m \u001b[43meso\u001b[49m\u001b[38;5;241;43m.\u001b[39;49m\u001b[43mlist_instruments\u001b[49m\u001b[43m(\u001b[49m\u001b[43m)\u001b[49m \u001b[38;5;66;03m# get a list of instruments available in the ESO archive \u001b[39;00m\n\u001b[1;32m      2\u001b[0m instruments\n",
      "File \u001b[0;32m/opt/anaconda3/envs/tst/lib/python3.9/site-packages/astroquery/eso/core.py:311\u001b[0m, in \u001b[0;36mEsoClass.list_instruments\u001b[0;34m(self, cache)\u001b[0m\n\u001b[1;32m    308\u001b[0m     \u001b[38;5;28mself\u001b[39m\u001b[38;5;241m.\u001b[39m_instruments \u001b[38;5;241m=\u001b[39m []\n\u001b[1;32m    309\u001b[0m     query_str \u001b[38;5;241m=\u001b[39m (\u001b[38;5;124m\"\u001b[39m\u001b[38;5;124mselect table_name from TAP_SCHEMA.tables \u001b[39m\u001b[38;5;124m\"\u001b[39m\n\u001b[1;32m    310\u001b[0m                  \u001b[38;5;124m\"\u001b[39m\u001b[38;5;124mwhere schema_name=\u001b[39m\u001b[38;5;124m'\u001b[39m\u001b[38;5;124mist\u001b[39m\u001b[38;5;124m'\u001b[39m\u001b[38;5;124m order by table_name\u001b[39m\u001b[38;5;124m\"\u001b[39m)\n\u001b[0;32m--> 311\u001b[0m     res \u001b[38;5;241m=\u001b[39m \u001b[38;5;28;43mself\u001b[39;49m\u001b[38;5;241;43m.\u001b[39;49m\u001b[43mquery_tap_service\u001b[49m\u001b[43m(\u001b[49m\u001b[43mquery_str\u001b[49m\u001b[43m,\u001b[49m\u001b[43m \u001b[49m\u001b[43mcache\u001b[49m\u001b[38;5;241;43m=\u001b[39;49m\u001b[43mcache\u001b[49m\u001b[43m)\u001b[49m[\u001b[38;5;124m\"\u001b[39m\u001b[38;5;124mtable_name\u001b[39m\u001b[38;5;124m\"\u001b[39m]\u001b[38;5;241m.\u001b[39mdata\n\u001b[1;32m    312\u001b[0m     \u001b[38;5;28mself\u001b[39m\u001b[38;5;241m.\u001b[39m_instruments \u001b[38;5;241m=\u001b[39m \u001b[38;5;28mlist\u001b[39m(\u001b[38;5;28mmap\u001b[39m(\u001b[38;5;28;01mlambda\u001b[39;00m x: x\u001b[38;5;241m.\u001b[39msplit(\u001b[38;5;124m\"\u001b[39m\u001b[38;5;124m.\u001b[39m\u001b[38;5;124m\"\u001b[39m)[\u001b[38;5;241m1\u001b[39m], res))\n\u001b[1;32m    313\u001b[0m \u001b[38;5;28;01mreturn\u001b[39;00m \u001b[38;5;28mself\u001b[39m\u001b[38;5;241m.\u001b[39m_instruments\n",
      "File \u001b[0;32m/opt/anaconda3/envs/tst/lib/python3.9/site-packages/astroquery/eso/core.py:285\u001b[0m, in \u001b[0;36mEsoClass.query_tap_service\u001b[0;34m(self, query_str, cache)\u001b[0m\n\u001b[1;32m    281\u001b[0m     \u001b[38;5;28;01mraise\u001b[39;00m pyvo\u001b[38;5;241m.\u001b[39mdal\u001b[38;5;241m.\u001b[39mexceptions\u001b[38;5;241m.\u001b[39mDALQueryError(\u001b[38;5;124mf\u001b[39m\u001b[38;5;124m\"\u001b[39m\u001b[38;5;130;01m\\n\u001b[39;00m\u001b[38;5;130;01m\\n\u001b[39;00m\u001b[38;5;130;01m\\\u001b[39;00m\n\u001b[1;32m    282\u001b[0m \u001b[38;5;124m                    Error executing the following query:\u001b[39m\u001b[38;5;130;01m\\n\u001b[39;00m\u001b[38;5;130;01m\\n\u001b[39;00m\u001b[38;5;132;01m{\u001b[39;00mquery_str\u001b[38;5;132;01m}\u001b[39;00m\u001b[38;5;130;01m\\n\u001b[39;00m\u001b[38;5;130;01m\\n\u001b[39;00m\u001b[38;5;130;01m\\\u001b[39;00m\n\u001b[1;32m    283\u001b[0m \u001b[38;5;124m                    See examples here: http://archive.eso.org/tap_obs/examples\u001b[39m\u001b[38;5;130;01m\\n\u001b[39;00m\u001b[38;5;130;01m\\n\u001b[39;00m\u001b[38;5;124m\"\u001b[39m) \u001b[38;5;28;01mfrom\u001b[39;00m\u001b[38;5;250m \u001b[39m\u001b[38;5;21;01me\u001b[39;00m\n\u001b[1;32m    284\u001b[0m \u001b[38;5;28;01mexcept\u001b[39;00m \u001b[38;5;167;01mException\u001b[39;00m \u001b[38;5;28;01mas\u001b[39;00m e:\n\u001b[0;32m--> 285\u001b[0m     \u001b[38;5;28;01mraise\u001b[39;00m \u001b[38;5;167;01mRuntimeError\u001b[39;00m(\u001b[38;5;124mf\u001b[39m\u001b[38;5;124m\"\u001b[39m\u001b[38;5;130;01m\\n\u001b[39;00m\u001b[38;5;130;01m\\n\u001b[39;00m\u001b[38;5;130;01m\\\u001b[39;00m\n\u001b[1;32m    286\u001b[0m \u001b[38;5;124m                    Unknown exception \u001b[39m\u001b[38;5;132;01m{\u001b[39;00me\u001b[38;5;132;01m}\u001b[39;00m\u001b[38;5;124m while executing the\u001b[39m\u001b[38;5;130;01m\\\u001b[39;00m\n\u001b[1;32m    287\u001b[0m \u001b[38;5;124m                    following query: \u001b[39m\u001b[38;5;130;01m\\n\u001b[39;00m\u001b[38;5;130;01m\\n\u001b[39;00m\u001b[38;5;132;01m{\u001b[39;00mquery_str\u001b[38;5;132;01m}\u001b[39;00m\u001b[38;5;130;01m\\n\u001b[39;00m\u001b[38;5;130;01m\\n\u001b[39;00m\u001b[38;5;130;01m\\\u001b[39;00m\n\u001b[1;32m    288\u001b[0m \u001b[38;5;124m                    See examples here: http://archive.eso.org/tap_obs/examples\u001b[39m\u001b[38;5;130;01m\\n\u001b[39;00m\u001b[38;5;130;01m\\n\u001b[39;00m\u001b[38;5;124m\"\u001b[39m) \u001b[38;5;28;01mfrom\u001b[39;00m\u001b[38;5;250m \u001b[39m\u001b[38;5;21;01me\u001b[39;00m\n\u001b[1;32m    290\u001b[0m \u001b[38;5;28;01mif\u001b[39;00m \u001b[38;5;28mlen\u001b[39m(table_to_return) \u001b[38;5;241m<\u001b[39m \u001b[38;5;241m1\u001b[39m:\n\u001b[1;32m    291\u001b[0m     warnings\u001b[38;5;241m.\u001b[39mwarn(\u001b[38;5;124m\"\u001b[39m\u001b[38;5;124mQuery returned no results\u001b[39m\u001b[38;5;124m\"\u001b[39m, NoResultsWarning)\n",
      "\u001b[0;31mRuntimeError\u001b[0m: \n\n                            Unknown exception ConnectionError: HTTPConnectionPool(host='dfidev5.hq.eso.org', port=8123): Max retries exceeded with url: /tap_obs/sync (Caused by NameResolutionError(\"<urllib3.connection.HTTPConnection object at 0x118079700>: Failed to resolve 'dfidev5.hq.eso.org' ([Errno 8] nodename nor servname provided, or not known)\")) while executing the                            following query: \n\nselect table_name from TAP_SCHEMA.tables where schema_name='ist' order by table_name\n\n                            See examples here: http://archive.eso.org/tap_obs/examples\n\n"
     ]
    }
   ],
   "source": [
    "instruments = eso.list_instruments() # get a list of instruments available in the ESO archive \n",
    "instruments"
   ]
  },
  {
   "cell_type": "markdown",
   "metadata": {},
   "source": [
    "### Inspecting available query options\n",
    "\n",
    "Once an instrument is chosen, `midi` in our case, the query options for that instrument can be inspected by setting the `print_help=True` keyword of the ``query_instrument()`` method."
   ]
  },
  {
   "cell_type": "code",
   "execution_count": 4,
   "metadata": {},
   "outputs": [
    {
     "name": "stdout",
     "output_type": "stream",
     "text": [
      "INFO: \n",
      "Columns present in the table dbo.raw:\n",
      "    column_name     datatype\n",
      "------------------- --------\n",
      "     access_estsize     long\n",
      "         access_url     char\n",
      "       datalink_url     char\n",
      "           date_obs     char\n",
      "                dec   double\n",
      "            dec_pnt   double\n",
      "        det_chip1id     char\n",
      "   det_chop_ncycles    short\n",
      "            det_dit    float\n",
      "          det_expid    short\n",
      "           det_ndit    short\n",
      "             dp_cat     char\n",
      "              dp_id     char\n",
      "            dp_tech     char\n",
      "            dp_type     char\n",
      "            ecl_lat   double\n",
      "            ecl_lon   double\n",
      "          exp_start     char\n",
      "           exposure    float\n",
      "        filter_path     char\n",
      "            gal_lat   double\n",
      "            gal_lon   double\n",
      "          grat_path     char\n",
      "          gris_path     char\n",
      "           ins_mode     char\n",
      "         instrument     char\n",
      "         lambda_max   double\n",
      "         lambda_min   double\n",
      "      last_mod_date     char\n",
      "            mjd_obs    float\n",
      "              ob_id      int\n",
      "            ob_name     char\n",
      "             object     char\n",
      "           obs_mode     char\n",
      "           origfile     char\n",
      "             period    short\n",
      "             pi_coi     char\n",
      "            prog_id     char\n",
      "         prog_title     char\n",
      "          prog_type      int\n",
      "                 ra   double\n",
      "             ra_pnt   double\n",
      "       release_date     char\n",
      "           s_region     char\n",
      "          slit_path     char\n",
      "             target     char\n",
      "       tel_airm_end    float\n",
      "     tel_airm_start    float\n",
      "            tel_alt    float\n",
      "  tel_ambi_fwhm_end    float\n",
      "tel_ambi_fwhm_start    float\n",
      "  tel_ambi_pres_end    float\n",
      "tel_ambi_pres_start    float\n",
      "      tel_ambi_rhum    float\n",
      "             tel_az    float\n",
      "          telescope     char\n",
      "          tpl_expno      int\n",
      "             tpl_id     char\n",
      "           tpl_name     char\n",
      "           tpl_nexp      int\n",
      "          tpl_seqno      int\n",
      "          tpl_start     char\n",
      " [astroquery.eso.core]\n"
     ]
    }
   ],
   "source": [
    "eso.query_instrument('midi', print_help=True) # query the MIDI instrument"
   ]
  },
  {
   "cell_type": "markdown",
   "metadata": {},
   "source": [
    "### Querying all instruments\n",
    "\n",
    "The ESO database can also be queried without a specific instrument in mind. This is what the method ``query_main()`` is for. The associated [query form](http://archive.eso.org/wdb/wdb/eso/eso_archive_main/form) on the ESO archive website. The keyword specifying the instrument is identical between ``query_main()`` and ``query_instrument()``.\n",
    "\n",
    "In addition, ESO instruments without a specific query interface can be queried with ``query_main()``, specifying the instrument constraint. This is the case of e.g. ``harps``, ``feros`` or the all sky cameras ``APICAM`` and ``MASCOT``. "
   ]
  },
  {
   "cell_type": "code",
   "execution_count": 5,
   "metadata": {},
   "outputs": [
    {
     "data": {
      "text/html": [
       "<div><i>Table length=3</i>\n",
       "<table id=\"table4417384016\" class=\"table-striped table-bordered table-condensed\">\n",
       "<thead><tr><th>access_estsize</th><th>access_url</th><th>datalink_url</th><th>date_obs</th><th>dec</th><th>dec_pnt</th><th>det_chip1id</th><th>det_chop_ncycles</th><th>det_dit</th><th>det_expid</th><th>det_ndit</th><th>dp_cat</th><th>dp_id</th><th>dp_tech</th><th>dp_type</th><th>ecl_lat</th><th>ecl_lon</th><th>exp_start</th><th>exposure</th><th>filter_path</th><th>gal_lat</th><th>gal_lon</th><th>grat_path</th><th>gris_path</th><th>ins_mode</th><th>instrument</th><th>lambda_max</th><th>lambda_min</th><th>last_mod_date</th><th>mjd_obs</th><th>ob_id</th><th>ob_name</th><th>object</th><th>obs_mode</th><th>origfile</th><th>period</th><th>pi_coi</th><th>prog_id</th><th>prog_title</th><th>prog_type</th><th>ra</th><th>ra_pnt</th><th>release_date</th><th>s_region</th><th>slit_path</th><th>target</th><th>tel_airm_end</th><th>tel_airm_start</th><th>tel_alt</th><th>tel_ambi_fwhm_end</th><th>tel_ambi_fwhm_start</th><th>tel_ambi_pres_end</th><th>tel_ambi_pres_start</th><th>tel_ambi_rhum</th><th>tel_az</th><th>telescope</th><th>tpl_expno</th><th>tpl_id</th><th>tpl_name</th><th>tpl_nexp</th><th>tpl_seqno</th><th>tpl_start</th></tr></thead>\n",
       "<thead><tr><th>kB</th><th></th><th></th><th></th><th>deg</th><th>deg</th><th></th><th></th><th>s</th><th></th><th></th><th></th><th></th><th></th><th></th><th>deg</th><th>deg</th><th></th><th>s</th><th></th><th>deg</th><th>deg</th><th></th><th></th><th></th><th></th><th>AA</th><th>AA</th><th></th><th>d</th><th></th><th></th><th></th><th></th><th></th><th></th><th></th><th></th><th></th><th></th><th>deg</th><th>deg</th><th></th><th></th><th></th><th></th><th></th><th></th><th>deg</th><th>arcsec</th><th>arcsec</th><th>hPa</th><th>hPa</th><th></th><th>deg</th><th></th><th></th><th></th><th></th><th></th><th></th><th></th></tr></thead>\n",
       "<thead><tr><th>int64</th><th>object</th><th>object</th><th>object</th><th>float64</th><th>float64</th><th>object</th><th>int16</th><th>float32</th><th>int16</th><th>int16</th><th>object</th><th>object</th><th>object</th><th>object</th><th>float64</th><th>float64</th><th>object</th><th>float32</th><th>object</th><th>float64</th><th>float64</th><th>object</th><th>object</th><th>object</th><th>object</th><th>float64</th><th>float64</th><th>object</th><th>float32</th><th>int32</th><th>object</th><th>object</th><th>object</th><th>object</th><th>int16</th><th>object</th><th>object</th><th>object</th><th>int32</th><th>float64</th><th>float64</th><th>object</th><th>object</th><th>object</th><th>object</th><th>float32</th><th>float32</th><th>float32</th><th>float32</th><th>float32</th><th>float32</th><th>float32</th><th>float32</th><th>float32</th><th>object</th><th>int32</th><th>object</th><th>object</th><th>int32</th><th>int32</th><th>object</th></tr></thead>\n",
       "<tr><td>33123</td><td>https://dataportal.eso.org/dataPortal/file/APICAM.2018-03-01T00:13:02.000</td><td>https://archive.eso.org/datalink/links?ID=ivo://eso.org/ID?APICAM.2018-03-01T00:13:02.000</td><td>2018-03-01T00:13:02.000</td><td>-24.61925</td><td>-24.61925</td><td>KAF-16803</td><td>--</td><td>--</td><td>--</td><td>--</td><td>CALIB</td><td>APICAM.2018-03-01T00:13:02.000</td><td>IMAGE</td><td>SKY</td><td>-48.048934</td><td>91.939183</td><td>2018-03-01T00:13:01.997Z</td><td>120.0</td><td>LUMINANCE</td><td>-20.508396</td><td>230.877349</td><td></td><td></td><td></td><td>APICAM</td><td>--</td><td>--</td><td>2018-03-15T08:14:15.717Z</td><td>58178.008</td><td>--</td><td></td><td>ALL SKY</td><td>s</td><td>APICAM.2018-03-01T00-13-02.000.fits</td><td>60</td><td>HAINAUT, O</td><td>60.A-9008(A)</td><td>APICAM-3: ALL-SKY DEEP CCD IMAGES OF</td><td>0</td><td>91.42583611</td><td>91.425836</td><td>2018-03-01T00:13:01.997Z</td><td>POSITION J2000 91.425836 -24.61925</td><td></td><td></td><td>1.0</td><td>1.0</td><td>90.0</td><td>--</td><td>--</td><td>--</td><td>--</td><td>--</td><td>0.0</td><td>APICAM</td><td>--</td><td></td><td></td><td>--</td><td>--</td><td></td></tr>\n",
       "<tr><td>32828</td><td>https://dataportal.eso.org/dataPortal/file/APICAM.2018-03-01T00:15:29.000</td><td>https://archive.eso.org/datalink/links?ID=ivo://eso.org/ID?APICAM.2018-03-01T00:15:29.000</td><td>2018-03-01T00:15:29.000</td><td>-24.61819111</td><td>-24.618191</td><td>KAF-16803</td><td>--</td><td>--</td><td>--</td><td>--</td><td>CALIB</td><td>APICAM.2018-03-01T00:15:29.000</td><td>IMAGE</td><td>SKY</td><td>-48.03783</td><td>92.774053</td><td>2018-03-01T00:15:28.997Z</td><td>120.0</td><td>LUMINANCE</td><td>-19.988379</td><td>231.093837</td><td></td><td></td><td></td><td>APICAM</td><td>--</td><td>--</td><td>2018-03-15T08:14:15.717Z</td><td>58178.01</td><td>--</td><td></td><td>ALL SKY</td><td>s</td><td>APICAM.2018-03-01T00-15-29.000.fits</td><td>60</td><td>HAINAUT, O</td><td>60.A-9008(A)</td><td>APICAM-3: ALL-SKY DEEP CCD IMAGES OF</td><td>0</td><td>92.03993111</td><td>92.039931</td><td>2018-03-01T00:15:28.997Z</td><td>POSITION J2000 92.039931 -24.618191</td><td></td><td></td><td>1.0</td><td>1.0</td><td>90.0</td><td>--</td><td>--</td><td>--</td><td>--</td><td>--</td><td>0.0</td><td>APICAM</td><td>--</td><td></td><td></td><td>--</td><td>--</td><td></td></tr>\n",
       "<tr><td>33339</td><td>https://dataportal.eso.org/dataPortal/file/APICAM.2018-03-01T00:17:56.000</td><td>https://archive.eso.org/datalink/links?ID=ivo://eso.org/ID?APICAM.2018-03-01T00:17:56.000</td><td>2018-03-01T00:17:56.000</td><td>-24.61713305</td><td>-24.617133</td><td>KAF-16803</td><td>--</td><td>--</td><td>--</td><td>--</td><td>CALIB</td><td>APICAM.2018-03-01T00:17:56.000</td><td>IMAGE</td><td>SKY</td><td>-48.023174</td><td>93.608591</td><td>2018-03-01T00:17:55.997Z</td><td>120.0</td><td>LUMINANCE</td><td>-19.46901</td><td>231.311364</td><td></td><td></td><td></td><td>APICAM</td><td>--</td><td>--</td><td>2018-03-15T08:14:15.717Z</td><td>58178.01</td><td>--</td><td></td><td>ALL SKY</td><td>s</td><td>APICAM.2018-03-01T00-17-56.000.fits</td><td>60</td><td>HAINAUT, O</td><td>60.A-9008(A)</td><td>APICAM-3: ALL-SKY DEEP CCD IMAGES OF</td><td>0</td><td>92.65402111</td><td>92.654021</td><td>2018-03-01T00:17:55.997Z</td><td>POSITION J2000 92.654021 -24.617133</td><td></td><td></td><td>1.0</td><td>1.0</td><td>90.0</td><td>--</td><td>--</td><td>--</td><td>--</td><td>--</td><td>0.0</td><td>APICAM</td><td>--</td><td></td><td></td><td>--</td><td>--</td><td></td></tr>\n",
       "</table></div>"
      ],
      "text/plain": [
       "<Table length=3>\n",
       "access_estsize ... tpl_start\n",
       "      kB       ...          \n",
       "    int64      ...   object \n",
       "-------------- ... ---------\n",
       "         33123 ...          \n",
       "         32828 ...          \n",
       "         33339 ...          "
      ]
     },
     "execution_count": 5,
     "metadata": {},
     "output_type": "execute_result"
    }
   ],
   "source": [
    "table = eso.query_main(column_filters={'instrument': 'APICAM', 'filter_path': 'LUMINANCE'}, cache=False) # query the ESO archive for APICAM data\n",
    "table[:3] # print the first 3 rows of the table"
   ]
  },
  {
   "cell_type": "markdown",
   "metadata": {},
   "source": [
    "Above is an example to query all-sky images from ``APICAM`` with ``luminance`` filter (more examples of how to search are given in the other notebooks)."
   ]
  },
  {
   "cell_type": "markdown",
   "metadata": {},
   "source": [
    "---"
   ]
  },
  {
   "cell_type": "markdown",
   "metadata": {},
   "source": [
    "## Reduced data"
   ]
  },
  {
   "cell_type": "markdown",
   "metadata": {},
   "source": [
    "### Identify available collections (reduced data)\n",
    "\n",
    "In addition to raw observational data, ESO provides access to processed or reduced data, which has undergone various calibration and analysis steps to make it more immediately useful for scientific research. These processed datasets are grouped into `collections`, each corresponding to a specific survey, instrument, or science case. The list of available collections can be obtained as follows:"
   ]
  },
  {
   "cell_type": "code",
   "execution_count": 6,
   "metadata": {},
   "outputs": [
    {
     "data": {
      "text/plain": [
       "['081.C-0827',\n",
       " '092.A-0472',\n",
       " '096.B-0054',\n",
       " '1100.A-0528',\n",
       " '1101.A-0127',\n",
       " '193.D-0232',\n",
       " '195.B-0283',\n",
       " '196.B-0578',\n",
       " '196.D-0214',\n",
       " '197.A-0384',\n",
       " '198.A-0708',\n",
       " '60.A-9284H',\n",
       " '60.A-9493',\n",
       " 'ADHOC',\n",
       " 'ALCOHOLS',\n",
       " 'ALLSMOG',\n",
       " 'ALMA',\n",
       " 'AMAZE',\n",
       " 'AMBRE',\n",
       " 'APEX-SciOps',\n",
       " 'ATLASGAL',\n",
       " 'ePESSTOplus',\n",
       " 'ESPRESSO',\n",
       " 'ESSENCE',\n",
       " 'FDS',\n",
       " 'FEROS',\n",
       " 'Fornax3D',\n",
       " 'FORS2-SPEC',\n",
       " 'GAIAESO',\n",
       " 'GCAV',\n",
       " 'GIRAFFE',\n",
       " 'GOODS_FORS2',\n",
       " 'GOODS_ISAAC',\n",
       " 'GOODS_VIMOS_IMAG',\n",
       " 'GOODS_VIMOS_SPEC',\n",
       " 'GW170817',\n",
       " 'HARPS',\n",
       " 'HAWKI',\n",
       " 'HUGS',\n",
       " 'INSPIRE',\n",
       " 'KIDS',\n",
       " 'KMOS',\n",
       " 'LEGA-C',\n",
       " 'LESS',\n",
       " 'MUSE',\n",
       " 'MUSE-DEEP',\n",
       " 'MUSE-STD',\n",
       " 'MW-BULGE-PSFPHOT',\n",
       " 'NGTS',\n",
       " 'PESSTO',\n",
       " 'PHANGS',\n",
       " 'PIONIER',\n",
       " 'SPHERE',\n",
       " 'SUPER',\n",
       " 'UltraVISTA',\n",
       " 'UVES',\n",
       " 'UVES_SQUAD',\n",
       " 'VANDELS',\n",
       " 'VEGAS',\n",
       " 'VEILS',\n",
       " 'VEXAS',\n",
       " 'VHS',\n",
       " 'VIDEO',\n",
       " 'VIKING',\n",
       " 'VIMOS',\n",
       " 'VINROUGE',\n",
       " 'VIPERS',\n",
       " 'VISIONS',\n",
       " 'VMC',\n",
       " 'VPHASplus',\n",
       " 'VST-ATLAS',\n",
       " 'VVV',\n",
       " 'VVVX',\n",
       " 'XQ-100',\n",
       " 'XSGRB',\n",
       " 'XSHOOTER',\n",
       " 'XSL',\n",
       " 'ZCOSMOS']"
      ]
     },
     "execution_count": 6,
     "metadata": {},
     "output_type": "execute_result"
    }
   ],
   "source": [
    "collections = eso.list_collections() # list all collections\n",
    "collections"
   ]
  },
  {
   "cell_type": "markdown",
   "metadata": {},
   "source": [
    "### Query a specific survey with constraints\n",
    "\n",
    "Let’s assume that we work with the ``HARPS`` survey, and that we are interested in target ``HD203608``. We can now query using the `query_collections` function. "
   ]
  },
  {
   "cell_type": "code",
   "execution_count": 7,
   "metadata": {},
   "outputs": [],
   "source": [
    "from astropy.coordinates import SkyCoord # import the SkyCoord class from the astropy.coordinates module\n",
    "import astropy.units as u # import the astropy.units module\n",
    "\n",
    "coords = SkyCoord.from_name('HD203608') # create a SkyCoord object from the name of the source\n",
    "radius = 10 *u.arcsec # set the radius of the search to 10 arcseconds\n",
    "\n",
    "table = eso.query_collections(instrument=\"HARPS\", ra=coords.ra.value, dec=coords.dec.value, radius=radius.value) # query the ESO archive for HARPS data"
   ]
  },
  {
   "cell_type": "markdown",
   "metadata": {},
   "source": [
    "Above is a simple example (more examples of how to search are given in the other notebooks)."
   ]
  },
  {
   "cell_type": "markdown",
   "metadata": {},
   "source": [
    "### Obtaining extended information on data products\n",
    "\n",
    "Only a small subset of the keywords presents in the data products can be obtained with ``query_instrument()`` or ``query_main()``. There is, however, a way to get the full primary header of the FITS data products, using ``get_headers()``. This method is detailed in the example below."
   ]
  },
  {
   "cell_type": "code",
   "execution_count": 8,
   "metadata": {},
   "outputs": [],
   "source": [
    "# STILL TBD\n",
    "# table_headers = eso.get_headers(table['dp_id'][0]) # get the headers of the first data product\n",
    "# table_headers"
   ]
  },
  {
   "cell_type": "markdown",
   "metadata": {},
   "source": [
    "### Downloading datasets from the archive\n"
   ]
  },
  {
   "cell_type": "markdown",
   "metadata": {},
   "source": [
    "The returned table has an ``dp_id`` column. It can be used to retrieve the datasets with ``retrieve_data()``.\n",
    "\n",
    "The file names, returned in ``data_files``, points to the decompressed datasets (without the .Z extension) that have been locally downloaded. \n",
    "\n",
    "The default location (in the ``astropy`` cache) of the decompressed datasets can be adjusted by providing a destination keyword in the call to ``retrieve_data()``. By default, if a requested dataset is already found, it is not downloaded again from the archive. To force the retrieval of data that are present in the destination directory, use ``continuation=True`` in the call to ``retrieve_data()``."
   ]
  },
  {
   "cell_type": "code",
   "execution_count": 9,
   "metadata": {},
   "outputs": [
    {
     "name": "stdout",
     "output_type": "stream",
     "text": [
      "INFO: Downloading datasets ... [astroquery.eso.core]\n",
      "INFO: Downloading 1 files ... [astroquery.eso.core]\n",
      "INFO: Downloading file 1/1 https://dataportal.eso.org/dataPortal/file/HARPS.2003-06-18T09:06:13.920 to /Users/abarnes/.astropy/cache/astroquery/Eso [astroquery.eso.core]\n",
      "INFO: Found cached file /Users/abarnes/.astropy/cache/astroquery/Eso/HARPS.2003-06-18T09:06:13.920.fits [astroquery.eso.core]\n",
      "INFO: Done! [astroquery.eso.core]\n"
     ]
    }
   ],
   "source": [
    "data_files = eso.retrieve_data(table['dp_id'][0]) # download the first data product\n",
    "# data_files = eso.retrieve_data(table['dp_id'][0], continuation=True) # force the download of all files even if present in the destination directory\n",
    "# data_files = eso.retrieve_data(table['dp_id'][0], destination='./') # specify the destination directory for the download"
   ]
  },
  {
   "cell_type": "markdown",
   "metadata": {},
   "source": [
    "### Troubleshooting\n",
    "\n",
    "If you are repeatedly getting failed queries, or bad/out-of-date results, try clearing your cache. \n",
    "\n",
    "If this function is unavailable, upgrade your version of astroquery. "
   ]
  },
  {
   "cell_type": "code",
   "execution_count": 1,
   "metadata": {},
   "outputs": [
    {
     "name": "stdout",
     "output_type": "stream",
     "text": [
      "True\n",
      "604800\n"
     ]
    },
    {
     "ename": "NameError",
     "evalue": "name 'eso' is not defined",
     "output_type": "error",
     "traceback": [
      "\u001b[0;31m---------------------------------------------------------------------------\u001b[0m",
      "\u001b[0;31mNameError\u001b[0m                                 Traceback (most recent call last)",
      "Cell \u001b[0;32mIn[1], line 5\u001b[0m\n\u001b[1;32m      3\u001b[0m \u001b[38;5;28mprint\u001b[39m(cache_conf\u001b[38;5;241m.\u001b[39mcache_active) \u001b[38;5;66;03m# check if the cache is active\u001b[39;00m\n\u001b[1;32m      4\u001b[0m \u001b[38;5;28mprint\u001b[39m(cache_conf\u001b[38;5;241m.\u001b[39mcache_timeout) \u001b[38;5;66;03m# check the cache timeout\u001b[39;00m\n\u001b[0;32m----> 5\u001b[0m \u001b[43meso\u001b[49m\u001b[38;5;241m.\u001b[39mclear_cache() \u001b[38;5;66;03m# clear the cache of the ESO archive\u001b[39;00m\n",
      "\u001b[0;31mNameError\u001b[0m: name 'eso' is not defined"
     ]
    }
   ],
   "source": [
    "from astroquery import cache_conf\n",
    "\n",
    "print(cache_conf.cache_active) # check if the cache is active\n",
    "print(cache_conf.cache_timeout) # check the cache timeout\n",
    "eso.clear_cache() # clear the cache of the ESO archive"
   ]
  },
  {
   "cell_type": "markdown",
   "metadata": {},
   "source": [
    "<hr style=\"border:2px solid #0281c9\"> </hr>"
   ]
  }
 ],
 "metadata": {
  "kernelspec": {
   "display_name": "tst",
   "language": "python",
   "name": "python3"
  },
  "language_info": {
   "codemirror_mode": {
    "name": "ipython",
    "version": 3
   },
   "file_extension": ".py",
   "mimetype": "text/x-python",
   "name": "python",
   "nbconvert_exporter": "python",
   "pygments_lexer": "ipython3",
   "version": "3.9.21"
  }
 },
 "nbformat": 4,
 "nbformat_minor": 2
}
