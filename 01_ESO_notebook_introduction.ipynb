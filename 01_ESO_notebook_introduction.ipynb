{
 "cells": [
  {
   "cell_type": "markdown",
   "metadata": {},
   "source": [
    "<hr style=\"border:2px solid #0281c9\"> </hr>\n",
    "\n",
    "<img align=\"left\" alt=\"ESO Logo\" src=\"http://archive.eso.org/i/esologo.png\">  \n",
    "\n",
    "<div align=\"center\">\n",
    "  <h1 style=\"color: #0281c9; font-weight: bold;\">ESO Science Archive</h1> \n",
    "  <h2 style=\"color: #0281c9; font-weight: bold;\">Jupyter Notebooks</h2>\n",
    "</div>\n",
    "\n",
    "<hr style=\"border:2px solid #0281c9\"> </hr>"
   ]
  },
  {
   "cell_type": "markdown",
   "metadata": {
    "vscode": {
     "languageId": "plaintext"
    }
   },
   "source": [
    "## Introduction\n",
    "\n",
    "The [ESO archive](http://archive.eso.org/cms.html) currently (as of February 2025) contains around [4.2 million products](https://archive.eso.org/scienceportal/home?data_release_date=*:2025-02-07&sort=-obs_date&s=P%2fDSS2%2fcolor&f=176.339692&fc=-1,-1&cs=J2000&av=true&ac=false&c=9,10,11,12,13,14,15,16,17,18,19,20,21&ta=RES&dts=true&at=237.301616,-35.65163&sr=i), including [3.6 million La Silla Paranal APEX products](https://archive.eso.org/scienceportal/home?data_release_date=*:2025-02-07&observatory=%22La%20Silla%20Paranal%20APEX%22&sort=-obs_date&s=P%2fDSS2%2fcolor&f=176.339692&fc=-1,-1&cs=J2000&av=true&ac=false&c=9,10,11,12,13,14,15,16,17,18,19,20,21&ta=RES&dts=true&at=237.301616,-35.65163&sr=i) and [500,000 ALMA products](https://archive.eso.org/scienceportal/home?data_release_date=*:2025-02-07&observatory=ALMA&sort=-obs_date&s=P%2fDSS2%2fcolor&f=176.339692&fc=-1,-1&cs=J2000&av=true&ac=false&c=9,10,11,12,13,14,15,16,17,18,19,20,21&ta=RES&dts=true&at=343.49061642502505,16.14821135280152&sr=i). Of these there are almost [2.2 million spectra](https://archive.eso.org/scienceportal/home?data_release_date=*:2025-02-07&dp_type=SPECTRUM&sort=-obs_date&s=P%2fDSS2%2fcolor&f=176.339692&fc=-1,-1&cs=J2000&av=true&ac=false&c=9,10,11,12,13,14,15,16,17,18,19,20,21&ta=RES&dts=true&sdtm=%7b%22SPECTRUM%22%3atrue%7d&at=237.301616,-35.65163&sr=i), more than [900,000 images](https://archive.eso.org/scienceportal/home?data_release_date=*:2025-02-07&dp_type=IMAGE&sort=-obs_date&s=P%2fDSS2%2fcolor&f=176.339692&fc=-1,-1&cs=J2000&av=true&ac=false&c=9,10,11,12,13,14,15,16,17,18,19,20,21&ta=RES&dts=true&sdtm=%7b%22IMAGE%22%3atrue%7d&at=119.371746,11.610771&sr=i), and more than [500,000 cubes](https://archive.eso.org/scienceportal/home?data_release_date=*:2025-02-07&dp_type=CUBE&sort=-obs_date&s=P%2fDSS2%2fcolor&f=176.339692&fc=-1,-1&cs=J2000&av=true&ac=false&c=9,10,11,12,13,14,15,16,17,18,19,20,21&ta=RES&dts=true&sdtm=%7b%22CUBE%22%3atrue%7d&at=150.125652,2.336817&sr=i) that are reduced or fully calibrated, and, in addition, [667,875 individual catalogues](https://archive.eso.org/scienceportal/home?data_release_date=*:2025-02-07&sort=-obs_date&s=P%2FDSS2%2Fcolor&f=176.339692&fc=-1,-1&cs=J2000&av=true&ac=false&c=9,10,11,12,13,14,15,16,17,18,19,20,21&ta=RES&dts=true&at=237.301616,-35.65163&sr=i). \n",
    "\n",
    "### Data\n",
    "\n",
    "There are four main ways to access the vast amount of information present in the [ESO archive](http://archive.eso.org/cms.html):\n",
    "\n",
    "- the [Raw Data query form](http://archive.eso.org/eso/eso_archive_main.html)\n",
    "- the [Science Portal](http://archive.eso.org/scienceportal/home) to browse and access the processed data\n",
    "- the [Programmatic and Tools access](http://archive.eso.org/programmatic/) which permits direct database access to both raw and processed data, as well as to the ambient condition measurements\n",
    "- the [Catalogue Query Interface](https://www.eso.org/qi/)\n",
    "\n",
    "### Astroquery\n",
    "\n",
    "Astroquery is part of the Astropy project and offers a unified, consistent interface to query a wide range of astronomical databases. In addition to the ESO module, astroquery supports archives such as NASA’s Exoplanet Archive, SIMBAD, SDSS, GAIA, and many others. This seamless integration with Astropy’s tools and data structures simplifies the process of combining data from multiple sources in your research. For comprehensive details, including usage examples, API documentation, troubleshooting tips, and updates, please refer to the official astroquery documentation at [astroquery.readthedocs.io](https://astroquery.readthedocs.io/en/latest/index.html). \n",
    "\n",
    "The ESO [astroquery](https://astroquery.readthedocs.io/en/latest/eso/eso.html) module, `astroquery.eso`, provides simple wrappers to efficiently embed access to the [ESO archive](http://archive.eso.org/cms.html) into Python routines. Currently, the module supports:\n",
    "\n",
    "- Listing available instruments\n",
    "- Listing available surveys (phase 3)\n",
    "- Searching all instrument-specific raw data ([more info](http://archive.eso.org/cms/eso-data/instrument-specific-query-forms.html))\n",
    "- Searching data products (phase 3) ([more info](http://archive.eso.org/wdb/wdb/adp/phase3_main/form))\n",
    "- Downloading data by dataset identifiers ([more info](http://archive.eso.org/cms/eso-data/eso-data-direct-retrieval.html))\n",
    "\n",
    "**Note**  \n",
    "At present, catalogue searches are not supported using the astroquery.eso module. Functionality for querying catalogues will be added in a future release.\n",
    "\n",
    "### Additional Information\n",
    "\n",
    "**Prerequisites and Installation**  \n",
    "These examples assume that you have a working Python environment (Python 3.7 or later is recommended) and that you have installed the necessary packages. You can install astroquery (which includes the ESO module) via pip:\n",
    "\n",
    "```bash\n",
    "pip install astroquery\n",
    "```\n",
    "\n",
    "**Usage** \n",
    "You can access this file as an interactive jupyter notebook, which you can download and run on your machine [(instructions)](https://jupyter.org/install). To interact with the jupyter notebook (if you have download it): move up and down the various cells using the arrow keys, execute the code by pressing CTRL+ENTER; you can also modify the code and execute it at will.\n",
    "\n",
    "**Version**\n",
    "Please note that this notebook uses Python version 3.9.13 and Jupyter Notebook version 6.4.10. Compatibility with other versions cannot be guaranteed.\n",
    "\n",
    "<hr style=\"border:2px solid #0281c9\"> </hr>"
   ]
  },
  {
   "cell_type": "markdown",
   "metadata": {},
   "source": [
    "## Importing and basic usage of astroquery.eso "
   ]
  },
  {
   "cell_type": "code",
   "execution_count": 1,
   "metadata": {},
   "outputs": [],
   "source": [
    "from astroquery.eso import Eso # import the ESO module from astroquery"
   ]
  },
  {
   "cell_type": "code",
   "execution_count": 2,
   "metadata": {},
   "outputs": [],
   "source": [
    "eso = Eso() # create an instance of the ESO class "
   ]
  },
  {
   "cell_type": "markdown",
   "metadata": {},
   "source": [
    "In the examples provided in the accompanying notebooks, we will create an instance of the ESO class using:\n",
    "\n",
    "```python\n",
    "eso = Eso()  # create an instance of the ESO class\n",
    "```\n",
    "\n",
    "This instance will be used to demonstrate various queries to the ESO Archive, including searching for raw data and data products from a range of instruments and sources."
   ]
  },
  {
   "cell_type": "markdown",
   "metadata": {},
   "source": [
    "--- "
   ]
  },
  {
   "cell_type": "markdown",
   "metadata": {},
   "source": [
    "## Raw data"
   ]
  },
  {
   "cell_type": "markdown",
   "metadata": {},
   "source": [
    "### Identifying available instrument-specific queries \n",
    "\n",
    "The first thing to do is to identify the `instrument` to query. The list of available instrument-specific queries can be obtained with the ``list_instruments()`` method.\n",
    "\n",
    "The instruments listed on the following web page: [ESO Instrument Specific Query Forms](http://archive.eso.org/cms/eso-data/instrument-specific-query-forms.html)."
   ]
  },
  {
   "cell_type": "code",
   "execution_count": 3,
   "metadata": {},
   "outputs": [
    {
     "data": {
      "text/plain": [
       "['amber',\n",
       " 'apex',\n",
       " 'crires',\n",
       " 'eris',\n",
       " 'espresso',\n",
       " 'fiat',\n",
       " 'fors1',\n",
       " 'fors2',\n",
       " 'giraffe',\n",
       " 'gravity',\n",
       " 'hawki',\n",
       " 'isaac',\n",
       " 'kmos',\n",
       " 'matisse',\n",
       " 'midi',\n",
       " 'muse',\n",
       " 'naco',\n",
       " 'omegacam',\n",
       " 'pionier',\n",
       " 'sinfoni',\n",
       " 'sphere',\n",
       " 'uves',\n",
       " 'vimos',\n",
       " 'vircam',\n",
       " 'visir',\n",
       " 'wlgsu',\n",
       " 'xshooter']"
      ]
     },
     "execution_count": 3,
     "metadata": {},
     "output_type": "execute_result"
    }
   ],
   "source": [
    "instruments = eso.list_instruments() # get a list of instruments available in the ESO archive \n",
    "instruments"
   ]
  },
  {
   "cell_type": "markdown",
   "metadata": {},
   "source": [
    "### Inspecting available query options\n",
    "\n",
    "Once an instrument is chosen, `midi` in our case, the query options for that instrument can be inspected by setting the `print_help=True` keyword of the ``query_instrument()`` method."
   ]
  },
  {
   "cell_type": "code",
   "execution_count": 4,
   "metadata": {},
   "outputs": [
    {
     "name": "stdout",
     "output_type": "stream",
     "text": [
      "INFO: \n",
      "Columns present in the table dbo.raw:\n",
      "    column_name     datatype\n",
      "------------------- --------\n",
      "     access_estsize     long\n",
      "         access_url     char\n",
      "       datalink_url     char\n",
      "           date_obs     char\n",
      "                dec   double\n",
      "            dec_pnt   double\n",
      "        det_chip1id     char\n",
      "   det_chop_ncycles    short\n",
      "            det_dit    float\n",
      "          det_expid    short\n",
      "           det_ndit    short\n",
      "             dp_cat     char\n",
      "              dp_id     char\n",
      "            dp_tech     char\n",
      "            dp_type     char\n",
      "            ecl_lat   double\n",
      "            ecl_lon   double\n",
      "          exp_start     char\n",
      "           exposure    float\n",
      "        filter_path     char\n",
      "            gal_lat   double\n",
      "            gal_lon   double\n",
      "          grat_path     char\n",
      "          gris_path     char\n",
      "           ins_mode     char\n",
      "         instrument     char\n",
      "         lambda_max   double\n",
      "         lambda_min   double\n",
      "      last_mod_date     char\n",
      "            mjd_obs    float\n",
      "              ob_id      int\n",
      "            ob_name     char\n",
      "             object     char\n",
      "           obs_mode     char\n",
      "           origfile     char\n",
      "             period    short\n",
      "             pi_coi     char\n",
      "            prog_id     char\n",
      "         prog_title     char\n",
      "          prog_type      int\n",
      "                 ra   double\n",
      "             ra_pnt   double\n",
      "       release_date     char\n",
      "           s_region     char\n",
      "          slit_path     char\n",
      "             target     char\n",
      "       tel_airm_end    float\n",
      "     tel_airm_start    float\n",
      "            tel_alt    float\n",
      "  tel_ambi_fwhm_end    float\n",
      "tel_ambi_fwhm_start    float\n",
      "  tel_ambi_pres_end    float\n",
      "tel_ambi_pres_start    float\n",
      "      tel_ambi_rhum    float\n",
      "             tel_az    float\n",
      "          telescope     char\n",
      "          tpl_expno      int\n",
      "             tpl_id     char\n",
      "           tpl_name     char\n",
      "           tpl_nexp      int\n",
      "          tpl_seqno      int\n",
      "          tpl_start     char\n",
      " [astroquery.eso.core]\n"
     ]
    }
   ],
   "source": [
    "eso.query_instrument('midi', print_help=True) # query the MIDI instrument"
   ]
  },
  {
   "cell_type": "markdown",
   "metadata": {},
   "source": [
    "### Querying all instruments\n",
    "\n",
    "The ESO database can also be queried without a specific instrument in mind. This is what the method ``query_main()`` is for. The associated [query form](http://archive.eso.org/wdb/wdb/eso/eso_archive_main/form) on the ESO archive website. The keyword specifying the instrument is identical between ``query_main()`` and ``query_instrument()``.\n",
    "\n",
    "In addition, ESO instruments without a specific query interface can be queried with ``query_main()``, specifying the instrument constraint. This is the case of e.g. ``harps``, ``feros`` or the all sky cameras ``APICAM`` and ``MASCOT``. "
   ]
  },
  {
   "cell_type": "code",
   "execution_count": 5,
   "metadata": {},
   "outputs": [
    {
     "data": {
      "text/html": [
       "<div><i>Table length=3</i>\n",
       "<table id=\"table4417384016\" class=\"table-striped table-bordered table-condensed\">\n",
       "<thead><tr><th>access_estsize</th><th>access_url</th><th>datalink_url</th><th>date_obs</th><th>dec</th><th>dec_pnt</th><th>det_chip1id</th><th>det_chop_ncycles</th><th>det_dit</th><th>det_expid</th><th>det_ndit</th><th>dp_cat</th><th>dp_id</th><th>dp_tech</th><th>dp_type</th><th>ecl_lat</th><th>ecl_lon</th><th>exp_start</th><th>exposure</th><th>filter_path</th><th>gal_lat</th><th>gal_lon</th><th>grat_path</th><th>gris_path</th><th>ins_mode</th><th>instrument</th><th>lambda_max</th><th>lambda_min</th><th>last_mod_date</th><th>mjd_obs</th><th>ob_id</th><th>ob_name</th><th>object</th><th>obs_mode</th><th>origfile</th><th>period</th><th>pi_coi</th><th>prog_id</th><th>prog_title</th><th>prog_type</th><th>ra</th><th>ra_pnt</th><th>release_date</th><th>s_region</th><th>slit_path</th><th>target</th><th>tel_airm_end</th><th>tel_airm_start</th><th>tel_alt</th><th>tel_ambi_fwhm_end</th><th>tel_ambi_fwhm_start</th><th>tel_ambi_pres_end</th><th>tel_ambi_pres_start</th><th>tel_ambi_rhum</th><th>tel_az</th><th>telescope</th><th>tpl_expno</th><th>tpl_id</th><th>tpl_name</th><th>tpl_nexp</th><th>tpl_seqno</th><th>tpl_start</th></tr></thead>\n",
       "<thead><tr><th>kB</th><th></th><th></th><th></th><th>deg</th><th>deg</th><th></th><th></th><th>s</th><th></th><th></th><th></th><th></th><th></th><th></th><th>deg</th><th>deg</th><th></th><th>s</th><th></th><th>deg</th><th>deg</th><th></th><th></th><th></th><th></th><th>AA</th><th>AA</th><th></th><th>d</th><th></th><th></th><th></th><th></th><th></th><th></th><th></th><th></th><th></th><th></th><th>deg</th><th>deg</th><th></th><th></th><th></th><th></th><th></th><th></th><th>deg</th><th>arcsec</th><th>arcsec</th><th>hPa</th><th>hPa</th><th></th><th>deg</th><th></th><th></th><th></th><th></th><th></th><th></th><th></th></tr></thead>\n",
       "<thead><tr><th>int64</th><th>object</th><th>object</th><th>object</th><th>float64</th><th>float64</th><th>object</th><th>int16</th><th>float32</th><th>int16</th><th>int16</th><th>object</th><th>object</th><th>object</th><th>object</th><th>float64</th><th>float64</th><th>object</th><th>float32</th><th>object</th><th>float64</th><th>float64</th><th>object</th><th>object</th><th>object</th><th>object</th><th>float64</th><th>float64</th><th>object</th><th>float32</th><th>int32</th><th>object</th><th>object</th><th>object</th><th>object</th><th>int16</th><th>object</th><th>object</th><th>object</th><th>int32</th><th>float64</th><th>float64</th><th>object</th><th>object</th><th>object</th><th>object</th><th>float32</th><th>float32</th><th>float32</th><th>float32</th><th>float32</th><th>float32</th><th>float32</th><th>float32</th><th>float32</th><th>object</th><th>int32</th><th>object</th><th>object</th><th>int32</th><th>int32</th><th>object</th></tr></thead>\n",
       "<tr><td>33123</td><td>https://dataportal.eso.org/dataPortal/file/APICAM.2018-03-01T00:13:02.000</td><td>https://archive.eso.org/datalink/links?ID=ivo://eso.org/ID?APICAM.2018-03-01T00:13:02.000</td><td>2018-03-01T00:13:02.000</td><td>-24.61925</td><td>-24.61925</td><td>KAF-16803</td><td>--</td><td>--</td><td>--</td><td>--</td><td>CALIB</td><td>APICAM.2018-03-01T00:13:02.000</td><td>IMAGE</td><td>SKY</td><td>-48.048934</td><td>91.939183</td><td>2018-03-01T00:13:01.997Z</td><td>120.0</td><td>LUMINANCE</td><td>-20.508396</td><td>230.877349</td><td></td><td></td><td></td><td>APICAM</td><td>--</td><td>--</td><td>2018-03-15T08:14:15.717Z</td><td>58178.008</td><td>--</td><td></td><td>ALL SKY</td><td>s</td><td>APICAM.2018-03-01T00-13-02.000.fits</td><td>60</td><td>HAINAUT, O</td><td>60.A-9008(A)</td><td>APICAM-3: ALL-SKY DEEP CCD IMAGES OF</td><td>0</td><td>91.42583611</td><td>91.425836</td><td>2018-03-01T00:13:01.997Z</td><td>POSITION J2000 91.425836 -24.61925</td><td></td><td></td><td>1.0</td><td>1.0</td><td>90.0</td><td>--</td><td>--</td><td>--</td><td>--</td><td>--</td><td>0.0</td><td>APICAM</td><td>--</td><td></td><td></td><td>--</td><td>--</td><td></td></tr>\n",
       "<tr><td>32828</td><td>https://dataportal.eso.org/dataPortal/file/APICAM.2018-03-01T00:15:29.000</td><td>https://archive.eso.org/datalink/links?ID=ivo://eso.org/ID?APICAM.2018-03-01T00:15:29.000</td><td>2018-03-01T00:15:29.000</td><td>-24.61819111</td><td>-24.618191</td><td>KAF-16803</td><td>--</td><td>--</td><td>--</td><td>--</td><td>CALIB</td><td>APICAM.2018-03-01T00:15:29.000</td><td>IMAGE</td><td>SKY</td><td>-48.03783</td><td>92.774053</td><td>2018-03-01T00:15:28.997Z</td><td>120.0</td><td>LUMINANCE</td><td>-19.988379</td><td>231.093837</td><td></td><td></td><td></td><td>APICAM</td><td>--</td><td>--</td><td>2018-03-15T08:14:15.717Z</td><td>58178.01</td><td>--</td><td></td><td>ALL SKY</td><td>s</td><td>APICAM.2018-03-01T00-15-29.000.fits</td><td>60</td><td>HAINAUT, O</td><td>60.A-9008(A)</td><td>APICAM-3: ALL-SKY DEEP CCD IMAGES OF</td><td>0</td><td>92.03993111</td><td>92.039931</td><td>2018-03-01T00:15:28.997Z</td><td>POSITION J2000 92.039931 -24.618191</td><td></td><td></td><td>1.0</td><td>1.0</td><td>90.0</td><td>--</td><td>--</td><td>--</td><td>--</td><td>--</td><td>0.0</td><td>APICAM</td><td>--</td><td></td><td></td><td>--</td><td>--</td><td></td></tr>\n",
       "<tr><td>33339</td><td>https://dataportal.eso.org/dataPortal/file/APICAM.2018-03-01T00:17:56.000</td><td>https://archive.eso.org/datalink/links?ID=ivo://eso.org/ID?APICAM.2018-03-01T00:17:56.000</td><td>2018-03-01T00:17:56.000</td><td>-24.61713305</td><td>-24.617133</td><td>KAF-16803</td><td>--</td><td>--</td><td>--</td><td>--</td><td>CALIB</td><td>APICAM.2018-03-01T00:17:56.000</td><td>IMAGE</td><td>SKY</td><td>-48.023174</td><td>93.608591</td><td>2018-03-01T00:17:55.997Z</td><td>120.0</td><td>LUMINANCE</td><td>-19.46901</td><td>231.311364</td><td></td><td></td><td></td><td>APICAM</td><td>--</td><td>--</td><td>2018-03-15T08:14:15.717Z</td><td>58178.01</td><td>--</td><td></td><td>ALL SKY</td><td>s</td><td>APICAM.2018-03-01T00-17-56.000.fits</td><td>60</td><td>HAINAUT, O</td><td>60.A-9008(A)</td><td>APICAM-3: ALL-SKY DEEP CCD IMAGES OF</td><td>0</td><td>92.65402111</td><td>92.654021</td><td>2018-03-01T00:17:55.997Z</td><td>POSITION J2000 92.654021 -24.617133</td><td></td><td></td><td>1.0</td><td>1.0</td><td>90.0</td><td>--</td><td>--</td><td>--</td><td>--</td><td>--</td><td>0.0</td><td>APICAM</td><td>--</td><td></td><td></td><td>--</td><td>--</td><td></td></tr>\n",
       "</table></div>"
      ],
      "text/plain": [
       "<Table length=3>\n",
       "access_estsize ... tpl_start\n",
       "      kB       ...          \n",
       "    int64      ...   object \n",
       "-------------- ... ---------\n",
       "         33123 ...          \n",
       "         32828 ...          \n",
       "         33339 ...          "
      ]
     },
     "execution_count": 5,
     "metadata": {},
     "output_type": "execute_result"
    }
   ],
   "source": [
    "table = eso.query_main(column_filters={'instrument': 'APICAM', 'filter_path': 'LUMINANCE'}, cache=False) # query the ESO archive for APICAM data\n",
    "table[:3] # print the first 3 rows of the table"
   ]
  },
  {
   "cell_type": "markdown",
   "metadata": {},
   "source": [
    "Above is an example to query all-sky images from ``APICAM`` with ``luminance`` filter (more examples of how to search are given in the other notebooks)."
   ]
  },
  {
   "cell_type": "markdown",
   "metadata": {},
   "source": [
    "---"
   ]
  },
  {
   "cell_type": "markdown",
   "metadata": {},
   "source": [
    "## Reduced data"
   ]
  },
  {
   "cell_type": "markdown",
   "metadata": {},
   "source": [
    "### Identify available collections (reduced data)\n",
    "\n",
    "In addition to raw observational data, ESO provides access to processed or reduced data, which has undergone various calibration and analysis steps to make it more immediately useful for scientific research. These processed datasets are grouped into `collections`, each corresponding to a specific survey, instrument, or science case. The list of available collections can be obtained as follows:"
   ]
  },
  {
   "cell_type": "code",
   "execution_count": 6,
   "metadata": {},
   "outputs": [
    {
     "data": {
      "text/plain": [
       "['081.C-0827',\n",
       " '092.A-0472',\n",
       " '096.B-0054',\n",
       " '1100.A-0528',\n",
       " '1101.A-0127',\n",
       " '193.D-0232',\n",
       " '195.B-0283',\n",
       " '196.B-0578',\n",
       " '196.D-0214',\n",
       " '197.A-0384',\n",
       " '198.A-0708',\n",
       " '60.A-9284H',\n",
       " '60.A-9493',\n",
       " 'ADHOC',\n",
       " 'ALCOHOLS',\n",
       " 'ALLSMOG',\n",
       " 'ALMA',\n",
       " 'AMAZE',\n",
       " 'AMBRE',\n",
       " 'APEX-SciOps',\n",
       " 'ATLASGAL',\n",
       " 'ePESSTOplus',\n",
       " 'ESPRESSO',\n",
       " 'ESSENCE',\n",
       " 'FDS',\n",
       " 'FEROS',\n",
       " 'Fornax3D',\n",
       " 'FORS2-SPEC',\n",
       " 'GAIAESO',\n",
       " 'GCAV',\n",
       " 'GIRAFFE',\n",
       " 'GOODS_FORS2',\n",
       " 'GOODS_ISAAC',\n",
       " 'GOODS_VIMOS_IMAG',\n",
       " 'GOODS_VIMOS_SPEC',\n",
       " 'GW170817',\n",
       " 'HARPS',\n",
       " 'HAWKI',\n",
       " 'HUGS',\n",
       " 'INSPIRE',\n",
       " 'KIDS',\n",
       " 'KMOS',\n",
       " 'LEGA-C',\n",
       " 'LESS',\n",
       " 'MUSE',\n",
       " 'MUSE-DEEP',\n",
       " 'MUSE-STD',\n",
       " 'MW-BULGE-PSFPHOT',\n",
       " 'NGTS',\n",
       " 'PESSTO',\n",
       " 'PHANGS',\n",
       " 'PIONIER',\n",
       " 'SPHERE',\n",
       " 'SUPER',\n",
       " 'UltraVISTA',\n",
       " 'UVES',\n",
       " 'UVES_SQUAD',\n",
       " 'VANDELS',\n",
       " 'VEGAS',\n",
       " 'VEILS',\n",
       " 'VEXAS',\n",
       " 'VHS',\n",
       " 'VIDEO',\n",
       " 'VIKING',\n",
       " 'VIMOS',\n",
       " 'VINROUGE',\n",
       " 'VIPERS',\n",
       " 'VISIONS',\n",
       " 'VMC',\n",
       " 'VPHASplus',\n",
       " 'VST-ATLAS',\n",
       " 'VVV',\n",
       " 'VVVX',\n",
       " 'XQ-100',\n",
       " 'XSGRB',\n",
       " 'XSHOOTER',\n",
       " 'XSL',\n",
       " 'ZCOSMOS']"
      ]
     },
     "execution_count": 6,
     "metadata": {},
     "output_type": "execute_result"
    }
   ],
   "source": [
    "collections = eso.list_collections() # list all collections\n",
    "collections"
   ]
  },
  {
   "cell_type": "markdown",
   "metadata": {},
   "source": [
    "### Query a specific survey with constraints\n",
    "\n",
    "Let’s assume that we work with the ``HARPS`` survey, and that we are interested in target ``HD203608``. "
   ]
  },
  {
   "cell_type": "code",
   "execution_count": 7,
   "metadata": {},
   "outputs": [],
   "source": [
    "from astropy.coordinates import SkyCoord # import the SkyCoord class from the astropy.coordinates module\n",
    "import astropy.units as u # import the astropy.units module\n",
    "\n",
    "coords = SkyCoord.from_name('HD203608') # create a SkyCoord object from the name of the source\n",
    "radius = 10 *u.arcsec # set the radius of the search to 10 arcseconds\n",
    "\n",
    "table = eso.query_instrument(instrument=\"HARPS\", ra=coords.ra.value, dec=coords.dec.value, radius=radius.value) # query the ESO archive for HARPS data"
   ]
  },
  {
   "cell_type": "markdown",
   "metadata": {},
   "source": [
    "Above is a simple example (more examples of how to search are given in the other notebooks)."
   ]
  },
  {
   "cell_type": "markdown",
   "metadata": {},
   "source": [
    "### Obtaining extended information on data products\n",
    "\n",
    "Only a small subset of the keywords presents in the data products can be obtained with ``query_instrument()`` or ``query_main()``. There is, however, a way to get the full primary header of the FITS data products, using ``get_headers()``. This method is detailed in the example below."
   ]
  },
  {
   "cell_type": "code",
   "execution_count": 8,
   "metadata": {},
   "outputs": [],
   "source": [
    "# STILL TBD\n",
    "# table_headers = eso.get_headers(table['dp_id'][0]) # get the headers of the first data product\n",
    "# table_headers"
   ]
  },
  {
   "cell_type": "markdown",
   "metadata": {},
   "source": [
    "### Downloading datasets from the archive\n"
   ]
  },
  {
   "cell_type": "markdown",
   "metadata": {},
   "source": [
    "The returned table has an ``dp_id`` column. It can be used to retrieve the datasets with ``retrieve_data()``.\n",
    "\n",
    "The file names, returned in ``data_files``, points to the decompressed datasets (without the .Z extension) that have been locally downloaded. \n",
    "\n",
    "The default location (in the ``astropy`` cache) of the decompressed datasets can be adjusted by providing a destination keyword in the call to ``retrieve_data()``. By default, if a requested dataset is already found, it is not downloaded again from the archive. To force the retrieval of data that are present in the destination directory, use ``continuation=True`` in the call to ``retrieve_data()``."
   ]
  },
  {
   "cell_type": "code",
   "execution_count": 9,
   "metadata": {},
   "outputs": [
    {
     "name": "stdout",
     "output_type": "stream",
     "text": [
      "INFO: Downloading datasets ... [astroquery.eso.core]\n",
      "INFO: Downloading 1 files ... [astroquery.eso.core]\n",
      "INFO: Downloading file 1/1 https://dataportal.eso.org/dataPortal/file/HARPS.2003-06-18T09:06:13.920 to /Users/abarnes/.astropy/cache/astroquery/Eso [astroquery.eso.core]\n",
      "INFO: Found cached file /Users/abarnes/.astropy/cache/astroquery/Eso/HARPS.2003-06-18T09:06:13.920.fits [astroquery.eso.core]\n",
      "INFO: Done! [astroquery.eso.core]\n"
     ]
    }
   ],
   "source": [
    "data_files = eso.retrieve_data(table['dp_id'][0]) # download the first data product\n",
    "# data_files = eso.retrieve_data(table['dp_id'][0], continuation=True) # force the download of all files even if present in the destination directory\n",
    "# data_files = eso.retrieve_data(table['dp_id'][0], destination='./') # specify the destination directory for the download"
   ]
  },
  {
   "cell_type": "markdown",
   "metadata": {},
   "source": [
    "### Troubleshooting\n",
    "\n",
    "If you are repeatedly getting failed queries, or bad/out-of-date results, try clearing your cache. \n",
    "\n",
    "If this function is unavailable, upgrade your version of astroquery. "
   ]
  },
  {
   "cell_type": "code",
   "execution_count": 10,
   "metadata": {},
   "outputs": [],
   "source": [
    "eso.clear_cache() # clear the cache of the ESO archive"
   ]
  },
  {
   "cell_type": "markdown",
   "metadata": {},
   "source": [
    "<hr style=\"border:2px solid #0281c9\"> </hr>"
   ]
  }
 ],
 "metadata": {
  "kernelspec": {
   "display_name": "tst",
   "language": "python",
   "name": "python3"
  },
  "language_info": {
   "codemirror_mode": {
    "name": "ipython",
    "version": 3
   },
   "file_extension": ".py",
   "mimetype": "text/x-python",
   "name": "python",
   "nbconvert_exporter": "python",
   "pygments_lexer": "ipython3",
   "version": "3.9.21"
  }
 },
 "nbformat": 4,
 "nbformat_minor": 2
}
