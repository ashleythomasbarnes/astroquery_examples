{
 "cells": [
  {
   "cell_type": "markdown",
   "metadata": {},
   "source": [
    "<hr style=\"border:2px solid #0281c9\"> </hr>\n",
    "\n",
    "<img align=\"left\" alt=\"ESO Logo\" src=\"http://archive.eso.org/i/esologo.png\">  \n",
    "\n",
    "<div align=\"center\">\n",
    "  <h1 style=\"color: #0281c9; font-weight: bold;\">ESO Science Archive</h1> \n",
    "  <h2 style=\"color: #0281c9; font-weight: bold;\">Jupyter Notebooks</h2>\n",
    "</div>\n",
    "\n",
    "<hr style=\"border:2px solid #0281c9\"> </hr>"
   ]
  },
  {
   "cell_type": "markdown",
   "metadata": {
    "vscode": {
     "languageId": "plaintext"
    }
   },
   "source": [
    "## Introduction\n",
    "\n",
    "The [ESO archive](http://archive.eso.org/cms.html) currently (as of February 2025) contains around [4.2 million products](https://archive.eso.org/scienceportal/home?data_release_date=*:2025-02-07&sort=-obs_date&s=P%2fDSS2%2fcolor&f=176.339692&fc=-1,-1&cs=J2000&av=true&ac=false&c=9,10,11,12,13,14,15,16,17,18,19,20,21&ta=RES&dts=true&at=237.301616,-35.65163&sr=i), including [3.6 million La Silla Paranal APEX products](https://archive.eso.org/scienceportal/home?data_release_date=*:2025-02-07&observatory=%22La%20Silla%20Paranal%20APEX%22&sort=-obs_date&s=P%2fDSS2%2fcolor&f=176.339692&fc=-1,-1&cs=J2000&av=true&ac=false&c=9,10,11,12,13,14,15,16,17,18,19,20,21&ta=RES&dts=true&at=237.301616,-35.65163&sr=i) and [500,000 ALMA products](https://archive.eso.org/scienceportal/home?data_release_date=*:2025-02-07&observatory=ALMA&sort=-obs_date&s=P%2fDSS2%2fcolor&f=176.339692&fc=-1,-1&cs=J2000&av=true&ac=false&c=9,10,11,12,13,14,15,16,17,18,19,20,21&ta=RES&dts=true&at=343.49061642502505,16.14821135280152&sr=i). Of these there are almost [2.2 million spectra](https://archive.eso.org/scienceportal/home?data_release_date=*:2025-02-07&dp_type=SPECTRUM&sort=-obs_date&s=P%2fDSS2%2fcolor&f=176.339692&fc=-1,-1&cs=J2000&av=true&ac=false&c=9,10,11,12,13,14,15,16,17,18,19,20,21&ta=RES&dts=true&sdtm=%7b%22SPECTRUM%22%3atrue%7d&at=237.301616,-35.65163&sr=i), more than [900,000 images](https://archive.eso.org/scienceportal/home?data_release_date=*:2025-02-07&dp_type=IMAGE&sort=-obs_date&s=P%2fDSS2%2fcolor&f=176.339692&fc=-1,-1&cs=J2000&av=true&ac=false&c=9,10,11,12,13,14,15,16,17,18,19,20,21&ta=RES&dts=true&sdtm=%7b%22IMAGE%22%3atrue%7d&at=119.371746,11.610771&sr=i), and more than [500,000 cubes](https://archive.eso.org/scienceportal/home?data_release_date=*:2025-02-07&dp_type=CUBE&sort=-obs_date&s=P%2fDSS2%2fcolor&f=176.339692&fc=-1,-1&cs=J2000&av=true&ac=false&c=9,10,11,12,13,14,15,16,17,18,19,20,21&ta=RES&dts=true&sdtm=%7b%22CUBE%22%3atrue%7d&at=150.125652,2.336817&sr=i) that are reduced or fully calibrated, and, in addition, [667,875 individual catalogues](https://archive.eso.org/scienceportal/home?data_release_date=*:2025-02-07&sort=-obs_date&s=P%2FDSS2%2Fcolor&f=176.339692&fc=-1,-1&cs=J2000&av=true&ac=false&c=9,10,11,12,13,14,15,16,17,18,19,20,21&ta=RES&dts=true&at=237.301616,-35.65163&sr=i). \n",
    "\n",
    "### Data\n",
    "\n",
    "There are four main ways to access the vast amount of information present in the [ESO archive](http://archive.eso.org/cms.html):\n",
    "\n",
    "- the [Raw Data query form](http://archive.eso.org/eso/eso_archive_main.html)\n",
    "- the [Science Portal](http://archive.eso.org/scienceportal/home) to browse and access the processed data\n",
    "- the [Programmatic and Tools access](http://archive.eso.org/programmatic/) which permits direct database access to both raw and processed data, as well as to the ambient condition measurements\n",
    "- the [Catalogue Query Interface](https://www.eso.org/qi/)\n",
    "\n",
    "### Astroquery\n",
    "\n",
    "Astroquery is part of the Astropy project and offers a unified, consistent interface to query a wide range of astronomical databases. In addition to the ESO module, astroquery supports archives such as NASA’s Exoplanet Archive, SIMBAD, SDSS, GAIA, and many others. This seamless integration with Astropy’s tools and data structures simplifies the process of combining data from multiple sources in your research. For comprehensive details, including usage examples, API documentation, troubleshooting tips, and updates, please refer to the official astroquery documentation at [astroquery.readthedocs.io](https://astroquery.readthedocs.io/en/latest/index.html). \n",
    "\n",
    "The ESO [astroquery](https://astroquery.readthedocs.io/en/latest/eso/eso.html) module, `astroquery.eso`, provides simple wrappers to efficiently embed access to the [ESO archive](http://archive.eso.org/cms.html) into Python routines. Currently, the module supports:\n",
    "\n",
    "- Listing available instruments\n",
    "- Listing available surveys (phase 3)\n",
    "- Searching all instrument-specific raw data ([more info](http://archive.eso.org/cms/eso-data/instrument-specific-query-forms.html))\n",
    "- Searching data products (phase 3) ([more info](http://archive.eso.org/wdb/wdb/adp/phase3_main/form))\n",
    "- Downloading data by dataset identifiers ([more info](http://archive.eso.org/cms/eso-data/eso-data-direct-retrieval.html))\n",
    "\n",
    "**Note**  \n",
    "At present, catalogue searches are not supported using the astroquery.eso module. Functionality for querying catalogues will be added in a future release.\n",
    "\n",
    "### Additional Information\n",
    "\n",
    "**Prerequisites and Installation**  \n",
    "These examples assume that you have a working Python environment (Python 3.7 or later is recommended) and that you have installed the necessary packages. You can install astroquery (which includes the ESO module) via pip:\n",
    "\n",
    "```bash\n",
    "pip install astroquery\n",
    "```\n",
    "\n",
    "**Usage** \n",
    "You can access this file as an interactive jupyter notebook, which you can download and run on your machine [(instructions)](https://jupyter.org/install). To interact with the jupyter notebook (if you have download it): move up and down the various cells using the arrow keys, execute the code by pressing CTRL+ENTER; you can also modify the code and execute it at will.\n",
    "\n",
    "**Version**\n",
    "Please note that this notebook uses Python version 3.9.13 and Jupyter Notebook version 6.4.10. Compatibility with other versions cannot be guaranteed.\n",
    "\n",
    "<hr style=\"border:2px solid #0281c9\"> </hr>"
   ]
  },
  {
   "cell_type": "markdown",
   "metadata": {},
   "source": [
    "## Importing and basic usage of astroquery.eso "
   ]
  },
  {
   "cell_type": "code",
   "execution_count": 1,
   "metadata": {},
   "outputs": [],
   "source": [
    "from astroquery.eso import Eso # import the ESO module from astroquery"
   ]
  },
  {
   "cell_type": "code",
   "execution_count": 2,
   "metadata": {},
   "outputs": [],
   "source": [
    "eso = Eso() # create an instance of the ESO class "
   ]
  },
  {
   "cell_type": "markdown",
   "metadata": {},
   "source": [
    "In the examples provided in the accompanying notebooks, we will create an instance of the ESO class using:\n",
    "\n",
    "```python\n",
    "eso = Eso()  # create an instance of the ESO class\n",
    "```\n",
    "\n",
    "This instance will be used to demonstrate various queries to the ESO Archive, including searching for raw data and data products from a range of instruments and sources."
   ]
  },
  {
   "cell_type": "markdown",
   "metadata": {},
   "source": [
    "--- "
   ]
  },
  {
   "cell_type": "markdown",
   "metadata": {},
   "source": [
    "## Raw data"
   ]
  },
  {
   "cell_type": "markdown",
   "metadata": {},
   "source": [
    "### Identifying available instrument-specific queries \n",
    "\n",
    "The first thing to do is to identify the instrument to query. The list of available instrument-specific queries can be obtained with the ``list_instruments()`` method.\n",
    "\n",
    "The instruments listed on the following web page: http://archive.eso.org/cms/eso-data/instrument-specific-query-forms.html."
   ]
  },
  {
   "cell_type": "code",
   "execution_count": 3,
   "metadata": {},
   "outputs": [
    {
     "data": {
      "text/plain": [
       "['amber',\n",
       " 'apex',\n",
       " 'crires',\n",
       " 'eris',\n",
       " 'espresso',\n",
       " 'fiat',\n",
       " 'fors1',\n",
       " 'fors2',\n",
       " 'giraffe',\n",
       " 'gravity',\n",
       " 'hawki',\n",
       " 'isaac',\n",
       " 'kmos',\n",
       " 'matisse',\n",
       " 'midi',\n",
       " 'muse',\n",
       " 'naco',\n",
       " 'omegacam',\n",
       " 'pionier',\n",
       " 'sinfoni',\n",
       " 'sphere',\n",
       " 'uves',\n",
       " 'vimos',\n",
       " 'vircam',\n",
       " 'visir',\n",
       " 'wlgsu',\n",
       " 'xshooter']"
      ]
     },
     "execution_count": 3,
     "metadata": {},
     "output_type": "execute_result"
    }
   ],
   "source": [
    "instruments = eso.list_instruments()\n",
    "instruments"
   ]
  },
  {
   "cell_type": "markdown",
   "metadata": {},
   "source": [
    "### Inspecting available query options\n",
    "\n",
    "Once an instrument is chosen, midi in our case, the query options for that instrument can be inspected by setting the ``print_help=True`` keyword of the ``query_instrument()`` method."
   ]
  },
  {
   "cell_type": "code",
   "execution_count": 11,
   "metadata": {},
   "outputs": [
    {
     "name": "stdout",
     "output_type": "stream",
     "text": [
      "INFO: \n",
      "Columns present in the table dbo.raw:\n",
      "    column_name     datatype\n",
      "------------------- --------\n",
      "     access_estsize     long\n",
      "         access_url     char\n",
      "       datalink_url     char\n",
      "           date_obs     char\n",
      "                dec   double\n",
      "            dec_pnt   double\n",
      "        det_chip1id     char\n",
      "   det_chop_ncycles    short\n",
      "            det_dit    float\n",
      "          det_expid    short\n",
      "           det_ndit    short\n",
      "             dp_cat     char\n",
      "              dp_id     char\n",
      "            dp_tech     char\n",
      "            dp_type     char\n",
      "            ecl_lat   double\n",
      "            ecl_lon   double\n",
      "          exp_start     char\n",
      "           exposure    float\n",
      "        filter_path     char\n",
      "            gal_lat   double\n",
      "            gal_lon   double\n",
      "          grat_path     char\n",
      "          gris_path     char\n",
      "           ins_mode     char\n",
      "         instrument     char\n",
      "         lambda_max   double\n",
      "         lambda_min   double\n",
      "      last_mod_date     char\n",
      "            mjd_obs    float\n",
      "              ob_id      int\n",
      "            ob_name     char\n",
      "             object     char\n",
      "           obs_mode     char\n",
      "           origfile     char\n",
      "             period    short\n",
      "             pi_coi     char\n",
      "            prog_id     char\n",
      "         prog_title     char\n",
      "          prog_type      int\n",
      "                 ra   double\n",
      "             ra_pnt   double\n",
      "       release_date     char\n",
      "           s_region     char\n",
      "          slit_path     char\n",
      "             target     char\n",
      "       tel_airm_end    float\n",
      "     tel_airm_start    float\n",
      "            tel_alt    float\n",
      "  tel_ambi_fwhm_end    float\n",
      "tel_ambi_fwhm_start    float\n",
      "  tel_ambi_pres_end    float\n",
      "tel_ambi_pres_start    float\n",
      "      tel_ambi_rhum    float\n",
      "             tel_az    float\n",
      "          telescope     char\n",
      "          tpl_expno      int\n",
      "             tpl_id     char\n",
      "           tpl_name     char\n",
      "           tpl_nexp      int\n",
      "          tpl_seqno      int\n",
      "          tpl_start     char\n",
      " [astroquery.eso.core]\n"
     ]
    }
   ],
   "source": [
    "eso.query_instrument('midi', print_help=True)"
   ]
  },
  {
   "cell_type": "markdown",
   "metadata": {},
   "source": [
    "### Querying all instruments\n",
    "\n",
    "The ESO database can also be queried without a specific instrument in mind. This is what the method ``query_main()`` is for. The associated [query form](http://archive.eso.org/wdb/wdb/eso/eso_archive_main/form) on the ESO archive website. Except for the keyword specifying the instrument the behaviour of ``query_main(``) is identical to ``query_instrument()``.\n",
    "\n",
    "ESO instruments without a specific query interface can be queried with ``query_main()``, specifying the instrument constraint. This is the case of e.g. ``harps``, ``feros`` or the all sky cameras ``APICAM`` and ``MASCOT``. \n",
    "\n",
    "Here is an example to query all-sky images from ``APICAM`` with ``luminance`` filter (more examples of how to search are given in the other notebooks)."
   ]
  },
  {
   "cell_type": "code",
   "execution_count": 26,
   "metadata": {},
   "outputs": [
    {
     "data": {
      "text/html": [
       "<i>Row index=0</i>\n",
       "<table id=\"table13131973920\">\n",
       "<thead><tr><th>access_estsize</th><th>access_url</th><th>datalink_url</th><th>date_obs</th><th>dec</th><th>dec_pnt</th><th>det_chip1id</th><th>det_chop_ncycles</th><th>det_dit</th><th>det_expid</th><th>det_ndit</th><th>dp_cat</th><th>dp_id</th><th>dp_tech</th><th>dp_type</th><th>ecl_lat</th><th>ecl_lon</th><th>exp_start</th><th>exposure</th><th>filter_path</th><th>gal_lat</th><th>gal_lon</th><th>grat_path</th><th>gris_path</th><th>ins_mode</th><th>instrument</th><th>lambda_max</th><th>lambda_min</th><th>last_mod_date</th><th>mjd_obs</th><th>ob_id</th><th>ob_name</th><th>object</th><th>obs_mode</th><th>origfile</th><th>period</th><th>pi_coi</th><th>prog_id</th><th>prog_title</th><th>prog_type</th><th>ra</th><th>ra_pnt</th><th>release_date</th><th>s_region</th><th>slit_path</th><th>target</th><th>tel_airm_end</th><th>tel_airm_start</th><th>tel_alt</th><th>tel_ambi_fwhm_end</th><th>tel_ambi_fwhm_start</th><th>tel_ambi_pres_end</th><th>tel_ambi_pres_start</th><th>tel_ambi_rhum</th><th>tel_az</th><th>telescope</th><th>tpl_expno</th><th>tpl_id</th><th>tpl_name</th><th>tpl_nexp</th><th>tpl_seqno</th><th>tpl_start</th></tr></thead>\n",
       "<thead><tr><th>kB</th><th></th><th></th><th></th><th>deg</th><th>deg</th><th></th><th></th><th>s</th><th></th><th></th><th></th><th></th><th></th><th></th><th>deg</th><th>deg</th><th></th><th>s</th><th></th><th>deg</th><th>deg</th><th></th><th></th><th></th><th></th><th>AA</th><th>AA</th><th></th><th>d</th><th></th><th></th><th></th><th></th><th></th><th></th><th></th><th></th><th></th><th></th><th>deg</th><th>deg</th><th></th><th></th><th></th><th></th><th></th><th></th><th>deg</th><th>arcsec</th><th>arcsec</th><th>hPa</th><th>hPa</th><th></th><th>deg</th><th></th><th></th><th></th><th></th><th></th><th></th><th></th></tr></thead>\n",
       "<thead><tr><th>int64</th><th>object</th><th>object</th><th>object</th><th>float64</th><th>float64</th><th>object</th><th>int16</th><th>float32</th><th>int16</th><th>int16</th><th>object</th><th>object</th><th>object</th><th>object</th><th>float64</th><th>float64</th><th>object</th><th>float32</th><th>object</th><th>float64</th><th>float64</th><th>object</th><th>object</th><th>object</th><th>object</th><th>float64</th><th>float64</th><th>object</th><th>float32</th><th>int32</th><th>object</th><th>object</th><th>object</th><th>object</th><th>int16</th><th>object</th><th>object</th><th>object</th><th>int32</th><th>float64</th><th>float64</th><th>object</th><th>object</th><th>object</th><th>object</th><th>float32</th><th>float32</th><th>float32</th><th>float32</th><th>float32</th><th>float32</th><th>float32</th><th>float32</th><th>float32</th><th>object</th><th>int32</th><th>object</th><th>object</th><th>int32</th><th>int32</th><th>object</th></tr></thead>\n",
       "<tr><td>--</td><td>https://dataportal.eso.org/dataPortal/file/APICAM.2018-03-03T07:03:45.000</td><td>https://archive.eso.org/datalink/links?ID=ivo://eso.org/ID?APICAM.2018-03-03T07:03:45.000</td><td>2018-03-03T07:03:45.000</td><td>-24.53152888</td><td>-24.531529</td><td>KAF-16803</td><td>--</td><td>--</td><td>--</td><td>--</td><td>CALIB</td><td>APICAM.2018-03-03T07:03:45.000</td><td>IMAGE</td><td>SKY</td><td>-16.224057</td><td>335.422767</td><td>2018-03-03T07:03:45.130Z</td><td>120.0</td><td>LUMINANCE</td><td>38.233884</td><td>306.912456</td><td></td><td></td><td></td><td>APICAM</td><td>--</td><td>--</td><td>2018-03-15T08:14:15.720Z</td><td>58180.293</td><td>--</td><td></td><td>ALL SKY</td><td>s</td><td>APICAM.2018-03-03T07-03-45.000.fits</td><td>60</td><td>HAINAUT, O</td><td>60.A-9008(A)</td><td>APICAM-3: ALL-SKY DEEP CCD IMAGES OF</td><td>0</td><td>196.29565</td><td>196.29565</td><td>2018-03-03T07:03:45.130Z</td><td>POSITION J2000 196.29565 -24.531529</td><td></td><td></td><td>1.0</td><td>1.0</td><td>90.0</td><td>--</td><td>--</td><td>--</td><td>--</td><td>--</td><td>0.0</td><td>APICAM</td><td>--</td><td></td><td></td><td>--</td><td>--</td><td></td></tr>\n",
       "</table>"
      ],
      "text/plain": [
       "<Row index=0>\n",
       "access_estsize                                 access_url                                                                       datalink_url                                               date_obs            dec       dec_pnt   det_chip1id det_chop_ncycles det_dit det_expid det_ndit dp_cat             dp_id              dp_tech dp_type  ecl_lat    ecl_lon          exp_start         exposure filter_path  gal_lat   gal_lon   grat_path gris_path ins_mode instrument lambda_max lambda_min      last_mod_date        mjd_obs  ob_id ob_name  object obs_mode               origfile              period   pi_coi     prog_id                 prog_title              prog_type     ra      ra_pnt        release_date                     s_region              slit_path target tel_airm_end tel_airm_start tel_alt tel_ambi_fwhm_end tel_ambi_fwhm_start tel_ambi_pres_end tel_ambi_pres_start tel_ambi_rhum  tel_az telescope tpl_expno tpl_id tpl_name tpl_nexp tpl_seqno tpl_start\n",
       "      kB                                                                                                                                                                                                       deg         deg                                     s                                                                                deg        deg                                 s                    deg       deg                                                 AA         AA                                  d                                                                                                                                                         deg       deg                                                                                                                deg         arcsec             arcsec              hPa                hPa                         deg                                                                   \n",
       "    int64                                        object                                                                            object                                                   object           float64     float64      object        int16       float32   int16    int16   object             object              object  object  float64    float64            object          float32     object    float64   float64     object    object   object    object    float64    float64            object           float32  int32  object  object  object                 object               int16    object      object                   object                  int32    float64   float64           object                         object                 object  object   float32       float32     float32      float32            float32            float32            float32          float32    float32   object    int32   object  object   int32     int32     object \n",
       "-------------- ------------------------------------------------------------------------- ----------------------------------------------------------------------------------------- ----------------------- ------------ ---------- ----------- ---------------- ------- --------- -------- ------ ------------------------------ ------- ------- ---------- ---------- ------------------------ -------- ----------- --------- ---------- --------- --------- -------- ---------- ---------- ---------- ------------------------ --------- ----- ------- ------- -------- ----------------------------------- ------ ---------- ------------ ------------------------------------ --------- --------- --------- ------------------------ ----------------------------------- --------- ------ ------------ -------------- ------- ----------------- ------------------- ----------------- ------------------- ------------- ------- --------- --------- ------ -------- -------- --------- ---------\n",
       "            -- https://dataportal.eso.org/dataPortal/file/APICAM.2018-03-03T07:03:45.000 https://archive.eso.org/datalink/links?ID=ivo://eso.org/ID?APICAM.2018-03-03T07:03:45.000 2018-03-03T07:03:45.000 -24.53152888 -24.531529   KAF-16803               --      --        --       --  CALIB APICAM.2018-03-03T07:03:45.000   IMAGE     SKY -16.224057 335.422767 2018-03-03T07:03:45.130Z    120.0   LUMINANCE 38.233884 306.912456                                  APICAM         --         -- 2018-03-15T08:14:15.720Z 58180.293    --         ALL SKY        s APICAM.2018-03-03T07-03-45.000.fits     60 HAINAUT, O 60.A-9008(A) APICAM-3: ALL-SKY DEEP CCD IMAGES OF         0 196.29565 196.29565 2018-03-03T07:03:45.130Z POSITION J2000 196.29565 -24.531529                           1.0            1.0    90.0                --                  --                --                  --            --     0.0    APICAM        --                       --        --          "
      ]
     },
     "execution_count": 26,
     "metadata": {},
     "output_type": "execute_result"
    }
   ],
   "source": [
    "table = eso.query_main(column_filters={'instrument': 'APICAM', 'filter_path': 'LUMINANCE'}, cache=False)\n",
    "table[:3] # print the first 3 rows of the table"
   ]
  },
  {
   "cell_type": "markdown",
   "metadata": {},
   "source": [
    "---"
   ]
  },
  {
   "cell_type": "markdown",
   "metadata": {},
   "source": [
    "## Reduced data"
   ]
  },
  {
   "cell_type": "markdown",
   "metadata": {},
   "source": [
    "### Identify available collections (reduced data)\n",
    "\n",
    "In addition to raw data, ESO makes available processed data. The list of available collections can be obtained as follows:"
   ]
  },
  {
   "cell_type": "markdown",
   "metadata": {},
   "source": [
    "The list of available surveys can be obtained with ``list_surveys()`` as follows:"
   ]
  },
  {
   "cell_type": "code",
   "execution_count": 28,
   "metadata": {},
   "outputs": [
    {
     "data": {
      "text/plain": [
       "['081.C-0827',\n",
       " '092.A-0472',\n",
       " '096.B-0054',\n",
       " '1100.A-0528',\n",
       " '1101.A-0127',\n",
       " '193.D-0232',\n",
       " '195.B-0283',\n",
       " '196.B-0578',\n",
       " '196.D-0214',\n",
       " '197.A-0384',\n",
       " '198.A-0708',\n",
       " '60.A-9284H',\n",
       " '60.A-9493',\n",
       " 'ADHOC',\n",
       " 'ALCOHOLS',\n",
       " 'ALLSMOG',\n",
       " 'ALMA',\n",
       " 'AMAZE',\n",
       " 'AMBRE',\n",
       " 'APEX-SciOps',\n",
       " 'ATLASGAL',\n",
       " 'ePESSTOplus',\n",
       " 'ESPRESSO',\n",
       " 'ESSENCE',\n",
       " 'FDS',\n",
       " 'FEROS',\n",
       " 'Fornax3D',\n",
       " 'FORS2-SPEC',\n",
       " 'GAIAESO',\n",
       " 'GCAV',\n",
       " 'GIRAFFE',\n",
       " 'GOODS_FORS2',\n",
       " 'GOODS_ISAAC',\n",
       " 'GOODS_VIMOS_IMAG',\n",
       " 'GOODS_VIMOS_SPEC',\n",
       " 'GW170817',\n",
       " 'HARPS',\n",
       " 'HAWKI',\n",
       " 'HUGS',\n",
       " 'INSPIRE',\n",
       " 'KIDS',\n",
       " 'KMOS',\n",
       " 'LEGA-C',\n",
       " 'LESS',\n",
       " 'MUSE',\n",
       " 'MUSE-DEEP',\n",
       " 'MUSE-STD',\n",
       " 'MW-BULGE-PSFPHOT',\n",
       " 'NGTS',\n",
       " 'PESSTO',\n",
       " 'PHANGS',\n",
       " 'PIONIER',\n",
       " 'SPHERE',\n",
       " 'SUPER',\n",
       " 'UltraVISTA',\n",
       " 'UVES',\n",
       " 'UVES_SQUAD',\n",
       " 'VANDELS',\n",
       " 'VEGAS',\n",
       " 'VEILS',\n",
       " 'VEXAS',\n",
       " 'VHS',\n",
       " 'VIDEO',\n",
       " 'VIKING',\n",
       " 'VIMOS',\n",
       " 'VINROUGE',\n",
       " 'VIPERS',\n",
       " 'VISIONS',\n",
       " 'VMC',\n",
       " 'VPHASplus',\n",
       " 'VST-ATLAS',\n",
       " 'VVV',\n",
       " 'VVVX',\n",
       " 'XQ-100',\n",
       " 'XSGRB',\n",
       " 'XSHOOTER',\n",
       " 'XSL',\n",
       " 'ZCOSMOS']"
      ]
     },
     "execution_count": 28,
     "metadata": {},
     "output_type": "execute_result"
    }
   ],
   "source": [
    "collections = eso.list_collections()\n",
    "collections"
   ]
  },
  {
   "cell_type": "markdown",
   "metadata": {},
   "source": [
    "### Query a specific survey with constraints\n",
    "\n",
    "Let’s assume that we work with the ``HARPS`` survey, and that we are interested in target ``HD203608``. \n",
    "\n",
    "The archive can be queried as follows:"
   ]
  },
  {
   "cell_type": "code",
   "execution_count": 36,
   "metadata": {},
   "outputs": [],
   "source": [
    "from astropy.coordinates import SkyCoord # import the SkyCoord class from the astropy.coordinates module\n",
    "import astropy.units as u # import the astropy.units module\n",
    "\n",
    "coords = SkyCoord.from_name('HD203608') # create a SkyCoord object from the name of the source\n",
    "radius = 20 *u.arcmin # set the radius of the search to 20 arcminutes\n",
    "\n",
    "table = eso.query_instrument(instrument=\"HARPS\", ra=coords.ra.value, dec=coords.dec.value, radius=radius.value) # query the ESO archive for HARPS data"
   ]
  },
  {
   "cell_type": "markdown",
   "metadata": {},
   "source": [
    "### Obtaining extended information on data products\n",
    "\n",
    "Only a small subset of the keywords presents in the data products can be obtained with ``query_instrument()`` or ``query_main()``. There is however a way to get the full primary header of the FITS data products, using ``get_headers()``. This method is detailed in the example below."
   ]
  },
  {
   "cell_type": "code",
   "execution_count": 42,
   "metadata": {},
   "outputs": [
    {
     "ename": "SchemaError",
     "evalue": "Or(<class 'astropy.table.column.Column'>, [Schema(<class 'str'>)]) did not validate 'HARPS.2003-06-12T08:25:02.096'\n'HARPS.2003-06-12T08:25:02.096' should be instance of <class 'list'>",
     "output_type": "error",
     "traceback": [
      "\u001b[0;31m---------------------------------------------------------------------------\u001b[0m",
      "\u001b[0;31mSchemaError\u001b[0m                               Traceback (most recent call last)",
      "File \u001b[0;32m/opt/anaconda3/envs/tst/lib/python3.9/site-packages/astroquery/utils/schema.py:155\u001b[0m, in \u001b[0;36mSchema.validate\u001b[0;34m(self, data)\u001b[0m\n\u001b[1;32m    154\u001b[0m \u001b[38;5;28;01mtry\u001b[39;00m:\n\u001b[0;32m--> 155\u001b[0m     \u001b[38;5;28;01mreturn\u001b[39;00m \u001b[43ms\u001b[49m\u001b[38;5;241;43m.\u001b[39;49m\u001b[43mvalidate\u001b[49m\u001b[43m(\u001b[49m\u001b[43mdata\u001b[49m\u001b[43m)\u001b[49m\n\u001b[1;32m    156\u001b[0m \u001b[38;5;28;01mexcept\u001b[39;00m SchemaError \u001b[38;5;28;01mas\u001b[39;00m x:\n",
      "File \u001b[0;32m/opt/anaconda3/envs/tst/lib/python3.9/site-packages/astroquery/utils/schema.py:52\u001b[0m, in \u001b[0;36mOr.validate\u001b[0;34m(self, data)\u001b[0m\n\u001b[1;32m     51\u001b[0m         x \u001b[38;5;241m=\u001b[39m _x\n\u001b[0;32m---> 52\u001b[0m \u001b[38;5;28;01mraise\u001b[39;00m SchemaError([\u001b[38;5;124mf\u001b[39m\u001b[38;5;124m'\u001b[39m\u001b[38;5;132;01m{\u001b[39;00m\u001b[38;5;28mself\u001b[39m\u001b[38;5;132;01m!r}\u001b[39;00m\u001b[38;5;124m did not validate \u001b[39m\u001b[38;5;132;01m{\u001b[39;00mdata\u001b[38;5;132;01m!r}\u001b[39;00m\u001b[38;5;124m'\u001b[39m] \u001b[38;5;241m+\u001b[39m x\u001b[38;5;241m.\u001b[39mautos,\n\u001b[1;32m     53\u001b[0m                   [\u001b[38;5;28mself\u001b[39m\u001b[38;5;241m.\u001b[39m_error] \u001b[38;5;241m+\u001b[39m x\u001b[38;5;241m.\u001b[39merrors)\n",
      "\u001b[0;31mSchemaError\u001b[0m: Or(<class 'astropy.table.column.Column'>, [Schema(<class 'str'>)]) did not validate 'HARPS.2003-06-12T08:25:02.096'\n'HARPS.2003-06-12T08:25:02.096' should be instance of <class 'list'>",
      "\nDuring handling of the above exception, another exception occurred:\n",
      "\u001b[0;31mSchemaError\u001b[0m                               Traceback (most recent call last)",
      "Cell \u001b[0;32mIn[42], line 1\u001b[0m\n\u001b[0;32m----> 1\u001b[0m table_headers \u001b[38;5;241m=\u001b[39m \u001b[43meso\u001b[49m\u001b[38;5;241;43m.\u001b[39;49m\u001b[43mget_headers\u001b[49m\u001b[43m(\u001b[49m\u001b[43mtable\u001b[49m\u001b[43m[\u001b[49m\u001b[38;5;124;43m'\u001b[39;49m\u001b[38;5;124;43mdp_id\u001b[39;49m\u001b[38;5;124;43m'\u001b[39;49m\u001b[43m]\u001b[49m\u001b[43m[\u001b[49m\u001b[38;5;241;43m0\u001b[39;49m\u001b[43m]\u001b[49m\u001b[43m)\u001b[49m\n",
      "File \u001b[0;32m/opt/anaconda3/envs/tst/lib/python3.9/site-packages/astroquery/eso/core.py:544\u001b[0m, in \u001b[0;36mEsoClass.get_headers\u001b[0;34m(self, product_ids, cache)\u001b[0m\n\u001b[1;32m    518\u001b[0m \u001b[38;5;250m\u001b[39m\u001b[38;5;124;03m\"\"\"\u001b[39;00m\n\u001b[1;32m    519\u001b[0m \u001b[38;5;124;03mGet the headers associated to a list of data product IDs\u001b[39;00m\n\u001b[1;32m    520\u001b[0m \n\u001b[0;32m   (...)\u001b[0m\n\u001b[1;32m    540\u001b[0m \n\u001b[1;32m    541\u001b[0m \u001b[38;5;124;03m\"\"\"\u001b[39;00m\n\u001b[1;32m    542\u001b[0m _schema_product_ids \u001b[38;5;241m=\u001b[39m schema\u001b[38;5;241m.\u001b[39mSchema(\n\u001b[1;32m    543\u001b[0m     schema\u001b[38;5;241m.\u001b[39mOr(Column, [schema\u001b[38;5;241m.\u001b[39mSchema(\u001b[38;5;28mstr\u001b[39m)]))\n\u001b[0;32m--> 544\u001b[0m \u001b[43m_schema_product_ids\u001b[49m\u001b[38;5;241;43m.\u001b[39;49m\u001b[43mvalidate\u001b[49m\u001b[43m(\u001b[49m\u001b[43mproduct_ids\u001b[49m\u001b[43m)\u001b[49m\n\u001b[1;32m    545\u001b[0m \u001b[38;5;66;03m# Get all headers\u001b[39;00m\n\u001b[1;32m    546\u001b[0m result \u001b[38;5;241m=\u001b[39m []\n",
      "File \u001b[0;32m/opt/anaconda3/envs/tst/lib/python3.9/site-packages/astroquery/utils/schema.py:157\u001b[0m, in \u001b[0;36mSchema.validate\u001b[0;34m(self, data)\u001b[0m\n\u001b[1;32m    155\u001b[0m     \u001b[38;5;28;01mreturn\u001b[39;00m s\u001b[38;5;241m.\u001b[39mvalidate(data)\n\u001b[1;32m    156\u001b[0m \u001b[38;5;28;01mexcept\u001b[39;00m SchemaError \u001b[38;5;28;01mas\u001b[39;00m x:\n\u001b[0;32m--> 157\u001b[0m     \u001b[38;5;28;01mraise\u001b[39;00m SchemaError([\u001b[38;5;28;01mNone\u001b[39;00m] \u001b[38;5;241m+\u001b[39m x\u001b[38;5;241m.\u001b[39mautos, [e] \u001b[38;5;241m+\u001b[39m x\u001b[38;5;241m.\u001b[39merrors)\n\u001b[1;32m    158\u001b[0m \u001b[38;5;28;01mexcept\u001b[39;00m \u001b[38;5;167;01mBaseException\u001b[39;00m \u001b[38;5;28;01mas\u001b[39;00m x:\n\u001b[1;32m    159\u001b[0m     \u001b[38;5;28;01mraise\u001b[39;00m SchemaError(\u001b[38;5;124mf\u001b[39m\u001b[38;5;124m'\u001b[39m\u001b[38;5;132;01m{\u001b[39;00ms\u001b[38;5;132;01m!r}\u001b[39;00m\u001b[38;5;124m.validate(\u001b[39m\u001b[38;5;132;01m{\u001b[39;00mdata\u001b[38;5;132;01m!r}\u001b[39;00m\u001b[38;5;124m) raised \u001b[39m\u001b[38;5;132;01m{\u001b[39;00mx\u001b[38;5;132;01m!r}\u001b[39;00m\u001b[38;5;124m'\u001b[39m, \u001b[38;5;28mself\u001b[39m\u001b[38;5;241m.\u001b[39m_error)\n",
      "\u001b[0;31mSchemaError\u001b[0m: Or(<class 'astropy.table.column.Column'>, [Schema(<class 'str'>)]) did not validate 'HARPS.2003-06-12T08:25:02.096'\n'HARPS.2003-06-12T08:25:02.096' should be instance of <class 'list'>"
     ]
    }
   ],
   "source": [
    "table_headers = eso.get_headers(table['dp_id'][0])\n",
    "table_headers"
   ]
  },
  {
   "cell_type": "markdown",
   "metadata": {},
   "source": [
    "### Downloading datasets from the archive\n"
   ]
  },
  {
   "cell_type": "markdown",
   "metadata": {},
   "source": [
    "The returned table has an ``dp_id`` column. It can be used to retrieve the datasets with ``retrieve_data()``.\n",
    "\n",
    "The file names, returned in data_files, points to the decompressed datasets (without the .Z extension) that have been locally downloaded. They are ready to be used with fits.\n",
    "\n",
    "The default location (in the astropy cache) of the decompressed datasets can be adjusted by providing a destination keyword in the call to ``retrieve_data()``.\n",
    "\n",
    "By default, if a requested dataset is already found, it is not downloaded again from the archive. To force the retrieval of data that are present in the destination directory, use ``continuation=True`` in the call to ``retrieve_data()``."
   ]
  },
  {
   "cell_type": "code",
   "execution_count": 41,
   "metadata": {},
   "outputs": [
    {
     "name": "stdout",
     "output_type": "stream",
     "text": [
      "INFO: Downloading datasets ... [astroquery.eso.core]\n",
      "INFO: Downloading 1 files ... [astroquery.eso.core]\n",
      "INFO: Downloading file 1/1 https://dataportal.eso.org/dataPortal/file/HARPS.2003-06-12T08:25:02.096 to /Users/abarnes/.astropy/cache/astroquery/Eso [astroquery.eso.core]\n",
      "INFO: Successfully downloaded dataset HARPS.2003-06-12T08:25:02.096 to /Users/abarnes/.astropy/cache/astroquery/Eso/HARPS.2003-06-12T08:25:02.096.fits.Z [astroquery.eso.core]\n",
      "INFO: Uncompressing file /Users/abarnes/.astropy/cache/astroquery/Eso/HARPS.2003-06-12T08:25:02.096.fits.Z [astroquery.eso.core]\n",
      "INFO: Done! [astroquery.eso.core]\n"
     ]
    }
   ],
   "source": [
    "data_files = eso.retrieve_data(table['dp_id'][0])\n",
    "# data_files = eso.retrieve_data(table['dp_id'][0], continuation=True) # force the download of all files even if present in the destination directory\n",
    "# data_files = eso.retrieve_data(table['dp_id'][0], destination='./') # specify the destination directory for the download"
   ]
  },
  {
   "cell_type": "markdown",
   "metadata": {},
   "source": [
    "### Troubleshooting\n",
    "\n",
    "If you are repeatedly getting failed queries, or bad/out-of-date results, try clearing your cache. \n",
    "\n",
    "If this function is unavailable, upgrade your version of astroquery. "
   ]
  },
  {
   "cell_type": "code",
   "execution_count": 45,
   "metadata": {},
   "outputs": [],
   "source": [
    "eso.clear_cache() # clear the cache of the ESO archive"
   ]
  },
  {
   "cell_type": "markdown",
   "metadata": {},
   "source": [
    "<hr style=\"border:2px solid #0281c9\"> </hr>"
   ]
  }
 ],
 "metadata": {
  "kernelspec": {
   "display_name": "tst",
   "language": "python",
   "name": "python3"
  },
  "language_info": {
   "codemirror_mode": {
    "name": "ipython",
    "version": 3
   },
   "file_extension": ".py",
   "mimetype": "text/x-python",
   "name": "python",
   "nbconvert_exporter": "python",
   "pygments_lexer": "ipython3",
   "version": "3.9.21"
  }
 },
 "nbformat": 4,
 "nbformat_minor": 2
}
