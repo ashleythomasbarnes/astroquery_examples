{
 "cells": [
  {
   "cell_type": "markdown",
   "metadata": {},
   "source": [
    "<hr style=\"border:2px solid #0281c9\"> </hr>\n",
    "\n",
    "<img align=\"left\" alt=\"ESO Logo\" src=\"http://archive.eso.org/i/esologo.png\">  \n",
    "\n",
    "<div align=\"center\">\n",
    "  <h1 style=\"color: #0281c9; font-weight: bold;\">ESO Science Archive</h1> \n",
    "  <h2 style=\"color: #0281c9; font-weight: bold;\">Jupyter Notebooks</h2>\n",
    "</div>\n",
    "\n",
    "<hr style=\"border:2px solid #0281c9\"> </hr>"
   ]
  },
  {
   "cell_type": "markdown",
   "metadata": {
    "vscode": {
     "languageId": "plaintext"
    }
   },
   "source": [
    "## Introduction\n",
    "\n",
    "The [ESO archive](http://archive.eso.org/cms.html) currently (as of February 2025) contains around [4.2 million products](https://archive.eso.org/scienceportal/home?data_release_date=*:2025-02-07&sort=-obs_date&s=P%2fDSS2%2fcolor&f=176.339692&fc=-1,-1&cs=J2000&av=true&ac=false&c=9,10,11,12,13,14,15,16,17,18,19,20,21&ta=RES&dts=true&at=237.301616,-35.65163&sr=i), including [3.6 million La Silla Paranal APEX products](https://archive.eso.org/scienceportal/home?data_release_date=*:2025-02-07&observatory=%22La%20Silla%20Paranal%20APEX%22&sort=-obs_date&s=P%2fDSS2%2fcolor&f=176.339692&fc=-1,-1&cs=J2000&av=true&ac=false&c=9,10,11,12,13,14,15,16,17,18,19,20,21&ta=RES&dts=true&at=237.301616,-35.65163&sr=i) and [500,000 ALMA products](https://archive.eso.org/scienceportal/home?data_release_date=*:2025-02-07&observatory=ALMA&sort=-obs_date&s=P%2fDSS2%2fcolor&f=176.339692&fc=-1,-1&cs=J2000&av=true&ac=false&c=9,10,11,12,13,14,15,16,17,18,19,20,21&ta=RES&dts=true&at=343.49061642502505,16.14821135280152&sr=i). Of these there are almost [2.2 million spectra](https://archive.eso.org/scienceportal/home?data_release_date=*:2025-02-07&dp_type=SPECTRUM&sort=-obs_date&s=P%2fDSS2%2fcolor&f=176.339692&fc=-1,-1&cs=J2000&av=true&ac=false&c=9,10,11,12,13,14,15,16,17,18,19,20,21&ta=RES&dts=true&sdtm=%7b%22SPECTRUM%22%3atrue%7d&at=237.301616,-35.65163&sr=i), more than [900,000 images](https://archive.eso.org/scienceportal/home?data_release_date=*:2025-02-07&dp_type=IMAGE&sort=-obs_date&s=P%2fDSS2%2fcolor&f=176.339692&fc=-1,-1&cs=J2000&av=true&ac=false&c=9,10,11,12,13,14,15,16,17,18,19,20,21&ta=RES&dts=true&sdtm=%7b%22IMAGE%22%3atrue%7d&at=119.371746,11.610771&sr=i), and more than [500,000 cubes](https://archive.eso.org/scienceportal/home?data_release_date=*:2025-02-07&dp_type=CUBE&sort=-obs_date&s=P%2fDSS2%2fcolor&f=176.339692&fc=-1,-1&cs=J2000&av=true&ac=false&c=9,10,11,12,13,14,15,16,17,18,19,20,21&ta=RES&dts=true&sdtm=%7b%22CUBE%22%3atrue%7d&at=150.125652,2.336817&sr=i) that are reduced or fully calibrated, and, in addition, [667,875 individual catalogues](https://archive.eso.org/scienceportal/home?data_release_date=*:2025-02-07&sort=-obs_date&s=P%2FDSS2%2Fcolor&f=176.339692&fc=-1,-1&cs=J2000&av=true&ac=false&c=9,10,11,12,13,14,15,16,17,18,19,20,21&ta=RES&dts=true&at=237.301616,-35.65163&sr=i). \n",
    "\n",
    "### Data\n",
    "\n",
    "There are four main ways to access the vast amount of information present in the [ESO archive](http://archive.eso.org/cms.html):\n",
    "\n",
    "- the [Raw Data query form](http://archive.eso.org/eso/eso_archive_main.html)\n",
    "- the [Science Portal](http://archive.eso.org/scienceportal/home) to browse and access the processed data\n",
    "- the [Programmatic and Tools access](http://archive.eso.org/programmatic/) which permits direct database access to both raw and processed data, as well as to the ambient condition measurements\n",
    "- the [Catalogue Query Interface](https://www.eso.org/qi/)\n",
    "\n",
    "### Astroquery\n",
    "\n",
    "Astroquery is part of the Astropy project and offers a unified, consistent interface to query a wide range of astronomical databases. In addition to the ESO module, astroquery supports archives such as NASA’s Exoplanet Archive, SIMBAD, SDSS, GAIA, and many others. This seamless integration with Astropy’s tools and data structures simplifies the process of combining data from multiple sources in your research. For comprehensive details, including usage examples, API documentation, troubleshooting tips, and updates, please refer to the official astroquery documentation at [astroquery.readthedocs.io](https://astroquery.readthedocs.io/en/latest/index.html). \n",
    "\n",
    "The ESO [astroquery](https://astroquery.readthedocs.io/en/latest/eso/eso.html) module, `astroquery.eso`, provides simple wrappers to efficiently embed access to the [ESO archive](http://archive.eso.org/cms.html) into Python routines. Currently, the module supports:\n",
    "\n",
    "- Listing available instruments\n",
    "- Listing available surveys (phase 3)\n",
    "- Searching all instrument-specific raw data ([more info](http://archive.eso.org/cms/eso-data/instrument-specific-query-forms.html))\n",
    "- Searching data products (phase 3) ([more info](http://archive.eso.org/wdb/wdb/adp/phase3_main/form))\n",
    "- Downloading data by dataset identifiers ([more info](http://archive.eso.org/cms/eso-data/eso-data-direct-retrieval.html))\n",
    "\n",
    "**Note**  \n",
    "At present, catalogue searches are not supported using the astroquery.eso module. Functionality for querying catalogues will be added in a future release.\n",
    "\n",
    "### Additional Information\n",
    "\n",
    "**Prerequisites and Installation**  \n",
    "These examples assume that you have a working Python environment (Python 3.7 or later is recommended) and that you have installed the necessary packages. You can install astroquery (which includes the ESO module) via pip:\n",
    "\n",
    "```bash\n",
    "pip install astroquery\n",
    "```\n",
    "\n",
    "**Usage** \n",
    "You can access this file as an interactive jupyter notebook, which you can download and run on your machine [(instructions)](https://jupyter.org/install). To interact with the jupyter notebook (if you have download it): move up and down the various cells using the arrow keys, execute the code by pressing CTRL+ENTER; you can also modify the code and execute it at will.\n",
    "\n",
    "**Version**\n",
    "Please note that this notebook uses Python version 3.9.13 and Jupyter Notebook version 6.4.10. Compatibility with other versions cannot be guaranteed.\n",
    "\n",
    "<hr style=\"border:2px solid #0281c9\"> </hr>"
   ]
  },
  {
   "cell_type": "markdown",
   "metadata": {},
   "source": [
    "### Importing and basic usage of astroquery.eso "
   ]
  },
  {
   "cell_type": "code",
   "execution_count": 1,
   "metadata": {},
   "outputs": [],
   "source": [
    "from astroquery.eso import Eso # import the ESO module from astroquery"
   ]
  },
  {
   "cell_type": "code",
   "execution_count": 3,
   "metadata": {},
   "outputs": [],
   "source": [
    "eso = Eso() # create an instance of the ESO class "
   ]
  },
  {
   "cell_type": "markdown",
   "metadata": {},
   "source": [
    "In the examples provided in the accompanying notebooks, we will create an instance of the ESO class using:\n",
    "\n",
    "```python\n",
    "eso = Eso()  # create an instance of the ESO class\n",
    "```\n",
    "\n",
    "This instance will be used to demonstrate various queries to the ESO Archive, including searching for raw data and data products from a range of instruments and sources.\n",
    "\n",
    "<hr style=\"border:2px solid #0281c9\"> </hr>"
   ]
  },
  {
   "cell_type": "markdown",
   "metadata": {},
   "source": []
  }
 ],
 "metadata": {
  "kernelspec": {
   "display_name": "tst",
   "language": "python",
   "name": "python3"
  },
  "language_info": {
   "codemirror_mode": {
    "name": "ipython",
    "version": 3
   },
   "file_extension": ".py",
   "mimetype": "text/x-python",
   "name": "python",
   "nbconvert_exporter": "python",
   "pygments_lexer": "ipython3",
   "version": "3.9.21"
  }
 },
 "nbformat": 4,
 "nbformat_minor": 2
}
