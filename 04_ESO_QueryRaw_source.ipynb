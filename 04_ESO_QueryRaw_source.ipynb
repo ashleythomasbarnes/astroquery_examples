{
 "cells": [
  {
   "cell_type": "markdown",
   "metadata": {},
   "source": [
    "<hr style=\"border:2px solid #0281c9\"> </hr>\n",
    "\n",
    "<img align=\"left\" alt=\"ESO Logo\" src=\"http://archive.eso.org/i/esologo.png\">  \n",
    "\n",
    "<div align=\"center\">\n",
    "  <h1 style=\"color: #0281c9; font-weight: bold;\">ESO Science Archive</h1> \n",
    "  <h2 style=\"color: #0281c9; font-weight: bold;\">Jupyter Notebooks</h2>\n",
    "</div>\n",
    "\n",
    "<hr style=\"border:2px solid #0281c9\"> </hr>"
   ]
  },
  {
   "cell_type": "markdown",
   "metadata": {},
   "source": [
    "## Query by source name/position\n",
    "\n",
    "This notebook demonstrates how to use the astroquery.eso module to search for and download raw HAWK-I near-infrared observations from the ESO archive, specifically targeting Sgr A*, the supermassive black hole at the center of the Milky Way. It guides users through querying both the main ESO archive table and instrument-specific tables, filtering results based on observation parameters, and retrieving raw, unprocessed data for further calibration and analysis, enabling direct access to ESO’s extensive collection of observational datasets.\n",
    "\n",
    "<hr style=\"border:2px solid #0281c9\"> </hr>"
   ]
  },
  {
   "cell_type": "markdown",
   "metadata": {},
   "source": [
    "### Importing and basic usage of astroquery.eso "
   ]
  },
  {
   "cell_type": "markdown",
   "metadata": {},
   "source": [
    "In this example, we will create an instance of the ESO class using:\n",
    "\n",
    "```python\n",
    "from astroquery.eso import Eso # import the ESO module from astroquery\n",
    "eso = Eso()  # create an instance of the ESO class\n",
    "```\n",
    "\n",
    "This instance will be used to demonstrate various queries to the ESO Archive, including searching for raw data and data products from a range of instruments and sources."
   ]
  },
  {
   "cell_type": "code",
   "execution_count": 1,
   "metadata": {},
   "outputs": [],
   "source": [
    "from astroquery.eso import Eso # import the ESO module from astroquery"
   ]
  },
  {
   "cell_type": "code",
   "execution_count": 2,
   "metadata": {},
   "outputs": [],
   "source": [
    "eso = Eso() # create an instance of the ESO class "
   ]
  },
  {
   "cell_type": "markdown",
   "metadata": {},
   "source": [
    "### Performing a Small Cone Search Around Sgr A*\n",
    "\n",
    "To perform a small cone search of **10 arcseconds** around the source **Sgr A**, we first need to resolve the source name to obtain its **Right Ascension (RA)** and **Declination (Dec)** coordinates. This can be done using an online name resolver such as the ``SkyCoord.from_name()`` method from astropy.coordinates, which allows us to resolve object names into precise RA/Dec coordinates using online astronomical databases. This gives: \n",
    "\n",
    "```python\n",
    "ra = 266.835\n",
    "dec = -28.38528\n",
    "```\n",
    "\n",
    "In coordinate values of degrees in the ICRS (International Celestial Reference System) frame."
   ]
  },
  {
   "cell_type": "code",
   "execution_count": 3,
   "metadata": {},
   "outputs": [],
   "source": [
    "from astropy.coordinates import SkyCoord # import the SkyCoord class from the astropy.coordinates module\n",
    "import astropy.units as u # import the astropy.units module\n",
    "\n",
    "coords = SkyCoord.from_name('Sgr A*') # create a SkyCoord object from the name of the source\n",
    "radius = 20 *u.arcmin # set the radius of the search to 20 arcminutes"
   ]
  },
  {
   "cell_type": "markdown",
   "metadata": {},
   "source": [
    "We use `astroquery.eso` to search for observations of **Sgr A** taken with the **HAWKI** instrument on the **VLT (Very Large Telescope)**.\n",
    "\n",
    "This search can also be accessed via the following: \n",
    "\n",
    "[tap-link]: https://archive.eso.org/tap_obs/sync?REQUEST=doQuery&amp;LANG=ADQL&amp;MAXREC=200&amp;FORMAT=txt&amp;QUERY=SELECT%20*%0Afrom%20ivoa.obscore%0Awhere%20intersects(s_region,%20circle(%27%27,%20266.835,%20-28.38528,%200.1666))=1%0AAND%20instrument_name%20=%20%27HAWKI%27\n",
    "\n",
    "[sp-link]: https://archive.eso.org/scienceportal/home?data_release_date=*:2025-02-07&pos=266.41682,-29.00782&r=0.016667&fovcorners=266.800868,-29.226927,266.033328,-29.226929,266.034957,-28.787142,266.799236,-28.787141&ins_id=HAWKI&dp_type=IMAGE&sort=dist,-fov,-obs_date&s=P%2fDSS2%2fcolor&f=0.669626&fc=266.799236,-28.787141&cs=J2000&av=true&ac=false&c=9,10,11,12,13,15,16,17,18,19,20,21&ta=RES&dts=true&sdtm=%7b%22IMAGE%22%3atrue%7d&at=266.41682,-29.00782&sr=i\n",
    "\n",
    "- **TAP** - [see here][tap-link]\n",
    "- **ESO Science Portal** [see here](sp-link)"
   ]
  },
  {
   "cell_type": "code",
   "execution_count": null,
   "metadata": {},
   "outputs": [
    {
     "ename": "TypeError",
     "evalue": "query_main() takes 1 positional argument but 2 positional arguments (and 3 keyword-only arguments) were given",
     "output_type": "error",
     "traceback": [
      "\u001b[0;31m---------------------------------------------------------------------------\u001b[0m",
      "\u001b[0;31mTypeError\u001b[0m                                 Traceback (most recent call last)",
      "Cell \u001b[0;32mIn[4], line 7\u001b[0m\n\u001b[1;32m      4\u001b[0m radius \u001b[38;5;241m=\u001b[39m radius\u001b[38;5;241m.\u001b[39mto(\u001b[38;5;124m'\u001b[39m\u001b[38;5;124mdeg\u001b[39m\u001b[38;5;124m'\u001b[39m)  \u001b[38;5;66;03m# convert the radius to degrees\u001b[39;00m\n\u001b[1;32m      6\u001b[0m table_instrument \u001b[38;5;241m=\u001b[39m eso\u001b[38;5;241m.\u001b[39mquery_instrument(instrument, ra\u001b[38;5;241m=\u001b[39mra\u001b[38;5;241m.\u001b[39mvalue, dec\u001b[38;5;241m=\u001b[39mdec\u001b[38;5;241m.\u001b[39mvalue, radius\u001b[38;5;241m=\u001b[39mradius\u001b[38;5;241m.\u001b[39mvalue) \u001b[38;5;66;03m# query the ESO archive for VIRCAM data around Sgr A*\u001b[39;00m\n\u001b[0;32m----> 7\u001b[0m table_main \u001b[38;5;241m=\u001b[39m \u001b[43meso\u001b[49m\u001b[38;5;241;43m.\u001b[39;49m\u001b[43mquery_main\u001b[49m\u001b[43m(\u001b[49m\u001b[43minstrument\u001b[49m\u001b[43m,\u001b[49m\u001b[43m \u001b[49m\u001b[43mra\u001b[49m\u001b[38;5;241;43m=\u001b[39;49m\u001b[43mra\u001b[49m\u001b[38;5;241;43m.\u001b[39;49m\u001b[43mvalue\u001b[49m\u001b[43m,\u001b[49m\u001b[43m \u001b[49m\u001b[43mdec\u001b[49m\u001b[38;5;241;43m=\u001b[39;49m\u001b[43mdec\u001b[49m\u001b[38;5;241;43m.\u001b[39;49m\u001b[43mvalue\u001b[49m\u001b[43m,\u001b[49m\u001b[43m \u001b[49m\u001b[43mradius\u001b[49m\u001b[38;5;241;43m=\u001b[39;49m\u001b[43mradius\u001b[49m\u001b[38;5;241;43m.\u001b[39;49m\u001b[43mvalue\u001b[49m\u001b[43m)\u001b[49m \u001b[38;5;66;03m# query the ESO archive for VIRCAM data around Sgr A*\u001b[39;00m\n",
      "File \u001b[0;32m/opt/anaconda3/envs/tst/lib/python3.9/site-packages/astropy/utils/decorators.py:604\u001b[0m, in \u001b[0;36mdeprecated_renamed_argument.<locals>.decorator.<locals>.wrapper\u001b[0;34m(*args, **kwargs)\u001b[0m\n\u001b[1;32m    601\u001b[0m             msg \u001b[38;5;241m+\u001b[39m\u001b[38;5;241m=\u001b[39m \u001b[38;5;124mf\u001b[39m\u001b[38;5;124m\"\u001b[39m\u001b[38;5;130;01m\\n\u001b[39;00m\u001b[38;5;124m        Use \u001b[39m\u001b[38;5;132;01m{\u001b[39;00malternative\u001b[38;5;132;01m}\u001b[39;00m\u001b[38;5;124m instead.\u001b[39m\u001b[38;5;124m\"\u001b[39m\n\u001b[1;32m    602\u001b[0m         warnings\u001b[38;5;241m.\u001b[39mwarn(msg, warning_type, stacklevel\u001b[38;5;241m=\u001b[39m\u001b[38;5;241m2\u001b[39m)\n\u001b[0;32m--> 604\u001b[0m \u001b[38;5;28;01mreturn\u001b[39;00m \u001b[43mfunction\u001b[49m\u001b[43m(\u001b[49m\u001b[38;5;241;43m*\u001b[39;49m\u001b[43margs\u001b[49m\u001b[43m,\u001b[49m\u001b[43m \u001b[49m\u001b[38;5;241;43m*\u001b[39;49m\u001b[38;5;241;43m*\u001b[39;49m\u001b[43mkwargs\u001b[49m\u001b[43m)\u001b[49m\n",
      "\u001b[0;31mTypeError\u001b[0m: query_main() takes 1 positional argument but 2 positional arguments (and 3 keyword-only arguments) were given"
     ]
    }
   ],
   "source": [
    "instrument = 'HAWKI'       # set the instrument to HAWKI\n",
    "ra = coords.ra             # get the right ascension of the source\n",
    "dec = coords.dec           # get the declination of the source\n",
    "radius = radius.to('deg')  # convert the radius to degrees\n",
    "\n",
    "table_instrument = eso.query_instrument(instrument, ra=ra.value, dec=dec.value, radius=radius.value) # query\n",
    "table_main = eso.query_main(instrument, ra=ra.value, dec=dec.value, radius=radius.value) # query "
   ]
  },
  {
   "cell_type": "code",
   "execution_count": null,
   "metadata": {},
   "outputs": [
    {
     "name": "stdout",
     "output_type": "stream",
     "text": [
      "\u001b[0;31mSignature:\u001b[0m\n",
      "\u001b[0meso\u001b[0m\u001b[0;34m.\u001b[0m\u001b[0mquery_main\u001b[0m\u001b[0;34m(\u001b[0m\u001b[0;34m\u001b[0m\n",
      "\u001b[0;34m\u001b[0m    \u001b[0;34m*\u001b[0m\u001b[0;34m,\u001b[0m\u001b[0;34m\u001b[0m\n",
      "\u001b[0;34m\u001b[0m    \u001b[0mra\u001b[0m\u001b[0;34m:\u001b[0m \u001b[0mfloat\u001b[0m \u001b[0;34m=\u001b[0m \u001b[0;32mNone\u001b[0m\u001b[0;34m,\u001b[0m\u001b[0;34m\u001b[0m\n",
      "\u001b[0;34m\u001b[0m    \u001b[0mdec\u001b[0m\u001b[0;34m:\u001b[0m \u001b[0mfloat\u001b[0m \u001b[0;34m=\u001b[0m \u001b[0;32mNone\u001b[0m\u001b[0;34m,\u001b[0m\u001b[0;34m\u001b[0m\n",
      "\u001b[0;34m\u001b[0m    \u001b[0mradius\u001b[0m\u001b[0;34m:\u001b[0m \u001b[0mfloat\u001b[0m \u001b[0;34m=\u001b[0m \u001b[0;32mNone\u001b[0m\u001b[0;34m,\u001b[0m\u001b[0;34m\u001b[0m\n",
      "\u001b[0;34m\u001b[0m    \u001b[0mcolumn_filters\u001b[0m\u001b[0;34m=\u001b[0m\u001b[0;32mNone\u001b[0m\u001b[0;34m,\u001b[0m\u001b[0;34m\u001b[0m\n",
      "\u001b[0;34m\u001b[0m    \u001b[0mcolumns\u001b[0m\u001b[0;34m=\u001b[0m\u001b[0;32mNone\u001b[0m\u001b[0;34m,\u001b[0m\u001b[0;34m\u001b[0m\n",
      "\u001b[0;34m\u001b[0m    \u001b[0mprint_help\u001b[0m\u001b[0;34m=\u001b[0m\u001b[0;32mFalse\u001b[0m\u001b[0;34m,\u001b[0m\u001b[0;34m\u001b[0m\n",
      "\u001b[0;34m\u001b[0m    \u001b[0mcache\u001b[0m\u001b[0;34m=\u001b[0m\u001b[0;32mTrue\u001b[0m\u001b[0;34m,\u001b[0m\u001b[0;34m\u001b[0m\n",
      "\u001b[0;34m\u001b[0m    \u001b[0;34m**\u001b[0m\u001b[0mkwargs\u001b[0m\u001b[0;34m,\u001b[0m\u001b[0;34m\u001b[0m\n",
      "\u001b[0;34m\u001b[0m\u001b[0;34m)\u001b[0m\u001b[0;34m\u001b[0m\u001b[0;34m\u001b[0m\u001b[0m\n",
      "\u001b[0;31mDocstring:\u001b[0m\n",
      "Query raw data contained in the ESO archive.\n",
      "\n",
      "Parameters\n",
      "----------\n",
      "column_filters : dict\n",
      "    Constraints applied to the query.\n",
      "columns : list of strings\n",
      "    Columns returned by the query.\n",
      "open_form : bool\n",
      "    If `True`, opens in your default browser the query form\n",
      "    for the requested instrument.\n",
      "help : bool\n",
      "    If `True`, prints all the parameters accepted in\n",
      "    ``column_filters`` and ``columns`` for the requested\n",
      "    ``instrument``.\n",
      "cache : bool\n",
      "    Defaults to True. If set overrides global caching behavior.\n",
      "    See :ref:`caching documentation <astroquery_cache>`.\n",
      "\n",
      "Returns\n",
      "-------\n",
      "table : `~astropy.table.Table`\n",
      "    A table representing the data available in the archive for the\n",
      "    specified instrument, matching the constraints specified in\n",
      "    ``kwargs``. The number of rows returned is capped by the\n",
      "    ROW_LIMIT configuration item.\n",
      "\u001b[0;31mFile:\u001b[0m      /opt/anaconda3/envs/tst/lib/python3.9/site-packages/astroquery/eso/core.py\n",
      "\u001b[0;31mType:\u001b[0m      method"
     ]
    }
   ],
   "source": [
    "eso.query_instrument(instrument) # query the instrument"
   ]
  },
  {
   "cell_type": "markdown",
   "metadata": {},
   "source": [
    "We can now inspect the results, which are stored as an ``astropy.table``. However note here these results include all data from the science achive, included non-science data... "
   ]
  },
  {
   "cell_type": "code",
   "execution_count": 5,
   "metadata": {},
   "outputs": [
    {
     "data": {
      "text/html": [
       "<div><i>Table length=3</i>\n",
       "<table id=\"table5145282304\" class=\"table-striped table-bordered table-condensed\">\n",
       "<thead><tr><th>access_estsize</th><th>access_url</th><th>datalink_url</th><th>date_obs</th><th>dec</th><th>dec_pnt</th><th>det_chip1id</th><th>det_chop_ncycles</th><th>det_dit</th><th>det_expid</th><th>det_ndit</th><th>dp_cat</th><th>dp_id</th><th>dp_tech</th><th>dp_type</th><th>ecl_lat</th><th>ecl_lon</th><th>exp_start</th><th>exposure</th><th>filter_path</th><th>gal_lat</th><th>gal_lon</th><th>grat_path</th><th>gris_path</th><th>ins_mode</th><th>instrument</th><th>lambda_max</th><th>lambda_min</th><th>last_mod_date</th><th>mjd_obs</th><th>ob_id</th><th>ob_name</th><th>object</th><th>obs_mode</th><th>origfile</th><th>period</th><th>pi_coi</th><th>prog_id</th><th>prog_title</th><th>prog_type</th><th>ra</th><th>ra_pnt</th><th>release_date</th><th>s_region</th><th>slit_path</th><th>target</th><th>tel_airm_end</th><th>tel_airm_start</th><th>tel_alt</th><th>tel_ambi_fwhm_end</th><th>tel_ambi_fwhm_start</th><th>tel_ambi_pres_end</th><th>tel_ambi_pres_start</th><th>tel_ambi_rhum</th><th>tel_az</th><th>telescope</th><th>tpl_expno</th><th>tpl_id</th><th>tpl_name</th><th>tpl_nexp</th><th>tpl_seqno</th><th>tpl_start</th></tr></thead>\n",
       "<thead><tr><th>kB</th><th></th><th></th><th></th><th>deg</th><th>deg</th><th></th><th></th><th>s</th><th></th><th></th><th></th><th></th><th></th><th></th><th>deg</th><th>deg</th><th></th><th>s</th><th></th><th>deg</th><th>deg</th><th></th><th></th><th></th><th></th><th>AA</th><th>AA</th><th></th><th>d</th><th></th><th></th><th></th><th></th><th></th><th></th><th></th><th></th><th></th><th></th><th>deg</th><th>deg</th><th></th><th></th><th></th><th></th><th></th><th></th><th>deg</th><th>arcsec</th><th>arcsec</th><th>hPa</th><th>hPa</th><th></th><th>deg</th><th></th><th></th><th></th><th></th><th></th><th></th><th></th></tr></thead>\n",
       "<thead><tr><th>int64</th><th>object</th><th>object</th><th>object</th><th>float64</th><th>float64</th><th>object</th><th>int16</th><th>float32</th><th>int16</th><th>int16</th><th>object</th><th>object</th><th>object</th><th>object</th><th>float64</th><th>float64</th><th>object</th><th>float32</th><th>object</th><th>float64</th><th>float64</th><th>object</th><th>object</th><th>object</th><th>object</th><th>float64</th><th>float64</th><th>object</th><th>float32</th><th>int32</th><th>object</th><th>object</th><th>object</th><th>object</th><th>int16</th><th>object</th><th>object</th><th>object</th><th>int32</th><th>float64</th><th>float64</th><th>object</th><th>object</th><th>object</th><th>object</th><th>float32</th><th>float32</th><th>float32</th><th>float32</th><th>float32</th><th>float32</th><th>float32</th><th>float32</th><th>float32</th><th>object</th><th>int32</th><th>object</th><th>object</th><th>int32</th><th>int32</th><th>object</th></tr></thead>\n",
       "<tr><td>34570</td><td>https://dataportal.eso.org/dataPortal/file/HAWKI.2011-04-11T22:48:44.534</td><td>https://archive.eso.org/datalink/links?ID=ivo://eso.org/ID?HAWKI.2011-04-11T22:48:44.534</td><td>2011-04-11T22:48:44.5341</td><td>-29.00412</td><td>-29.00412</td><td></td><td>--</td><td>2.0</td><td>3638</td><td>1</td><td>CALIB</td><td>HAWKI.2011-04-11T22:48:44.534</td><td>IMAGE</td><td>FLAT</td><td>-5.608188</td><td>273.312862</td><td>2011-04-11T22:48:44.533Z</td><td>2.0</td><td>KS,OPEN</td><td>0.095481</td><td>359.861974</td><td></td><td></td><td>IMG</td><td>HAWKI</td><td>2307.0</td><td>1982.0</td><td>2011-07-15T21:22:34.963Z</td><td>55662.95</td><td>200180255</td><td>SkyFlat_1004_BB</td><td>FLAT</td><td>s</td><td>HAWKI_IMG_FLAT_SkyFlats101_0001.fits</td><td>--</td><td>HAWK-I TEAM</td><td>60.A-9283(A)</td><td>HAWK-I COMMISSIONING</td><td>0</td><td>266.229585</td><td>266.229585</td><td>2011-04-11T22:48:44.533Z</td><td>POSITION J2000 266.229585 -29.00412</td><td></td><td>EFLD1004</td><td>1.0</td><td>1.0</td><td>88.997</td><td>-1.0</td><td>-1.0</td><td>742.78</td><td>742.8</td><td>14.0</td><td>224.999</td><td>ESO-VLT-U4</td><td>1</td><td>HAWKI_img_cal_SkyFlats</td><td>Imaging skyflats</td><td>20</td><td>2</td><td>2011-04-11T22:47:57</td></tr>\n",
       "<tr><td>46156</td><td>https://dataportal.eso.org/dataPortal/file/HAWKI.2012-03-04T07:45:18.835</td><td>https://archive.eso.org/datalink/links?ID=ivo://eso.org/ID?HAWKI.2012-03-04T07:45:18.835</td><td>2012-03-04T07:45:18.8353</td><td>-28.93167</td><td>-28.93167</td><td></td><td>--</td><td>1.6762</td><td>15235</td><td>5</td><td>ACQUISITION</td><td>HAWKI.2012-03-04T07:45:18.835</td><td>IMAGE</td><td>OBJECT</td><td>-5.530412</td><td>273.103558</td><td>2012-03-04T07:45:18.837Z</td><td>8.381</td><td>KS,OPEN</td><td>-0.046128</td><td>0.033414</td><td></td><td></td><td>IMG</td><td>HAWKI</td><td>2307.0</td><td>1982.0</td><td>2012-03-04T09:01:22.917Z</td><td>55990.324</td><td>200225767</td><td>BURST_GC_K_Holotest</td><td>OBJECT</td><td>s</td><td>HAWKI_ACQ_OBJ064_0001.fits</td><td>60</td><td>OBSERVATORY, P</td><td>60.A-9800(L)</td><td>TECHNICAL TIME</td><td>0</td><td>266.469875</td><td>266.469875</td><td>2012-03-04T07:45:18.837Z</td><td>POSITION J2000 266.469875 -28.93167</td><td></td><td>FIELD-NUCLEAR-BULGE</td><td>1.607</td><td>1.61</td><td>38.32</td><td>1.48</td><td>1.39</td><td>741.98</td><td>742.0</td><td>39.5</td><td>288.429</td><td>ESO-VLT-U4</td><td>1</td><td>HAWKI_img_acq_FastPhot</td><td>Preset telescope and center field</td><td>1</td><td>1</td><td>2012-03-04T07:40:25</td></tr>\n",
       "<tr><td>34347</td><td>https://dataportal.eso.org/dataPortal/file/HAWKI.2012-03-04T07:46:14.326</td><td>https://archive.eso.org/datalink/links?ID=ivo://eso.org/ID?HAWKI.2012-03-04T07:46:14.326</td><td>2012-03-04T07:46:14.3260</td><td>-28.93167</td><td>-28.93167</td><td></td><td>--</td><td>0.2316</td><td>15236</td><td>500</td><td>SCIENCE</td><td>HAWKI.2012-03-04T07:46:14.326</td><td>IMAGE,BURST</td><td>OBJECT</td><td>-5.530412</td><td>273.103558</td><td>2012-03-04T07:46:14.327Z</td><td>115.8</td><td>KS,OPEN</td><td>-0.046128</td><td>0.033414</td><td></td><td></td><td>IMG</td><td>HAWKI</td><td>2307.0</td><td>1982.0</td><td>2012-03-04T09:01:25.270Z</td><td>55990.324</td><td>200225767</td><td>BURST_GC_K_Holotest</td><td>FIELD-NUCLEAR-BULGE</td><td>s</td><td>HAWKI_IMG_OBS_FAST064_0001.fits</td><td>60</td><td>OBSERVATORY, P</td><td>60.A-9800(L)</td><td>TECHNICAL TIME</td><td>0</td><td>266.469875</td><td>266.469875</td><td>2012-03-04T07:46:14.327Z</td><td>POSITION J2000 266.469875 -28.93167</td><td></td><td>FIELD-NUCLEAR-BULGE</td><td>1.603</td><td>1.603</td><td>38.525</td><td>1.48</td><td>1.48</td><td>741.98</td><td>741.98</td><td>40.0</td><td>288.384</td><td>ESO-VLT-U4</td><td>1</td><td>HAWKI_img_obs_FastPhot</td><td>Imaging fast photometry with jitter (no offsets</td><td>1</td><td>2</td><td>2012-03-04T07:46:02</td></tr>\n",
       "</table></div>"
      ],
      "text/plain": [
       "<Table length=3>\n",
       "access_estsize ...      tpl_start     \n",
       "      kB       ...                    \n",
       "    int64      ...        object      \n",
       "-------------- ... -------------------\n",
       "         34570 ... 2011-04-11T22:47:57\n",
       "         46156 ... 2012-03-04T07:40:25\n",
       "         34347 ... 2012-03-04T07:46:02"
      ]
     },
     "execution_count": 5,
     "metadata": {},
     "output_type": "execute_result"
    }
   ],
   "source": [
    "table[:3] # print the first 3 rows of the table"
   ]
  },
  {
   "cell_type": "markdown",
   "metadata": {},
   "source": [
    "To search for only the science data, we need to refine our results using the following ``column_filters={'dp_cat':'SCIENCE'}``\n",
    "```python\n",
    "table = eso.query_instrument(instrument, ra=ra.value, dec=dec.value, radius=radius.value, column_filters={'dp_cat':'SCIENCE'}) \n",
    "```\n",
    "or alternatively we could use the could simply filter the results already in ``table``. "
   ]
  },
  {
   "cell_type": "code",
   "execution_count": 6,
   "metadata": {},
   "outputs": [],
   "source": [
    "# table = eso.query_instrument(instrument, ra=ra.value, dec=dec.value, radius=radius.value, column_filters={'dp_cat':'SCIENCE'}) "
   ]
  },
  {
   "cell_type": "code",
   "execution_count": 7,
   "metadata": {},
   "outputs": [
    {
     "data": {
      "text/html": [
       "<div><i>Table length=3</i>\n",
       "<table id=\"table4528101840\" class=\"table-striped table-bordered table-condensed\">\n",
       "<thead><tr><th>access_estsize</th><th>access_url</th><th>datalink_url</th><th>date_obs</th><th>dec</th><th>dec_pnt</th><th>det_chip1id</th><th>det_chop_ncycles</th><th>det_dit</th><th>det_expid</th><th>det_ndit</th><th>dp_cat</th><th>dp_id</th><th>dp_tech</th><th>dp_type</th><th>ecl_lat</th><th>ecl_lon</th><th>exp_start</th><th>exposure</th><th>filter_path</th><th>gal_lat</th><th>gal_lon</th><th>grat_path</th><th>gris_path</th><th>ins_mode</th><th>instrument</th><th>lambda_max</th><th>lambda_min</th><th>last_mod_date</th><th>mjd_obs</th><th>ob_id</th><th>ob_name</th><th>object</th><th>obs_mode</th><th>origfile</th><th>period</th><th>pi_coi</th><th>prog_id</th><th>prog_title</th><th>prog_type</th><th>ra</th><th>ra_pnt</th><th>release_date</th><th>s_region</th><th>slit_path</th><th>target</th><th>tel_airm_end</th><th>tel_airm_start</th><th>tel_alt</th><th>tel_ambi_fwhm_end</th><th>tel_ambi_fwhm_start</th><th>tel_ambi_pres_end</th><th>tel_ambi_pres_start</th><th>tel_ambi_rhum</th><th>tel_az</th><th>telescope</th><th>tpl_expno</th><th>tpl_id</th><th>tpl_name</th><th>tpl_nexp</th><th>tpl_seqno</th><th>tpl_start</th></tr></thead>\n",
       "<thead><tr><th>kB</th><th></th><th></th><th></th><th>deg</th><th>deg</th><th></th><th></th><th>s</th><th></th><th></th><th></th><th></th><th></th><th></th><th>deg</th><th>deg</th><th></th><th>s</th><th></th><th>deg</th><th>deg</th><th></th><th></th><th></th><th></th><th>AA</th><th>AA</th><th></th><th>d</th><th></th><th></th><th></th><th></th><th></th><th></th><th></th><th></th><th></th><th></th><th>deg</th><th>deg</th><th></th><th></th><th></th><th></th><th></th><th></th><th>deg</th><th>arcsec</th><th>arcsec</th><th>hPa</th><th>hPa</th><th></th><th>deg</th><th></th><th></th><th></th><th></th><th></th><th></th><th></th></tr></thead>\n",
       "<thead><tr><th>int64</th><th>object</th><th>object</th><th>object</th><th>float64</th><th>float64</th><th>object</th><th>int16</th><th>float32</th><th>int16</th><th>int16</th><th>object</th><th>object</th><th>object</th><th>object</th><th>float64</th><th>float64</th><th>object</th><th>float32</th><th>object</th><th>float64</th><th>float64</th><th>object</th><th>object</th><th>object</th><th>object</th><th>float64</th><th>float64</th><th>object</th><th>float32</th><th>int32</th><th>object</th><th>object</th><th>object</th><th>object</th><th>int16</th><th>object</th><th>object</th><th>object</th><th>int32</th><th>float64</th><th>float64</th><th>object</th><th>object</th><th>object</th><th>object</th><th>float32</th><th>float32</th><th>float32</th><th>float32</th><th>float32</th><th>float32</th><th>float32</th><th>float32</th><th>float32</th><th>object</th><th>int32</th><th>object</th><th>object</th><th>int32</th><th>int32</th><th>object</th></tr></thead>\n",
       "<tr><td>34347</td><td>https://dataportal.eso.org/dataPortal/file/HAWKI.2012-03-04T07:46:14.326</td><td>https://archive.eso.org/datalink/links?ID=ivo://eso.org/ID?HAWKI.2012-03-04T07:46:14.326</td><td>2012-03-04T07:46:14.3260</td><td>-28.93167</td><td>-28.93167</td><td></td><td>--</td><td>0.2316</td><td>15236</td><td>500</td><td>SCIENCE</td><td>HAWKI.2012-03-04T07:46:14.326</td><td>IMAGE,BURST</td><td>OBJECT</td><td>-5.530412</td><td>273.103558</td><td>2012-03-04T07:46:14.327Z</td><td>115.8</td><td>KS,OPEN</td><td>-0.046128</td><td>0.033414</td><td></td><td></td><td>IMG</td><td>HAWKI</td><td>2307.0</td><td>1982.0</td><td>2012-03-04T09:01:25.270Z</td><td>55990.324</td><td>200225767</td><td>BURST_GC_K_Holotest</td><td>FIELD-NUCLEAR-BULGE</td><td>s</td><td>HAWKI_IMG_OBS_FAST064_0001.fits</td><td>60</td><td>OBSERVATORY, P</td><td>60.A-9800(L)</td><td>TECHNICAL TIME</td><td>0</td><td>266.469875</td><td>266.469875</td><td>2012-03-04T07:46:14.327Z</td><td>POSITION J2000 266.469875 -28.93167</td><td></td><td>FIELD-NUCLEAR-BULGE</td><td>1.603</td><td>1.603</td><td>38.525</td><td>1.48</td><td>1.48</td><td>741.98</td><td>741.98</td><td>40.0</td><td>288.384</td><td>ESO-VLT-U4</td><td>1</td><td>HAWKI_img_obs_FastPhot</td><td>Imaging fast photometry with jitter (no offsets</td><td>1</td><td>2</td><td>2012-03-04T07:46:02</td></tr>\n",
       "<tr><td>34422</td><td>https://dataportal.eso.org/dataPortal/file/HAWKI.2012-03-04T07:46:32.781</td><td>https://archive.eso.org/datalink/links?ID=ivo://eso.org/ID?HAWKI.2012-03-04T07:46:32.781</td><td>2012-03-04T07:46:32.7808</td><td>-28.93167</td><td>-28.93167</td><td></td><td>--</td><td>0.2316</td><td>15237</td><td>500</td><td>SCIENCE</td><td>HAWKI.2012-03-04T07:46:32.781</td><td>IMAGE,BURST</td><td>OBJECT</td><td>-5.530412</td><td>273.103558</td><td>2012-03-04T07:46:32.780Z</td><td>115.8</td><td>KS,OPEN</td><td>-0.046128</td><td>0.033414</td><td></td><td></td><td>IMG</td><td>HAWKI</td><td>2307.0</td><td>1982.0</td><td>2012-03-04T09:01:21.797Z</td><td>55990.324</td><td>200225767</td><td>BURST_GC_K_Holotest</td><td>FIELD-NUCLEAR-BULGE</td><td>s</td><td>HAWKI_IMG_OBS_FAST064_0002.fits</td><td>60</td><td>OBSERVATORY, P</td><td>60.A-9800(L)</td><td>TECHNICAL TIME</td><td>0</td><td>266.469875</td><td>266.469875</td><td>2012-03-04T07:46:32.780Z</td><td>POSITION J2000 266.469875 -28.93167</td><td></td><td>FIELD-NUCLEAR-BULGE</td><td>1.6</td><td>1.601</td><td>38.594</td><td>1.62</td><td>1.62</td><td>741.98</td><td>741.98</td><td>40.0</td><td>288.369</td><td>ESO-VLT-U4</td><td>1</td><td>HAWKI_img_obs_FastPhot</td><td>Imaging fast photometry with jitter (no offsets</td><td>1</td><td>3</td><td>2012-03-04T07:46:21</td></tr>\n",
       "<tr><td>34284</td><td>https://dataportal.eso.org/dataPortal/file/HAWKI.2012-03-04T07:46:51.283</td><td>https://archive.eso.org/datalink/links?ID=ivo://eso.org/ID?HAWKI.2012-03-04T07:46:51.283</td><td>2012-03-04T07:46:51.2837</td><td>-28.93167</td><td>-28.93167</td><td></td><td>--</td><td>0.2316</td><td>15238</td><td>500</td><td>SCIENCE</td><td>HAWKI.2012-03-04T07:46:51.283</td><td>IMAGE,BURST</td><td>OBJECT</td><td>-5.530412</td><td>273.103558</td><td>2012-03-04T07:46:51.283Z</td><td>115.8</td><td>KS,OPEN</td><td>-0.046128</td><td>0.033414</td><td></td><td></td><td>IMG</td><td>HAWKI</td><td>2307.0</td><td>1982.0</td><td>2012-03-04T09:01:23.420Z</td><td>55990.324</td><td>200225767</td><td>BURST_GC_K_Holotest</td><td>FIELD-NUCLEAR-BULGE</td><td>s</td><td>HAWKI_IMG_OBS_FAST064_0003.fits</td><td>60</td><td>OBSERVATORY, P</td><td>60.A-9800(L)</td><td>TECHNICAL TIME</td><td>0</td><td>266.469875</td><td>266.469875</td><td>2012-03-04T07:46:51.283Z</td><td>POSITION J2000 266.469875 -28.93167</td><td></td><td>FIELD-NUCLEAR-BULGE</td><td>1.598</td><td>1.598</td><td>38.658</td><td>1.62</td><td>1.62</td><td>741.98</td><td>741.98</td><td>40.0</td><td>288.355</td><td>ESO-VLT-U4</td><td>1</td><td>HAWKI_img_obs_FastPhot</td><td>Imaging fast photometry with jitter (no offsets</td><td>1</td><td>4</td><td>2012-03-04T07:46:40</td></tr>\n",
       "</table></div>"
      ],
      "text/plain": [
       "<Table length=3>\n",
       "access_estsize ...      tpl_start     \n",
       "      kB       ...                    \n",
       "    int64      ...        object      \n",
       "-------------- ... -------------------\n",
       "         34347 ... 2012-03-04T07:46:02\n",
       "         34422 ... 2012-03-04T07:46:21\n",
       "         34284 ... 2012-03-04T07:46:40"
      ]
     },
     "execution_count": 7,
     "metadata": {},
     "output_type": "execute_result"
    }
   ],
   "source": [
    "table = table[table['dp_cat']==\"SCIENCE\"] # select only the rows with the dp_cat column equal to \"SCIENCE\"\n",
    "table[:3] # print the first 3 rows of the table"
   ]
  },
  {
   "cell_type": "markdown",
   "metadata": {},
   "source": [
    "We can check all the column names in the table by printing the ``table.colnames`` attribute to see what else we could filter... "
   ]
  },
  {
   "cell_type": "code",
   "execution_count": 8,
   "metadata": {},
   "outputs": [
    {
     "data": {
      "text/plain": [
       "['access_estsize',\n",
       " 'access_url',\n",
       " 'datalink_url',\n",
       " 'date_obs',\n",
       " 'dec',\n",
       " 'dec_pnt',\n",
       " 'det_chip1id',\n",
       " 'det_chop_ncycles',\n",
       " 'det_dit',\n",
       " 'det_expid',\n",
       " 'det_ndit',\n",
       " 'dp_cat',\n",
       " 'dp_id',\n",
       " 'dp_tech',\n",
       " 'dp_type',\n",
       " 'ecl_lat',\n",
       " 'ecl_lon',\n",
       " 'exp_start',\n",
       " 'exposure',\n",
       " 'filter_path',\n",
       " 'gal_lat',\n",
       " 'gal_lon',\n",
       " 'grat_path',\n",
       " 'gris_path',\n",
       " 'ins_mode',\n",
       " 'instrument',\n",
       " 'lambda_max',\n",
       " 'lambda_min',\n",
       " 'last_mod_date',\n",
       " 'mjd_obs',\n",
       " 'ob_id',\n",
       " 'ob_name',\n",
       " 'object',\n",
       " 'obs_mode',\n",
       " 'origfile',\n",
       " 'period',\n",
       " 'pi_coi',\n",
       " 'prog_id',\n",
       " 'prog_title',\n",
       " 'prog_type',\n",
       " 'ra',\n",
       " 'ra_pnt',\n",
       " 'release_date',\n",
       " 's_region',\n",
       " 'slit_path',\n",
       " 'target',\n",
       " 'tel_airm_end',\n",
       " 'tel_airm_start',\n",
       " 'tel_alt',\n",
       " 'tel_ambi_fwhm_end',\n",
       " 'tel_ambi_fwhm_start',\n",
       " 'tel_ambi_pres_end',\n",
       " 'tel_ambi_pres_start',\n",
       " 'tel_ambi_rhum',\n",
       " 'tel_az',\n",
       " 'telescope',\n",
       " 'tpl_expno',\n",
       " 'tpl_id',\n",
       " 'tpl_name',\n",
       " 'tpl_nexp',\n",
       " 'tpl_seqno',\n",
       " 'tpl_start']"
      ]
     },
     "execution_count": 8,
     "metadata": {},
     "output_type": "execute_result"
    }
   ],
   "source": [
    "table.colnames # print the column names of the table"
   ]
  },
  {
   "cell_type": "markdown",
   "metadata": {},
   "source": [
    "## Downloading datasets from the archive"
   ]
  },
  {
   "cell_type": "markdown",
   "metadata": {},
   "source": [
    "The returned table has an ``dp_id`` column. It can be used to retrieve the datasets with ``retrieve_data()``.\n",
    "\n",
    "The file names, returned in ``data_files``, points to the decompressed datasets (without the .Z extension) that have been locally downloaded. \n",
    "\n",
    "The default location (in the ``astropy`` cache) of the decompressed datasets can be adjusted by providing a destination keyword in the call to ``retrieve_data()``. By default, if a requested dataset is already found, it is not downloaded again from the archive. To force the retrieval of data that are present in the destination directory, use ``continuation=True`` in the call to ``retrieve_data()``."
   ]
  },
  {
   "cell_type": "code",
   "execution_count": null,
   "metadata": {},
   "outputs": [
    {
     "name": "stdout",
     "output_type": "stream",
     "text": [
      "INFO: Downloading datasets ... [astroquery.eso.core]\n",
      "INFO: Downloading 1 files ... [astroquery.eso.core]\n",
      "INFO: Downloading file 1/1 https://dataportal.eso.org/dataPortal/file/HARPS.2003-06-18T09:06:13.920 to /Users/abarnes/.astropy/cache/astroquery/Eso [astroquery.eso.core]\n",
      "INFO: Found cached file /Users/abarnes/.astropy/cache/astroquery/Eso/HARPS.2003-06-18T09:06:13.920.fits [astroquery.eso.core]\n",
      "INFO: Done! [astroquery.eso.core]\n"
     ]
    }
   ],
   "source": [
    "data_files = eso.retrieve_data(table['dp_id'][0]) # download the first data product\n",
    "# data_files = eso.retrieve_data(table['dp_id'][0], continuation=True) # force the download of all files even if present in the destination directory\n",
    "# data_files = eso.retrieve_data(table['dp_id'][0], destination='./') # specify the destination directory for the download"
   ]
  },
  {
   "cell_type": "markdown",
   "metadata": {},
   "source": [
    "<hr style=\"border:2px solid #0281c9\"> </hr>"
   ]
  }
 ],
 "metadata": {
  "kernelspec": {
   "display_name": "tst",
   "language": "python",
   "name": "python3"
  },
  "language_info": {
   "codemirror_mode": {
    "name": "ipython",
    "version": 3
   },
   "file_extension": ".py",
   "mimetype": "text/x-python",
   "name": "python",
   "nbconvert_exporter": "python",
   "pygments_lexer": "ipython3",
   "version": "3.9.21"
  }
 },
 "nbformat": 4,
 "nbformat_minor": 2
}
