{
 "cells": [
  {
   "cell_type": "markdown",
   "metadata": {},
   "source": [
    "<hr style=\"border:2px solid #0281c9\"> </hr>\n",
    "\n",
    "<img align=\"left\" alt=\"ESO Logo\" src=\"http://archive.eso.org/i/esologo.png\">  \n",
    "\n",
    "<div align=\"center\">\n",
    "  <h1 style=\"color: #0281c9; font-weight: bold;\">ESO Science Archive</h1> \n",
    "  <h2 style=\"color: #0281c9; font-weight: bold;\">Jupyter Notebooks</h2>\n",
    "</div>\n",
    "\n",
    "<hr style=\"border:2px solid #0281c9\"> </hr>"
   ]
  },
  {
   "cell_type": "markdown",
   "metadata": {},
   "source": [
    "## Login\n",
    "\n",
    "<hr style=\"border:2px solid #0281c9\"> </hr>"
   ]
  },
  {
   "cell_type": "markdown",
   "metadata": {},
   "source": [
    "### Importing and basic usage of astroquery.eso "
   ]
  },
  {
   "cell_type": "markdown",
   "metadata": {},
   "source": [
    "In this example, we will create an instance of the ESO class using:\n",
    "\n",
    "```python\n",
    "from astroquery.eso import Eso # import the ESO module from astroquery\n",
    "eso = Eso()  # create an instance of the ESO class\n",
    "```\n",
    "\n",
    "This instance will be used to demonstrate various queries to the ESO Archive, including searching for raw data and data products from a range of instruments and sources."
   ]
  },
  {
   "cell_type": "code",
   "execution_count": 1,
   "metadata": {},
   "outputs": [],
   "source": [
    "from astroquery.eso import Eso # import the ESO module from astroquery"
   ]
  },
  {
   "cell_type": "code",
   "execution_count": 2,
   "metadata": {},
   "outputs": [],
   "source": [
    "eso = Eso() # create an instance of the ESO class "
   ]
  },
  {
   "cell_type": "markdown",
   "metadata": {},
   "source": [
    "### Authentication with ESO User Portal\n",
    "\n",
    "Most of the datasets in the ESO Science Archive are public and can be downloaded anonymously without authenticating with the [ESO User Portal](https://www.eso.org/sso/login). Data with restricted access like datasets under proprietary period can be downloaded by authorised users (for example PIs of the corresponding observing programmes and their delegates) after authentication with the ESO User Portal. This authentication is performed directly with the provided ``login()`` command, as illustrated in the example below. This method uses your keyring to securely store the password in your operating system. As such you should have to enter your correct password only once, and later be able to use this package for automated interaction with the ESO archive."
   ]
  },
  {
   "cell_type": "code",
   "execution_count": 3,
   "metadata": {},
   "outputs": [
    {
     "name": "stderr",
     "output_type": "stream",
     "text": [
      "WARNING: No password was found in the keychain for the provided username. [astroquery.query]\n"
     ]
    },
    {
     "name": "stdout",
     "output_type": "stream",
     "text": [
      "INFO: Authenticating TEST on 'www.eso.org' ... [astroquery.eso.core]\n"
     ]
    },
    {
     "name": "stderr",
     "output_type": "stream",
     "text": [
      "ERROR: Authentication failed! [astroquery.eso.core]\n"
     ]
    }
   ],
   "source": [
    "# First example: TEST is not a valid username, it will fail\n",
    "eso.login(username=\"TEST\") "
   ]
  },
  {
   "cell_type": "code",
   "execution_count": null,
   "metadata": {},
   "outputs": [],
   "source": []
  },
  {
   "cell_type": "markdown",
   "metadata": {},
   "source": [
    "<hr style=\"border:2px solid #0281c9\"> </hr>"
   ]
  }
 ],
 "metadata": {
  "kernelspec": {
   "display_name": "tst",
   "language": "python",
   "name": "python3"
  },
  "language_info": {
   "codemirror_mode": {
    "name": "ipython",
    "version": 3
   },
   "file_extension": ".py",
   "mimetype": "text/x-python",
   "name": "python",
   "nbconvert_exporter": "python",
   "pygments_lexer": "ipython3",
   "version": "3.9.21"
  }
 },
 "nbformat": 4,
 "nbformat_minor": 2
}
