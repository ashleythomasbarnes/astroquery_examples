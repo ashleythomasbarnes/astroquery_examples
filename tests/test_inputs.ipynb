{
 "cells": [
  {
   "cell_type": "code",
   "execution_count": 1,
   "metadata": {},
   "outputs": [],
   "source": [
    "from astroquery.eso import Eso\n",
    "from astropy.coordinates import SkyCoord"
   ]
  },
  {
   "cell_type": "code",
   "execution_count": 2,
   "metadata": {},
   "outputs": [],
   "source": [
    "from astropy.coordinates import SkyCoord # import the SkyCoord class from the astropy.coordinates module\n",
    "import astropy.units as u # import the astropy.units module\n",
    "\n",
    "coords = SkyCoord.from_name('Sgr A*') # create a SkyCoord object from the name of the source\n",
    "radius = 60 *u.arcmin # set the radius of the search to 20 arcminutes"
   ]
  },
  {
   "cell_type": "code",
   "execution_count": 3,
   "metadata": {},
   "outputs": [],
   "source": [
    "eso = Eso() # create an instance of the ESO class \n",
    "eso.ROW_LIMIT = None # Does this limit to 1000?\n",
    "# eso.ROW_LIMIT = 2000 # Doesn't seem to increase?"
   ]
  },
  {
   "cell_type": "code",
   "execution_count": 4,
   "metadata": {},
   "outputs": [
    {
     "data": {
      "text/plain": [
       "['081.C-0827',\n",
       " '092.A-0472',\n",
       " '096.B-0054',\n",
       " '1100.A-0528',\n",
       " '1101.A-0127',\n",
       " '193.D-0232',\n",
       " '195.B-0283',\n",
       " '196.B-0578',\n",
       " '196.D-0214',\n",
       " '197.A-0384',\n",
       " '198.A-0708',\n",
       " '60.A-9284H',\n",
       " '60.A-9493',\n",
       " 'ADHOC',\n",
       " 'ALCOHOLS',\n",
       " 'ALLSMOG',\n",
       " 'ALMA',\n",
       " 'AMAZE',\n",
       " 'AMBRE',\n",
       " 'APEX-SciOps',\n",
       " 'ATLASGAL',\n",
       " 'ePESSTOplus',\n",
       " 'ESPRESSO',\n",
       " 'ESSENCE',\n",
       " 'FDS',\n",
       " 'FEROS',\n",
       " 'Fornax3D',\n",
       " 'FORS2-SPEC',\n",
       " 'GAIAESO',\n",
       " 'GCAV',\n",
       " 'GIRAFFE',\n",
       " 'GOODS_FORS2',\n",
       " 'GOODS_ISAAC',\n",
       " 'GOODS_VIMOS_IMAG',\n",
       " 'GOODS_VIMOS_SPEC',\n",
       " 'GW170817',\n",
       " 'HARPS',\n",
       " 'HAWKI',\n",
       " 'HUGS',\n",
       " 'INSPIRE',\n",
       " 'KIDS',\n",
       " 'KMOS',\n",
       " 'LEGA-C',\n",
       " 'LESS',\n",
       " 'MUSE',\n",
       " 'MUSE-DEEP',\n",
       " 'MUSE-STD',\n",
       " 'MW-BULGE-PSFPHOT',\n",
       " 'NGTS',\n",
       " 'PESSTO',\n",
       " 'PHANGS',\n",
       " 'PIONIER',\n",
       " 'SPHERE',\n",
       " 'SUPER',\n",
       " 'UltraVISTA',\n",
       " 'UVES',\n",
       " 'UVES_SQUAD',\n",
       " 'VANDELS',\n",
       " 'VEGAS',\n",
       " 'VEILS',\n",
       " 'VEXAS',\n",
       " 'VHS',\n",
       " 'VIDEO',\n",
       " 'VIKING',\n",
       " 'VIMOS',\n",
       " 'VINROUGE',\n",
       " 'VIPERS',\n",
       " 'VISIONS',\n",
       " 'VMC',\n",
       " 'VPHASplus',\n",
       " 'VST-ATLAS',\n",
       " 'VVV',\n",
       " 'VVVX',\n",
       " 'XQ-100',\n",
       " 'XSGRB',\n",
       " 'XSHOOTER',\n",
       " 'XSL',\n",
       " 'ZCOSMOS']"
      ]
     },
     "execution_count": 4,
     "metadata": {},
     "output_type": "execute_result"
    }
   ],
   "source": [
    "collections = eso.list_collections() # list all collections\n",
    "collections"
   ]
  },
  {
   "cell_type": "code",
   "execution_count": 5,
   "metadata": {},
   "outputs": [
    {
     "data": {
      "text/plain": [
       "['amber',\n",
       " 'apex',\n",
       " 'crires',\n",
       " 'eris',\n",
       " 'espresso',\n",
       " 'fiat',\n",
       " 'fors1',\n",
       " 'fors2',\n",
       " 'giraffe',\n",
       " 'gravity',\n",
       " 'hawki',\n",
       " 'isaac',\n",
       " 'kmos',\n",
       " 'matisse',\n",
       " 'midi',\n",
       " 'muse',\n",
       " 'naco',\n",
       " 'omegacam',\n",
       " 'pionier',\n",
       " 'sinfoni',\n",
       " 'sphere',\n",
       " 'uves',\n",
       " 'vimos',\n",
       " 'vircam',\n",
       " 'visir',\n",
       " 'wlgsu',\n",
       " 'xshooter']"
      ]
     },
     "execution_count": 5,
     "metadata": {},
     "output_type": "execute_result"
    }
   ],
   "source": [
    "instruments = eso.list_instruments() # list all collections\n",
    "instruments"
   ]
  },
  {
   "cell_type": "markdown",
   "metadata": {},
   "source": [
    "**Define some search params**"
   ]
  },
  {
   "cell_type": "code",
   "execution_count": 6,
   "metadata": {},
   "outputs": [],
   "source": [
    "instrument = 'hawki'       # set the instrument to HAWKI\n",
    "pi_coi = 'SCHOEDEL/ DO/ ECKART/ GIRARD/ MUZIC/ NEUMAYER/ NISHIYAMA/ SANCHEZ BERMUDEZ' # set the Co-Investigators\n",
    "ra = coords.ra             # get the right ascension of the source\n",
    "dec = coords.dec           # get the declination of the source\n",
    "radius = radius.to('deg')  # convert the radius to degrees"
   ]
  },
  {
   "cell_type": "markdown",
   "metadata": {},
   "source": [
    "**Could we make all of these consistent?**   \n",
    "**Do we always have to give instrument?**\n",
    "\n",
    "```python\n",
    "table_collections   = eso.query_collections(instrument, ra=ra.value, dec=dec.value, radius=radius.value) \n",
    "table_instrument    = eso.query_instrument(instrument, ra=ra.value, dec=dec.value, radius=radius.value) \n",
    "table_main          = eso.query_main(instrument, ra=ra.value, dec=dec.value, radius=radius.value)\n",
    "```"
   ]
  },
  {
   "cell_type": "code",
   "execution_count": 7,
   "metadata": {},
   "outputs": [
    {
     "name": "stderr",
     "output_type": "stream",
     "text": [
      "/opt/anaconda3/envs/tst/lib/python3.9/site-packages/pyvo/dal/query.py:339: DALOverflowWarning: Partial result set. Potential causes MAXREC, async storage space, etc.\n",
      "  warn(\"Partial result set. Potential causes MAXREC, async storage space, etc.\",\n"
     ]
    }
   ],
   "source": [
    "table_collections   = eso.query_collections(instrument, ra=ra.value, dec=dec.value, radius=radius.value) \n",
    "table_instrument    = eso.query_instrument(instrument, ra=ra.value, dec=dec.value, radius=radius.value) \n",
    "table_main          = eso.query_main(column_filters={'instrument': instrument}, ra=ra.value, dec=dec.value, radius=radius.value)"
   ]
  },
  {
   "cell_type": "markdown",
   "metadata": {},
   "source": [
    "Setting instrument as keyword does not work! "
   ]
  },
  {
   "cell_type": "code",
   "execution_count": 11,
   "metadata": {},
   "outputs": [
    {
     "ename": "TypeError",
     "evalue": "'NoneType' object is not iterable",
     "output_type": "error",
     "traceback": [
      "\u001b[0;31m---------------------------------------------------------------------------\u001b[0m",
      "\u001b[0;31mTypeError\u001b[0m                                 Traceback (most recent call last)",
      "Cell \u001b[0;32mIn[11], line 2\u001b[0m\n\u001b[1;32m      1\u001b[0m table_collections   \u001b[38;5;241m=\u001b[39m eso\u001b[38;5;241m.\u001b[39mquery_collections(instrument, ra\u001b[38;5;241m=\u001b[39mra\u001b[38;5;241m.\u001b[39mvalue, dec\u001b[38;5;241m=\u001b[39mdec\u001b[38;5;241m.\u001b[39mvalue, radius\u001b[38;5;241m=\u001b[39mradius\u001b[38;5;241m.\u001b[39mvalue) \n\u001b[0;32m----> 2\u001b[0m table_collections   \u001b[38;5;241m=\u001b[39m \u001b[43meso\u001b[49m\u001b[38;5;241;43m.\u001b[39;49m\u001b[43mquery_collections\u001b[49m\u001b[43m(\u001b[49m\u001b[43minstrument\u001b[49m\u001b[38;5;241;43m=\u001b[39;49m\u001b[43minstrument\u001b[49m\u001b[43m,\u001b[49m\u001b[43m \u001b[49m\u001b[43mra\u001b[49m\u001b[38;5;241;43m=\u001b[39;49m\u001b[43mra\u001b[49m\u001b[38;5;241;43m.\u001b[39;49m\u001b[43mvalue\u001b[49m\u001b[43m,\u001b[49m\u001b[43m \u001b[49m\u001b[43mdec\u001b[49m\u001b[38;5;241;43m=\u001b[39;49m\u001b[43mdec\u001b[49m\u001b[38;5;241;43m.\u001b[39;49m\u001b[43mvalue\u001b[49m\u001b[43m,\u001b[49m\u001b[43m \u001b[49m\u001b[43mradius\u001b[49m\u001b[38;5;241;43m=\u001b[39;49m\u001b[43mradius\u001b[49m\u001b[38;5;241;43m.\u001b[39;49m\u001b[43mvalue\u001b[49m\u001b[43m)\u001b[49m\n",
      "File \u001b[0;32m/opt/anaconda3/envs/tst/lib/python3.9/site-packages/astropy/utils/decorators.py:604\u001b[0m, in \u001b[0;36mdeprecated_renamed_argument.<locals>.decorator.<locals>.wrapper\u001b[0;34m(*args, **kwargs)\u001b[0m\n\u001b[1;32m    601\u001b[0m             msg \u001b[38;5;241m+\u001b[39m\u001b[38;5;241m=\u001b[39m \u001b[38;5;124mf\u001b[39m\u001b[38;5;124m\"\u001b[39m\u001b[38;5;130;01m\\n\u001b[39;00m\u001b[38;5;124m        Use \u001b[39m\u001b[38;5;132;01m{\u001b[39;00malternative\u001b[38;5;132;01m}\u001b[39;00m\u001b[38;5;124m instead.\u001b[39m\u001b[38;5;124m\"\u001b[39m\n\u001b[1;32m    602\u001b[0m         warnings\u001b[38;5;241m.\u001b[39mwarn(msg, warning_type, stacklevel\u001b[38;5;241m=\u001b[39m\u001b[38;5;241m2\u001b[39m)\n\u001b[0;32m--> 604\u001b[0m \u001b[38;5;28;01mreturn\u001b[39;00m \u001b[43mfunction\u001b[49m\u001b[43m(\u001b[49m\u001b[38;5;241;43m*\u001b[39;49m\u001b[43margs\u001b[49m\u001b[43m,\u001b[49m\u001b[43m \u001b[49m\u001b[38;5;241;43m*\u001b[39;49m\u001b[38;5;241;43m*\u001b[39;49m\u001b[43mkwargs\u001b[49m\u001b[43m)\u001b[49m\n",
      "File \u001b[0;32m/opt/anaconda3/envs/tst/lib/python3.9/site-packages/astroquery/eso/core.py:452\u001b[0m, in \u001b[0;36mEsoClass.query_collections\u001b[0;34m(self, collections, ra, dec, radius, column_filters, columns, open_form, print_help, cache, **kwargs)\u001b[0m\n\u001b[1;32m    450\u001b[0m columns \u001b[38;5;241m=\u001b[39m columns \u001b[38;5;129;01mor\u001b[39;00m []\n\u001b[1;32m    451\u001b[0m _ \u001b[38;5;241m=\u001b[39m open_form\n\u001b[0;32m--> 452\u001b[0m \u001b[38;5;28;01mreturn\u001b[39;00m \u001b[38;5;28;43mself\u001b[39;49m\u001b[38;5;241;43m.\u001b[39;49m\u001b[43m_query_instrument_or_collection\u001b[49m\u001b[43m(\u001b[49m\u001b[43mquery_on\u001b[49m\u001b[38;5;241;43m=\u001b[39;49m\u001b[43mQueryOnCollection\u001b[49m\u001b[43m,\u001b[49m\n\u001b[1;32m    453\u001b[0m \u001b[43m                                            \u001b[49m\u001b[43mprimary_filter\u001b[49m\u001b[38;5;241;43m=\u001b[39;49m\u001b[43mcollections\u001b[49m\u001b[43m,\u001b[49m\n\u001b[1;32m    454\u001b[0m \u001b[43m                                            \u001b[49m\u001b[43mra\u001b[49m\u001b[38;5;241;43m=\u001b[39;49m\u001b[43mra\u001b[49m\u001b[43m,\u001b[49m\u001b[43m \u001b[49m\u001b[43mdec\u001b[49m\u001b[38;5;241;43m=\u001b[39;49m\u001b[43mdec\u001b[49m\u001b[43m,\u001b[49m\u001b[43m \u001b[49m\u001b[43mradius\u001b[49m\u001b[38;5;241;43m=\u001b[39;49m\u001b[43mradius\u001b[49m\u001b[43m,\u001b[49m\n\u001b[1;32m    455\u001b[0m \u001b[43m                                            \u001b[49m\u001b[43mcolumn_filters\u001b[49m\u001b[38;5;241;43m=\u001b[39;49m\u001b[43mcolumn_filters\u001b[49m\u001b[43m,\u001b[49m\n\u001b[1;32m    456\u001b[0m \u001b[43m                                            \u001b[49m\u001b[43mcolumns\u001b[49m\u001b[38;5;241;43m=\u001b[39;49m\u001b[43mcolumns\u001b[49m\u001b[43m,\u001b[49m\n\u001b[1;32m    457\u001b[0m \u001b[43m                                            \u001b[49m\u001b[43mprint_help\u001b[49m\u001b[38;5;241;43m=\u001b[39;49m\u001b[43mprint_help\u001b[49m\u001b[43m,\u001b[49m\n\u001b[1;32m    458\u001b[0m \u001b[43m                                            \u001b[49m\u001b[43mcache\u001b[49m\u001b[38;5;241;43m=\u001b[39;49m\u001b[43mcache\u001b[49m\u001b[43m,\u001b[49m\n\u001b[1;32m    459\u001b[0m \u001b[43m                                            \u001b[49m\u001b[38;5;241;43m*\u001b[39;49m\u001b[38;5;241;43m*\u001b[39;49m\u001b[43mkwargs\u001b[49m\u001b[43m)\u001b[49m\n",
      "File \u001b[0;32m/opt/anaconda3/envs/tst/lib/python3.9/site-packages/astroquery/eso/core.py:412\u001b[0m, in \u001b[0;36mEsoClass._query_instrument_or_collection\u001b[0;34m(self, query_on, primary_filter, ra, dec, radius, column_filters, columns, print_help, cache, **kwargs)\u001b[0m\n\u001b[1;32m    409\u001b[0m \u001b[38;5;28;01mif\u001b[39;00m \u001b[38;5;28misinstance\u001b[39m(primary_filter, \u001b[38;5;28mstr\u001b[39m):\n\u001b[1;32m    410\u001b[0m     primary_filter \u001b[38;5;241m=\u001b[39m _split_str_as_list_of_str(primary_filter)\n\u001b[0;32m--> 412\u001b[0m primary_filter \u001b[38;5;241m=\u001b[39m \u001b[38;5;28mlist\u001b[39m(\u001b[38;5;28;43mmap\u001b[39;49m\u001b[43m(\u001b[49m\u001b[38;5;28;43;01mlambda\u001b[39;49;00m\u001b[43m \u001b[49m\u001b[43mx\u001b[49m\u001b[43m:\u001b[49m\u001b[43m \u001b[49m\u001b[38;5;124;43mf\u001b[39;49m\u001b[38;5;124;43m\"\u001b[39;49m\u001b[38;5;124;43m'\u001b[39;49m\u001b[38;5;132;43;01m{\u001b[39;49;00m\u001b[43mx\u001b[49m\u001b[38;5;241;43m.\u001b[39;49m\u001b[43mstrip\u001b[49m\u001b[43m(\u001b[49m\u001b[43m)\u001b[49m\u001b[38;5;132;43;01m}\u001b[39;49;00m\u001b[38;5;124;43m'\u001b[39;49m\u001b[38;5;124;43m\"\u001b[39;49m\u001b[43m,\u001b[49m\u001b[43m \u001b[49m\u001b[43mprimary_filter\u001b[49m\u001b[43m)\u001b[49m)\n\u001b[1;32m    413\u001b[0m where_collections_str \u001b[38;5;241m=\u001b[39m \u001b[38;5;124mf\u001b[39m\u001b[38;5;124m\"\u001b[39m\u001b[38;5;132;01m{\u001b[39;00mquery_on\u001b[38;5;241m.\u001b[39mcolumn_name\u001b[38;5;132;01m}\u001b[39;00m\u001b[38;5;124m in (\u001b[39m\u001b[38;5;124m\"\u001b[39m \u001b[38;5;241m+\u001b[39m \u001b[38;5;124m\"\u001b[39m\u001b[38;5;124m, \u001b[39m\u001b[38;5;124m\"\u001b[39m\u001b[38;5;241m.\u001b[39mjoin(primary_filter) \u001b[38;5;241m+\u001b[39m \u001b[38;5;124m\"\u001b[39m\u001b[38;5;124m)\u001b[39m\u001b[38;5;124m\"\u001b[39m\n\u001b[1;32m    415\u001b[0m where_constraints_strlist \u001b[38;5;241m=\u001b[39m [\u001b[38;5;124mf\u001b[39m\u001b[38;5;124m\"\u001b[39m\u001b[38;5;132;01m{\u001b[39;00mk\u001b[38;5;132;01m}\u001b[39;00m\u001b[38;5;124m = \u001b[39m\u001b[38;5;132;01m{\u001b[39;00madql_sanitize_val(v)\u001b[38;5;132;01m}\u001b[39;00m\u001b[38;5;124m\"\u001b[39m\n\u001b[1;32m    416\u001b[0m                              \u001b[38;5;28;01mfor\u001b[39;00m k, v \u001b[38;5;129;01min\u001b[39;00m filters\u001b[38;5;241m.\u001b[39mitems()]\n",
      "\u001b[0;31mTypeError\u001b[0m: 'NoneType' object is not iterable"
     ]
    }
   ],
   "source": [
    "table_collections   = eso.query_collections(instrument, ra=ra.value, dec=dec.value, radius=radius.value) \n",
    "table_collections   = eso.query_collections(instrument=instrument, ra=ra.value, dec=dec.value, radius=radius.value)"
   ]
  },
  {
   "cell_type": "markdown",
   "metadata": {},
   "source": [
    "**Note error limiting to 1000 results - can we fix this? Or make them for a async?**  \n",
    "**Do we offer async yet?**\n",
    "\n",
    "/opt/anaconda3/envs/tst/lib/python3.9/site-packages/pyvo/dal/query.py:339: DALOverflowWarning: Partial result set. Potential causes MAXREC, async storage space, etc.\n",
    "  warn(\"Partial result set. Potential causes MAXREC, async storage space, etc.\","
   ]
  },
  {
   "cell_type": "code",
   "execution_count": 8,
   "metadata": {},
   "outputs": [
    {
     "name": "stdout",
     "output_type": "stream",
     "text": [
      "Collentions - length 136 - columns 54\n",
      "Instrument - length 1000 - columns 54\n",
      "Main - length 1000 - columns 54\n"
     ]
    }
   ],
   "source": [
    "print(f'Collentions - length {len(table_collections)} - columns {len(table_collections.colnames)}')\n",
    "print(f'Instrument - length {len(table_instrument)} - columns {len(table_collections.colnames)}')\n",
    "print(f'Main - length {len(table_main)} - columns {len(table_collections.colnames)}')"
   ]
  },
  {
   "cell_type": "markdown",
   "metadata": {},
   "source": [
    "None of them **need** ``ra, dec, radius``... Good... "
   ]
  },
  {
   "cell_type": "code",
   "execution_count": 9,
   "metadata": {},
   "outputs": [],
   "source": [
    "table_collections   = eso.query_collections(instrument) \n",
    "# table_instrument    = eso.query_instrument(instrument, column_filters={'pi_coi':pi_coi})\n",
    "# table_main          = eso.query_main(column_filters={'instrument': instrument, 'pi_coi':pi_coi})"
   ]
  }
 ],
 "metadata": {
  "kernelspec": {
   "display_name": "tst",
   "language": "python",
   "name": "python3"
  },
  "language_info": {
   "codemirror_mode": {
    "name": "ipython",
    "version": 3
   },
   "file_extension": ".py",
   "mimetype": "text/x-python",
   "name": "python",
   "nbconvert_exporter": "python",
   "pygments_lexer": "ipython3",
   "version": "3.9.21"
  }
 },
 "nbformat": 4,
 "nbformat_minor": 2
}
