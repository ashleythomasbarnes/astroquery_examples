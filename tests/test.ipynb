{
 "cells": [
  {
   "cell_type": "code",
   "execution_count": 4,
   "metadata": {},
   "outputs": [
    {
     "name": "stdout",
     "output_type": "stream",
     "text": [
      "     ra         dec    instrument\n",
      "    deg         deg              \n",
      "------------ --------- ----------\n",
      "266.41666694 -29.00556   XSHOOTER\n",
      "266.41666694 -29.00556   XSHOOTER\n",
      "266.41666694 -29.00556   XSHOOTER\n",
      "266.41666694 -29.00556   XSHOOTER\n",
      "266.41666694 -29.00556   XSHOOTER\n",
      "266.41666694 -29.00556   XSHOOTER\n",
      "266.41666694 -29.00556   XSHOOTER\n",
      "266.41666694 -29.00556   XSHOOTER\n",
      "266.41666694 -29.00556   XSHOOTER\n",
      "266.41666694 -29.00556   XSHOOTER\n",
      "         ...       ...        ...\n",
      "266.42153388 -29.01653   XSHOOTER\n",
      "266.42157888 -29.01656   XSHOOTER\n",
      "266.41432694 -29.00989   XSHOOTER\n",
      "266.41404305 -29.00973   XSHOOTER\n",
      "266.42116111 -29.01632   XSHOOTER\n",
      "266.42130305  -29.0164   XSHOOTER\n",
      "266.41425888 -29.00985   XSHOOTER\n",
      "266.41438305 -29.00992   XSHOOTER\n",
      "266.42126805 -29.01638   XSHOOTER\n",
      "266.41964611 -29.00315   XSHOOTER\n",
      "Length = 50 rows\n"
     ]
    }
   ],
   "source": [
    "from astroquery import eso\n",
    "eso_instance = eso.Eso()\n",
    "table = eso_instance.query_instrument('XSHOOTER', ra=266.42, dec=-29.01, radius=0.2)\n",
    "# table = eso_instance.query_collections('XSHOOTER', ra=266.42, dec=-29.01, radius=0.2)\n",
    "# table = eso_instance.query_instrument('UVES', ra=266.42, dec=-29.01, radius=0.2)\n",
    "print(table['ra', 'dec', 'instrument'])"
   ]
  },
  {
   "cell_type": "code",
   "execution_count": 6,
   "metadata": {},
   "outputs": [],
   "source": [
    "from astroquery.eso import Eso\n",
    "from astropy.coordinates import SkyCoord"
   ]
  },
  {
   "cell_type": "code",
   "execution_count": 7,
   "metadata": {},
   "outputs": [],
   "source": [
    "eso = Eso()\n",
    "# eso.help() # this would be useful to see what methods are available"
   ]
  },
  {
   "cell_type": "code",
   "execution_count": 8,
   "metadata": {},
   "outputs": [
    {
     "data": {
      "text/plain": [
       "<SkyCoord (ICRS): (ra, dec) in deg\n",
       "    (266.41681662, -29.00782497)>"
      ]
     },
     "execution_count": 8,
     "metadata": {},
     "output_type": "execute_result"
    }
   ],
   "source": [
    "coords = SkyCoord.from_name('Sgr A*')\n",
    "coords"
   ]
  },
  {
   "cell_type": "code",
   "execution_count": null,
   "metadata": {},
   "outputs": [],
   "source": [
    "# table = eso.query_collections('VIRCAM', ra=coords.ra.value, dec=coords.dec.value, radius=0.2)\n",
    "# table"
   ]
  },
  {
   "cell_type": "code",
   "execution_count": null,
   "metadata": {},
   "outputs": [],
   "source": [
    "table = eso.query_instrument('VIRCAM', ra=coords.ra.value, dec=coords.dec.value, radius=0.2)\n",
    "table"
   ]
  },
  {
   "cell_type": "code",
   "execution_count": null,
   "metadata": {},
   "outputs": [],
   "source": []
  }
 ],
 "metadata": {
  "kernelspec": {
   "display_name": "tst",
   "language": "python",
   "name": "python3"
  },
  "language_info": {
   "codemirror_mode": {
    "name": "ipython",
    "version": 3
   },
   "file_extension": ".py",
   "mimetype": "text/x-python",
   "name": "python",
   "nbconvert_exporter": "python",
   "pygments_lexer": "ipython3",
   "version": "3.9.21"
  }
 },
 "nbformat": 4,
 "nbformat_minor": 2
}
