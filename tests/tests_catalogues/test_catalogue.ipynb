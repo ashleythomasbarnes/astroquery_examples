{
 "cells": [
  {
   "cell_type": "code",
   "execution_count": 1,
   "metadata": {},
   "outputs": [],
   "source": [
    "import query_catalogues as eso"
   ]
  },
  {
   "cell_type": "code",
   "execution_count": 2,
   "metadata": {},
   "outputs": [
    {
     "data": {
      "text/html": [
       "<div><i>Table length=75</i>\n",
       "<table id=\"table4678226032\" class=\"table-striped table-bordered table-condensed\">\n",
       "<thead><tr><th>collection</th><th>table_name</th><th>title</th><th>version</th></tr></thead>\n",
       "<thead><tr><th>object</th><th>object</th><th>object</th><th>int32</th></tr></thead>\n",
       "<tr><td>1101.A-0127</td><td>AMUSED_MAIN_SOURCE_CAT_V1</td><td>AMUSED: the MUSE Hubble Ultra-Deep Field surveys</td><td>1</td></tr>\n",
       "<tr><td>195.B-0283</td><td>GNS_catalogue_V1</td><td>GALACTICNUCLEUS Survey</td><td>1</td></tr>\n",
       "<tr><td>196.D-0214</td><td>EREBOS_RV_cat_fits_V1</td><td>EREBOS_RV_cat.fits</td><td>1</td></tr>\n",
       "<tr><td>196.D-0214</td><td>EREBOS_cat_fits_V1</td><td>EREBOS_cat.fits</td><td>1</td></tr>\n",
       "<tr><td>AMBRE</td><td>AMBRE_HARPS_V1</td><td>Atmospheric Parameters and Chemical Abundances from Stellar Spectra - HARPS</td><td>1</td></tr>\n",
       "<tr><td>AMBRE</td><td>AMBRE_UVES_V1</td><td>Atmospheric Parameters and Chemical Abundances from Stellar Spectra - UVES</td><td>1</td></tr>\n",
       "<tr><td>AMBRE</td><td>AMBRE_V1</td><td>Atmospheric Parameters and Chemical Abundances from Stellar Spectra</td><td>1</td></tr>\n",
       "<tr><td>ATLASGAL</td><td>ATLASGAL_V1</td><td>ATLASGAL - APEX Large Area Survey of the Galaxy</td><td>1</td></tr>\n",
       "<tr><td>FDS</td><td>FDS_SourceCatalogue_V1</td><td>Fornax Deep Survey Source Catalogue</td><td>1</td></tr>\n",
       "<tr><td>GAIAESO</td><td>GES_2021_VRAD</td><td>GAIAESO catalogue of radial velocities</td><td>1</td></tr>\n",
       "<tr><td>...</td><td>...</td><td>...</td><td>...</td></tr>\n",
       "<tr><td>VVV</td><td>VVV_bandMergedSourceCat_V3</td><td>VVV: ZYJHKs Catalogue in the Via Lactea</td><td>3</td></tr>\n",
       "<tr><td>VVVX</td><td>VVVX_VIRAC_V2_LC</td><td>VIRAC2 time series</td><td>1</td></tr>\n",
       "<tr><td>VVVX</td><td>VVVX_VIRAC_V2_LC</td><td>VIRAC2 time series</td><td>1</td></tr>\n",
       "<tr><td>VVVX</td><td>VVVX_VIRAC_V2_OBS</td><td>VIRAC2 observation details</td><td>1</td></tr>\n",
       "<tr><td>VVVX</td><td>VVVX_VIRAC_V2_REJECTED_LC</td><td>VIRAC2 time series - Rejected Sources</td><td>1</td></tr>\n",
       "<tr><td>VVVX</td><td>VVVX_VIRAC_V2_REJECTED_LC</td><td>VIRAC2 time series - Rejected Sources</td><td>1</td></tr>\n",
       "<tr><td>VVVX</td><td>VVVX_VIRAC_V2_REJECTED_SOURCES</td><td>VIRAC2 source catalogue - Rejected Sources</td><td>1</td></tr>\n",
       "<tr><td>VVVX</td><td>VVVX_VIRAC_V2_SOURCES</td><td>VIRAC2 source catalogue</td><td>1</td></tr>\n",
       "<tr><td>XQ-100</td><td>XQ_100_summary_fits_V1</td><td>Quasars and their absorption lines: a legacy survey of the high-redshift universe (XQ-100)</td><td>1</td></tr>\n",
       "<tr><td>ZCOSMOS</td><td>ZCOSMOS_V2</td><td>zCOSMOS Spectroscopic Redshift Survey</td><td>2</td></tr>\n",
       "</table></div>"
      ],
      "text/plain": [
       "<Table length=75>\n",
       " collection           table_name           ... version\n",
       "   object               object             ...  int32 \n",
       "----------- ------------------------------ ... -------\n",
       "1101.A-0127      AMUSED_MAIN_SOURCE_CAT_V1 ...       1\n",
       " 195.B-0283               GNS_catalogue_V1 ...       1\n",
       " 196.D-0214          EREBOS_RV_cat_fits_V1 ...       1\n",
       " 196.D-0214             EREBOS_cat_fits_V1 ...       1\n",
       "      AMBRE                 AMBRE_HARPS_V1 ...       1\n",
       "      AMBRE                  AMBRE_UVES_V1 ...       1\n",
       "      AMBRE                       AMBRE_V1 ...       1\n",
       "   ATLASGAL                    ATLASGAL_V1 ...       1\n",
       "        FDS         FDS_SourceCatalogue_V1 ...       1\n",
       "    GAIAESO                  GES_2021_VRAD ...       1\n",
       "        ...                            ... ...     ...\n",
       "        VVV     VVV_bandMergedSourceCat_V3 ...       3\n",
       "       VVVX               VVVX_VIRAC_V2_LC ...       1\n",
       "       VVVX               VVVX_VIRAC_V2_LC ...       1\n",
       "       VVVX              VVVX_VIRAC_V2_OBS ...       1\n",
       "       VVVX      VVVX_VIRAC_V2_REJECTED_LC ...       1\n",
       "       VVVX      VVVX_VIRAC_V2_REJECTED_LC ...       1\n",
       "       VVVX VVVX_VIRAC_V2_REJECTED_SOURCES ...       1\n",
       "       VVVX          VVVX_VIRAC_V2_SOURCES ...       1\n",
       "     XQ-100         XQ_100_summary_fits_V1 ...       1\n",
       "    ZCOSMOS                     ZCOSMOS_V2 ...       2"
      ]
     },
     "execution_count": 2,
     "metadata": {},
     "output_type": "execute_result"
    }
   ],
   "source": [
    "all_catalogues = eso.catalogues_info(all_versions=False) # Get all the available catalogues\n",
    "all_catalogues['collection', 'table_name', 'title', 'version']"
   ]
  },
  {
   "cell_type": "code",
   "execution_count": 3,
   "metadata": {},
   "outputs": [
    {
     "data": {
      "text/html": [
       "<div><i>Table length=3</i>\n",
       "<table id=\"table4934958384\" class=\"table-striped table-bordered table-condensed\">\n",
       "<thead><tr><th>table_name</th><th>version</th><th>last_version</th><th>table_RA</th><th>target_table</th></tr></thead>\n",
       "<thead><tr><th>object</th><th>int32</th><th>bool</th><th>str7</th><th>object</th></tr></thead>\n",
       "<tr><td>KiDS_DR3_0_ugri_src_fits_V2</td><td>2</td><td>True</td><td>RAJ2000</td><td></td></tr>\n",
       "<tr><td>KiDS_DR3_1_ugri_shear_fits_V1</td><td>1</td><td>True</td><td>RAJ2000</td><td></td></tr>\n",
       "<tr><td>KiDS_DR4_1_ugriZYJHKs_cat_fits</td><td>4</td><td>True</td><td>RAJ2000</td><td></td></tr>\n",
       "</table></div>"
      ],
      "text/plain": [
       "<Table length=3>\n",
       "          table_name           version last_version table_RA target_table\n",
       "            object              int32      bool       str7      object   \n",
       "------------------------------ ------- ------------ -------- ------------\n",
       "   KiDS_DR3_0_ugri_src_fits_V2       2         True  RAJ2000             \n",
       " KiDS_DR3_1_ugri_shear_fits_V1       1         True  RAJ2000             \n",
       "KiDS_DR4_1_ugriZYJHKs_cat_fits       4         True  RAJ2000             "
      ]
     },
     "execution_count": 3,
     "metadata": {},
     "output_type": "execute_result"
    }
   ],
   "source": [
    "kids_catalogues = eso.catalogues_info(all_versions=False, collections='KIDS') \n",
    "kids_catalogues['table_name', 'version', 'last_version', 'table_RA', 'target_table'] "
   ]
  },
  {
   "cell_type": "code",
   "execution_count": 4,
   "metadata": {},
   "outputs": [
    {
     "data": {
      "text/html": [
       "<div><i>Table length=861</i>\n",
       "<table id=\"table4944601728\" class=\"table-striped table-bordered table-condensed\">\n",
       "<thead><tr><th>table_name</th><th>column_name</th><th>ucd</th><th>datatype</th><th>description</th><th>unit</th></tr></thead>\n",
       "<thead><tr><th>object</th><th>object</th><th>object</th><th>object</th><th>object</th><th>object</th></tr></thead>\n",
       "<tr><td>KiDS_DR3_0_ugri_src_fits_V2</td><td>ID</td><td>meta.id;meta.main</td><td>CHAR</td><td>Source identifier</td><td></td></tr>\n",
       "<tr><td>KiDS_DR3_0_ugri_src_fits_V2</td><td>SCID</td><td>meta.id</td><td>BIGINT</td><td>Astro-WISE SourceCollection identifier</td><td></td></tr>\n",
       "<tr><td>KiDS_DR3_0_ugri_src_fits_V2</td><td>SLID</td><td>meta.id</td><td>BIGINT</td><td>Astro-WISE SourceList identifier</td><td></td></tr>\n",
       "<tr><td>KiDS_DR3_0_ugri_src_fits_V2</td><td>SID</td><td>meta.id</td><td>BIGINT</td><td>Astro-WISE Source identifier</td><td></td></tr>\n",
       "<tr><td>KiDS_DR3_0_ugri_src_fits_V2</td><td>RAJ2000</td><td>pos.eq.ra;meta.main</td><td>DOUBLE</td><td>Right ascension</td><td>deg</td></tr>\n",
       "<tr><td>KiDS_DR3_0_ugri_src_fits_V2</td><td>DECJ2000</td><td>pos.eq.dec;meta.main</td><td>DOUBLE</td><td>Declination</td><td>deg</td></tr>\n",
       "<tr><td>KiDS_DR3_0_ugri_src_fits_V2</td><td>SG2DPHOT</td><td>src.class.starGalaxy</td><td>BIGINT</td><td>Star/galaxy separation</td><td></td></tr>\n",
       "<tr><td>KiDS_DR3_0_ugri_src_fits_V2</td><td>A</td><td>phys.angSize.smajAxis</td><td>DOUBLE</td><td>Linear semi major axis</td><td>pixel</td></tr>\n",
       "<tr><td>KiDS_DR3_0_ugri_src_fits_V2</td><td>B</td><td>phys.angSize.sminAxis</td><td>DOUBLE</td><td>Linear semi minor axis</td><td>pixel</td></tr>\n",
       "<tr><td>KiDS_DR3_0_ugri_src_fits_V2</td><td>CLASS_STAR</td><td>src.class.starGalaxy</td><td>REAL</td><td>SExtractor star/galaxy classifier</td><td></td></tr>\n",
       "<tr><td>...</td><td>...</td><td>...</td><td>...</td><td>...</td><td>...</td></tr>\n",
       "<tr><td>KiDS_DR4_1_ugriZYJHKs_cat_fits</td><td>SG_FLAG</td><td>src.class.starGalaxy</td><td>REAL</td><td>Star/Gal Classifier</td><td></td></tr>\n",
       "<tr><td>KiDS_DR4_1_ugriZYJHKs_cat_fits</td><td>MASK</td><td>meta.code</td><td>INTEGER</td><td>9-band mask information</td><td></td></tr>\n",
       "<tr><td>KiDS_DR4_1_ugriZYJHKs_cat_fits</td><td>COLOUR_GAAP_u_g</td><td>phot.color.reddFree;em.opt.U;em.opt.B</td><td>REAL</td><td>u-g colour index</td><td>mag</td></tr>\n",
       "<tr><td>KiDS_DR4_1_ugriZYJHKs_cat_fits</td><td>COLOUR_GAAP_g_r</td><td>phot.color.reddFree;em.opt.B;em.opt.R</td><td>REAL</td><td>g-r colour index</td><td>mag</td></tr>\n",
       "<tr><td>KiDS_DR4_1_ugriZYJHKs_cat_fits</td><td>COLOUR_GAAP_r_i</td><td>phot.color.reddFree;em.opt.R;em.opt.I</td><td>REAL</td><td>r-i colour index</td><td>mag</td></tr>\n",
       "<tr><td>KiDS_DR4_1_ugriZYJHKs_cat_fits</td><td>COLOUR_GAAP_i_Z</td><td>phot.color.reddFree;em.opt.I</td><td>REAL</td><td>i-Z colour index</td><td>mag</td></tr>\n",
       "<tr><td>KiDS_DR4_1_ugriZYJHKs_cat_fits</td><td>COLOUR_GAAP_Z_Y</td><td>phot.color.reddFree;em.opt.I;em.IR.J</td><td>REAL</td><td>Z-Y colour index</td><td>mag</td></tr>\n",
       "<tr><td>KiDS_DR4_1_ugriZYJHKs_cat_fits</td><td>COLOUR_GAAP_Y_J</td><td>phot.color.reddFree;em.IR.J</td><td>REAL</td><td>Y-J colour index</td><td>mag</td></tr>\n",
       "<tr><td>KiDS_DR4_1_ugriZYJHKs_cat_fits</td><td>COLOUR_GAAP_J_H</td><td>phot.color.reddFree;em.IR.J;em.IR.H</td><td>REAL</td><td>J-H colour index</td><td>mag</td></tr>\n",
       "<tr><td>KiDS_DR4_1_ugriZYJHKs_cat_fits</td><td>COLOUR_GAAP_H_Ks</td><td>phot.color.reddFree;em.IR.H;em.IR.K</td><td>REAL</td><td>H-Ks colour index</td><td>mag</td></tr>\n",
       "</table></div>"
      ],
      "text/plain": [
       "<Table length=861>\n",
       "          table_name             column_name    ...  unit \n",
       "            object                  object      ... object\n",
       "------------------------------ ---------------- ... ------\n",
       "   KiDS_DR3_0_ugri_src_fits_V2               ID ...       \n",
       "   KiDS_DR3_0_ugri_src_fits_V2             SCID ...       \n",
       "   KiDS_DR3_0_ugri_src_fits_V2             SLID ...       \n",
       "   KiDS_DR3_0_ugri_src_fits_V2              SID ...       \n",
       "   KiDS_DR3_0_ugri_src_fits_V2          RAJ2000 ...    deg\n",
       "   KiDS_DR3_0_ugri_src_fits_V2         DECJ2000 ...    deg\n",
       "   KiDS_DR3_0_ugri_src_fits_V2         SG2DPHOT ...       \n",
       "   KiDS_DR3_0_ugri_src_fits_V2                A ...  pixel\n",
       "   KiDS_DR3_0_ugri_src_fits_V2                B ...  pixel\n",
       "   KiDS_DR3_0_ugri_src_fits_V2       CLASS_STAR ...       \n",
       "                           ...              ... ...    ...\n",
       "KiDS_DR4_1_ugriZYJHKs_cat_fits          SG_FLAG ...       \n",
       "KiDS_DR4_1_ugriZYJHKs_cat_fits             MASK ...       \n",
       "KiDS_DR4_1_ugriZYJHKs_cat_fits  COLOUR_GAAP_u_g ...    mag\n",
       "KiDS_DR4_1_ugriZYJHKs_cat_fits  COLOUR_GAAP_g_r ...    mag\n",
       "KiDS_DR4_1_ugriZYJHKs_cat_fits  COLOUR_GAAP_r_i ...    mag\n",
       "KiDS_DR4_1_ugriZYJHKs_cat_fits  COLOUR_GAAP_i_Z ...    mag\n",
       "KiDS_DR4_1_ugriZYJHKs_cat_fits  COLOUR_GAAP_Z_Y ...    mag\n",
       "KiDS_DR4_1_ugriZYJHKs_cat_fits  COLOUR_GAAP_Y_J ...    mag\n",
       "KiDS_DR4_1_ugriZYJHKs_cat_fits  COLOUR_GAAP_J_H ...    mag\n",
       "KiDS_DR4_1_ugriZYJHKs_cat_fits COLOUR_GAAP_H_Ks ...    mag"
      ]
     },
     "execution_count": 4,
     "metadata": {},
     "output_type": "execute_result"
    }
   ],
   "source": [
    "kids_viking = eso.columns_info(collections='KIDS') \n",
    "kids_viking "
   ]
  },
  {
   "cell_type": "code",
   "execution_count": 5,
   "metadata": {},
   "outputs": [
    {
     "name": "stdout",
     "output_type": "stream",
     "text": [
      "The query to KiDS_DR4_1_ugriZYJHKs_cat_fits returned 2 entries (with a limit set to maxrec=2)\n"
     ]
    },
    {
     "name": "stderr",
     "output_type": "stream",
     "text": [
      "/opt/anaconda3/envs/tst/lib/python3.9/site-packages/pyvo/dal/query.py:339: DALOverflowWarning: Partial result set. Potential causes MAXREC, async storage space, etc.\n",
      "  warn(\"Partial result set. Potential causes MAXREC, async storage space, etc.\",\n"
     ]
    }
   ],
   "source": [
    "kids_catalogue = eso.get_catalogues(tables=kids_catalogues['table_name'][-1], maxrec=2) # Get the VIKING catalogues"
   ]
  },
  {
   "cell_type": "code",
   "execution_count": 6,
   "metadata": {},
   "outputs": [
    {
     "data": {
      "text/html": [
       "<div><i>Table length=2</i>\n",
       "<table id=\"table4944604800\" class=\"table-striped table-bordered table-condensed\">\n",
       "<thead><tr><th>Level</th><th>ALPHA_J2000</th><th>A_IMAGE</th><th>A_WORLD</th><th>Agaper</th><th>Agaper_0p7</th><th>Agaper_1p0</th><th>BPZ_FILT</th><th>BPZ_FLAGFILT</th><th>BPZ_NONDETFILT</th><th>B_IMAGE</th><th>B_WORLD</th><th>BackGr</th><th>Bgaper</th><th>Bgaper_0p7</th><th>Bgaper_1p0</th><th>CHI_SQUARED_BPZ</th><th>CLASS_STAR</th><th>COLOUR_GAAP_H_Ks</th><th>COLOUR_GAAP_J_H</th><th>COLOUR_GAAP_Y_J</th><th>COLOUR_GAAP_Z_Y</th><th>COLOUR_GAAP_g_r</th><th>COLOUR_GAAP_i_Z</th><th>COLOUR_GAAP_r_i</th><th>COLOUR_GAAP_u_g</th><th>CXX_WORLD</th><th>CXY_WORLD</th><th>CYY_WORLD</th><th>DECJ2000</th><th>DELTA_J2000</th><th>ERRA_IMAGE</th><th>ERRA_WORLD</th><th>ERRB_IMAGE</th><th>ERRB_WORLD</th><th>ERRCXX_WORLD</th><th>ERRCXY_WORLD</th><th>ERRCYY_WORLD</th><th>ERRTHETA_J2000</th><th>ERRTHETA_WORLD</th><th>ERRX2_WORLD</th><th>ERRXY_WORLD</th><th>ERRY2_WORLD</th><th>EXTINCTION_H</th><th>EXTINCTION_J</th><th>EXTINCTION_Ks</th><th>EXTINCTION_Y</th><th>EXTINCTION_Z</th><th>EXTINCTION_g</th><th>EXTINCTION_i</th><th>EXTINCTION_r</th><th>EXTINCTION_u</th><th>FIELD_POS</th><th>FLAG_GAAP_0p7_H</th><th>FLAG_GAAP_0p7_J</th><th>FLAG_GAAP_0p7_Ks</th><th>FLAG_GAAP_0p7_Y</th><th>FLAG_GAAP_0p7_Z</th><th>FLAG_GAAP_0p7_g</th><th>FLAG_GAAP_0p7_i</th><th>FLAG_GAAP_0p7_r</th><th>FLAG_GAAP_0p7_u</th><th>FLAG_GAAP_1p0_H</th><th>FLAG_GAAP_1p0_J</th><th>FLAG_GAAP_1p0_Ks</th><th>FLAG_GAAP_1p0_Y</th><th>FLAG_GAAP_1p0_Z</th><th>FLAG_GAAP_1p0_g</th><th>FLAG_GAAP_1p0_i</th><th>FLAG_GAAP_1p0_r</th><th>FLAG_GAAP_1p0_u</th><th>FLAG_GAAP_H</th><th>FLAG_GAAP_J</th><th>FLAG_GAAP_Ks</th><th>FLAG_GAAP_Y</th><th>FLAG_GAAP_Z</th><th>FLAG_GAAP_g</th><th>FLAG_GAAP_i</th><th>FLAG_GAAP_r</th><th>FLAG_GAAP_u</th><th>FLUXERR_APER_10</th><th>FLUXERR_APER_100</th><th>FLUXERR_APER_14</th><th>FLUXERR_APER_20</th><th>FLUXERR_APER_30</th><th>FLUXERR_APER_4</th><th>FLUXERR_APER_40</th><th>FLUXERR_APER_6</th><th>FLUXERR_APER_60</th><th>FLUXERR_APER_8</th><th>FLUXERR_AUTO</th><th>FLUXERR_GAAP_0p7_H</th><th>FLUXERR_GAAP_0p7_J</th><th>FLUXERR_GAAP_0p7_Ks</th><th>FLUXERR_GAAP_0p7_Y</th><th>FLUXERR_GAAP_0p7_Z</th><th>FLUXERR_GAAP_0p7_g</th><th>FLUXERR_GAAP_0p7_i</th><th>FLUXERR_GAAP_0p7_r</th><th>FLUXERR_GAAP_0p7_u</th><th>FLUXERR_GAAP_1p0_H</th><th>FLUXERR_GAAP_1p0_J</th><th>FLUXERR_GAAP_1p0_Ks</th><th>FLUXERR_GAAP_1p0_Y</th><th>FLUXERR_GAAP_1p0_Z</th><th>FLUXERR_GAAP_1p0_g</th><th>FLUXERR_GAAP_1p0_i</th><th>FLUXERR_GAAP_1p0_r</th><th>FLUXERR_GAAP_1p0_u</th><th>FLUXERR_GAAP_H</th><th>FLUXERR_GAAP_J</th><th>FLUXERR_GAAP_Ks</th><th>FLUXERR_GAAP_Y</th><th>FLUXERR_GAAP_Z</th><th>FLUXERR_GAAP_g</th><th>FLUXERR_GAAP_i</th><th>FLUXERR_GAAP_r</th><th>FLUXERR_GAAP_u</th><th>FLUXERR_ISO</th><th>FLUXERR_ISOCOR</th><th>FLUX_APER_10</th><th>FLUX_APER_100</th><th>FLUX_APER_14</th><th>FLUX_APER_20</th><th>FLUX_APER_30</th><th>FLUX_APER_4</th><th>FLUX_APER_40</th><th>FLUX_APER_6</th><th>FLUX_APER_60</th><th>FLUX_APER_8</th><th>FLUX_AUTO</th><th>FLUX_GAAP_0p7_H</th><th>FLUX_GAAP_0p7_J</th><th>FLUX_GAAP_0p7_Ks</th><th>FLUX_GAAP_0p7_Y</th><th>FLUX_GAAP_0p7_Z</th><th>FLUX_GAAP_0p7_g</th><th>FLUX_GAAP_0p7_i</th><th>FLUX_GAAP_0p7_r</th><th>FLUX_GAAP_0p7_u</th><th>FLUX_GAAP_1p0_H</th><th>FLUX_GAAP_1p0_J</th><th>FLUX_GAAP_1p0_Ks</th><th>FLUX_GAAP_1p0_Y</th><th>FLUX_GAAP_1p0_Z</th><th>FLUX_GAAP_1p0_g</th><th>FLUX_GAAP_1p0_i</th><th>FLUX_GAAP_1p0_r</th><th>FLUX_GAAP_1p0_u</th><th>FLUX_GAAP_H</th><th>FLUX_GAAP_J</th><th>FLUX_GAAP_Ks</th><th>FLUX_GAAP_Y</th><th>FLUX_GAAP_Z</th><th>FLUX_GAAP_g</th><th>FLUX_GAAP_i</th><th>FLUX_GAAP_r</th><th>FLUX_GAAP_u</th><th>FLUX_ISO</th><th>FLUX_ISOCOR</th><th>FLUX_RADIUS</th><th>FWHM_IMAGE</th><th>FWHM_WORLD</th><th>Flag</th><th>HTM</th><th>ID</th><th>IMAFLAGS_ISO</th><th>ISO0</th><th>ISO1</th><th>ISO2</th><th>ISO3</th><th>ISO4</th><th>ISO5</th><th>ISO6</th><th>ISO7</th><th>ISOAREA_WORLD</th><th>KIDS_TILE</th><th>KRON_RADIUS</th><th>MAGERR_APER_10</th><th>MAGERR_APER_100</th><th>MAGERR_APER_14</th><th>MAGERR_APER_20</th><th>MAGERR_APER_4</th><th>MAGERR_APER_40</th><th>MAGERR_APER_6</th><th>MAGERR_APER_60</th><th>MAGERR_APER_8</th><th>MAGERR_AUTO</th><th>MAGERR_GAAP_0p7_H</th><th>MAGERR_GAAP_0p7_J</th><th>MAGERR_GAAP_0p7_Ks</th><th>MAGERR_GAAP_0p7_Y</th><th>MAGERR_GAAP_0p7_Z</th><th>MAGERR_GAAP_0p7_g</th><th>MAGERR_GAAP_0p7_i</th><th>MAGERR_GAAP_0p7_r</th><th>MAGERR_GAAP_0p7_u</th><th>MAGERR_GAAP_1p0_H</th><th>MAGERR_GAAP_1p0_J</th><th>MAGERR_GAAP_1p0_Ks</th><th>MAGERR_GAAP_1p0_Y</th><th>MAGERR_GAAP_1p0_Z</th><th>MAGERR_GAAP_1p0_g</th><th>MAGERR_GAAP_1p0_i</th><th>MAGERR_GAAP_1p0_r</th><th>MAGERR_GAAP_1p0_u</th><th>MAGERR_GAAP_H</th><th>MAGERR_GAAP_J</th><th>MAGERR_GAAP_Ks</th><th>MAGERR_GAAP_Y</th><th>MAGERR_GAAP_Z</th><th>MAGERR_GAAP_g</th><th>MAGERR_GAAP_i</th><th>MAGERR_GAAP_r</th><th>MAGERR_GAAP_u</th><th>MAGERR_ISO</th><th>MAGERR_ISOCOR</th><th>MAGGERR_APER_30</th><th>MAG_APER_10</th><th>MAG_APER_100</th><th>MAG_APER_14</th><th>MAG_APER_20</th><th>MAG_APER_30</th><th>MAG_APER_4</th><th>MAG_APER_40</th><th>MAG_APER_6</th><th>MAG_APER_60</th><th>MAG_APER_8</th><th>MAG_AUTO</th><th>MAG_GAAP_0p7_H</th><th>MAG_GAAP_0p7_J</th><th>MAG_GAAP_0p7_Ks</th><th>MAG_GAAP_0p7_Y</th><th>MAG_GAAP_0p7_Z</th><th>MAG_GAAP_0p7_g</th><th>MAG_GAAP_0p7_i</th><th>MAG_GAAP_0p7_r</th><th>MAG_GAAP_0p7_u</th><th>MAG_GAAP_1p0_H</th><th>MAG_GAAP_1p0_J</th><th>MAG_GAAP_1p0_Ks</th><th>MAG_GAAP_1p0_Y</th><th>MAG_GAAP_1p0_Z</th><th>MAG_GAAP_1p0_g</th><th>MAG_GAAP_1p0_i</th><th>MAG_GAAP_1p0_r</th><th>MAG_GAAP_1p0_u</th><th>MAG_GAAP_H</th><th>MAG_GAAP_J</th><th>MAG_GAAP_Ks</th><th>MAG_GAAP_Y</th><th>MAG_GAAP_Z</th><th>MAG_GAAP_g</th><th>MAG_GAAP_i</th><th>MAG_GAAP_r</th><th>MAG_GAAP_u</th><th>MAG_ISO</th><th>MAG_ISOCOR</th><th>MAG_LIM_H</th><th>MAG_LIM_J</th><th>MAG_LIM_Ks</th><th>MAG_LIM_Y</th><th>MAG_LIM_Z</th><th>MAG_LIM_g</th><th>MAG_LIM_i</th><th>MAG_LIM_r</th><th>MAG_LIM_u</th><th>MASK</th><th>MU_MAX</th><th>MU_THRESHOLD</th><th>M_0</th><th>MaxVal</th><th>NBPZ_FILT</th><th>NBPZ_FLAGFILT</th><th>NBPZ_NONDETFILT</th><th>NIMAFLAGS_ISO</th><th>ODDS</th><th>PAgaap</th><th>RAJ2000</th><th>SG2DPHOT</th><th>SG_FLAG</th><th>SID</th><th>SLID</th><th>S_ELLIPTICITY</th><th>S_ELONGATION</th><th>SeqNr</th><th>THELI_NAME</th><th>THETA_J2000</th><th>THETA_WORLD</th><th>T_B</th><th>T_ML</th><th>X2_WORLD</th><th>XMAX_IMAGE</th><th>XMIN_IMAGE</th><th>XY_WORLD</th><th>X_WORLD</th><th>Xpos</th><th>Y2_WORLD</th><th>YMAX_IMAGE</th><th>YMIN_IMAGE</th><th>Y_WORLD</th><th>Ypos</th><th>Z_B</th><th>Z_B_MAX</th><th>Z_B_MIN</th><th>Z_ML</th></tr></thead>\n",
       "<thead><tr><th>count</th><th>deg</th><th>pixel</th><th>deg</th><th>arcsec</th><th>arcsec</th><th>arcsec</th><th></th><th></th><th></th><th>pixel</th><th>deg</th><th>count</th><th>arcsec</th><th>arcsec</th><th>arcsec</th><th></th><th></th><th>mag</th><th>mag</th><th>mag</th><th>mag</th><th>mag</th><th>mag</th><th>mag</th><th>mag</th><th>deg**(-2)</th><th>deg**(-2)</th><th>deg**(-2)</th><th>deg</th><th>deg</th><th>pixel</th><th>deg</th><th>pixel</th><th>deg</th><th>deg**(-2)</th><th>deg**(-2)</th><th>deg**(-2)</th><th>deg</th><th>deg</th><th>deg**2</th><th>deg**2</th><th>deg**2</th><th>mag</th><th>mag</th><th>mag</th><th>mag</th><th>mag</th><th>mag</th><th>mag</th><th>mag</th><th>mag</th><th></th><th></th><th></th><th></th><th></th><th></th><th></th><th></th><th></th><th></th><th></th><th></th><th></th><th></th><th></th><th></th><th></th><th></th><th></th><th></th><th></th><th></th><th></th><th></th><th></th><th></th><th></th><th></th><th>count</th><th>count</th><th>count</th><th>count</th><th>count</th><th>count</th><th>count</th><th>count</th><th>count</th><th>count</th><th>count</th><th>count</th><th>count</th><th>count</th><th>count</th><th>count</th><th>count</th><th>count</th><th>count</th><th>count</th><th>count</th><th>count</th><th>count</th><th>count</th><th>count</th><th>count</th><th>count</th><th>count</th><th>count</th><th>count</th><th>count</th><th>count</th><th>count</th><th>count</th><th>count</th><th>count</th><th>count</th><th>count</th><th>count</th><th>count</th><th>count</th><th>count</th><th>count</th><th>count</th><th>count</th><th>count</th><th>count</th><th>count</th><th>count</th><th>count</th><th>count</th><th>count</th><th>count</th><th>count</th><th>count</th><th>count</th><th>count</th><th>count</th><th>count</th><th>count</th><th>count</th><th>count</th><th>count</th><th>count</th><th>count</th><th>count</th><th>count</th><th>count</th><th>count</th><th>count</th><th>count</th><th>count</th><th>count</th><th>count</th><th>count</th><th>count</th><th>count</th><th>count</th><th>count</th><th>count</th><th>pixel</th><th>pixel</th><th>deg</th><th></th><th></th><th></th><th></th><th>pixel**2</th><th>pixel**2</th><th>pixel**2</th><th>pixel**2</th><th>pixel**2</th><th>pixel**2</th><th>pixel**2</th><th>pixel**2</th><th>deg**2</th><th></th><th>pixel</th><th>mag</th><th>mag</th><th>mag</th><th>mag</th><th>mag</th><th>mag</th><th>mag</th><th>mag</th><th>mag</th><th>mag</th><th>mag</th><th>mag</th><th>mag</th><th>mag</th><th>mag</th><th>mag</th><th>mag</th><th>mag</th><th>mag</th><th>mag</th><th>mag</th><th>mag</th><th>mag</th><th>mag</th><th>mag</th><th>mag</th><th>mag</th><th>mag</th><th>mag</th><th>mag</th><th>mag</th><th>mag</th><th>mag</th><th>mag</th><th>mag</th><th>mag</th><th>mag</th><th>mag</th><th>mag</th><th>mag</th><th>mag</th><th>mag</th><th>mag</th><th>mag</th><th>mag</th><th>mag</th><th>mag</th><th>mag</th><th>mag</th><th>mag</th><th>mag</th><th>mag</th><th>mag</th><th>mag</th><th>mag</th><th>mag</th><th>mag</th><th>mag</th><th>mag</th><th>mag</th><th>mag</th><th>mag</th><th>mag</th><th>mag</th><th>mag</th><th>mag</th><th>mag</th><th>mag</th><th>mag</th><th>mag</th><th>mag</th><th>mag</th><th>mag</th><th>mag</th><th>mag</th><th>mag</th><th>mag</th><th>mag</th><th>mag</th><th>mag</th><th>mag</th><th>mag</th><th>mag</th><th>mag</th><th>mag</th><th>mag</th><th>mag</th><th>mag</th><th>mag</th><th></th><th>mag.arcsec**(-2)</th><th>mag.arcsec**(-2)</th><th>mag</th><th>count</th><th></th><th></th><th></th><th></th><th></th><th>deg</th><th>deg</th><th></th><th></th><th></th><th></th><th></th><th></th><th></th><th></th><th>deg</th><th>deg</th><th></th><th></th><th>deg**2</th><th>pixel</th><th>pixel</th><th>deg**2</th><th>deg</th><th>pixel</th><th>deg**2</th><th>pixel</th><th>pixel</th><th>deg</th><th>pixel</th><th></th><th></th><th></th><th></th></tr></thead>\n",
       "<thead><tr><th>float32</th><th>float64</th><th>float64</th><th>float32</th><th>float32</th><th>float32</th><th>float32</th><th>int32</th><th>int32</th><th>int32</th><th>float64</th><th>float32</th><th>float32</th><th>float32</th><th>float32</th><th>float32</th><th>float64</th><th>float32</th><th>float32</th><th>float32</th><th>float32</th><th>float32</th><th>float32</th><th>float32</th><th>float32</th><th>float32</th><th>float32</th><th>float32</th><th>float32</th><th>float64</th><th>float64</th><th>float32</th><th>float32</th><th>float32</th><th>float32</th><th>float32</th><th>float32</th><th>float32</th><th>float32</th><th>float32</th><th>float32</th><th>float32</th><th>float32</th><th>float32</th><th>float32</th><th>float32</th><th>float32</th><th>float32</th><th>float32</th><th>float32</th><th>float32</th><th>float32</th><th>int16</th><th>int16</th><th>int16</th><th>int16</th><th>int16</th><th>int16</th><th>int32</th><th>int32</th><th>int32</th><th>int32</th><th>int16</th><th>int16</th><th>int16</th><th>int16</th><th>int16</th><th>int32</th><th>int32</th><th>int32</th><th>int32</th><th>int16</th><th>int16</th><th>int16</th><th>int16</th><th>int16</th><th>int16</th><th>int16</th><th>int16</th><th>int16</th><th>float32</th><th>float32</th><th>float32</th><th>float32</th><th>float32</th><th>float32</th><th>float32</th><th>float32</th><th>float32</th><th>float32</th><th>float32</th><th>float32</th><th>float32</th><th>float32</th><th>float32</th><th>float32</th><th>float32</th><th>float32</th><th>float32</th><th>float32</th><th>float32</th><th>float32</th><th>float32</th><th>float32</th><th>float32</th><th>float32</th><th>float32</th><th>float32</th><th>float32</th><th>float32</th><th>float32</th><th>float32</th><th>float32</th><th>float32</th><th>float32</th><th>float32</th><th>float32</th><th>float32</th><th>float32</th><th>float32</th><th>float32</th><th>float32</th><th>float32</th><th>float32</th><th>float32</th><th>float32</th><th>float32</th><th>float32</th><th>float32</th><th>float32</th><th>float32</th><th>float32</th><th>float32</th><th>float32</th><th>float32</th><th>float32</th><th>float32</th><th>float32</th><th>float32</th><th>float32</th><th>float32</th><th>float32</th><th>float32</th><th>float32</th><th>float32</th><th>float32</th><th>float32</th><th>float32</th><th>float32</th><th>float32</th><th>float32</th><th>float32</th><th>float32</th><th>float32</th><th>float32</th><th>float32</th><th>float32</th><th>float32</th><th>float32</th><th>float32</th><th>float32</th><th>float32</th><th>float32</th><th>int16</th><th>int32</th><th>object</th><th>int16</th><th>int16</th><th>int16</th><th>int16</th><th>int16</th><th>int16</th><th>int16</th><th>int16</th><th>int16</th><th>float32</th><th>object</th><th>float32</th><th>float32</th><th>float32</th><th>float32</th><th>float32</th><th>float32</th><th>float32</th><th>float32</th><th>float32</th><th>float32</th><th>float32</th><th>float32</th><th>float32</th><th>float32</th><th>float32</th><th>float32</th><th>float32</th><th>float32</th><th>float32</th><th>float32</th><th>float32</th><th>float32</th><th>float32</th><th>float32</th><th>float32</th><th>float32</th><th>float32</th><th>float32</th><th>float32</th><th>float32</th><th>float32</th><th>float32</th><th>float32</th><th>float32</th><th>float32</th><th>float32</th><th>float32</th><th>float32</th><th>float32</th><th>float32</th><th>float32</th><th>float32</th><th>float32</th><th>float32</th><th>float32</th><th>float32</th><th>float32</th><th>float32</th><th>float32</th><th>float32</th><th>float32</th><th>float32</th><th>float32</th><th>float32</th><th>float32</th><th>float32</th><th>float32</th><th>float32</th><th>float32</th><th>float32</th><th>float32</th><th>float32</th><th>float32</th><th>float32</th><th>float32</th><th>float32</th><th>float32</th><th>float32</th><th>float32</th><th>float32</th><th>float32</th><th>float32</th><th>float32</th><th>float32</th><th>float32</th><th>float32</th><th>float32</th><th>float32</th><th>float32</th><th>float32</th><th>float32</th><th>float32</th><th>float32</th><th>float32</th><th>float32</th><th>float32</th><th>float32</th><th>float32</th><th>float32</th><th>float32</th><th>int32</th><th>float32</th><th>float32</th><th>float64</th><th>float32</th><th>int32</th><th>int32</th><th>int32</th><th>int16</th><th>float64</th><th>float32</th><th>float64</th><th>int16</th><th>float32</th><th>int32</th><th>int32</th><th>float32</th><th>float32</th><th>int32</th><th>object</th><th>float32</th><th>float32</th><th>float64</th><th>float64</th><th>float32</th><th>int16</th><th>int16</th><th>float32</th><th>float64</th><th>float32</th><th>float32</th><th>int16</th><th>int16</th><th>float64</th><th>float32</th><th>float64</th><th>float64</th><th>float64</th><th>float64</th></tr></thead>\n",
       "<tr><td>0.03316526</td><td>5.079035</td><td>1.023542</td><td>6.084906e-05</td><td>0.73</td><td>0.73</td><td>1.02</td><td>511</td><td>0</td><td>0</td><td>0.7522829999999999</td><td>4.469738e-05</td><td>-0.001715459</td><td>0.72</td><td>0.72</td><td>1.01</td><td>0.729</td><td>0.4648476</td><td>0.2999153</td><td>0.4996891</td><td>0.14684677</td><td>0.4067688</td><td>1.3296089</td><td>0.95215225</td><td>0.3874302</td><td>-0.6200619</td><td>0.003612689</td><td>-0.0007621087</td><td>0.002087776</td><td>-28.686515</td><td>-28.686515</td><td>0.1567251</td><td>9.317543e-06</td><td>0.1110197</td><td>6.595674e-06</td><td>8.399833e-05</td><td>-2.136587e-05</td><td>4.632119e-05</td><td>14.77843</td><td>75.22157</td><td>4.632119e-11</td><td>1.068304e-11</td><td>8.399833e-11</td><td>0.007836037</td><td>0.012345455</td><td>0.0052486663</td><td>0.018998694</td><td>0.022029614</td><td>0.05760177</td><td>0.02961181</td><td>0.03984864</td><td>0.07392488</td><td>1</td><td>0</td><td>0</td><td>0</td><td>0</td><td>0</td><td>0</td><td>0</td><td>0</td><td>0</td><td>0</td><td>0</td><td>0</td><td>0</td><td>0</td><td>0</td><td>0</td><td>0</td><td>0</td><td>0</td><td>0</td><td>0</td><td>0</td><td>0</td><td>0</td><td>0</td><td>0</td><td>0</td><td>0.1980981</td><td>1.972747</td><td>0.2766576</td><td>0.3945115</td><td>0.5913799</td><td>0.08062147</td><td>0.7879333</td><td>0.1198347</td><td>1.181096</td><td>0.1588316</td><td>0.2735538</td><td>196.62798</td><td>124.66181</td><td>238.99669</td><td>158.6905</td><td>69.547</td><td>2.7e-11</td><td>1.71e-10</td><td>4.11e-11</td><td>6.48e-11</td><td>251.6214</td><td>156.75671</td><td>308.5334</td><td>190.81694</td><td>85.8607</td><td>3.06e-11</td><td>2.07e-10</td><td>4.61e-11</td><td>7.23e-11</td><td>196.62798</td><td>124.66181</td><td>238.99669</td><td>158.6905</td><td>69.547</td><td>2.7e-11</td><td>1.71e-10</td><td>4.11e-11</td><td>6.48e-11</td><td>0.07460772</td><td>0.1772088</td><td>1.59652</td><td>2.492169</td><td>2.0304</td><td>2.732923</td><td>4.337295</td><td>0.5427271</td><td>4.349409</td><td>0.9084027</td><td>3.319241</td><td>1.281595</td><td>1.862896</td><td>2737.4402</td><td>1720.6212</td><td>3617.1357</td><td>1493.7296</td><td>1024.1283</td><td>7.9394e-11</td><td>4.5041e-10</td><td>3.0745e-10</td><td>1.2166e-10</td><td>3256.905</td><td>2114.5603</td><td>4415.3223</td><td>1885.7769</td><td>1198.3867</td><td>9.304e-11</td><td>3.9883e-10</td><td>3.5764e-10</td><td>9.2285e-11</td><td>2737.4402</td><td>1720.6212</td><td>3617.1357</td><td>1493.7296</td><td>1024.1283</td><td>7.9394e-11</td><td>4.5041e-10</td><td>3.0745e-10</td><td>1.2166e-10</td><td>0.493668</td><td>1.109766</td><td>3.071152</td><td>4.06996</td><td>0.0002419365</td><td>2</td><td>1405256194</td><td>KiDSDR4 J002018.968-284111.45</td><td>0</td><td>8</td><td>7</td><td>7</td><td>6</td><td>5</td><td>4</td><td>4</td><td>3</td><td>2.826914e-08</td><td>KIDS_5.6_-28.2</td><td>7.95774</td><td>0.1347522</td><td>0.8596542</td><td>0.1479758</td><td>0.1567697</td><td>0.161324</td><td>0.1967384</td><td>0.143263</td><td>0.3864349</td><td>0.134591</td><td>0.1594719</td><td>0.0779875</td><td>0.0786634</td><td>0.0717384</td><td>0.115346</td><td>0.0737307</td><td>0.3692329</td><td>0.4122042</td><td>0.1451415</td><td>0.57829773</td><td>0.0838816</td><td>0.0804879</td><td>0.0758689</td><td>0.109863</td><td>0.0777896</td><td>0.35708866</td><td>0.56351674</td><td>0.13995202</td><td>0.850612</td><td>0.0779875</td><td>0.0786634</td><td>0.0717384</td><td>0.115346</td><td>0.0737307</td><td>0.3692329</td><td>0.4122042</td><td>0.1451415</td><td>0.57829773</td><td>0.1641264</td><td>0.1734139</td><td>0.1480735</td><td>24.15206</td><td>23.66856</td><td>23.89105</td><td>23.56843</td><td>23.06695</td><td>25.32355</td><td>23.06392</td><td>24.7643</td><td>23.3574</td><td>24.39062</td><td>23.98453</td><td>21.4066</td><td>21.9108</td><td>21.1041</td><td>22.0643</td><td>22.4741</td><td>25.178864</td><td>23.433834</td><td>23.831501</td><td>24.575125</td><td>21.218</td><td>21.6869</td><td>20.8876</td><td>21.8113</td><td>22.3035</td><td>25.00748</td><td>23.570972</td><td>23.669971</td><td>24.88203</td><td>21.398766</td><td>21.898455</td><td>21.09885</td><td>22.045301</td><td>22.45207</td><td>25.121262</td><td>23.404222</td><td>23.791653</td><td>24.5012</td><td>25.42641</td><td>24.54692</td><td>24.265886</td><td>24.760666</td><td>24.05402</td><td>24.498623</td><td>25.394304</td><td>26.349922</td><td>24.485367</td><td>26.016333</td><td>25.259056</td><td>0</td><td>24.14332</td><td>25.12795</td><td>23.523</td><td>0.0737054</td><td>9</td><td>0</td><td>0</td><td>0</td><td>0.61812</td><td>-76.7</td><td>5.079035</td><td>0</td><td>1.0</td><td>4343</td><td>60513621</td><td>0.2650202</td><td>1.360582</td><td>4344</td><td>KIDS_5p6_m28p2</td><td>13.27741</td><td>76.72259</td><td>1.6360000000000001</td><td>1.6360000000000001</td><td>2.087776e-09</td><td>18819</td><td>18817</td><td>3.810582e-10</td><td>5.079035</td><td>18817.86</td><td>3.612689e-09</td><td>2168</td><td>2165</td><td>-28.686515</td><td>2166.279</td><td>0.7899999999999999</td><td>0.97</td><td>0.6699999999999999</td><td>0.7799999999999999</td></tr>\n",
       "<tr><td>0.03316413</td><td>5.127818</td><td>2.087884</td><td>0.0001240919</td><td>0.83</td><td>0.83</td><td>1.1</td><td>511</td><td>0</td><td>0</td><td>1.929386</td><td>0.0001146886</td><td>0.0009604087</td><td>0.81</td><td>0.81</td><td>1.08</td><td>3.303</td><td>0.01747355</td><td>0.45652962</td><td>0.16047668</td><td>0.123781204</td><td>0.18145561</td><td>0.71990013</td><td>0.50320625</td><td>0.6213703</td><td>0.61332893</td><td>0.01324539</td><td>-0.0008897572</td><td>0.01530689</td><td>-28.686661</td><td>-28.686661</td><td>0.08034874</td><td>4.775494e-06</td><td>0.07493723</td><td>4.454466e-06</td><td>1.996915e-05</td><td>-1.199723e-06</td><td>2.267847e-05</td><td>78.05769</td><td>11.9423</td><td>2.267847e-11</td><td>5.998675e-13</td><td>1.996915e-11</td><td>0.008384066</td><td>0.013208859</td><td>0.0056157424</td><td>0.020327404</td><td>0.0235703</td><td>0.06163026</td><td>0.03168276</td><td>0.04263553</td><td>0.07909496</td><td>1</td><td>0</td><td>0</td><td>0</td><td>0</td><td>0</td><td>0</td><td>0</td><td>0</td><td>0</td><td>0</td><td>0</td><td>0</td><td>0</td><td>0</td><td>0</td><td>0</td><td>0</td><td>0</td><td>0</td><td>0</td><td>0</td><td>0</td><td>0</td><td>0</td><td>0</td><td>0</td><td>0</td><td>0.2021385</td><td>1.967947</td><td>0.2796215</td><td>0.3964828</td><td>0.5924814</td><td>0.08512427</td><td>0.7888458</td><td>0.1246874</td><td>1.181653</td><td>0.1632707</td><td>0.4096192</td><td>251.87572</td><td>167.1169</td><td>208.39558</td><td>143.01286</td><td>52.495228</td><td>2.73e-11</td><td>1.34e-10</td><td>4.21e-11</td><td>6.54e-11</td><td>309.84167</td><td>204.47795</td><td>258.70938</td><td>170.15776</td><td>63.238796</td><td>3.13e-11</td><td>1.6e-10</td><td>4.79e-11</td><td>7.43e-11</td><td>251.87572</td><td>167.1169</td><td>208.39558</td><td>143.01286</td><td>52.495228</td><td>2.73e-11</td><td>1.34e-10</td><td>4.21e-11</td><td>6.54e-11</td><td>0.1854642</td><td>0.2987491</td><td>5.327458</td><td>5.995962</td><td>6.273825</td><td>6.970155</td><td>7.856792</td><td>1.679191</td><td>7.938697</td><td>3.189857</td><td>6.079957</td><td>4.419429</td><td>7.01861</td><td>4051.901</td><td>3479.613</td><td>6185.0205</td><td>3084.215</td><td>2601.7944</td><td>4.3013e-10</td><td>1.7294e-09</td><td>9.5104e-10</td><td>2.1142e-10</td><td>4348.304</td><td>3868.2278</td><td>6566.302</td><td>3274.3804</td><td>2917.6367</td><td>4.8485e-10</td><td>1.8597e-09</td><td>9.9146e-10</td><td>2.552e-10</td><td>4051.901</td><td>3479.613</td><td>6185.0205</td><td>3084.215</td><td>2601.7944</td><td>4.3013e-10</td><td>1.7294e-09</td><td>9.5104e-10</td><td>2.1142e-10</td><td>5.152455</td><td>6.596184</td><td>3.238303</td><td>7.050258</td><td>0.0004190987</td><td>0</td><td>1940157430</td><td>KiDSDR4 J002030.676-284111.97</td><td>0</td><td>59</td><td>57</td><td>50</td><td>42</td><td>30</td><td>24</td><td>15</td><td>5</td><td>2.084849e-07</td><td>KIDS_5.6_-28.2</td><td>5.154382</td><td>0.04120584</td><td>0.3564382</td><td>0.04840253</td><td>0.06177485</td><td>0.05505328</td><td>0.1079127</td><td>0.04245035</td><td>0.2110664</td><td>0.04012101</td><td>0.063381</td><td>0.0674919</td><td>0.0521451</td><td>0.0365824</td><td>0.0503448</td><td>0.0219064</td><td>0.06891079</td><td>0.084126666</td><td>0.048062637</td><td>0.3358582</td><td>0.0773649</td><td>0.057393</td><td>0.0427775</td><td>0.0564218</td><td>0.023533</td><td>0.07009084</td><td>0.09341173</td><td>0.052454725</td><td>0.31610578</td><td>0.0674919</td><td>0.0521451</td><td>0.0365824</td><td>0.0503448</td><td>0.0219064</td><td>0.06891079</td><td>0.084126666</td><td>0.048062637</td><td>0.3358582</td><td>0.0390909</td><td>0.04918624</td><td>0.08189535</td><td>22.8437</td><td>22.71535</td><td>22.66617</td><td>22.55189</td><td>22.42189</td><td>24.09725</td><td>22.41063</td><td>23.40057</td><td>22.70025</td><td>23.04659</td><td>22.54437</td><td>20.9809</td><td>21.1462</td><td>20.5216</td><td>21.2771</td><td>21.4618</td><td>23.344336</td><td>21.973118</td><td>22.60544</td><td>23.97513</td><td>20.9042</td><td>21.0312</td><td>20.4567</td><td>21.2122</td><td>21.3374</td><td>23.215137</td><td>21.899336</td><td>22.562897</td><td>23.777657</td><td>20.972515</td><td>21.132992</td><td>20.515985</td><td>21.256773</td><td>21.438229</td><td>23.282705</td><td>21.941435</td><td>22.562805</td><td>23.896034</td><td>22.87996</td><td>22.61177</td><td>23.997034</td><td>24.44245</td><td>24.202778</td><td>24.611563</td><td>25.6997</td><td>26.337925</td><td>24.750093</td><td>25.990232</td><td>25.24905</td><td>12292</td><td>23.23415</td><td>25.12795</td><td>21.844</td><td>0.1702811</td><td>9</td><td>0</td><td>0</td><td>0</td><td>0.95672</td><td>-11.7</td><td>5.127818</td><td>0</td><td>1.0</td><td>4349</td><td>60513621</td><td>0.07591355</td><td>1.08215</td><td>4350</td><td>KIDS_5p6_m28p2</td><td>78.32724</td><td>11.67276</td><td>2.818</td><td>2.818</td><td>1.530689e-08</td><td>18102</td><td>18093</td><td>4.44883e-10</td><td>5.127818</td><td>18097.86</td><td>1.324538e-08</td><td>2171</td><td>2162</td><td>-28.686661</td><td>2167.066</td><td>0.8300000000000001</td><td>0.92</td><td>0.7899999999999999</td><td>0.8300000000000001</td></tr>\n",
       "</table></div>"
      ],
      "text/plain": [
       "<Table length=2>\n",
       "  Level    ALPHA_J2000 A_IMAGE  ...      Z_B_MIN              Z_ML       \n",
       "  count        deg      pixel   ...                                      \n",
       " float32     float64   float64  ...      float64            float64      \n",
       "---------- ----------- -------- ... ------------------ ------------------\n",
       "0.03316526    5.079035 1.023542 ... 0.6699999999999999 0.7799999999999999\n",
       "0.03316413    5.127818 2.087884 ... 0.7899999999999999 0.8300000000000001"
      ]
     },
     "execution_count": 6,
     "metadata": {},
     "output_type": "execute_result"
    }
   ],
   "source": [
    "kids_catalogue"
   ]
  }
 ],
 "metadata": {
  "kernelspec": {
   "display_name": "tst",
   "language": "python",
   "name": "python3"
  },
  "language_info": {
   "codemirror_mode": {
    "name": "ipython",
    "version": 3
   },
   "file_extension": ".py",
   "mimetype": "text/x-python",
   "name": "python",
   "nbconvert_exporter": "python",
   "pygments_lexer": "ipython3",
   "version": "3.9.21"
  }
 },
 "nbformat": 4,
 "nbformat_minor": 2
}
