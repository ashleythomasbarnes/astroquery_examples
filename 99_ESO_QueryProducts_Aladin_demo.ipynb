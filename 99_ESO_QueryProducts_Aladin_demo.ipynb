{
 "cells": [
  {
   "cell_type": "markdown",
   "metadata": {},
   "source": [
    "<hr style=\"border:2px solid #0281c9\"> </hr>\n",
    "\n",
    "<img align=\"left\" alt=\"ESO Logo\" src=\"http://archive.eso.org/i/esologo.png\">  \n",
    "\n",
    "<div align=\"center\">\n",
    "  <h1 style=\"color: #0281c9; font-weight: bold;\">ESO Science Archive</h1> \n",
    "  <h2 style=\"color: #0281c9; font-weight: bold;\">Jupyter Notebooks</h2>\n",
    "</div>\n",
    "\n",
    "<hr style=\"border:2px solid #0281c9\"> </hr>"
   ]
  },
  {
   "cell_type": "markdown",
   "metadata": {},
   "source": [
    "## Query by source name/position\n",
    "\n",
    "This notebook demonstrates how to use the ``astroquery.eso`` module to search for and download science-ready **HAWK-I** near-infrared data from the ESO archive, specifically targeting **Sgr A**, the supermassive black hole at the center of the Milky Way. It guides users through constructing and executing the query to locate relevant **HAWK-I** observations, filtering results to identify processed data products, and downloading these datasets for further analysis, providing a streamlined approach to accessing ESO’s extensive observational resources programatically. \n",
    "\n",
    "<hr style=\"border:2px solid #0281c9\"> </hr>"
   ]
  },
  {
   "cell_type": "markdown",
   "metadata": {},
   "source": [
    "### Importing and basic usage of astroquery.eso "
   ]
  },
  {
   "cell_type": "markdown",
   "metadata": {},
   "source": [
    "In this example, we will create an instance of the ESO class using:\n",
    "\n",
    "```python\n",
    "from astroquery.eso import Eso # import the ESO module from astroquery\n",
    "eso = Eso()  # create an instance of the ESO class\n",
    "```\n",
    "\n",
    "This instance will be used to demonstrate various queries to the ESO Archive, including searching for raw data and data products from a range of instruments and sources."
   ]
  },
  {
   "cell_type": "code",
   "execution_count": 1,
   "metadata": {},
   "outputs": [],
   "source": [
    "from astroquery.eso import Eso # import the ESO module from astroquery"
   ]
  },
  {
   "cell_type": "code",
   "execution_count": 2,
   "metadata": {},
   "outputs": [],
   "source": [
    "eso = Eso() # create an instance of the ESO class \n",
    "eso.maxrec = 1000"
   ]
  },
  {
   "cell_type": "markdown",
   "metadata": {},
   "source": [
    "### Identify available collections (reduced data)\n",
    "\n",
    "ESO provides access to processed or reduced data, which has undergone various calibration and analysis steps to make it more immediately useful for scientific research. These processed datasets are grouped into `collections`, each corresponding to a specific survey, instrument, or science case. The list of available collections can be obtained as follows:"
   ]
  },
  {
   "cell_type": "code",
   "execution_count": 3,
   "metadata": {},
   "outputs": [
    {
     "data": {
      "text/plain": [
       "['081.C-0827', '092.A-0472', '096.B-0054']"
      ]
     },
     "execution_count": 3,
     "metadata": {},
     "output_type": "execute_result"
    }
   ],
   "source": [
    "collections = eso.list_collections() # list all collections\n",
    "collections[:3] # print the first 3 collections"
   ]
  },
  {
   "cell_type": "code",
   "execution_count": 4,
   "metadata": {},
   "outputs": [
    {
     "data": {
      "text/plain": [
       "True"
      ]
     },
     "execution_count": 4,
     "metadata": {},
     "output_type": "execute_result"
    }
   ],
   "source": [
    "'HAWKI' in collections # check if 'HAWKI' is in the collections"
   ]
  },
  {
   "cell_type": "markdown",
   "metadata": {},
   "source": [
    "### Performing a Small Cone Search Around Sgr A*\n",
    "\n",
    "To perform a small cone search of **10 arcseconds** around the source **Sgr A**, we first need to resolve the source name to obtain its **Right Ascension (RA)** and **Declination (Dec)** coordinates. This can be done using an online name resolver such as the ``SkyCoord.from_name()`` method from astropy.coordinates, which allows us to resolve object names into precise RA/Dec coordinates using online astronomical databases. This gives: \n",
    "\n",
    "```python\n",
    "ra = 266.835\n",
    "dec = -28.38528\n",
    "```\n",
    "\n",
    "In coordinate values of degrees in the ICRS (International Celestial Reference System) frame."
   ]
  },
  {
   "cell_type": "code",
   "execution_count": 5,
   "metadata": {},
   "outputs": [],
   "source": [
    "from astropy.coordinates import SkyCoord # import the SkyCoord class from the astropy.coordinates module\n",
    "import astropy.units as u # import the astropy.units module\n",
    "\n",
    "coords = SkyCoord.from_name('Sgr A*') # create a SkyCoord object from the name of the source\n",
    "radius = 20 *u.arcmin # set the radius of the search to 20 arcminutes"
   ]
  },
  {
   "cell_type": "markdown",
   "metadata": {},
   "source": [
    "We use `astroquery.eso` to search for observations of **Sgr A** taken with the **HAWKI** instrument on the **VLT (Very Large Telescope)**.\n",
    "\n",
    "This search can also be accessed via the following: \n",
    "\n",
    "[tap-link]: https://archive.eso.org/tap_obs/sync?REQUEST=doQuery&amp;LANG=ADQL&amp;MAXREC=200&amp;FORMAT=txt&amp;QUERY=SELECT%20*%0Afrom%20ivoa.obscore%0Awhere%20intersects(s_region,%20circle(%27%27,%20266.835,%20-28.38528,%200.1666))=1%0AAND%20instrument_name%20=%20%27HAWKI%27\n",
    "\n",
    "[sp-link]: https://archive.eso.org/scienceportal/home?data_release_date=*:2025-02-07&pos=266.41682,-29.00782&r=0.016667&fovcorners=266.800868,-29.226927,266.033328,-29.226929,266.034957,-28.787142,266.799236,-28.787141&ins_id=HAWKI&dp_type=IMAGE&sort=dist,-fov,-obs_date&s=P%2fDSS2%2fcolor&f=0.669626&fc=266.799236,-28.787141&cs=J2000&av=true&ac=false&c=9,10,11,12,13,15,16,17,18,19,20,21&ta=RES&dts=true&sdtm=%7b%22IMAGE%22%3atrue%7d&at=266.41682,-29.00782&sr=i\n",
    "\n",
    "- **TAP** - [see here][tap-link]\n",
    "- **ESO Science Portal** [see here](sp-link)"
   ]
  },
  {
   "cell_type": "code",
   "execution_count": 6,
   "metadata": {},
   "outputs": [],
   "source": [
    "instrument = 'HAWKI'       # set the instrument to HAWKI\n",
    "ra = coords.ra             # get the right ascension of the source\n",
    "dec = coords.dec           # get the declination of the source\n",
    "radius = radius.to('deg')  # convert the radius to degrees\n",
    "\n",
    "table = eso.query_collections(instrument, ra=ra.value, dec=dec.value, radius=radius.value) # query the ESO archive for VIRCAM data around Sgr A*\n",
    "# table"
   ]
  },
  {
   "cell_type": "code",
   "execution_count": 7,
   "metadata": {},
   "outputs": [],
   "source": [
    "table.sort('dp_id', reverse=True) # sort the table by the 'dp_id' column - newest data first"
   ]
  },
  {
   "cell_type": "markdown",
   "metadata": {},
   "source": [
    "We can now inspect the results, which are stored as an ``astropy.table``. However note here these results include all data from the science achive, included non-science data... "
   ]
  },
  {
   "cell_type": "code",
   "execution_count": 8,
   "metadata": {},
   "outputs": [
    {
     "data": {
      "text/html": [
       "<i>Row index=0</i>\n",
       "<table id=\"table5157660128\">\n",
       "<thead><tr><th>abmaglim</th><th>access_estsize</th><th>access_format</th><th>access_url</th><th>bib_reference</th><th>calib_level</th><th>dataproduct_subtype</th><th>dataproduct_type</th><th>dp_id</th><th>em_max</th><th>em_min</th><th>em_res_power</th><th>em_xel</th><th>facility_name</th><th>filter</th><th>gal_lat</th><th>gal_lon</th><th>instrument_name</th><th>last_mod_date</th><th>multi_ob</th><th>n_obs</th><th>o_calib_status</th><th>o_ucd</th><th>obs_collection</th><th>obs_creator_did</th><th>obs_creator_name</th><th>obs_id</th><th>obs_publisher_did</th><th>obs_release_date</th><th>obs_title</th><th>obstech</th><th>p3orig</th><th>pol_states</th><th>pol_xel</th><th>preview_html</th><th>proposal_id</th><th>publication_date</th><th>release_description</th><th>s_dec</th><th>s_fov</th><th>s_pixel_scale</th><th>s_ra</th><th>s_region</th><th>s_resolution</th><th>s_xel1</th><th>s_xel2</th><th>snr</th><th>strehl</th><th>t_exptime</th><th>t_max</th><th>t_min</th><th>t_resolution</th><th>t_xel</th><th>target_name</th></tr></thead>\n",
       "<thead><tr><th>mag</th><th>kbyte</th><th></th><th></th><th></th><th></th><th></th><th></th><th></th><th>m</th><th>m</th><th></th><th></th><th></th><th></th><th>deg</th><th>deg</th><th></th><th></th><th></th><th></th><th></th><th></th><th></th><th></th><th></th><th></th><th></th><th></th><th></th><th></th><th></th><th></th><th></th><th></th><th></th><th></th><th></th><th>deg</th><th>deg</th><th>arcsec</th><th>deg</th><th></th><th>arcsec</th><th></th><th></th><th></th><th></th><th>s</th><th>d</th><th>d</th><th>s</th><th></th><th></th></tr></thead>\n",
       "<thead><tr><th>float64</th><th>int64</th><th>object</th><th>object</th><th>object</th><th>int32</th><th>object</th><th>object</th><th>object</th><th>float64</th><th>float64</th><th>float64</th><th>int64</th><th>object</th><th>object</th><th>float64</th><th>float64</th><th>object</th><th>object</th><th>object</th><th>int32</th><th>object</th><th>object</th><th>object</th><th>object</th><th>object</th><th>object</th><th>object</th><th>object</th><th>object</th><th>object</th><th>object</th><th>object</th><th>int64</th><th>object</th><th>object</th><th>object</th><th>object</th><th>float64</th><th>float64</th><th>float64</th><th>float64</th><th>object</th><th>float64</th><th>int64</th><th>int64</th><th>float64</th><th>float64</th><th>float64</th><th>float64</th><th>float64</th><th>float64</th><th>int64</th><th>object</th></tr></thead>\n",
       "<tr><td>22.251</td><td>82751</td><td>application/x-votable+xml;content=datalink</td><td>http://archive.eso.org/datalink/links?ID=ivo://eso.org/ID?ADP.2021-12-16T10:45:26.076</td><td></td><td>2</td><td>tile</td><td>image</td><td>ADP.2021-12-16T10:45:26.076</td><td>1.764e-06</td><td>1.474e-06</td><td>5.5828</td><td>1</td><td>ESO-VLT-U4</td><td>H</td><td>-0.001242</td><td>359.871789</td><td>HAWKI</td><td>2021-12-16T11:01:55.250Z</td><td>S</td><td>16</td><td>absolute</td><td></td><td>HAWKI</td><td>ivo://eso.org/origfile?HI_SIMT_2355238_2019-08-21T02:32:20.829_f1H_f2OPEN_AO.fits</td><td>ZOCCALI, MANUELA</td><td>2355238</td><td>ivo://eso.org/ID?ADP.2021-12-16T10:45:26.076</td><td>2020-08-21T03:00:44Z</td><td></td><td>IMAGE</td><td>IDP</td><td></td><td>--</td><td>https://archive.eso.org/dataset/ADP.2021-12-16T10:45:26.076</td><td>0103.B-0262(A)</td><td>2021-12-16T11:01:55Z</td><td>http://www.eso.org/rm/api/v1/public/releaseDescriptions/87</td><td>-29.046277</td><td>0.19029199805</td><td>0.1066</td><td>266.32973</td><td>POLYGON J2000 266.435839 -29.025079 266.353596 -29.139129 266.223621 -29.067397 266.305951 -28.953426</td><td>0.299</td><td>4555</td><td>4555</td><td>--</td><td>--</td><td>480.0</td><td>58716.11688152</td><td>58716.10579663</td><td>957.734496</td><td>--</td><td>NPL066</td></tr>\n",
       "</table>"
      ],
      "text/plain": [
       "<Row index=0>\n",
       "abmaglim access_estsize               access_format                                                      access_url                                      bib_reference calib_level dataproduct_subtype dataproduct_type            dp_id              em_max    em_min  em_res_power em_xel facility_name filter  gal_lat   gal_lon   instrument_name      last_mod_date       multi_ob n_obs o_calib_status o_ucd  obs_collection                                  obs_creator_did                                  obs_creator_name  obs_id              obs_publisher_did                 obs_release_date   obs_title obstech p3orig pol_states pol_xel                         preview_html                         proposal_id     publication_date                      release_description                       s_dec        s_fov     s_pixel_scale    s_ra                                                  s_region                                               s_resolution s_xel1 s_xel2   snr    strehl t_exptime     t_max          t_min      t_resolution t_xel target_name\n",
       "  mag        kbyte                                                                                                                                                                                                                                      m         m                                                 deg       deg                                                                                                                                                                                                                                                                                                                                                                                                                                                                                         deg          deg          arcsec       deg                                                                                                             arcsec                                      s           d              d             s                        \n",
       "float64      int64                        object                                                           object                                            object       int32           object            object                 object            float64   float64    float64    int64      object    object  float64   float64        object              object           object  int32     object     object     object                                           object                                           object       object                    object                           object          object   object object   object    int64                             object                               object            object                                  object                            float64      float64       float64     float64                                                  object                                                  float64    int64  int64  float64 float64  float64     float64        float64       float64    int64    object  \n",
       "-------- -------------- ------------------------------------------ ------------------------------------------------------------------------------------- ------------- ----------- ------------------- ---------------- --------------------------- --------- --------- ------------ ------ ------------- ------ --------- ---------- --------------- ------------------------ -------- ----- -------------- ------ -------------- --------------------------------------------------------------------------------- ---------------- ------- -------------------------------------------- -------------------- --------- ------- ------ ---------- ------- ----------------------------------------------------------- -------------- -------------------- ---------------------------------------------------------- ---------- ------------- ------------- --------- ----------------------------------------------------------------------------------------------------- ------------ ------ ------ ------- ------- --------- -------------- -------------- ------------ ----- -----------\n",
       "  22.251          82751 application/x-votable+xml;content=datalink http://archive.eso.org/datalink/links?ID=ivo://eso.org/ID?ADP.2021-12-16T10:45:26.076                         2                tile            image ADP.2021-12-16T10:45:26.076 1.764e-06 1.474e-06       5.5828      1    ESO-VLT-U4      H -0.001242 359.871789           HAWKI 2021-12-16T11:01:55.250Z        S    16       absolute                 HAWKI ivo://eso.org/origfile?HI_SIMT_2355238_2019-08-21T02:32:20.829_f1H_f2OPEN_AO.fits ZOCCALI, MANUELA 2355238 ivo://eso.org/ID?ADP.2021-12-16T10:45:26.076 2020-08-21T03:00:44Z             IMAGE    IDP                 -- https://archive.eso.org/dataset/ADP.2021-12-16T10:45:26.076 0103.B-0262(A) 2021-12-16T11:01:55Z http://www.eso.org/rm/api/v1/public/releaseDescriptions/87 -29.046277 0.19029199805        0.1066 266.32973 POLYGON J2000 266.435839 -29.025079 266.353596 -29.139129 266.223621 -29.067397 266.305951 -28.953426        0.299   4555   4555      --      --     480.0 58716.11688152 58716.10579663   957.734496    --      NPL066"
      ]
     },
     "execution_count": 8,
     "metadata": {},
     "output_type": "execute_result"
    }
   ],
   "source": [
    "table[0] # print the first row of the table"
   ]
  },
  {
   "cell_type": "markdown",
   "metadata": {},
   "source": [
    "We can check all the column names in the table by printing the ``table.colnames`` attribute to see what else we could filter... "
   ]
  },
  {
   "cell_type": "code",
   "execution_count": 9,
   "metadata": {},
   "outputs": [
    {
     "data": {
      "text/plain": [
       "['abmaglim',\n",
       " 'access_estsize',\n",
       " 'access_format',\n",
       " 'access_url',\n",
       " 'bib_reference',\n",
       " 'calib_level',\n",
       " 'dataproduct_subtype',\n",
       " 'dataproduct_type',\n",
       " 'dp_id',\n",
       " 'em_max',\n",
       " 'em_min',\n",
       " 'em_res_power',\n",
       " 'em_xel',\n",
       " 'facility_name',\n",
       " 'filter',\n",
       " 'gal_lat',\n",
       " 'gal_lon',\n",
       " 'instrument_name',\n",
       " 'last_mod_date',\n",
       " 'multi_ob',\n",
       " 'n_obs',\n",
       " 'o_calib_status',\n",
       " 'o_ucd',\n",
       " 'obs_collection',\n",
       " 'obs_creator_did',\n",
       " 'obs_creator_name',\n",
       " 'obs_id',\n",
       " 'obs_publisher_did',\n",
       " 'obs_release_date',\n",
       " 'obs_title',\n",
       " 'obstech',\n",
       " 'p3orig',\n",
       " 'pol_states',\n",
       " 'pol_xel',\n",
       " 'preview_html',\n",
       " 'proposal_id',\n",
       " 'publication_date',\n",
       " 'release_description',\n",
       " 's_dec',\n",
       " 's_fov',\n",
       " 's_pixel_scale',\n",
       " 's_ra',\n",
       " 's_region',\n",
       " 's_resolution',\n",
       " 's_xel1',\n",
       " 's_xel2',\n",
       " 'snr',\n",
       " 'strehl',\n",
       " 't_exptime',\n",
       " 't_max',\n",
       " 't_min',\n",
       " 't_resolution',\n",
       " 't_xel',\n",
       " 'target_name']"
      ]
     },
     "execution_count": 9,
     "metadata": {},
     "output_type": "execute_result"
    }
   ],
   "source": [
    "table[0].colnames # print the column names of the table"
   ]
  },
  {
   "cell_type": "markdown",
   "metadata": {},
   "source": [
    "## Downloading datasets from the archive"
   ]
  },
  {
   "cell_type": "markdown",
   "metadata": {},
   "source": [
    "The returned table has an ``dp_id`` column. It can be used to retrieve the datasets with ``retrieve_data()``.\n",
    "\n",
    "The file names, returned in ``data_files``, points to the decompressed datasets (without the .Z extension) that have been locally downloaded. \n",
    "\n",
    "The default location (in the ``astropy`` cache) of the decompressed datasets can be adjusted by providing a destination keyword in the call to ``retrieve_data()``. By default, if a requested dataset is already found, it is not downloaded again from the archive. To force the retrieval of data that are present in the destination directory, use ``continuation=True`` in the call to ``retrieve_data()``."
   ]
  },
  {
   "cell_type": "code",
   "execution_count": 10,
   "metadata": {},
   "outputs": [
    {
     "name": "stdout",
     "output_type": "stream",
     "text": [
      "INFO: Downloading datasets ... [astroquery.eso.core]\n",
      "INFO: Downloading 1 files ... [astroquery.eso.core]\n",
      "INFO: Downloading file 1/1 https://dataportal.eso.org/dataPortal/file/ADP.2021-12-16T10:45:26.076 to /Users/abarnes/.astropy/cache/astroquery/Eso [astroquery.eso.core]\n",
      "INFO: Found cached file /Users/abarnes/.astropy/cache/astroquery/Eso/ADP.2021-12-16T10:45:26.076.fits [astroquery.eso.core]\n",
      "INFO: Done! [astroquery.eso.core]\n"
     ]
    }
   ],
   "source": [
    "data_files = eso.retrieve_data(table['dp_id'][0]) # download the first data product\n",
    "# data_files = eso.retrieve_data(table['dp_id'][0], continuation=True) # force the download of all files even if present in the destination directory\n",
    "# data_files = eso.retrieve_data(table['dp_id'][0], destination='./') # specify the destination directory for the download"
   ]
  },
  {
   "cell_type": "markdown",
   "metadata": {},
   "source": [
    "<hr style=\"border:2px solid #0281c9\"> </hr>"
   ]
  },
  {
   "cell_type": "markdown",
   "metadata": {},
   "source": [
    "## Check information about the downloaded file(s)"
   ]
  },
  {
   "cell_type": "code",
   "execution_count": 11,
   "metadata": {},
   "outputs": [],
   "source": [
    "import webbrowser\n",
    "import numpy as np\n",
    "from astropy.table import MaskedColumn\n",
    "\n",
    "def from_element_to_list(element, element_type=str):\n",
    "    r\"\"\"Given an element it returns a list containing the element\n",
    "\n",
    "    It also checks all the elements in the list have the same type defined by `element_type`\n",
    "\n",
    "    Args:\n",
    "        element (any): element that will be put in the list\n",
    "        element_type (any): type of the element that should be contained in the list\n",
    "\n",
    "    Returns:\n",
    "        list: list containing `element`\n",
    "\n",
    "    \"\"\"\n",
    "    if element is None:\n",
    "        return None\n",
    "    elif isinstance(element, list):\n",
    "        for element_in_list in element:\n",
    "            assert isinstance(element_in_list, element_type), r'{} must be a {}'.format(element_in_list, element_type)\n",
    "        return element\n",
    "    elif isinstance(element, np.ndarray):\n",
    "        element_list: list = element.tolist()\n",
    "        for element_in_list in element_list:\n",
    "            assert isinstance(element_in_list, element_type), r'{} must be a {}'.format(element_in_list, element_type)\n",
    "        return element_list\n",
    "    elif isinstance(element, MaskedColumn):\n",
    "        element_list = element.data.data.tolist()\n",
    "        for element_in_list in element_list:\n",
    "            assert isinstance(element_in_list, element_type), r'{} must be a {}'.format(element_in_list, element_type)\n",
    "        return element_list\n",
    "    elif isinstance(element, element_type):\n",
    "        return [element]\n",
    "    else:\n",
    "        print('Not valid type for: {}'.format(element))\n",
    "    return None\n",
    "\n",
    "def open_url(url, show_link=True, open_link=True):\n",
    "    r\"\"\"Open some url in the browser\n",
    "\n",
    "    Args:\n",
    "        url (str): url to open\n",
    "        open_link (bool): open a link to page\n",
    "        show_link (bool): show the link on the terminal\n",
    "\n",
    "    Returns:\n",
    "        None\n",
    "\n",
    "    \"\"\"\n",
    "    if show_link:\n",
    "        print(url)\n",
    "    if open_link:\n",
    "        webbrowser.open(url)\n",
    "    return\n",
    "\n",
    "def check_preview(dp_ids, show_link=False, open_link=True): \n",
    "    \"\"\"Check the preview of the data product\n",
    "        Note that this will download .pdf file to the browser download directory\"\"\"\n",
    "    print('This will download a .pdf file from the browser directory')\n",
    "\n",
    "    # Check if list\n",
    "    if isinstance(dp_ids, str):\n",
    "        dp_ids = [dp_ids]\n",
    "    dp_ids = from_element_to_list(dp_ids, element_type=str)\n",
    "    \n",
    "    # Loop over the dp_ids\n",
    "    for dp_id in dp_ids:\n",
    "        url = f'https://archive.eso.org/datalink/links?ID=ivo://eso.org/ID?{dp_id}&eso_download=preview'\n",
    "        open_url(url, show_link, open_link)\n",
    "\n",
    "\n",
    "def check_header(dp_ids, show_link=False, open_link=True): \n",
    "    \"\"\"Check the header of the data product\"\"\"\n",
    "    print('This will open a new tab with the header information in browser')\n",
    "\n",
    "    # Check if list\n",
    "    if isinstance(dp_ids, str):\n",
    "        dp_ids = [dp_ids]\n",
    "    dp_ids = from_element_to_list(dp_ids, element_type=str)\n",
    "\n",
    "    # Loop over the dp_ids\n",
    "    for dp_id in dp_ids:\n",
    "        url = f'https://archive.eso.org/hdr?DpId={dp_id}'\n",
    "        open_url(url, show_link, open_link)\n",
    "\n",
    "\n",
    "def check_scienceportal(dp_ids, show_link=False, open_link=True): \n",
    "    \"\"\"Check the details of the data product\"\"\"\n",
    "    print('This will open a new tab with the details in browser')\n",
    "\n",
    "    # Check if list\n",
    "    if isinstance(dp_ids, str):\n",
    "        dp_ids = [dp_ids]\n",
    "    dp_ids = from_element_to_list(dp_ids, element_type=str)\n",
    "\n",
    "    # Loop over the dp_ids\n",
    "    for dp_id in dp_ids:\n",
    "        url = f'https://archive.eso.org/dataset/{dp_id}'\n",
    "        open_url(url, show_link, open_link)\n",
    "\n",
    "\n",
    "def check_hips(dp_ids, show_link=False, open_link=True):\n",
    "    \"\"\"Check the HIPS of the data product\"\"\"\n",
    "    print('This will open a new tab with the HIPS information in browser')\n",
    "\n",
    "    # Check if list\n",
    "    if isinstance(dp_ids, str):\n",
    "        dp_ids = [dp_ids]\n",
    "    dp_ids = from_element_to_list(dp_ids, element_type=str)\n",
    "\n",
    "    # Loop over the dp_ids\n",
    "    for dp_id in dp_ids:\n",
    "        url = f'https://archive.eso.org/previews/v1/files/{dp_id}/hips'\n",
    "        open_url(url, show_link, open_link)\n",
    "\n",
    "\n",
    "def check_release_info(dp_ids, show_link=False, open_link=True): \n",
    "    \"\"\"Check the release info of the data product\"\"\"\n",
    "    print('This will open a new tab with the release description infomation in browser')\n",
    "\n",
    "    # Check if list\n",
    "    if isinstance(dp_ids, str):\n",
    "        dp_ids = [dp_ids]\n",
    "    dp_ids = from_element_to_list(dp_ids, element_type=str)\n",
    "\n",
    "    # Loop over the dp_ids\n",
    "    for dp_id in dp_ids:\n",
    "        url = f'https://archive.eso.org/datalink/links?ID=ivo://eso.org/ID?{dp_id}&eso_download=data_documentation'\n",
    "        open_url(url, show_link, open_link)\n",
    "\n",
    "\n",
    "def check_metadata(dp_ids, show_link=False, open_link=True):\n",
    "    \"\"\"Check the HTML metadata of the data product\"\"\"\n",
    "    print('This will open a new tab with the metadata information in browser')\n",
    "\n",
    "    # Check if list\n",
    "    if isinstance(dp_ids, str):\n",
    "        dp_ids = [dp_ids]\n",
    "    dp_ids = from_element_to_list(dp_ids, element_type=str)\n",
    "\n",
    "    # Loop over the dp_ids\n",
    "    for dp_id in dp_ids:\n",
    "        url = f'https://archive.eso.org/wdb/wdb/adp/phase3_main/query?dp_id={dp_id}'\n",
    "        open_url(url, show_link, open_link)\n",
    "\n",
    "# check_hips(table['dp_id'][0])\n",
    "# check_header(table['dp_id'][0])\n",
    "# check_scienceportal(table['dp_id'][0])\n",
    "# check_release_info(table['dp_id'][0])\n",
    "# check_metadata(table['dp_id'][0])\n",
    "# check_preview(table['dp_id'][0])"
   ]
  },
  {
   "cell_type": "markdown",
   "metadata": {},
   "source": [
    "---\n",
    "## View is Aladin Lite\n",
    "We now make use of the [ipyaladin](https://cds-astro.github.io/ipyaladin/getting_started/getting_started.html) package to view the data in [Aladin Lite](https://aladin.cds.unistra.fr/AladinLite/). \n",
    "\n",
    "The package should be easy to install through.\n",
    "\n",
    "```bash\n",
    "pip install ipyaladin\n",
    "```\n"
   ]
  },
  {
   "cell_type": "code",
   "execution_count": null,
   "metadata": {},
   "outputs": [],
   "source": [
    "from ipyaladin import Aladin # Aladin Lite widget for Jupyter notebooks\n",
    "from astropy.io import fits # import the FITS module from astropy"
   ]
  },
  {
   "cell_type": "markdown",
   "metadata": {},
   "source": [
    "We start by creating an Aladin Lite widget and setting the target position as the initial view. \n",
    "\n",
    "Here we show the [PanSTARRS](https://outerspace.stsci.edu/display/PANSTARRS/) survey data towards the central 0.2 degrees of the Galactic Centre (in galactic coordinates)."
   ]
  },
  {
   "cell_type": "code",
   "execution_count": 13,
   "metadata": {},
   "outputs": [
    {
     "data": {
      "application/vnd.jupyter.widget-view+json": {
       "model_id": "a4729cbdc06e47ea92adc4bfda91d177",
       "version_major": 2,
       "version_minor": 1
      },
      "text/plain": [
       "Aladin(coo_frame='galactic', survey='P/PanSTARRS/DR1/color-i-r-g')"
      ]
     },
     "execution_count": 13,
     "metadata": {},
     "output_type": "execute_result"
    }
   ],
   "source": [
    "aladin = Aladin(fov=0.2, # Field of view in degrees\n",
    "                survey='P/PanSTARRS/DR1/color-i-r-g', # Survey to display\n",
    "                target='Sgr A*', # Target to display\n",
    "                coo_frame=\"galactic\") # Coordinate frame to use\n",
    "aladin"
   ]
  },
  {
   "cell_type": "code",
   "execution_count": null,
   "metadata": {},
   "outputs": [],
   "source": [
    "hdu = fits.open(data_files)[0] # Open the FITS file downloaded from the ESO archive\n",
    "aladin.add_fits(hdu, name='Sgr A*', opacity=0.25) # Add the FITS file to the Aladin Lite widget"
   ]
  },
  {
   "cell_type": "markdown",
   "metadata": {},
   "source": [
    "<hr style=\"border:2px solid #0281c9\"> </hr>"
   ]
  }
 ],
 "metadata": {
  "kernelspec": {
   "display_name": "tst",
   "language": "python",
   "name": "python3"
  },
  "language_info": {
   "codemirror_mode": {
    "name": "ipython",
    "version": 3
   },
   "file_extension": ".py",
   "mimetype": "text/x-python",
   "name": "python",
   "nbconvert_exporter": "python",
   "pygments_lexer": "ipython3",
   "version": "3.9.21"
  }
 },
 "nbformat": 4,
 "nbformat_minor": 2
}
