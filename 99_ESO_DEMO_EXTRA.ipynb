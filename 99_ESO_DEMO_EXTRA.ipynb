{
 "cells": [
  {
   "cell_type": "markdown",
   "metadata": {},
   "source": [
    "<hr style=\"border:2px solid #0281c9\"> </hr>\n",
    "\n",
    "<img align=\"left\" alt=\"ESO Logo\" src=\"http://archive.eso.org/i/esologo.png\">  \n",
    "\n",
    "<div align=\"center\">\n",
    "  <h1 style=\"color: #0281c9; font-weight: bold;\">ESO Science Archive</h1> \n",
    "  <h2 style=\"color: #0281c9; font-weight: bold;\">Astroquery Status - 13.03.2025</h2>\n",
    "</div>\n",
    "\n",
    "<hr style=\"border:2px solid #0281c9\"> </hr>"
   ]
  },
  {
   "cell_type": "markdown",
   "metadata": {},
   "source": [
    "**Disclaimer**: _This notebook does not aim to showcase all Astroquery functionality but focuses specifically on recent developments related to the transition from the WDB backend to the TAP backend._\n",
    "\n",
    " - What works\n",
    " - What needs to be fixed BEFORE the release\n",
    " - What will be added for subsequent releases "
   ]
  },
  {
   "cell_type": "markdown",
   "metadata": {},
   "source": [
    "## Handy imports and functions"
   ]
  },
  {
   "cell_type": "code",
   "execution_count": 1,
   "metadata": {},
   "outputs": [],
   "source": [
    "import os\n",
    "import pandas as pd\n",
    "import astropy.table.table as aqtable\n",
    "from pyvo.dal.exceptions import DALQueryError\n",
    "from IPython.display import clear_output\n",
    "\n",
    "def table_to_csv(aqtable: aqtable, filepath: str):\n",
    "    aqtable.to_pandas().to_csv(filepath)\n",
    "    print(f\"Table saved to {filepath}\")"
   ]
  },
  {
   "cell_type": "markdown",
   "metadata": {},
   "source": [
    "## ESO instance"
   ]
  },
  {
   "cell_type": "code",
   "execution_count": 2,
   "metadata": {},
   "outputs": [
    {
     "name": "stdout",
     "output_type": "stream",
     "text": [
      "ESO tap_url = http://dfidev5.hq.eso.org:8123/tap_obs\n"
     ]
    }
   ],
   "source": [
    "import astroquery.eso as eso\n",
    "eso_instance = eso.Eso()\n",
    "eso_instance.maxrec = 1000\n",
    "print(f\"ESO tap_url = {eso_instance.tap_url()}\")"
   ]
  },
  {
   "cell_type": "code",
   "execution_count": 3,
   "metadata": {},
   "outputs": [],
   "source": [
    "if False:\n",
    "    pass\n",
    "    # eso_instance.maxrec - DONE\n",
    "    # eso_instance.retrieve_data\n",
    "\n",
    "    # eso_instance.tap_url - DONE\n",
    "    # eso_instance.list_collections - DONE\n",
    "    # eso_instance.list_instruments - DONE\n",
    "    # eso_instance.query_apex_quicklooks\n",
    "    # eso_instance.print_table_help(\"ivoa.obsCore\") <---> query_collections(print_help = True) - DONE\n",
    "    # eso_instance.query_collections - DONE\n",
    "    # eso_instance.query_instrument - DONE\n",
    "    # eso_instance.query_main - DONE\n",
    "    # eso_instance.query_tap_service - DONE\n"
   ]
  },
  {
   "cell_type": "markdown",
   "metadata": {},
   "source": [
    "## Query Raw Data"
   ]
  },
  {
   "cell_type": "code",
   "execution_count": 4,
   "metadata": {},
   "outputs": [
    {
     "name": "stdout",
     "output_type": "stream",
     "text": [
      "select * from dbo.raw\n",
      "Table saved to ./eso_aq_example_query_main.csv\n"
     ]
    },
    {
     "name": "stderr",
     "output_type": "stream",
     "text": [
      "/Users/jcarmona/miniconda3/envs/py39/lib/python3.9/site-packages/pyvo/dal/query.py:339: DALOverflowWarning: Partial result set. Potential causes MAXREC, async storage space, etc.\n",
      "  warn(\"Partial result set. Potential causes MAXREC, async storage space, etc.\",\n",
      "WARNING: MaxResultsWarning: Results truncated to 1000. To retrieve all the records set to None the maxrec attribute [astroquery.eso.core]\n"
     ]
    }
   ],
   "source": [
    "my_table = eso_instance.query_main()\n",
    "table_to_csv(my_table, \"./eso_aq_example_query_main.csv\")\n",
    "# my_table[:2].show_in_notebook()"
   ]
  },
  {
   "cell_type": "markdown",
   "metadata": {},
   "source": [
    "## Query Phase 3 Data"
   ]
  },
  {
   "cell_type": "code",
   "execution_count": 5,
   "metadata": {},
   "outputs": [
    {
     "name": "stdout",
     "output_type": "stream",
     "text": [
      "          collection\n",
      "0         081.C-0827\n",
      "1         092.A-0472\n",
      "2         096.B-0054\n",
      "3        1100.A-0528\n",
      "4        1101.A-0127\n",
      "5         193.D-0232\n",
      "6         195.B-0283\n",
      "7         196.B-0578\n",
      "8         196.D-0214\n",
      "9         197.A-0384\n",
      "10        198.A-0708\n",
      "11        60.A-9284H\n",
      "12         60.A-9493\n",
      "13             ADHOC\n",
      "14          ALCOHOLS\n",
      "15           ALLSMOG\n",
      "16              ALMA\n",
      "17             AMAZE\n",
      "18             AMBRE\n",
      "19       APEX-SciOps\n",
      "20          ATLASGAL\n",
      "21       ePESSTOplus\n",
      "22          ESPRESSO\n",
      "23           ESSENCE\n",
      "24               FDS\n",
      "25             FEROS\n",
      "26          Fornax3D\n",
      "27        FORS2-SPEC\n",
      "28           GAIAESO\n",
      "29              GCAV\n",
      "30           GIRAFFE\n",
      "31       GOODS_FORS2\n",
      "32       GOODS_ISAAC\n",
      "33  GOODS_VIMOS_IMAG\n",
      "34  GOODS_VIMOS_SPEC\n",
      "35          GW170817\n",
      "36             HARPS\n",
      "37             HAWKI\n",
      "38              HUGS\n",
      "39           INSPIRE\n",
      "40              KIDS\n",
      "41              KMOS\n",
      "42            LEGA-C\n",
      "43              LESS\n",
      "44              MUSE\n",
      "45         MUSE-DEEP\n",
      "46          MUSE-STD\n",
      "47  MW-BULGE-PSFPHOT\n",
      "48              NGTS\n",
      "49            PESSTO\n",
      "50            PHANGS\n",
      "51           PIONIER\n",
      "52            SPHERE\n",
      "53             SUPER\n",
      "54        UltraVISTA\n",
      "55              UVES\n",
      "56        UVES_SQUAD\n",
      "57           VANDELS\n",
      "58             VEGAS\n",
      "59             VEILS\n",
      "60             VEXAS\n",
      "61               VHS\n",
      "62             VIDEO\n",
      "63            VIKING\n",
      "64             VIMOS\n",
      "65          VINROUGE\n",
      "66            VIPERS\n",
      "67           VISIONS\n",
      "68               VMC\n",
      "69         VPHASplus\n",
      "70         VST-ATLAS\n",
      "71               VVV\n",
      "72              VVVX\n",
      "73            XQ-100\n",
      "74             XSGRB\n",
      "75          XSHOOTER\n",
      "76               XSL\n",
      "77           ZCOSMOS\n"
     ]
    }
   ],
   "source": [
    "available_collections = eso_instance.list_collections()\n",
    "print(pd.DataFrame({\"collection\": available_collections}).to_string())"
   ]
  },
  {
   "cell_type": "code",
   "execution_count": 6,
   "metadata": {},
   "outputs": [
    {
     "name": "stdout",
     "output_type": "stream",
     "text": [
      "select * from ivoa.ObsCore\n",
      "Table saved to ./eso_aq_example_query_collections.csv\n"
     ]
    },
    {
     "name": "stderr",
     "output_type": "stream",
     "text": [
      "/Users/jcarmona/miniconda3/envs/py39/lib/python3.9/site-packages/pyvo/dal/query.py:339: DALOverflowWarning: Partial result set. Potential causes MAXREC, async storage space, etc.\n",
      "  warn(\"Partial result set. Potential causes MAXREC, async storage space, etc.\",\n",
      "WARNING: MaxResultsWarning: Results truncated to 1000. To retrieve all the records set to None the maxrec attribute [astroquery.eso.core]\n"
     ]
    }
   ],
   "source": [
    "my_table = eso_instance.query_collections()\n",
    "table_to_csv(my_table, \"./eso_aq_example_query_collections.csv\")\n",
    "# my_table[:2].show_in_notebook()"
   ]
  },
  {
   "cell_type": "code",
   "execution_count": 7,
   "metadata": {},
   "outputs": [
    {
     "name": "stdout",
     "output_type": "stream",
     "text": [
      "Table saved to ./eso_aq_example_query_collections.csv\n"
     ]
    }
   ],
   "source": [
    "\n",
    "table_to_csv(my_table, \"./eso_aq_example_query_collections.csv\")\n",
    "# my_table[:2].show_in_notebook()"
   ]
  },
  {
   "cell_type": "code",
   "execution_count": 8,
   "metadata": {},
   "outputs": [
    {
     "name": "stdout",
     "output_type": "stream",
     "text": [
      "select * from ivoa.ObsCore where obs_collection in ('SPHERE')\n",
      "Table saved to ./eso_aq_example_query_collections_sphere.csv\n"
     ]
    }
   ],
   "source": [
    "my_table = eso_instance.query_collections('SPHERE')\n",
    "table_to_csv(my_table, \"./eso_aq_example_query_collections_sphere.csv\")\n",
    "# my_table.show_in_notebook()"
   ]
  },
  {
   "cell_type": "code",
   "execution_count": 9,
   "metadata": {},
   "outputs": [
    {
     "name": "stdout",
     "output_type": "stream",
     "text": [
      "select * from ivoa.ObsCore where obs_collection in ('SPHERE', 'VEGAS')\n",
      "select * from ivoa.ObsCore where obs_collection in ('SPHERE', 'VEGAS')\n",
      "Table saved to ./eso_aq_example_query_collections_sphere_vegas.csv\n"
     ]
    }
   ],
   "source": [
    "my_table = eso_instance.query_collections(['SPHERE', 'VEGAS'])\n",
    "my_table_2 = eso_instance.query_collections('SPHERE, VEGAS')\n",
    "assert all(my_table.values_equal(my_table_2))\n",
    "table_to_csv(my_table, \"./eso_aq_example_query_collections_sphere_vegas.csv\")\n",
    "\n",
    "#my_table.show_in_notebook()"
   ]
  },
  {
   "cell_type": "markdown",
   "metadata": {},
   "source": [
    "## Query Instrument Specific Data"
   ]
  },
  {
   "cell_type": "code",
   "execution_count": 10,
   "metadata": {},
   "outputs": [
    {
     "name": "stdout",
     "output_type": "stream",
     "text": [
      "   instrument\n",
      "0      alpaca\n",
      "1       amber\n",
      "2        apex\n",
      "3      crires\n",
      "4       efosc\n",
      "5        eris\n",
      "6    espresso\n",
      "7        fiat\n",
      "8       fors1\n",
      "9       fors2\n",
      "10    giraffe\n",
      "11    gravity\n",
      "12      harps\n",
      "13      hawki\n",
      "14      isaac\n",
      "15       kmos\n",
      "16    matisse\n",
      "17       midi\n",
      "18       muse\n",
      "19       naco\n",
      "20      nirps\n",
      "21   omegacam\n",
      "22    pionier\n",
      "23    sinfoni\n",
      "24       sofi\n",
      "25     sphere\n",
      "26       uves\n",
      "27      vimos\n",
      "28     vircam\n",
      "29      visir\n",
      "30      wlgsu\n",
      "31   xshooter\n"
     ]
    }
   ],
   "source": [
    "available_instruments = eso_instance.list_instruments()\n",
    "\n",
    "if available_instruments is None:\n",
    "    print(\"No available instruments: This is expected, since the ISTs are only available in the INT server for the moment.\")\n",
    "\n",
    "    print(\"Available instruments in the INT server:\\n\")\n",
    "\n",
    "    os.environ[\"ESO_TAP_URL\"] = \"http://dfidev5.hq.eso.org:8123/tap_obs\"\n",
    "    available_instruments = eso_instance.list_instruments()\n",
    "    del os.environ[\"ESO_TAP_URL\"]\n",
    "\n",
    "print(pd.DataFrame({\"instrument\": available_instruments}).to_string())"
   ]
  },
  {
   "cell_type": "code",
   "execution_count": 11,
   "metadata": {},
   "outputs": [
    {
     "name": "stdout",
     "output_type": "stream",
     "text": [
      "select * from ist.midi\n",
      "Table saved to ./eso_aq_example_query_instrument_midi.csv\n"
     ]
    },
    {
     "name": "stderr",
     "output_type": "stream",
     "text": [
      "/Users/jcarmona/miniconda3/envs/py39/lib/python3.9/site-packages/pyvo/dal/query.py:339: DALOverflowWarning: Partial result set. Potential causes MAXREC, async storage space, etc.\n",
      "  warn(\"Partial result set. Potential causes MAXREC, async storage space, etc.\",\n",
      "WARNING: MaxResultsWarning: Results truncated to 1000. To retrieve all the records set to None the maxrec attribute [astroquery.eso.core]\n"
     ]
    }
   ],
   "source": [
    "try:\n",
    "    my_table = eso_instance.query_instrument(\"midi\")\n",
    "except DALQueryError as e:\n",
    "    print(f\"DALQueryError expected since the ISTS are available only in the INT server.\")\n",
    "    os.environ[\"ESO_TAP_URL\"] = \"http://dfidev5.hq.eso.org:8123/tap_obs\"\n",
    "    my_table = eso_instance.query_instrument(\"midi\")\n",
    "finally:\n",
    "    del(os.environ[\"ESO_TAP_URL\"])\n",
    "\n",
    "table_to_csv(my_table, \"./eso_aq_example_query_instrument_midi.csv\")\n",
    "# my_table.show_in_notebook()"
   ]
  },
  {
   "cell_type": "markdown",
   "metadata": {},
   "source": [
    "## Query some columns"
   ]
  },
  {
   "cell_type": "code",
   "execution_count": 12,
   "metadata": {},
   "outputs": [
    {
     "name": "stdout",
     "output_type": "stream",
     "text": [
      "select target, instrument, date_obs, access_url, datalink_url from dbo.raw\n",
      "Table saved to ./eso_aq_example_query_main_columns.csv\n"
     ]
    },
    {
     "name": "stderr",
     "output_type": "stream",
     "text": [
      "/Users/jcarmona/miniconda3/envs/py39/lib/python3.9/site-packages/pyvo/dal/query.py:339: DALOverflowWarning: Partial result set. Potential causes MAXREC, async storage space, etc.\n",
      "  warn(\"Partial result set. Potential causes MAXREC, async storage space, etc.\",\n",
      "WARNING: MaxResultsWarning: Results truncated to 1000. To retrieve all the records set to None the maxrec attribute [astroquery.eso.core]\n"
     ]
    }
   ],
   "source": [
    "my_table = eso_instance.query_main(columns=[\"target\", \"instrument\", \"date_obs\", \"access_url\", \"datalink_url\"])\n",
    "table_to_csv(my_table, \"./eso_aq_example_query_main_columns.csv\")\n",
    "#my_table[0:3].show_in_notebook()"
   ]
  },
  {
   "cell_type": "markdown",
   "metadata": {},
   "source": [
    "## What to expect? - Know shape in advance"
   ]
  },
  {
   "cell_type": "markdown",
   "metadata": {},
   "source": [
    "### Rows and columns"
   ]
  },
  {
   "cell_type": "code",
   "execution_count": 13,
   "metadata": {},
   "outputs": [
    {
     "name": "stdout",
     "output_type": "stream",
     "text": [
      "INFO: \n",
      "Columns present in the table dbo.raw:\n",
      "    column_name     datatype    xtype     unit                                                                                                                                                                                     description                                                                                                                                                                                    \n",
      "------------------- -------- ----------- ------ ----------------------------------------------------------------------------------------------------------------------------------------------------------------------------------------------------------------------------------------------------------------------------------------------------------------------------------------------------------------------------------\n",
      "     access_estsize     long              kbyte                                                                                                                                                                                                      Estimated size of the downloaded file in KBytes. It is only \"estimated\" as in general, FITS headers can be patched at download time, making the file size varying with time.)\n",
      "         access_url     char                                                                                                                                                                                                                       A URL that can be used to download the raw file; if the file is under proprietary period, only authenticated users with the necessary access rights will be given access to it.\n",
      "       datalink_url     char                                                                                                         A URL that can be used to find the access points of the raw file itself, and of all its related files. Related files are: the calibration files necessary to reduce a science raw frame (see calSelector entries), and, if available, a (list of) calibrated product(s) generated out of it.)\n",
      "           date_obs     char                                                                                                                                                                                                                                               The content of the DATE_OBS keyword exposed as a string and not a datetime field (ESO_DATEADD_SEC does not work on this column, use exp_start instead).\n",
      "                dec   double                deg                                                                                                                                                                                                                                                                                                                                                              Declination FK5 J2000\n",
      "            dec_pnt   double                deg                                                                                                                                                                                                                                                                                                                                    Pointing Declination FK5 J2000 of the telescope\n",
      "        det_chip1id     char                                                                                                                                                                                                                                                                                                    Detector chip identification. Read from keyword DET CHIP1 ID (alias DET CHIP ID). Example: HASCI03\n",
      "   det_chop_ncycles    short                                                                                                                                                                                                                                                                                                                        Number of cycles for chopping. Read from keyword DET CHOP NCYCLES. Example:  1\n",
      "            det_dit    float                  s                                                                                                                                                                                                                                                                                                                                  Detector Integration Time (Infrared instruments).\n",
      "          det_expid    short                                                                                                                                                                                                                                                                                                            Unique exposure ID number. Read from keyword DET EXP ID (aliases DET EXPO NO, DET EXP NO).\n",
      "           det_ndit    short                                                                                                                                                                                                                                                                                                                       Number of exposures, each with det_dit integration time (Infrared instruments).\n",
      "             dp_cat     char                                                                                                                                                                                                                                                                                                                       Observation category: SCIENCE,CALIB,ACQUISITION,TECHNICAL,TEST,SIMULATION,OTHER\n",
      "              dp_id     char                                                                                                                                                                                                                                                                                                                                                           The main unique ESO archive file identifier\n",
      "            dp_tech     char                                                                                                                                                                                                                                                                                                                                                               Mode/technique used for the observation\n",
      "            dp_type     char                                                                                                                                                                                                                                                                                                                                                                          Type of observation/exposure\n",
      "            ecl_lat   double                deg                                                                                                                                                                                                                                                                                                                                              Ecliptic latitude of the observation.\n",
      "            ecl_lon   double                deg                                                                                                                                                                                                                                                                                                                                             Ecliptic longitude of the observation.\n",
      "          exp_start     char   timestamp                                                                                                                                                                                                                                                                                                                                     The start time of the observation (format: ISO-8601).\n",
      "           exposure    float                  s                                                                                                                                                                                                                                                                                                                                                     Total exposure time on target.\n",
      "        filter_path     char                                                                                                                                                                                                                                                                        All filters.  The string is in the format <value>,<value>,... where <value> is the value of one of the keywords INS.FILT*.NAME\n",
      "            gal_lat   double                deg                                                                                                                                                                                                                                                                                                                                              Galactic latitude of the observation.\n",
      "            gal_lon   double                deg                                                                                                                                                                                                                                                                                                                                             Galactic longitude of the observation.\n",
      "          grat_path     char                                                                                                                                                                                                                                                                      All gratings. The string is in the format <value>, <value>,... where <value> is the value of one of the keywords INS.GRAT*.NAME.\n",
      "          gris_path     char                                                                                                                                                                                                                                                   All grisms.  The string is in the format <value>, <value>,...  where <value> is the value of one of the keywords INS.GRIS*.NAME. Example: GRIS_600B\n",
      "           ins_mode     char                                                                                                                                                                                                                                                                                                                                                                                       Instrument mode\n",
      "         instrument     char                                                                                                                                                                                                                                                                                                                                                                                       Instrument name\n",
      "         lambda_max   double                 nm                                                                                                                                                                                                                                                       [nm] Maximum wavelength of the overall transmission curve (filter + detector + optics); currently available only for images.\n",
      "         lambda_min   double                 nm                                                                                                                                                                                                                                                       [nm] Minimum wavelength of the overall transmission curve (filter + detector + optics); currently available only for images.\n",
      "      last_mod_date     char   timestamp                                                                                                                                                                                                                                                                                                                             The last modification date of this record (format: ISO-8601).\n",
      "            mjd_obs   double                  d                                                                                                                                                                                                                                                                                                             Modified Julian Date (JD - 2400000.5) of the start of the observation.\n",
      "              ob_id      int                                                                                                                                                                                                                                                                                          The identifier of the ESO Observation Block, a unique numeric ID assigned by the Observation Handling System\n",
      "            ob_name     char                                                                                                                                                                                                                                                                                                                                                                 The name of the ESO Observation Block\n",
      "             object     char                                                                                                                                                                                                                   Target designation as given by the astronomer, though at times overwritten by the obeservatory, especially for CALIB observations. Compare with the similar field called \"target\".)\n",
      "           obs_mode     char                                                                                                                                                                                                                                                                                                                                                                               Service or Visitor mode\n",
      "           origfile     char                                                                                                                                                                                                                                                                 The original file name as used on the instrument workstation at the telescope. Read from keyword ORIGFILE. Example: HD75289_0012.fits\n",
      "             period    short                                                                                                                                                                                                                                                                                                                                                                                    ESO proposal cycle\n",
      "             pi_coi     char                                                                                                                                                                                                                                                                                                                                                           Names of the Principal and Co-Investigators\n",
      "            prog_id     char                                                                                                                                                                                                                                                                                                                                                                   ESO program run identification code\n",
      "         prog_title     char                                                                                                                                                                                                                                                                                                                                                                      Title of the observing programme\n",
      "          prog_type      int                                                                                                                                                                                                                                                                                                    Program type: 0=Normal, 1=GTO, 2=DDT, 3=ToO, 4=Large, 5=Short, 6=Calibration, 7=Monitoring MAPPING\n",
      "                 ra   double                deg                                                                                                                                                                                                                                                                                                                                                          Right Ascension FK5 J2000\n",
      "             ra_pnt   double                deg                                                                                                                                                                                                                                                                                                                                Pointing Right Ascension FK5 J2000 of the telescope\n",
      "       release_date     char   timestamp                                                                                                                                                                                                                                                                                                 The date at which the data become publicly available at the end of the proprietary period\n",
      "           s_region     char adql:REGION        This is the field to be used for spatial queries. Example: select * from dbo.raw where contains( s_region, circle('', 56.3, 20, 1)=1  to search in a cone of 1 deg radius around ra=56.3 dec=20. In output it provides the spatial coordinates of the raw data set expressed as POSITION ra dec, as, for raw data, the footprints of the observations are currently not available.\n",
      "          slit_path     char                                                                                                                                                                                                                                                                         All slits. The string is in the format <value>, <value>,... where <value> is the value of one of the keywords INS.SLIT*.NAME.\n",
      "             target     char                                                                                                                                                                                                                                                                                                                                                       Target designation (as given by the astronomer)\n",
      "       tel_airm_end    float                                                                                                                                                                                                                                                                                                                                                            The airmass at the end of the observation.\n",
      "     tel_airm_start    float                                                                                                                                                                                                                                                                                                                                                          The airmass at the start of the observation.\n",
      "            tel_alt    float                deg                                                                                                                                                                                                                                                                                                                          The Altitude angle (deg) at the start of the observation.\n",
      "  tel_ambi_fwhm_end    float             arcsec                                                                                                                                                                                                                                                                                                                          The seeing measured by XXX at the end of the observation.\n",
      "tel_ambi_fwhm_start    float             arcsec                                                                                                                                                                                                                                                                                                                        The seeing measured by XXX at the start of the observation.\n",
      "  tel_ambi_pres_end    float                hPa                                                                                                                                                                                                                                                                                                            The atmospheric pressure measured by XXX at the end of the observation.\n",
      "tel_ambi_pres_start    float                hPa                                                                                                                                                                                                                                                                                                          The atmospheric pressure measured by XXX at the start of the observation.\n",
      "      tel_ambi_rhum    float                                                                                                                                                                                                                                                                                                                     The atmospheric relative humidity measured by XXX at the time of the observation.\n",
      "             tel_az    float                deg                                                                                                                                                                                                                                                                                                                  The Azimuth angle (deg) S=0,W=90 at the start of the observation.\n",
      "          telescope     char                                                                                                                                                                                                                                                                                                                                                                            The name of the telescope.\n",
      "          tpl_expno      int                                                                                                                                                                                                                                                                                                                                                    The exposure number within its template execution.\n",
      "             tpl_id     char                                                                                                                                                                                                       The observing template identifier, a unique ID assigned to a template, that is, to a pre-defined sequence of operations involving any combination of telescope, instrument and detector actions\n",
      "           tpl_name     char                                                                                                                                                                                                                                                                                                                                                                   The name of the observing template.\n",
      "           tpl_nexp      int                                                                                                                                                                                                                                                                                                                                                 The total number of exposures for the given template.\n",
      "          tpl_seqno      int                                                                                                                                                                                                                                                                                                                                               The template sequence number within the Observing Block\n",
      "          tpl_start     char                                                                                                                                                                                                           The start time of the execution of the observing template, exposed as a string and not as a datetime field as this is used as an identifier (ESO_DATEADD_SEC does not work on this column).\n",
      "\n",
      "Number of records present in the table dbo.raw:\n",
      "34412949\n",
      " [astroquery.eso.core]\n"
     ]
    }
   ],
   "source": [
    "eso_instance.query_main(print_help=True)"
   ]
  },
  {
   "cell_type": "markdown",
   "metadata": {},
   "source": [
    "### Number of records - BUG?? --> the bug is in the cone search"
   ]
  },
  {
   "cell_type": "code",
   "execution_count": 17,
   "metadata": {},
   "outputs": [
    {
     "name": "stdout",
     "output_type": "stream",
     "text": [
      "select count(*) from dbo.raw\n",
      "select count(*) from dbo.raw where instrument = 'MUSE'\n",
      "27975540 306458\n",
      "select count(*) from ivoa.ObsCore where obs_collection in ('MUSE')\n",
      "select count(*) from ivoa.ObsCore where obs_collection in ('MUSE') and intersects(s_region, circle('ICRS', 18, 0, 1))=1\n",
      "16095 20\n",
      "select count(*) from ist.MUSE\n",
      "select count(*) from ist.MUSE\n",
      "32246 32246\n"
     ]
    }
   ],
   "source": [
    "count_n = eso_instance.query_main(count_only=True)\n",
    "count_m = eso_instance.query_main(instrument=\"MUSE\", count_only=True)\n",
    "print(count_n, count_m)\n",
    "\n",
    "count_n = eso_instance.query_collections('MUSE', count_only=True)\n",
    "count_m = eso_instance.query_collections('MUSE', ra=18, dec=0 , radius=1, count_only=True)\n",
    "print(count_n, count_m)\n",
    "\n",
    "\n",
    "os.environ[\"ESO_TAP_URL\"] = \"http://dfidev5.hq.eso.org:8123/tap_obs\"\n",
    "count_n = eso_instance.query_instrument('MUSE', count_only=True)\n",
    "count_m = eso_instance.query_instrument(instrument='MUSE', ra=18, dec=0 , radius=1, count_only=True)\n",
    "print(count_n, count_m)\n",
    "del os.environ[\"ESO_TAP_URL\"]"
   ]
  },
  {
   "cell_type": "code",
   "execution_count": 18,
   "metadata": {},
   "outputs": [
    {
     "name": "stdout",
     "output_type": "stream",
     "text": [
      "          collection  num_records\n",
      "0         081.C-0827            1\n",
      "1         092.A-0472            4\n",
      "2         096.B-0054            8\n",
      "3        1100.A-0528            1\n",
      "4        1101.A-0127            4\n",
      "5         193.D-0232         5397\n",
      "6         195.B-0283          587\n",
      "7         196.B-0578          114\n",
      "8         196.D-0214          361\n",
      "9         197.A-0384           28\n",
      "10        198.A-0708          165\n",
      "11        60.A-9284H            2\n",
      "12         60.A-9493            1\n",
      "13             ADHOC         3720\n",
      "14          ALCOHOLS            5\n",
      "15           ALLSMOG           88\n",
      "16              ALMA       698445\n",
      "17             AMAZE           25\n",
      "18             AMBRE            3\n",
      "19       APEX-SciOps            1\n",
      "20          ATLASGAL           48\n",
      "21       ePESSTOplus         2655\n",
      "22          ESPRESSO        23424\n",
      "23           ESSENCE          185\n",
      "24               FDS          102\n",
      "25             FEROS        91987\n",
      "26          Fornax3D           31\n",
      "27        FORS2-SPEC        90350\n",
      "28           GAIAESO       194423\n",
      "29              GCAV         1058\n",
      "30           GIRAFFE      1097100\n",
      "31       GOODS_FORS2         1716\n",
      "32       GOODS_ISAAC           83\n",
      "33  GOODS_VIMOS_IMAG            2\n",
      "34  GOODS_VIMOS_SPEC         5053\n",
      "35          GW170817           15\n",
      "36             HARPS       340392\n",
      "37             HAWKI        28506\n",
      "38              HUGS           21\n",
      "39           INSPIRE          195\n",
      "40              KIDS        17993\n",
      "41              KMOS       125514\n",
      "42            LEGA-C         4154\n",
      "43              LESS            1\n",
      "44              MUSE        21050\n",
      "45         MUSE-DEEP         1499\n",
      "46          MUSE-STD           35\n",
      "47  MW-BULGE-PSFPHOT         4096\n",
      "48              NGTS         1944\n",
      "49            PESSTO         7484\n",
      "50            PHANGS           38\n",
      "51           PIONIER         4681\n",
      "52            SPHERE          602\n",
      "53             SUPER           20\n",
      "54        UltraVISTA           17\n",
      "55              UVES        84057\n",
      "56        UVES_SQUAD          467\n",
      "57           VANDELS         2167\n",
      "58             VEGAS           23\n",
      "59             VEILS         6526\n",
      "60             VEXAS          126\n",
      "61               VHS       458782\n",
      "62             VIDEO        31672\n",
      "63            VIKING        20711\n",
      "64             VIMOS        16728\n",
      "65          VINROUGE         2016\n",
      "66            VIPERS        91509\n",
      "67           VISIONS         3374\n",
      "68               VMC        42589\n",
      "69         VPHASplus        58831\n",
      "70         VST-ATLAS        62765\n",
      "71               VVV       216281\n",
      "72              VVVX       405625\n",
      "73            XQ-100          455\n",
      "74             XSGRB          518\n",
      "75          XSHOOTER       177513\n",
      "76               XSL         2634\n",
      "77           ZCOSMOS        20806\n"
     ]
    }
   ],
   "source": [
    "collection_nrows = {\"collection\": [], \"num_records\": []}\n",
    "for x in available_collections:\n",
    "    n = eso_instance.query_collections(x, count_only=True)\n",
    "    collection_nrows[\"num_records\"].append(n)\n",
    "    collection_nrows[\"collection\"].append(x)\n",
    "    print(x, n)\n",
    "\n",
    "clear_output()\n",
    "print(pd.DataFrame(collection_nrows).to_string())"
   ]
  },
  {
   "cell_type": "markdown",
   "metadata": {},
   "source": [
    "### Column names as list - New Feature?"
   ]
  },
  {
   "cell_type": "code",
   "execution_count": 19,
   "metadata": {},
   "outputs": [
    {
     "name": "stdout",
     "output_type": "stream",
     "text": [
      "select top 1 * from dbo.raw\n",
      "                      0\n",
      "0        access_estsize\n",
      "1            access_url\n",
      "2          datalink_url\n",
      "3              date_obs\n",
      "4                   dec\n",
      "5               dec_pnt\n",
      "6           det_chip1id\n",
      "7      det_chop_ncycles\n",
      "8               det_dit\n",
      "9             det_expid\n",
      "10             det_ndit\n",
      "11               dp_cat\n",
      "12                dp_id\n",
      "13              dp_tech\n",
      "14              dp_type\n",
      "15              ecl_lat\n",
      "16              ecl_lon\n",
      "17            exp_start\n",
      "18             exposure\n",
      "19          filter_path\n",
      "20              gal_lat\n",
      "21              gal_lon\n",
      "22            grat_path\n",
      "23            gris_path\n",
      "24             ins_mode\n",
      "25           instrument\n",
      "26           lambda_max\n",
      "27           lambda_min\n",
      "28        last_mod_date\n",
      "29              mjd_obs\n",
      "30                ob_id\n",
      "31              ob_name\n",
      "32               object\n",
      "33             obs_mode\n",
      "34             origfile\n",
      "35               period\n",
      "36               pi_coi\n",
      "37              prog_id\n",
      "38           prog_title\n",
      "39            prog_type\n",
      "40                   ra\n",
      "41               ra_pnt\n",
      "42         release_date\n",
      "43             s_region\n",
      "44            slit_path\n",
      "45               target\n",
      "46         tel_airm_end\n",
      "47       tel_airm_start\n",
      "48              tel_alt\n",
      "49    tel_ambi_fwhm_end\n",
      "50  tel_ambi_fwhm_start\n",
      "51    tel_ambi_pres_end\n",
      "52  tel_ambi_pres_start\n",
      "53        tel_ambi_rhum\n",
      "54               tel_az\n",
      "55            telescope\n",
      "56            tpl_expno\n",
      "57               tpl_id\n",
      "58             tpl_name\n",
      "59             tpl_nexp\n",
      "60            tpl_seqno\n",
      "61            tpl_start\n"
     ]
    }
   ],
   "source": [
    "column_list = list(eso_instance.query_main(top=1).columns)\n",
    "print(pd.DataFrame(column_list).to_string())"
   ]
  },
  {
   "cell_type": "markdown",
   "metadata": {},
   "source": [
    "## Limit the number of records - _top_ vs _maxrec_\n",
    " - `top`: \"I don't care how many records there are, give me only the _top N_, because my science requires only those.\"\n",
    " - `maxrec`: \"Give me as many records as possible given my computational resources and time constraints. Please warn me if results are truncated.\""
   ]
  },
  {
   "cell_type": "code",
   "execution_count": 20,
   "metadata": {},
   "outputs": [
    {
     "name": "stdout",
     "output_type": "stream",
     "text": [
      "select top 3 * from dbo.raw\n"
     ]
    },
    {
     "data": {
      "text/html": [
       "<div><i>Table length=3</i>\n",
       "<table id=\"table5099824752\" class=\"table-striped table-bordered table-condensed\">\n",
       "<thead><tr><th>access_estsize</th><th>access_url</th><th>datalink_url</th><th>date_obs</th><th>dec</th><th>dec_pnt</th><th>det_chip1id</th><th>det_chop_ncycles</th><th>det_dit</th><th>det_expid</th><th>det_ndit</th><th>dp_cat</th><th>dp_id</th><th>dp_tech</th><th>dp_type</th><th>ecl_lat</th><th>ecl_lon</th><th>exp_start</th><th>exposure</th><th>filter_path</th><th>gal_lat</th><th>gal_lon</th><th>grat_path</th><th>gris_path</th><th>ins_mode</th><th>instrument</th><th>lambda_max</th><th>lambda_min</th><th>last_mod_date</th><th>mjd_obs</th><th>ob_id</th><th>ob_name</th><th>object</th><th>obs_mode</th><th>origfile</th><th>period</th><th>pi_coi</th><th>prog_id</th><th>prog_title</th><th>prog_type</th><th>ra</th><th>ra_pnt</th><th>release_date</th><th>s_region</th><th>slit_path</th><th>target</th><th>tel_airm_end</th><th>tel_airm_start</th><th>tel_alt</th><th>tel_ambi_fwhm_end</th><th>tel_ambi_fwhm_start</th><th>tel_ambi_pres_end</th><th>tel_ambi_pres_start</th><th>tel_ambi_rhum</th><th>tel_az</th><th>telescope</th><th>tpl_expno</th><th>tpl_id</th><th>tpl_name</th><th>tpl_nexp</th><th>tpl_seqno</th><th>tpl_start</th></tr></thead>\n",
       "<thead><tr><th>kbyte</th><th></th><th></th><th></th><th>deg</th><th>deg</th><th></th><th></th><th>s</th><th></th><th></th><th></th><th></th><th></th><th></th><th>deg</th><th>deg</th><th></th><th>s</th><th></th><th>deg</th><th>deg</th><th></th><th></th><th></th><th></th><th>nm</th><th>nm</th><th></th><th>d</th><th></th><th></th><th></th><th></th><th></th><th></th><th></th><th></th><th></th><th></th><th>deg</th><th>deg</th><th></th><th></th><th></th><th></th><th></th><th></th><th>deg</th><th>arcsec</th><th>arcsec</th><th>hPa</th><th>hPa</th><th></th><th>deg</th><th></th><th></th><th></th><th></th><th></th><th></th><th></th></tr></thead>\n",
       "<thead><tr><th>int64</th><th>object</th><th>object</th><th>object</th><th>float64</th><th>float64</th><th>object</th><th>int16</th><th>float32</th><th>int16</th><th>int16</th><th>object</th><th>object</th><th>object</th><th>object</th><th>float64</th><th>float64</th><th>object</th><th>float32</th><th>object</th><th>float64</th><th>float64</th><th>object</th><th>object</th><th>object</th><th>object</th><th>float64</th><th>float64</th><th>object</th><th>float64</th><th>int32</th><th>object</th><th>object</th><th>object</th><th>object</th><th>int16</th><th>object</th><th>object</th><th>object</th><th>int32</th><th>float64</th><th>float64</th><th>object</th><th>object</th><th>object</th><th>object</th><th>float32</th><th>float32</th><th>float32</th><th>float32</th><th>float32</th><th>float32</th><th>float32</th><th>float32</th><th>float32</th><th>object</th><th>int32</th><th>object</th><th>object</th><th>int32</th><th>int32</th><th>object</th></tr></thead>\n",
       "<tr><td>25918</td><td>https://dataportal.eso.org/dataPortal/file/ALPACA.2022-12-07T00:55:05.270</td><td>https://archive.eso.org/datalink/links?ID=ivo://eso.org/ID?ALPACA.2022-12-07T00:55:05.270</td><td>2022-12-07T00:55:05.270</td><td>-24.74604694</td><td>-24.746047</td><td>CMOS-GS16MP</td><td>--</td><td>--</td><td>--</td><td>--</td><td>CALIB</td><td>ALPACA.2022-12-07T00:55:05.270</td><td>IMAGE</td><td>SKY</td><td>-30.061165</td><td>6.838335</td><td>2022-12-07T00:55:05.270Z</td><td>120.0</td><td>LUMINANCE</td><td>-84.089755</td><td>190.504407</td><td></td><td></td><td></td><td>ALPACA</td><td>700.0</td><td>400.0</td><td>2023-06-02T13:20:55.733Z</td><td>59920.03825543982</td><td>--</td><td></td><td>ALL SKY</td><td>s</td><td>ALPACA.2022-12-07T00-55-05.270.fits</td><td>60</td><td>ESO PARANAL OBSERVATORY</td><td>60.A-9300(B)</td><td>MASCOT ENGINEERING RUN</td><td>0</td><td>18.87548</td><td>18.87548</td><td>2022-12-07T00:55:05.270Z</td><td>POSITION J2000 18.87548000000001 -24.746047</td><td></td><td></td><td>1.0</td><td>1.0</td><td>90.0</td><td>--</td><td>--</td><td>--</td><td>--</td><td>--</td><td>0.0</td><td>ALPACA</td><td>--</td><td></td><td></td><td>--</td><td>--</td><td></td></tr>\n",
       "<tr><td>25911</td><td>https://dataportal.eso.org/dataPortal/file/ALPACA.2022-12-07T00:57:07.400</td><td>https://archive.eso.org/datalink/links?ID=ivo://eso.org/ID?ALPACA.2022-12-07T00:57:07.400</td><td>2022-12-07T00:57:07.400</td><td>-24.74570194</td><td>-24.745702</td><td>CMOS-GS16MP</td><td>--</td><td>--</td><td>--</td><td>--</td><td>CALIB</td><td>ALPACA.2022-12-07T00:57:07.400</td><td>IMAGE</td><td>SKY</td><td>-30.262454</td><td>7.321629</td><td>2022-12-07T00:57:07.400Z</td><td>120.0</td><td>LUMINANCE</td><td>-83.666774</td><td>192.289978</td><td></td><td></td><td></td><td>ALPACA</td><td>700.0</td><td>400.0</td><td>2023-06-02T13:20:55.733Z</td><td>59920.03966898148</td><td>--</td><td></td><td>ALL SKY</td><td>s</td><td>ALPACA.2022-12-07T00-57-07.400.fits</td><td>60</td><td>ESO PARANAL OBSERVATORY</td><td>60.A-9300(B)</td><td>MASCOT ENGINEERING RUN</td><td>0</td><td>19.38619194</td><td>19.386192</td><td>2022-12-07T00:57:07.400Z</td><td>POSITION J2000 19.386191999999994 -24.745702</td><td></td><td></td><td>1.0</td><td>1.0</td><td>90.0</td><td>--</td><td>--</td><td>--</td><td>--</td><td>--</td><td>0.0</td><td>ALPACA</td><td>--</td><td></td><td></td><td>--</td><td>--</td><td></td></tr>\n",
       "<tr><td>25775</td><td>https://dataportal.eso.org/dataPortal/file/ALPACA.2022-12-07T00:59:14.840</td><td>https://archive.eso.org/datalink/links?ID=ivo://eso.org/ID?ALPACA.2022-12-07T00:59:14.840</td><td>2022-12-07T00:59:14.840</td><td>-24.74533194</td><td>-24.745332</td><td>CMOS-GS16MP</td><td>--</td><td>--</td><td>--</td><td>--</td><td>CALIB</td><td>ALPACA.2022-12-07T00:59:14.840</td><td>IMAGE</td><td>SKY</td><td>-30.472252</td><td>7.827128</td><td>2022-12-07T00:59:14.840Z</td><td>120.0</td><td>LUMINANCE</td><td>-83.220412</td><td>193.929393</td><td></td><td></td><td></td><td>ALPACA</td><td>700.0</td><td>400.0</td><td>2023-06-02T13:20:55.733Z</td><td>59920.04114398148</td><td>--</td><td></td><td>ALL SKY</td><td>s</td><td>ALPACA.2022-12-07T00-59-14.840.fits</td><td>60</td><td>ESO PARANAL OBSERVATORY</td><td>60.A-9300(B)</td><td>MASCOT ENGINEERING RUN</td><td>0</td><td>19.91910694</td><td>19.919107</td><td>2022-12-07T00:59:14.840Z</td><td>POSITION J2000 19.919106999999997 -24.745332</td><td></td><td></td><td>1.0</td><td>1.0</td><td>90.0</td><td>--</td><td>--</td><td>--</td><td>--</td><td>--</td><td>0.0</td><td>ALPACA</td><td>--</td><td></td><td></td><td>--</td><td>--</td><td></td></tr>\n",
       "</table></div>"
      ],
      "text/plain": [
       "<Table length=3>\n",
       "access_estsize ... tpl_start\n",
       "    kbyte      ...          \n",
       "    int64      ...   object \n",
       "-------------- ... ---------\n",
       "         25918 ...          \n",
       "         25911 ...          \n",
       "         25775 ...          "
      ]
     },
     "execution_count": 20,
     "metadata": {},
     "output_type": "execute_result"
    }
   ],
   "source": [
    "eso_instance.maxrec = None \n",
    "eso_instance.query_main(top=3)"
   ]
  },
  {
   "cell_type": "code",
   "execution_count": 21,
   "metadata": {},
   "outputs": [
    {
     "name": "stdout",
     "output_type": "stream",
     "text": [
      "select * from dbo.raw\n"
     ]
    },
    {
     "name": "stderr",
     "output_type": "stream",
     "text": [
      "/Users/jcarmona/miniconda3/envs/py39/lib/python3.9/site-packages/pyvo/dal/query.py:339: DALOverflowWarning: Partial result set. Potential causes MAXREC, async storage space, etc.\n",
      "  warn(\"Partial result set. Potential causes MAXREC, async storage space, etc.\",\n",
      "WARNING: MaxResultsWarning: Results truncated to 3. To retrieve all the records set to None the maxrec attribute [astroquery.eso.core]\n"
     ]
    },
    {
     "data": {
      "text/html": [
       "<div><i>Table length=3</i>\n",
       "<table id=\"table5100105248\" class=\"table-striped table-bordered table-condensed\">\n",
       "<thead><tr><th>access_estsize</th><th>access_url</th><th>datalink_url</th><th>date_obs</th><th>dec</th><th>dec_pnt</th><th>det_chip1id</th><th>det_chop_ncycles</th><th>det_dit</th><th>det_expid</th><th>det_ndit</th><th>dp_cat</th><th>dp_id</th><th>dp_tech</th><th>dp_type</th><th>ecl_lat</th><th>ecl_lon</th><th>exp_start</th><th>exposure</th><th>filter_path</th><th>gal_lat</th><th>gal_lon</th><th>grat_path</th><th>gris_path</th><th>ins_mode</th><th>instrument</th><th>lambda_max</th><th>lambda_min</th><th>last_mod_date</th><th>mjd_obs</th><th>ob_id</th><th>ob_name</th><th>object</th><th>obs_mode</th><th>origfile</th><th>period</th><th>pi_coi</th><th>prog_id</th><th>prog_title</th><th>prog_type</th><th>ra</th><th>ra_pnt</th><th>release_date</th><th>s_region</th><th>slit_path</th><th>target</th><th>tel_airm_end</th><th>tel_airm_start</th><th>tel_alt</th><th>tel_ambi_fwhm_end</th><th>tel_ambi_fwhm_start</th><th>tel_ambi_pres_end</th><th>tel_ambi_pres_start</th><th>tel_ambi_rhum</th><th>tel_az</th><th>telescope</th><th>tpl_expno</th><th>tpl_id</th><th>tpl_name</th><th>tpl_nexp</th><th>tpl_seqno</th><th>tpl_start</th></tr></thead>\n",
       "<thead><tr><th>kbyte</th><th></th><th></th><th></th><th>deg</th><th>deg</th><th></th><th></th><th>s</th><th></th><th></th><th></th><th></th><th></th><th></th><th>deg</th><th>deg</th><th></th><th>s</th><th></th><th>deg</th><th>deg</th><th></th><th></th><th></th><th></th><th>nm</th><th>nm</th><th></th><th>d</th><th></th><th></th><th></th><th></th><th></th><th></th><th></th><th></th><th></th><th></th><th>deg</th><th>deg</th><th></th><th></th><th></th><th></th><th></th><th></th><th>deg</th><th>arcsec</th><th>arcsec</th><th>hPa</th><th>hPa</th><th></th><th>deg</th><th></th><th></th><th></th><th></th><th></th><th></th><th></th></tr></thead>\n",
       "<thead><tr><th>int64</th><th>object</th><th>object</th><th>object</th><th>float64</th><th>float64</th><th>object</th><th>int16</th><th>float32</th><th>int16</th><th>int16</th><th>object</th><th>object</th><th>object</th><th>object</th><th>float64</th><th>float64</th><th>object</th><th>float32</th><th>object</th><th>float64</th><th>float64</th><th>object</th><th>object</th><th>object</th><th>object</th><th>float64</th><th>float64</th><th>object</th><th>float64</th><th>int32</th><th>object</th><th>object</th><th>object</th><th>object</th><th>int16</th><th>object</th><th>object</th><th>object</th><th>int32</th><th>float64</th><th>float64</th><th>object</th><th>object</th><th>object</th><th>object</th><th>float32</th><th>float32</th><th>float32</th><th>float32</th><th>float32</th><th>float32</th><th>float32</th><th>float32</th><th>float32</th><th>object</th><th>int32</th><th>object</th><th>object</th><th>int32</th><th>int32</th><th>object</th></tr></thead>\n",
       "<tr><td>25918</td><td>https://dataportal.eso.org/dataPortal/file/ALPACA.2022-12-07T00:55:05.270</td><td>https://archive.eso.org/datalink/links?ID=ivo://eso.org/ID?ALPACA.2022-12-07T00:55:05.270</td><td>2022-12-07T00:55:05.270</td><td>-24.74604694</td><td>-24.746047</td><td>CMOS-GS16MP</td><td>--</td><td>--</td><td>--</td><td>--</td><td>CALIB</td><td>ALPACA.2022-12-07T00:55:05.270</td><td>IMAGE</td><td>SKY</td><td>-30.061165</td><td>6.838335</td><td>2022-12-07T00:55:05.270Z</td><td>120.0</td><td>LUMINANCE</td><td>-84.089755</td><td>190.504407</td><td></td><td></td><td></td><td>ALPACA</td><td>700.0</td><td>400.0</td><td>2023-06-02T13:20:55.733Z</td><td>59920.03825543982</td><td>--</td><td></td><td>ALL SKY</td><td>s</td><td>ALPACA.2022-12-07T00-55-05.270.fits</td><td>60</td><td>ESO PARANAL OBSERVATORY</td><td>60.A-9300(B)</td><td>MASCOT ENGINEERING RUN</td><td>0</td><td>18.87548</td><td>18.87548</td><td>2022-12-07T00:55:05.270Z</td><td>POSITION J2000 18.87548000000001 -24.746047</td><td></td><td></td><td>1.0</td><td>1.0</td><td>90.0</td><td>--</td><td>--</td><td>--</td><td>--</td><td>--</td><td>0.0</td><td>ALPACA</td><td>--</td><td></td><td></td><td>--</td><td>--</td><td></td></tr>\n",
       "<tr><td>25911</td><td>https://dataportal.eso.org/dataPortal/file/ALPACA.2022-12-07T00:57:07.400</td><td>https://archive.eso.org/datalink/links?ID=ivo://eso.org/ID?ALPACA.2022-12-07T00:57:07.400</td><td>2022-12-07T00:57:07.400</td><td>-24.74570194</td><td>-24.745702</td><td>CMOS-GS16MP</td><td>--</td><td>--</td><td>--</td><td>--</td><td>CALIB</td><td>ALPACA.2022-12-07T00:57:07.400</td><td>IMAGE</td><td>SKY</td><td>-30.262454</td><td>7.321629</td><td>2022-12-07T00:57:07.400Z</td><td>120.0</td><td>LUMINANCE</td><td>-83.666774</td><td>192.289978</td><td></td><td></td><td></td><td>ALPACA</td><td>700.0</td><td>400.0</td><td>2023-06-02T13:20:55.733Z</td><td>59920.03966898148</td><td>--</td><td></td><td>ALL SKY</td><td>s</td><td>ALPACA.2022-12-07T00-57-07.400.fits</td><td>60</td><td>ESO PARANAL OBSERVATORY</td><td>60.A-9300(B)</td><td>MASCOT ENGINEERING RUN</td><td>0</td><td>19.38619194</td><td>19.386192</td><td>2022-12-07T00:57:07.400Z</td><td>POSITION J2000 19.386191999999994 -24.745702</td><td></td><td></td><td>1.0</td><td>1.0</td><td>90.0</td><td>--</td><td>--</td><td>--</td><td>--</td><td>--</td><td>0.0</td><td>ALPACA</td><td>--</td><td></td><td></td><td>--</td><td>--</td><td></td></tr>\n",
       "<tr><td>25775</td><td>https://dataportal.eso.org/dataPortal/file/ALPACA.2022-12-07T00:59:14.840</td><td>https://archive.eso.org/datalink/links?ID=ivo://eso.org/ID?ALPACA.2022-12-07T00:59:14.840</td><td>2022-12-07T00:59:14.840</td><td>-24.74533194</td><td>-24.745332</td><td>CMOS-GS16MP</td><td>--</td><td>--</td><td>--</td><td>--</td><td>CALIB</td><td>ALPACA.2022-12-07T00:59:14.840</td><td>IMAGE</td><td>SKY</td><td>-30.472252</td><td>7.827128</td><td>2022-12-07T00:59:14.840Z</td><td>120.0</td><td>LUMINANCE</td><td>-83.220412</td><td>193.929393</td><td></td><td></td><td></td><td>ALPACA</td><td>700.0</td><td>400.0</td><td>2023-06-02T13:20:55.733Z</td><td>59920.04114398148</td><td>--</td><td></td><td>ALL SKY</td><td>s</td><td>ALPACA.2022-12-07T00-59-14.840.fits</td><td>60</td><td>ESO PARANAL OBSERVATORY</td><td>60.A-9300(B)</td><td>MASCOT ENGINEERING RUN</td><td>0</td><td>19.91910694</td><td>19.919107</td><td>2022-12-07T00:59:14.840Z</td><td>POSITION J2000 19.919106999999997 -24.745332</td><td></td><td></td><td>1.0</td><td>1.0</td><td>90.0</td><td>--</td><td>--</td><td>--</td><td>--</td><td>--</td><td>0.0</td><td>ALPACA</td><td>--</td><td></td><td></td><td>--</td><td>--</td><td></td></tr>\n",
       "</table></div>"
      ],
      "text/plain": [
       "<Table length=3>\n",
       "access_estsize ... tpl_start\n",
       "    kbyte      ...          \n",
       "    int64      ...   object \n",
       "-------------- ... ---------\n",
       "         25918 ...          \n",
       "         25911 ...          \n",
       "         25775 ...          "
      ]
     },
     "execution_count": 21,
     "metadata": {},
     "output_type": "execute_result"
    }
   ],
   "source": [
    "eso_instance.maxrec = 3\n",
    "eso_instance.query_main()"
   ]
  },
  {
   "cell_type": "code",
   "execution_count": 22,
   "metadata": {},
   "outputs": [
    {
     "name": "stdout",
     "output_type": "stream",
     "text": [
      "select top 10 * from dbo.raw\n"
     ]
    },
    {
     "name": "stderr",
     "output_type": "stream",
     "text": [
      "WARNING: MaxResultsWarning: Results truncated to 5. To retrieve all the records set to None the maxrec attribute [astroquery.eso.core]\n"
     ]
    },
    {
     "data": {
      "text/html": [
       "<div><i>Table length=5</i>\n",
       "<table id=\"table5283735344\" class=\"table-striped table-bordered table-condensed\">\n",
       "<thead><tr><th>access_estsize</th><th>access_url</th><th>datalink_url</th><th>date_obs</th><th>dec</th><th>dec_pnt</th><th>det_chip1id</th><th>det_chop_ncycles</th><th>det_dit</th><th>det_expid</th><th>det_ndit</th><th>dp_cat</th><th>dp_id</th><th>dp_tech</th><th>dp_type</th><th>ecl_lat</th><th>ecl_lon</th><th>exp_start</th><th>exposure</th><th>filter_path</th><th>gal_lat</th><th>gal_lon</th><th>grat_path</th><th>gris_path</th><th>ins_mode</th><th>instrument</th><th>lambda_max</th><th>lambda_min</th><th>last_mod_date</th><th>mjd_obs</th><th>ob_id</th><th>ob_name</th><th>object</th><th>obs_mode</th><th>origfile</th><th>period</th><th>pi_coi</th><th>prog_id</th><th>prog_title</th><th>prog_type</th><th>ra</th><th>ra_pnt</th><th>release_date</th><th>s_region</th><th>slit_path</th><th>target</th><th>tel_airm_end</th><th>tel_airm_start</th><th>tel_alt</th><th>tel_ambi_fwhm_end</th><th>tel_ambi_fwhm_start</th><th>tel_ambi_pres_end</th><th>tel_ambi_pres_start</th><th>tel_ambi_rhum</th><th>tel_az</th><th>telescope</th><th>tpl_expno</th><th>tpl_id</th><th>tpl_name</th><th>tpl_nexp</th><th>tpl_seqno</th><th>tpl_start</th></tr></thead>\n",
       "<thead><tr><th>kbyte</th><th></th><th></th><th></th><th>deg</th><th>deg</th><th></th><th></th><th>s</th><th></th><th></th><th></th><th></th><th></th><th></th><th>deg</th><th>deg</th><th></th><th>s</th><th></th><th>deg</th><th>deg</th><th></th><th></th><th></th><th></th><th>nm</th><th>nm</th><th></th><th>d</th><th></th><th></th><th></th><th></th><th></th><th></th><th></th><th></th><th></th><th></th><th>deg</th><th>deg</th><th></th><th></th><th></th><th></th><th></th><th></th><th>deg</th><th>arcsec</th><th>arcsec</th><th>hPa</th><th>hPa</th><th></th><th>deg</th><th></th><th></th><th></th><th></th><th></th><th></th><th></th></tr></thead>\n",
       "<thead><tr><th>int64</th><th>object</th><th>object</th><th>object</th><th>float64</th><th>float64</th><th>object</th><th>int16</th><th>float32</th><th>int16</th><th>int16</th><th>object</th><th>object</th><th>object</th><th>object</th><th>float64</th><th>float64</th><th>object</th><th>float32</th><th>object</th><th>float64</th><th>float64</th><th>object</th><th>object</th><th>object</th><th>object</th><th>float64</th><th>float64</th><th>object</th><th>float64</th><th>int32</th><th>object</th><th>object</th><th>object</th><th>object</th><th>int16</th><th>object</th><th>object</th><th>object</th><th>int32</th><th>float64</th><th>float64</th><th>object</th><th>object</th><th>object</th><th>object</th><th>float32</th><th>float32</th><th>float32</th><th>float32</th><th>float32</th><th>float32</th><th>float32</th><th>float32</th><th>float32</th><th>object</th><th>int32</th><th>object</th><th>object</th><th>int32</th><th>int32</th><th>object</th></tr></thead>\n",
       "<tr><td>25918</td><td>https://dataportal.eso.org/dataPortal/file/ALPACA.2022-12-07T00:55:05.270</td><td>https://archive.eso.org/datalink/links?ID=ivo://eso.org/ID?ALPACA.2022-12-07T00:55:05.270</td><td>2022-12-07T00:55:05.270</td><td>-24.74604694</td><td>-24.746047</td><td>CMOS-GS16MP</td><td>--</td><td>--</td><td>--</td><td>--</td><td>CALIB</td><td>ALPACA.2022-12-07T00:55:05.270</td><td>IMAGE</td><td>SKY</td><td>-30.061165</td><td>6.838335</td><td>2022-12-07T00:55:05.270Z</td><td>120.0</td><td>LUMINANCE</td><td>-84.089755</td><td>190.504407</td><td></td><td></td><td></td><td>ALPACA</td><td>700.0</td><td>400.0</td><td>2023-06-02T13:20:55.733Z</td><td>59920.03825543982</td><td>--</td><td></td><td>ALL SKY</td><td>s</td><td>ALPACA.2022-12-07T00-55-05.270.fits</td><td>60</td><td>ESO PARANAL OBSERVATORY</td><td>60.A-9300(B)</td><td>MASCOT ENGINEERING RUN</td><td>0</td><td>18.87548</td><td>18.87548</td><td>2022-12-07T00:55:05.270Z</td><td>POSITION J2000 18.87548000000001 -24.746047</td><td></td><td></td><td>1.0</td><td>1.0</td><td>90.0</td><td>--</td><td>--</td><td>--</td><td>--</td><td>--</td><td>0.0</td><td>ALPACA</td><td>--</td><td></td><td></td><td>--</td><td>--</td><td></td></tr>\n",
       "<tr><td>25911</td><td>https://dataportal.eso.org/dataPortal/file/ALPACA.2022-12-07T00:57:07.400</td><td>https://archive.eso.org/datalink/links?ID=ivo://eso.org/ID?ALPACA.2022-12-07T00:57:07.400</td><td>2022-12-07T00:57:07.400</td><td>-24.74570194</td><td>-24.745702</td><td>CMOS-GS16MP</td><td>--</td><td>--</td><td>--</td><td>--</td><td>CALIB</td><td>ALPACA.2022-12-07T00:57:07.400</td><td>IMAGE</td><td>SKY</td><td>-30.262454</td><td>7.321629</td><td>2022-12-07T00:57:07.400Z</td><td>120.0</td><td>LUMINANCE</td><td>-83.666774</td><td>192.289978</td><td></td><td></td><td></td><td>ALPACA</td><td>700.0</td><td>400.0</td><td>2023-06-02T13:20:55.733Z</td><td>59920.03966898148</td><td>--</td><td></td><td>ALL SKY</td><td>s</td><td>ALPACA.2022-12-07T00-57-07.400.fits</td><td>60</td><td>ESO PARANAL OBSERVATORY</td><td>60.A-9300(B)</td><td>MASCOT ENGINEERING RUN</td><td>0</td><td>19.38619194</td><td>19.386192</td><td>2022-12-07T00:57:07.400Z</td><td>POSITION J2000 19.386191999999994 -24.745702</td><td></td><td></td><td>1.0</td><td>1.0</td><td>90.0</td><td>--</td><td>--</td><td>--</td><td>--</td><td>--</td><td>0.0</td><td>ALPACA</td><td>--</td><td></td><td></td><td>--</td><td>--</td><td></td></tr>\n",
       "<tr><td>25775</td><td>https://dataportal.eso.org/dataPortal/file/ALPACA.2022-12-07T00:59:14.840</td><td>https://archive.eso.org/datalink/links?ID=ivo://eso.org/ID?ALPACA.2022-12-07T00:59:14.840</td><td>2022-12-07T00:59:14.840</td><td>-24.74533194</td><td>-24.745332</td><td>CMOS-GS16MP</td><td>--</td><td>--</td><td>--</td><td>--</td><td>CALIB</td><td>ALPACA.2022-12-07T00:59:14.840</td><td>IMAGE</td><td>SKY</td><td>-30.472252</td><td>7.827128</td><td>2022-12-07T00:59:14.840Z</td><td>120.0</td><td>LUMINANCE</td><td>-83.220412</td><td>193.929393</td><td></td><td></td><td></td><td>ALPACA</td><td>700.0</td><td>400.0</td><td>2023-06-02T13:20:55.733Z</td><td>59920.04114398148</td><td>--</td><td></td><td>ALL SKY</td><td>s</td><td>ALPACA.2022-12-07T00-59-14.840.fits</td><td>60</td><td>ESO PARANAL OBSERVATORY</td><td>60.A-9300(B)</td><td>MASCOT ENGINEERING RUN</td><td>0</td><td>19.91910694</td><td>19.919107</td><td>2022-12-07T00:59:14.840Z</td><td>POSITION J2000 19.919106999999997 -24.745332</td><td></td><td></td><td>1.0</td><td>1.0</td><td>90.0</td><td>--</td><td>--</td><td>--</td><td>--</td><td>--</td><td>0.0</td><td>ALPACA</td><td>--</td><td></td><td></td><td>--</td><td>--</td><td></td></tr>\n",
       "<tr><td>25674</td><td>https://dataportal.eso.org/dataPortal/file/ALPACA.2022-12-07T01:01:16.900</td><td>https://archive.eso.org/datalink/links?ID=ivo://eso.org/ID?ALPACA.2022-12-07T01:01:16.900</td><td>2022-12-07T01:01:16.900</td><td>-24.74496888</td><td>-24.744969</td><td>CMOS-GS16MP</td><td>--</td><td>--</td><td>--</td><td>--</td><td>CALIB</td><td>ALPACA.2022-12-07T01:01:16.900</td><td>IMAGE</td><td>SKY</td><td>-30.672945</td><td>8.312446</td><td>2022-12-07T01:01:16.900Z</td><td>120.0</td><td>LUMINANCE</td><td>-82.788982</td><td>195.322223</td><td></td><td></td><td></td><td>ALPACA</td><td>700.0</td><td>400.0</td><td>2023-06-02T13:20:55.733Z</td><td>59920.04255671296</td><td>--</td><td></td><td>ALL SKY</td><td>s</td><td>ALPACA.2022-12-07T01-01-16.900.fits</td><td>60</td><td>ESO PARANAL OBSERVATORY</td><td>60.A-9300(B)</td><td>MASCOT ENGINEERING RUN</td><td>0</td><td>20.42952305</td><td>20.429523</td><td>2022-12-07T01:01:16.900Z</td><td>POSITION J2000 20.42952299999999 -24.744969</td><td></td><td></td><td>1.0</td><td>1.0</td><td>90.0</td><td>--</td><td>--</td><td>--</td><td>--</td><td>--</td><td>0.0</td><td>ALPACA</td><td>--</td><td></td><td></td><td>--</td><td>--</td><td></td></tr>\n",
       "<tr><td>26348</td><td>https://dataportal.eso.org/dataPortal/file/ALPACA.2022-12-07T01:03:24.990</td><td>https://archive.eso.org/datalink/links?ID=ivo://eso.org/ID?ALPACA.2022-12-07T01:03:24.990</td><td>2022-12-07T01:03:24.990</td><td>-24.74457694</td><td>-24.744577</td><td>CMOS-GS16MP</td><td>--</td><td>--</td><td>--</td><td>--</td><td>CALIB</td><td>ALPACA.2022-12-07T01:03:24.990</td><td>IMAGE</td><td>SKY</td><td>-30.883275</td><td>8.822981</td><td>2022-12-07T01:03:24.990Z</td><td>120.0</td><td>LUMINANCE</td><td>-82.332845</td><td>196.628428</td><td></td><td></td><td></td><td>ALPACA</td><td>700.0</td><td>400.0</td><td>2023-06-02T13:20:55.733Z</td><td>59920.04403923611</td><td>--</td><td></td><td>ALL SKY</td><td>s</td><td>ALPACA.2022-12-07T01-03-24.990.fits</td><td>60</td><td>ESO PARANAL OBSERVATORY</td><td>60.A-9300(B)</td><td>MASCOT ENGINEERING RUN</td><td>0</td><td>20.96515388</td><td>20.965154</td><td>2022-12-07T01:03:24.990Z</td><td>POSITION J2000 20.965154000000013 -24.744577</td><td></td><td></td><td>1.0</td><td>1.0</td><td>90.0</td><td>--</td><td>--</td><td>--</td><td>--</td><td>--</td><td>0.0</td><td>ALPACA</td><td>--</td><td></td><td></td><td>--</td><td>--</td><td></td></tr>\n",
       "</table></div>"
      ],
      "text/plain": [
       "<Table length=5>\n",
       "access_estsize ... tpl_start\n",
       "    kbyte      ...          \n",
       "    int64      ...   object \n",
       "-------------- ... ---------\n",
       "         25918 ...          \n",
       "         25911 ...          \n",
       "         25775 ...          \n",
       "         25674 ...          \n",
       "         26348 ...          "
      ]
     },
     "execution_count": 22,
     "metadata": {},
     "output_type": "execute_result"
    }
   ],
   "source": [
    "eso_instance.maxrec = 5\n",
    "eso_instance.query_main(top=10)"
   ]
  },
  {
   "cell_type": "code",
   "execution_count": 23,
   "metadata": {},
   "outputs": [
    {
     "name": "stdout",
     "output_type": "stream",
     "text": [
      "select top 5 * from dbo.raw\n"
     ]
    },
    {
     "data": {
      "text/html": [
       "<div><i>Table length=5</i>\n",
       "<table id=\"table5100102560\" class=\"table-striped table-bordered table-condensed\">\n",
       "<thead><tr><th>access_estsize</th><th>access_url</th><th>datalink_url</th><th>date_obs</th><th>dec</th><th>dec_pnt</th><th>det_chip1id</th><th>det_chop_ncycles</th><th>det_dit</th><th>det_expid</th><th>det_ndit</th><th>dp_cat</th><th>dp_id</th><th>dp_tech</th><th>dp_type</th><th>ecl_lat</th><th>ecl_lon</th><th>exp_start</th><th>exposure</th><th>filter_path</th><th>gal_lat</th><th>gal_lon</th><th>grat_path</th><th>gris_path</th><th>ins_mode</th><th>instrument</th><th>lambda_max</th><th>lambda_min</th><th>last_mod_date</th><th>mjd_obs</th><th>ob_id</th><th>ob_name</th><th>object</th><th>obs_mode</th><th>origfile</th><th>period</th><th>pi_coi</th><th>prog_id</th><th>prog_title</th><th>prog_type</th><th>ra</th><th>ra_pnt</th><th>release_date</th><th>s_region</th><th>slit_path</th><th>target</th><th>tel_airm_end</th><th>tel_airm_start</th><th>tel_alt</th><th>tel_ambi_fwhm_end</th><th>tel_ambi_fwhm_start</th><th>tel_ambi_pres_end</th><th>tel_ambi_pres_start</th><th>tel_ambi_rhum</th><th>tel_az</th><th>telescope</th><th>tpl_expno</th><th>tpl_id</th><th>tpl_name</th><th>tpl_nexp</th><th>tpl_seqno</th><th>tpl_start</th></tr></thead>\n",
       "<thead><tr><th>kbyte</th><th></th><th></th><th></th><th>deg</th><th>deg</th><th></th><th></th><th>s</th><th></th><th></th><th></th><th></th><th></th><th></th><th>deg</th><th>deg</th><th></th><th>s</th><th></th><th>deg</th><th>deg</th><th></th><th></th><th></th><th></th><th>nm</th><th>nm</th><th></th><th>d</th><th></th><th></th><th></th><th></th><th></th><th></th><th></th><th></th><th></th><th></th><th>deg</th><th>deg</th><th></th><th></th><th></th><th></th><th></th><th></th><th>deg</th><th>arcsec</th><th>arcsec</th><th>hPa</th><th>hPa</th><th></th><th>deg</th><th></th><th></th><th></th><th></th><th></th><th></th><th></th></tr></thead>\n",
       "<thead><tr><th>int64</th><th>object</th><th>object</th><th>object</th><th>float64</th><th>float64</th><th>object</th><th>int16</th><th>float32</th><th>int16</th><th>int16</th><th>object</th><th>object</th><th>object</th><th>object</th><th>float64</th><th>float64</th><th>object</th><th>float32</th><th>object</th><th>float64</th><th>float64</th><th>object</th><th>object</th><th>object</th><th>object</th><th>float64</th><th>float64</th><th>object</th><th>float64</th><th>int32</th><th>object</th><th>object</th><th>object</th><th>object</th><th>int16</th><th>object</th><th>object</th><th>object</th><th>int32</th><th>float64</th><th>float64</th><th>object</th><th>object</th><th>object</th><th>object</th><th>float32</th><th>float32</th><th>float32</th><th>float32</th><th>float32</th><th>float32</th><th>float32</th><th>float32</th><th>float32</th><th>object</th><th>int32</th><th>object</th><th>object</th><th>int32</th><th>int32</th><th>object</th></tr></thead>\n",
       "<tr><td>25918</td><td>https://dataportal.eso.org/dataPortal/file/ALPACA.2022-12-07T00:55:05.270</td><td>https://archive.eso.org/datalink/links?ID=ivo://eso.org/ID?ALPACA.2022-12-07T00:55:05.270</td><td>2022-12-07T00:55:05.270</td><td>-24.74604694</td><td>-24.746047</td><td>CMOS-GS16MP</td><td>--</td><td>--</td><td>--</td><td>--</td><td>CALIB</td><td>ALPACA.2022-12-07T00:55:05.270</td><td>IMAGE</td><td>SKY</td><td>-30.061165</td><td>6.838335</td><td>2022-12-07T00:55:05.270Z</td><td>120.0</td><td>LUMINANCE</td><td>-84.089755</td><td>190.504407</td><td></td><td></td><td></td><td>ALPACA</td><td>700.0</td><td>400.0</td><td>2023-06-02T13:20:55.733Z</td><td>59920.03825543982</td><td>--</td><td></td><td>ALL SKY</td><td>s</td><td>ALPACA.2022-12-07T00-55-05.270.fits</td><td>60</td><td>ESO PARANAL OBSERVATORY</td><td>60.A-9300(B)</td><td>MASCOT ENGINEERING RUN</td><td>0</td><td>18.87548</td><td>18.87548</td><td>2022-12-07T00:55:05.270Z</td><td>POSITION J2000 18.87548000000001 -24.746047</td><td></td><td></td><td>1.0</td><td>1.0</td><td>90.0</td><td>--</td><td>--</td><td>--</td><td>--</td><td>--</td><td>0.0</td><td>ALPACA</td><td>--</td><td></td><td></td><td>--</td><td>--</td><td></td></tr>\n",
       "<tr><td>25911</td><td>https://dataportal.eso.org/dataPortal/file/ALPACA.2022-12-07T00:57:07.400</td><td>https://archive.eso.org/datalink/links?ID=ivo://eso.org/ID?ALPACA.2022-12-07T00:57:07.400</td><td>2022-12-07T00:57:07.400</td><td>-24.74570194</td><td>-24.745702</td><td>CMOS-GS16MP</td><td>--</td><td>--</td><td>--</td><td>--</td><td>CALIB</td><td>ALPACA.2022-12-07T00:57:07.400</td><td>IMAGE</td><td>SKY</td><td>-30.262454</td><td>7.321629</td><td>2022-12-07T00:57:07.400Z</td><td>120.0</td><td>LUMINANCE</td><td>-83.666774</td><td>192.289978</td><td></td><td></td><td></td><td>ALPACA</td><td>700.0</td><td>400.0</td><td>2023-06-02T13:20:55.733Z</td><td>59920.03966898148</td><td>--</td><td></td><td>ALL SKY</td><td>s</td><td>ALPACA.2022-12-07T00-57-07.400.fits</td><td>60</td><td>ESO PARANAL OBSERVATORY</td><td>60.A-9300(B)</td><td>MASCOT ENGINEERING RUN</td><td>0</td><td>19.38619194</td><td>19.386192</td><td>2022-12-07T00:57:07.400Z</td><td>POSITION J2000 19.386191999999994 -24.745702</td><td></td><td></td><td>1.0</td><td>1.0</td><td>90.0</td><td>--</td><td>--</td><td>--</td><td>--</td><td>--</td><td>0.0</td><td>ALPACA</td><td>--</td><td></td><td></td><td>--</td><td>--</td><td></td></tr>\n",
       "<tr><td>25775</td><td>https://dataportal.eso.org/dataPortal/file/ALPACA.2022-12-07T00:59:14.840</td><td>https://archive.eso.org/datalink/links?ID=ivo://eso.org/ID?ALPACA.2022-12-07T00:59:14.840</td><td>2022-12-07T00:59:14.840</td><td>-24.74533194</td><td>-24.745332</td><td>CMOS-GS16MP</td><td>--</td><td>--</td><td>--</td><td>--</td><td>CALIB</td><td>ALPACA.2022-12-07T00:59:14.840</td><td>IMAGE</td><td>SKY</td><td>-30.472252</td><td>7.827128</td><td>2022-12-07T00:59:14.840Z</td><td>120.0</td><td>LUMINANCE</td><td>-83.220412</td><td>193.929393</td><td></td><td></td><td></td><td>ALPACA</td><td>700.0</td><td>400.0</td><td>2023-06-02T13:20:55.733Z</td><td>59920.04114398148</td><td>--</td><td></td><td>ALL SKY</td><td>s</td><td>ALPACA.2022-12-07T00-59-14.840.fits</td><td>60</td><td>ESO PARANAL OBSERVATORY</td><td>60.A-9300(B)</td><td>MASCOT ENGINEERING RUN</td><td>0</td><td>19.91910694</td><td>19.919107</td><td>2022-12-07T00:59:14.840Z</td><td>POSITION J2000 19.919106999999997 -24.745332</td><td></td><td></td><td>1.0</td><td>1.0</td><td>90.0</td><td>--</td><td>--</td><td>--</td><td>--</td><td>--</td><td>0.0</td><td>ALPACA</td><td>--</td><td></td><td></td><td>--</td><td>--</td><td></td></tr>\n",
       "<tr><td>25674</td><td>https://dataportal.eso.org/dataPortal/file/ALPACA.2022-12-07T01:01:16.900</td><td>https://archive.eso.org/datalink/links?ID=ivo://eso.org/ID?ALPACA.2022-12-07T01:01:16.900</td><td>2022-12-07T01:01:16.900</td><td>-24.74496888</td><td>-24.744969</td><td>CMOS-GS16MP</td><td>--</td><td>--</td><td>--</td><td>--</td><td>CALIB</td><td>ALPACA.2022-12-07T01:01:16.900</td><td>IMAGE</td><td>SKY</td><td>-30.672945</td><td>8.312446</td><td>2022-12-07T01:01:16.900Z</td><td>120.0</td><td>LUMINANCE</td><td>-82.788982</td><td>195.322223</td><td></td><td></td><td></td><td>ALPACA</td><td>700.0</td><td>400.0</td><td>2023-06-02T13:20:55.733Z</td><td>59920.04255671296</td><td>--</td><td></td><td>ALL SKY</td><td>s</td><td>ALPACA.2022-12-07T01-01-16.900.fits</td><td>60</td><td>ESO PARANAL OBSERVATORY</td><td>60.A-9300(B)</td><td>MASCOT ENGINEERING RUN</td><td>0</td><td>20.42952305</td><td>20.429523</td><td>2022-12-07T01:01:16.900Z</td><td>POSITION J2000 20.42952299999999 -24.744969</td><td></td><td></td><td>1.0</td><td>1.0</td><td>90.0</td><td>--</td><td>--</td><td>--</td><td>--</td><td>--</td><td>0.0</td><td>ALPACA</td><td>--</td><td></td><td></td><td>--</td><td>--</td><td></td></tr>\n",
       "<tr><td>26348</td><td>https://dataportal.eso.org/dataPortal/file/ALPACA.2022-12-07T01:03:24.990</td><td>https://archive.eso.org/datalink/links?ID=ivo://eso.org/ID?ALPACA.2022-12-07T01:03:24.990</td><td>2022-12-07T01:03:24.990</td><td>-24.74457694</td><td>-24.744577</td><td>CMOS-GS16MP</td><td>--</td><td>--</td><td>--</td><td>--</td><td>CALIB</td><td>ALPACA.2022-12-07T01:03:24.990</td><td>IMAGE</td><td>SKY</td><td>-30.883275</td><td>8.822981</td><td>2022-12-07T01:03:24.990Z</td><td>120.0</td><td>LUMINANCE</td><td>-82.332845</td><td>196.628428</td><td></td><td></td><td></td><td>ALPACA</td><td>700.0</td><td>400.0</td><td>2023-06-02T13:20:55.733Z</td><td>59920.04403923611</td><td>--</td><td></td><td>ALL SKY</td><td>s</td><td>ALPACA.2022-12-07T01-03-24.990.fits</td><td>60</td><td>ESO PARANAL OBSERVATORY</td><td>60.A-9300(B)</td><td>MASCOT ENGINEERING RUN</td><td>0</td><td>20.96515388</td><td>20.965154</td><td>2022-12-07T01:03:24.990Z</td><td>POSITION J2000 20.965154000000013 -24.744577</td><td></td><td></td><td>1.0</td><td>1.0</td><td>90.0</td><td>--</td><td>--</td><td>--</td><td>--</td><td>--</td><td>0.0</td><td>ALPACA</td><td>--</td><td></td><td></td><td>--</td><td>--</td><td></td></tr>\n",
       "</table></div>"
      ],
      "text/plain": [
       "<Table length=5>\n",
       "access_estsize ... tpl_start\n",
       "    kbyte      ...          \n",
       "    int64      ...   object \n",
       "-------------- ... ---------\n",
       "         25918 ...          \n",
       "         25911 ...          \n",
       "         25775 ...          \n",
       "         25674 ...          \n",
       "         26348 ...          "
      ]
     },
     "execution_count": 23,
     "metadata": {},
     "output_type": "execute_result"
    }
   ],
   "source": [
    "eso_instance.maxrec = 10\n",
    "eso_instance.query_main(top=5)"
   ]
  },
  {
   "cell_type": "code",
   "execution_count": 24,
   "metadata": {},
   "outputs": [],
   "source": [
    "eso_instance.maxrec = 1000"
   ]
  },
  {
   "cell_type": "markdown",
   "metadata": {},
   "source": [
    "## Filter in advance"
   ]
  },
  {
   "cell_type": "code",
   "execution_count": 25,
   "metadata": {},
   "outputs": [
    {
     "name": "stdout",
     "output_type": "stream",
     "text": [
      "select obs_collection, calib_level, multi_ob, filter, s_pixel_scale, instrument_name from ivoa.ObsCore where obs_collection in ('sphere', 'vegas') and calib_level = 3 and multi_ob = 'M'\n",
      "Table saved to ./eso_aq_example_filter_vegas.csv\n"
     ]
    }
   ],
   "source": [
    "my_table = eso_instance.query_collections(\"sphere, vegas\", columns=\"obs_collection, calib_level, multi_ob, filter, s_pixel_scale, instrument_name\" , calib_level=3, multi_ob='M')\n",
    "table_to_csv(my_table, \"./eso_aq_example_filter_vegas.csv\")"
   ]
  },
  {
   "cell_type": "markdown",
   "metadata": {},
   "source": [
    "## Filter afterwards"
   ]
  },
  {
   "cell_type": "code",
   "execution_count": 26,
   "metadata": {},
   "outputs": [
    {
     "name": "stdout",
     "output_type": "stream",
     "text": [
      "select * from ivoa.ObsCore\n"
     ]
    },
    {
     "name": "stderr",
     "output_type": "stream",
     "text": [
      "WARNING: MaxResultsWarning: Results truncated to 1000. To retrieve all the records set to None the maxrec attribute [astroquery.eso.core]\n"
     ]
    },
    {
     "data": {
      "text/html": [
       "<div><i>Table length=1000</i>\n",
       "<table id=\"table5284720208\" class=\"table-striped table-bordered table-condensed\">\n",
       "<thead><tr><th>abmaglim</th><th>access_estsize</th><th>access_format</th><th>access_url</th><th>bib_reference</th><th>calib_level</th><th>dataproduct_subtype</th><th>dataproduct_type</th><th>dp_id</th><th>em_max</th><th>em_min</th><th>em_res_power</th><th>em_xel</th><th>facility_name</th><th>filter</th><th>gal_lat</th><th>gal_lon</th><th>instrument_name</th><th>last_mod_date</th><th>multi_ob</th><th>n_obs</th><th>o_calib_status</th><th>o_ucd</th><th>obs_collection</th><th>obs_creator_did</th><th>obs_creator_name</th><th>obs_id</th><th>obs_publisher_did</th><th>obs_release_date</th><th>obs_title</th><th>obstech</th><th>p3orig</th><th>pol_states</th><th>pol_xel</th><th>preview_html</th><th>proposal_id</th><th>publication_date</th><th>release_description</th><th>s_dec</th><th>s_fov</th><th>s_pixel_scale</th><th>s_ra</th><th>s_region</th><th>s_resolution</th><th>s_xel1</th><th>s_xel2</th><th>snr</th><th>strehl</th><th>t_exptime</th><th>t_max</th><th>t_min</th><th>t_resolution</th><th>t_xel</th><th>target_name</th></tr></thead>\n",
       "<thead><tr><th>mag</th><th>kbyte</th><th></th><th></th><th></th><th></th><th></th><th></th><th></th><th>m</th><th>m</th><th></th><th></th><th></th><th></th><th>deg</th><th>deg</th><th></th><th></th><th></th><th></th><th></th><th></th><th></th><th></th><th></th><th></th><th></th><th></th><th></th><th></th><th></th><th></th><th></th><th></th><th></th><th></th><th></th><th>deg</th><th>deg</th><th>arcsec</th><th>deg</th><th></th><th>arcsec</th><th></th><th></th><th></th><th></th><th>s</th><th>d</th><th>d</th><th>s</th><th></th><th></th></tr></thead>\n",
       "<thead><tr><th>float64</th><th>int64</th><th>object</th><th>object</th><th>object</th><th>int32</th><th>object</th><th>object</th><th>object</th><th>float64</th><th>float64</th><th>float64</th><th>int64</th><th>object</th><th>object</th><th>float64</th><th>float64</th><th>object</th><th>object</th><th>object</th><th>int32</th><th>object</th><th>object</th><th>object</th><th>object</th><th>object</th><th>object</th><th>object</th><th>object</th><th>object</th><th>object</th><th>object</th><th>object</th><th>int64</th><th>object</th><th>object</th><th>object</th><th>object</th><th>float64</th><th>float64</th><th>float64</th><th>float64</th><th>object</th><th>float64</th><th>int64</th><th>int64</th><th>float64</th><th>float64</th><th>float64</th><th>float64</th><th>float64</th><th>float64</th><th>int64</th><th>object</th></tr></thead>\n",
       "<tr><td>20.789</td><td>173983</td><td>application/x-votable+xml;content=datalink</td><td>http://archive.eso.org/datalink/links?ID=ivo://eso.org/ID?ADP.2011-06-24T14:55:29.100</td><td>NULL</td><td>2</td><td>tile</td><td>image</td><td>ADP.2011-06-24T14:55:29.100</td><td>9.27e-07</td><td>8.29e-07</td><td>8.9592</td><td>1</td><td>ESO-VISTA</td><td>Z</td><td>-1.744527</td><td>323.03695</td><td>VIRCAM</td><td>2021-01-21T10:04:22.553Z</td><td>S</td><td>--</td><td>absolute</td><td></td><td>VVV</td><td>ivo://eso.org/origfile?v20100726_00463_st_tl.fits.fz</td><td>MINNITI, DANTE</td><td>450425</td><td>ivo://eso.org/ID?ADP.2011-06-24T14:55:29.100</td><td>2011-07-14T10:12:39Z</td><td></td><td>IMAGE,JITTER</td><td>EDP</td><td></td><td>--</td><td>https://archive.eso.org/dataset/ADP.2011-06-24T14:55:29.100</td><td>179.B-2002(B)</td><td>2011-07-25T00:00:00Z</td><td>http://www.eso.org/rm/api/v1/public/releaseDescriptions/2</td><td>-58.13017</td><td>1.91510013361</td><td>0.3412</td><td>233.456425</td><td>POLYGON J2000 231.698209 -57.923656 233.962005 -57.072198 235.303706 -58.045623 233.009172 -58.9208</td><td>0.986</td><td>12774</td><td>12774</td><td>--</td><td>--</td><td>80.0</td><td>55404.15076466</td><td>55404.1463642</td><td>380.199744</td><td>--</td><td>d020</td></tr>\n",
       "<tr><td>18.977</td><td>199359</td><td>application/x-votable+xml;content=datalink</td><td>http://archive.eso.org/datalink/links?ID=ivo://eso.org/ID?ADP.2011-06-24T14:55:29.867</td><td>NULL</td><td>2</td><td>tile</td><td>image</td><td>ADP.2011-06-24T14:55:29.867</td><td>2.301e-06</td><td>1.992e-06</td><td>6.9466</td><td>1</td><td>ESO-VISTA</td><td>Ks</td><td>0.440148</td><td>307.014075</td><td>VIRCAM</td><td>2021-01-21T10:04:22.553Z</td><td>S</td><td>--</td><td>absolute</td><td></td><td>VVV</td><td>ivo://eso.org/origfile?v20100510_00399_st_tl.fits.fz</td><td>MINNITI, DANTE</td><td>449211</td><td>ivo://eso.org/ID?ADP.2011-06-24T14:55:29.867</td><td>2011-07-14T10:00:12Z</td><td></td><td>IMAGE,JITTER</td><td>EDP</td><td></td><td>--</td><td>https://archive.eso.org/dataset/ADP.2011-06-24T14:55:29.867</td><td>179.B-2002(B)</td><td>2011-07-25T00:00:00Z</td><td>http://www.eso.org/rm/api/v1/public/releaseDescriptions/2</td><td>-62.1533</td><td>1.91466111277</td><td>0.3412</td><td>201.625062</td><td>POLYGON J2000 200.081084 -61.538053 203.156588 -61.33669 203.571533 -62.532195 200.374709 -62.741592</td><td>0.891</td><td>12782</td><td>12782</td><td>--</td><td>--</td><td>16.0</td><td>55327.15599482</td><td>55327.15416713</td><td>157.912416</td><td>--</td><td>d085</td></tr>\n",
       "<tr><td>19.14</td><td>182977</td><td>application/x-votable+xml;content=datalink</td><td>http://archive.eso.org/datalink/links?ID=ivo://eso.org/ID?ADP.2011-06-24T14:55:29.983</td><td>NULL</td><td>2</td><td>tile</td><td>image</td><td>ADP.2011-06-24T14:55:29.983</td><td>2.301e-06</td><td>1.992e-06</td><td>6.9466</td><td>1</td><td>ESO-VISTA</td><td>Ks</td><td>-7.599864</td><td>357.998395</td><td>VIRCAM</td><td>2021-01-21T10:04:22.553Z</td><td>S</td><td>--</td><td>absolute</td><td></td><td>VVV</td><td>ivo://eso.org/origfile?v20100520_00685_st_tl.fits.fz</td><td>MINNITI, DANTE</td><td>477298</td><td>ivo://eso.org/ID?ADP.2011-06-24T14:55:29.983</td><td>2011-07-14T10:34:29Z</td><td></td><td>IMAGE,JITTER</td><td>EDP</td><td></td><td>--</td><td>https://archive.eso.org/dataset/ADP.2011-06-24T14:55:29.983</td><td>179.B-2002(B)</td><td>2011-07-25T00:00:00Z</td><td>http://www.eso.org/rm/api/v1/public/releaseDescriptions/2</td><td>-34.43423</td><td>1.91522762472</td><td>0.3412</td><td>273.008283</td><td>POLYGON J2000 271.88955699999997 -34.676548 272.73116600000003 -33.366667 274.022403 -33.925575 273.195523 -35.244259</td><td>1.006</td><td>12783</td><td>12783</td><td>--</td><td>--</td><td>16.0</td><td>55337.32794004</td><td>55337.32614276</td><td>155.284992</td><td>--</td><td>b234</td></tr>\n",
       "<tr><td>18.756</td><td>184628</td><td>application/x-votable+xml;content=datalink</td><td>http://archive.eso.org/datalink/links?ID=ivo://eso.org/ID?ADP.2011-06-24T14:55:30.113</td><td>NULL</td><td>2</td><td>srctbl</td><td>measurements</td><td>ADP.2011-06-24T14:55:30.113</td><td>2.301e-06</td><td>1.992e-06</td><td>6.9466</td><td>1</td><td>ESO-VISTA</td><td>Ks</td><td>1.532366</td><td>307.020147</td><td>VIRCAM</td><td>2021-01-21T10:04:22.553Z</td><td>S</td><td>1</td><td>absolute</td><td></td><td>VVV</td><td>ivo://eso.org/origfile?v20100620_00194_st_tl_cat.fits</td><td>MINNITI, DANTE</td><td>449214</td><td>ivo://eso.org/ID?ADP.2011-06-24T14:55:30.113</td><td>2011-07-14T10:13:59Z</td><td></td><td>IMAGE,JITTER</td><td>EDP</td><td></td><td>--</td><td>https://archive.eso.org/dataset/ADP.2011-06-24T14:55:30.113</td><td>179.B-2002(B)</td><td>2011-07-25T00:00:00Z</td><td>http://www.eso.org/rm/api/v1/public/releaseDescriptions/2</td><td>-61.07003</td><td>1.91464133083</td><td>--</td><td>201.331275</td><td>POLYGON J2000 199.845091 -60.452631 202.820804 -60.257713 203.207901 -61.453298 200.119948 -61.655652</td><td>1.025</td><td>--</td><td>--</td><td>--</td><td>--</td><td>16.0</td><td>55368.0854692</td><td>55368.08320658</td><td>195.490368</td><td>--</td><td>d123</td></tr>\n",
       "<tr><td>20.789</td><td>298319</td><td>application/x-votable+xml;content=datalink</td><td>http://archive.eso.org/datalink/links?ID=ivo://eso.org/ID?ADP.2011-06-24T14:55:39.130</td><td>NULL</td><td>2</td><td>srctbl</td><td>measurements</td><td>ADP.2011-06-24T14:55:39.130</td><td>9.27e-07</td><td>8.29e-07</td><td>8.9592</td><td>1</td><td>ESO-VISTA</td><td>Z</td><td>-1.744527</td><td>323.03695</td><td>VIRCAM</td><td>2021-01-21T10:04:22.553Z</td><td>S</td><td>1</td><td>absolute</td><td></td><td>VVV</td><td>ivo://eso.org/origfile?v20100726_00463_st_tl_cat.fits</td><td>MINNITI, DANTE</td><td>450425</td><td>ivo://eso.org/ID?ADP.2011-06-24T14:55:39.130</td><td>2011-07-14T10:32:11Z</td><td></td><td>IMAGE,JITTER</td><td>EDP</td><td></td><td>--</td><td>https://archive.eso.org/dataset/ADP.2011-06-24T14:55:39.130</td><td>179.B-2002(B)</td><td>2011-07-25T00:00:00Z</td><td>http://www.eso.org/rm/api/v1/public/releaseDescriptions/2</td><td>-58.13017</td><td>1.91510013361</td><td>--</td><td>233.456425</td><td>POLYGON J2000 231.698209 -57.923656 233.962005 -57.072198 235.303706 -58.045623 233.009172 -58.9208</td><td>0.987</td><td>--</td><td>--</td><td>--</td><td>--</td><td>80.0</td><td>55404.15076466</td><td>55404.1463642</td><td>380.199744</td><td>--</td><td>d020</td></tr>\n",
       "<tr><td>18.252</td><td>323807</td><td>application/x-votable+xml;content=datalink</td><td>http://archive.eso.org/datalink/links?ID=ivo://eso.org/ID?ADP.2011-06-24T14:55:48.397</td><td>NULL</td><td>2</td><td>srctbl</td><td>measurements</td><td>ADP.2011-06-24T14:55:48.397</td><td>1.791e-06</td><td>1.499e-06</td><td>5.6336</td><td>1</td><td>ESO-VISTA</td><td>H</td><td>-4.3232</td><td>359.416321</td><td>VIRCAM</td><td>2021-01-21T10:04:22.553Z</td><td>S</td><td>1</td><td>absolute</td><td></td><td>VVV</td><td>ivo://eso.org/origfile?v20100712_00643_st_tl_cat.fits</td><td>MINNITI, DANTE</td><td>477492</td><td>ivo://eso.org/ID?ADP.2011-06-24T14:55:48.397</td><td>2011-07-14T10:16:11Z</td><td></td><td>IMAGE,JITTER</td><td>EDP</td><td></td><td>--</td><td>https://archive.eso.org/dataset/ADP.2011-06-24T14:55:48.397</td><td>179.B-2002(B)</td><td>2011-07-25T00:00:00Z</td><td>http://www.eso.org/rm/api/v1/public/releaseDescriptions/2</td><td>-31.62753</td><td>1.91472282583</td><td>--</td><td>270.381542</td><td>POLYGON J2000 269.291377 -31.845846 270.14734 -30.555124 271.380251 -31.143135 270.536059 -32.442044</td><td>0.916</td><td>--</td><td>--</td><td>--</td><td>--</td><td>16.0</td><td>55390.25856624</td><td>55390.25628018</td><td>197.515584</td><td>--</td><td>b277</td></tr>\n",
       "<tr><td>19.921</td><td>332982</td><td>application/x-votable+xml;content=datalink</td><td>http://archive.eso.org/datalink/links?ID=ivo://eso.org/ID?ADP.2011-06-24T14:55:50.753</td><td>NULL</td><td>2</td><td>srctbl</td><td>measurements</td><td>ADP.2011-06-24T14:55:50.753</td><td>9.27e-07</td><td>8.29e-07</td><td>8.9592</td><td>1</td><td>ESO-VISTA</td><td>Z</td><td>4.414105</td><td>9.650245</td><td>VIRCAM</td><td>2021-01-21T10:04:22.553Z</td><td>S</td><td>1</td><td>absolute</td><td></td><td>VVV</td><td>ivo://eso.org/origfile?v20100928_00173_st_tl_cat.fits</td><td>MINNITI, DANTE</td><td>478479</td><td>ivo://eso.org/ID?ADP.2011-06-24T14:55:50.753</td><td>2011-07-14T10:31:03Z</td><td></td><td>IMAGE,JITTER</td><td>EDP</td><td></td><td>--</td><td>https://archive.eso.org/dataset/ADP.2011-06-24T14:55:50.753</td><td>179.B-2002(B)</td><td>2011-07-25T00:00:00Z</td><td>http://www.eso.org/rm/api/v1/public/releaseDescriptions/2</td><td>-18.39898</td><td>1.914013025</td><td>--</td><td>267.696683</td><td>POLYGON J2000 266.71792600000003 -18.599921 267.510147 -17.322233 268.607038 -17.932558 267.820139 -19.214756</td><td>0.967</td><td>--</td><td>--</td><td>--</td><td>--</td><td>40.0</td><td>55468.03510381</td><td>55468.03165176</td><td>298.25712</td><td>--</td><td>b396</td></tr>\n",
       "<tr><td>19.586</td><td>256515</td><td>application/x-votable+xml;content=datalink</td><td>http://archive.eso.org/datalink/links?ID=ivo://eso.org/ID?ADP.2011-06-24T14:55:54.050</td><td>NULL</td><td>2</td><td>srctbl</td><td>measurements</td><td>ADP.2011-06-24T14:55:54.050</td><td>9.27e-07</td><td>8.29e-07</td><td>8.9592</td><td>1</td><td>ESO-VISTA</td><td>Z</td><td>-2.138989</td><td>5.23608</td><td>VIRCAM</td><td>2021-01-21T10:04:22.553Z</td><td>S</td><td>1</td><td>absolute</td><td></td><td>VVV</td><td>ivo://eso.org/origfile?v20100910_00280_st_tl_cat.fits</td><td>MINNITI, DANTE</td><td>478003</td><td>ivo://eso.org/ID?ADP.2011-06-24T14:55:54.050</td><td>2011-07-14T10:26:53Z</td><td></td><td>IMAGE,JITTER</td><td>EDP</td><td></td><td>--</td><td>https://archive.eso.org/dataset/ADP.2011-06-24T14:55:54.050</td><td>179.B-2002(B)</td><td>2011-07-25T00:00:00Z</td><td>http://www.eso.org/rm/api/v1/public/releaseDescriptions/2</td><td>-25.49157</td><td>1.91403486777</td><td>--</td><td>271.449675</td><td>POLYGON J2000 270.425288 -25.7125 271.22691399999997 -24.418932 272.393333 -25.004759 271.60038199999997 -26.304633</td><td>1.153</td><td>--</td><td>--</td><td>--</td><td>--</td><td>40.0</td><td>55450.08302018</td><td>55450.07863914</td><td>378.521856</td><td>--</td><td>b309</td></tr>\n",
       "<tr><td>18.205</td><td>356549</td><td>application/x-votable+xml;content=datalink</td><td>http://archive.eso.org/datalink/links?ID=ivo://eso.org/ID?ADP.2011-06-24T14:55:55.670</td><td>NULL</td><td>2</td><td>srctbl</td><td>measurements</td><td>ADP.2011-06-24T14:55:55.670</td><td>1.791e-06</td><td>1.499e-06</td><td>5.6336</td><td>1</td><td>ESO-VISTA</td><td>H</td><td>-4.323237</td><td>3.802037</td><td>VIRCAM</td><td>2021-01-21T10:04:22.553Z</td><td>S</td><td>1</td><td>absolute</td><td></td><td>VVV</td><td>ivo://eso.org/origfile?v20100327_00876_st_tl_cat.fits</td><td>MINNITI, DANTE</td><td>477509</td><td>ivo://eso.org/ID?ADP.2011-06-24T14:55:55.670</td><td>2011-07-14T10:29:31Z</td><td></td><td>IMAGE,JITTER</td><td>EDP</td><td></td><td>--</td><td>https://archive.eso.org/dataset/ADP.2011-06-24T14:55:55.670</td><td>179.B-2002(B)</td><td>2011-07-25T00:00:00Z</td><td>http://www.eso.org/rm/api/v1/public/releaseDescriptions/2</td><td>-27.79956</td><td>1.91401731861</td><td>--</td><td>272.817287</td><td>POLYGON J2000 271.774055 -28.033128 272.576844 -26.731692 273.773024 -27.305535 272.980367 -28.613849</td><td>0.859</td><td>--</td><td>--</td><td>--</td><td>--</td><td>16.0</td><td>55283.34931354</td><td>55283.34756125</td><td>151.397856</td><td>--</td><td>b280</td></tr>\n",
       "<tr><td>...</td><td>...</td><td>...</td><td>...</td><td>...</td><td>...</td><td>...</td><td>...</td><td>...</td><td>...</td><td>...</td><td>...</td><td>...</td><td>...</td><td>...</td><td>...</td><td>...</td><td>...</td><td>...</td><td>...</td><td>...</td><td>...</td><td>...</td><td>...</td><td>...</td><td>...</td><td>...</td><td>...</td><td>...</td><td>...</td><td>...</td><td>...</td><td>...</td><td>...</td><td>...</td><td>...</td><td>...</td><td>...</td><td>...</td><td>...</td><td>...</td><td>...</td><td>...</td><td>...</td><td>...</td><td>...</td><td>...</td><td>...</td><td>...</td><td>...</td><td>...</td><td>...</td><td>...</td><td>...</td></tr>\n",
       "<tr><td>--</td><td>46</td><td>application/x-votable+xml;content=datalink</td><td>http://archive.eso.org/datalink/links?ID=ivo://eso.org/ID?ADP.2014-01-20T10:01:43.483</td><td>Smartt et. al. (2014)</td><td>2</td><td></td><td>spectrum</td><td>ADP.2014-01-20T10:01:43.483</td><td>9.266369999999999e-07</td><td>3.66418e-07</td><td>226.3407</td><td>1015</td><td>ESO-NTT</td><td></td><td>-42.905346</td><td>62.266077</td><td>EFOSC</td><td>2020-10-13T14:00:34.487Z</td><td>S</td><td>1</td><td>absolute</td><td></td><td>PESSTO</td><td>ivo://eso.org/origfile?LSQ12dwl_20121014_Gr13_Free_slit1.5_56456_1_sb.fits</td><td>SMARTT, STEPHEN</td><td>100316178</td><td>ivo://eso.org/ID?ADP.2014-01-20T10:01:43.483</td><td>2014-01-20T10:19:18.350Z</td><td>LSQ12dwl</td><td>SPECTRUM</td><td>EDP</td><td></td><td>--</td><td>https://archive.eso.org/dataset/ADP.2014-01-20T10:01:43.483</td><td>188.D-3003(M)</td><td>2014-01-20T10:21:59Z</td><td>http://www.eso.org/rm/api/v1/public/releaseDescriptions/30</td><td>0.511972</td><td>0.00041666</td><td>--</td><td>333.173125</td><td>POSITION J2000 333.173125 0.511972</td><td>--</td><td>--</td><td>--</td><td>32.5</td><td>--</td><td>1500.0</td><td>56215.0848297</td><td>56215.0674686</td><td>1499.99904</td><td>--</td><td>LSQ12dwl</td></tr>\n",
       "<tr><td>--</td><td>46</td><td>application/x-votable+xml;content=datalink</td><td>http://archive.eso.org/datalink/links?ID=ivo://eso.org/ID?ADP.2014-01-20T10:01:43.497</td><td>Smartt et. al. (2014)</td><td>2</td><td></td><td>spectrum</td><td>ADP.2014-01-20T10:01:43.497</td><td>7.486509999999999e-07</td><td>3.35899e-07</td><td>397.8422</td><td>1011</td><td>ESO-NTT</td><td></td><td>-54.599818</td><td>237.931528</td><td>EFOSC</td><td>2020-10-13T14:00:34.487Z</td><td>S</td><td>1</td><td>absolute</td><td></td><td>PESSTO</td><td>ivo://eso.org/origfile?SN2012fr_20130101_Gr11_Free_slit1.0_56448_1_sb.fits</td><td>SMARTT, STEPHEN</td><td>100319905</td><td>ivo://eso.org/ID?ADP.2014-01-20T10:01:43.497</td><td>2014-01-20T10:19:18.350Z</td><td>SN2012fr</td><td>SPECTRUM</td><td>EDP</td><td></td><td>--</td><td>https://archive.eso.org/dataset/ADP.2014-01-20T10:01:43.497</td><td>188.D-3003(O)</td><td>2014-01-20T10:21:59Z</td><td>http://www.eso.org/rm/api/v1/public/releaseDescriptions/30</td><td>-36.126111</td><td>0.00027777</td><td>--</td><td>53.400416</td><td>POSITION J2000 53.40041600000001 -36.126111</td><td>--</td><td>--</td><td>--</td><td>25.4</td><td>--</td><td>300.0</td><td>56294.143519</td><td>56294.1400468</td><td>299.99808</td><td>--</td><td>SN2012fr</td></tr>\n",
       "<tr><td>--</td><td>46</td><td>application/x-votable+xml;content=datalink</td><td>http://archive.eso.org/datalink/links?ID=ivo://eso.org/ID?ADP.2014-01-20T10:01:43.517</td><td>Smartt et. al. (2014)</td><td>2</td><td></td><td>spectrum</td><td>ADP.2014-01-20T10:01:43.517</td><td>7.46872e-07</td><td>3.3448e-07</td><td>396.0382</td><td>1011</td><td>ESO-NTT</td><td></td><td>55.117109</td><td>11.096376</td><td>EFOSC</td><td>2020-10-13T14:00:34.487Z</td><td>S</td><td>1</td><td>absolute</td><td></td><td>PESSTO</td><td>ivo://eso.org/origfile?CSS130403-150213+103_20130418_Gr11_Free_slit1.0_56448_2_sb.fits</td><td>SMARTT, STEPHEN</td><td>100334561</td><td>ivo://eso.org/ID?ADP.2014-01-20T10:01:43.517</td><td>2014-01-20T10:19:18.350Z</td><td>CSS130403-150213+103846</td><td>SPECTRUM</td><td>EDP</td><td></td><td>--</td><td>https://archive.eso.org/dataset/ADP.2014-01-20T10:01:43.517</td><td>188.D-3003(T)</td><td>2014-01-20T10:21:59Z</td><td>http://www.eso.org/rm/api/v1/public/releaseDescriptions/30</td><td>10.64601</td><td>0.00027777</td><td>--</td><td>225.55455</td><td>POSITION J2000 225.55455 10.64601</td><td>--</td><td>--</td><td>--</td><td>0.5</td><td>--</td><td>1700.0</td><td>56401.2925017</td><td>56401.2728258</td><td>1699.99776</td><td>--</td><td>CSS130403-150213+103846</td></tr>\n",
       "<tr><td>--</td><td>46</td><td>application/x-votable+xml;content=datalink</td><td>http://archive.eso.org/datalink/links?ID=ivo://eso.org/ID?ADP.2014-01-20T10:01:43.530</td><td>Smartt et. al. (2014)</td><td>2</td><td></td><td>spectrum</td><td>ADP.2014-01-20T10:01:43.530</td><td>9.25323e-07</td><td>3.6521499999999995e-07</td><td>360.6</td><td>1015</td><td>ESO-NTT</td><td></td><td>4.551456</td><td>274.248304</td><td>EFOSC</td><td>2020-10-13T14:00:34.487Z</td><td>S</td><td>1</td><td>absolute</td><td></td><td>PESSTO</td><td>ivo://eso.org/origfile?SN2012hs_20130402_Gr13_Free_slit1.0_56457_1_sb.fits</td><td>SMARTT, STEPHEN</td><td>100324446</td><td>ivo://eso.org/ID?ADP.2014-01-20T10:01:43.530</td><td>2014-01-20T10:19:18.350Z</td><td>SN2012hs</td><td>SPECTRUM</td><td>EDP</td><td></td><td>--</td><td>https://archive.eso.org/dataset/ADP.2014-01-20T10:01:43.530</td><td>188.D-3003(T)</td><td>2014-01-20T10:21:59Z</td><td>http://www.eso.org/rm/api/v1/public/releaseDescriptions/30</td><td>-47.912666</td><td>0.00027777</td><td>--</td><td>147.311291</td><td>POSITION J2000 147.31129099999998 -47.912666</td><td>--</td><td>--</td><td>--</td><td>16.2</td><td>--</td><td>3000.0</td><td>56385.1390933</td><td>56385.1043711</td><td>2999.99808</td><td>--</td><td>SN2012hs</td></tr>\n",
       "<tr><td>--</td><td>46</td><td>application/x-votable+xml;content=datalink</td><td>http://archive.eso.org/datalink/links?ID=ivo://eso.org/ID?ADP.2014-01-20T10:01:43.537</td><td>Smartt et. al. (2014)</td><td>2</td><td></td><td>spectrum</td><td>ADP.2014-01-20T10:01:43.537</td><td>9.25921e-07</td><td>3.6592200000000004e-07</td><td>226.2796</td><td>1015</td><td>ESO-NTT</td><td></td><td>45.318564</td><td>256.33433</td><td>EFOSC</td><td>2020-10-13T14:00:34.487Z</td><td>S</td><td>1</td><td>absolute</td><td></td><td>PESSTO</td><td>ivo://eso.org/origfile?LSQ12bgl_20120412_Gr13_Free_slit1.5_56456_1_sb.fits</td><td>SMARTT, STEPHEN</td><td>100305224</td><td>ivo://eso.org/ID?ADP.2014-01-20T10:01:43.537</td><td>2014-01-20T10:19:18.350Z</td><td>LSQ12bgl</td><td>SPECTRUM</td><td>EDP</td><td></td><td>--</td><td>https://archive.eso.org/dataset/ADP.2014-01-20T10:01:43.537</td><td>188.D-3003(A)</td><td>2014-01-20T10:21:59Z</td><td>http://www.eso.org/rm/api/v1/public/releaseDescriptions/30</td><td>-6.0724</td><td>0.00041666</td><td>--</td><td>161.9446</td><td>POSITION J2000 161.9446 -6.0724</td><td>--</td><td>--</td><td>--</td><td>8.2</td><td>--</td><td>1500.0</td><td>56030.0399323</td><td>56030.0225712</td><td>1499.99904</td><td>--</td><td>LSQ12bgl</td></tr>\n",
       "<tr><td>--</td><td>46</td><td>application/x-votable+xml;content=datalink</td><td>http://archive.eso.org/datalink/links?ID=ivo://eso.org/ID?ADP.2014-01-20T10:01:43.557</td><td>Smartt et. al. (2014)</td><td>2</td><td></td><td>spectrum</td><td>ADP.2014-01-20T10:01:43.557</td><td>9.24842e-07</td><td>3.64776e-07</td><td>360.6</td><td>1015</td><td>ESO-NTT</td><td></td><td>-37.41168</td><td>279.00079</td><td>EFOSC</td><td>2020-10-13T14:00:34.487Z</td><td>S</td><td>1</td><td>absolute</td><td></td><td>PESSTO</td><td>ivo://eso.org/origfile?OGLE-2013-SN-018_20130311_Gr13_Free_slit1.0_56457_1_sb.fits</td><td>SMARTT, STEPHEN</td><td>100323322</td><td>ivo://eso.org/ID?ADP.2014-01-20T10:01:43.557</td><td>2014-01-20T10:19:18.350Z</td><td>OGLE-2013-SN-018</td><td>SPECTRUM</td><td>EDP</td><td></td><td>--</td><td>https://archive.eso.org/dataset/ADP.2014-01-20T10:01:43.557</td><td>188.D-3003(Q)</td><td>2014-01-20T10:21:59Z</td><td>http://www.eso.org/rm/api/v1/public/releaseDescriptions/30</td><td>-67.393444</td><td>0.00027777</td><td>--</td><td>69.807541</td><td>POSITION J2000 69.807541 -67.393444</td><td>--</td><td>--</td><td>--</td><td>21.8</td><td>--</td><td>900.0</td><td>56363.1635053</td><td>56363.1530886</td><td>900.00288</td><td>--</td><td>OGLE-2013-SN-018</td></tr>\n",
       "<tr><td>--</td><td>46</td><td>application/x-votable+xml;content=datalink</td><td>http://archive.eso.org/datalink/links?ID=ivo://eso.org/ID?ADP.2014-01-20T10:01:43.563</td><td>Smartt et. al. (2014)</td><td>2</td><td></td><td>spectrum</td><td>ADP.2014-01-20T10:01:43.563</td><td>7.469439999999999e-07</td><td>3.34313e-07</td><td>395.3015</td><td>1011</td><td>ESO-NTT</td><td></td><td>39.896407</td><td>354.889328</td><td>EFOSC</td><td>2020-10-13T14:00:34.487Z</td><td>S</td><td>1</td><td>absolute</td><td></td><td>PESSTO</td><td>ivo://eso.org/origfile?PSNJ15213475-0722183_20130304_Gr11_Free_slit1.0_56448_1_sb.fits</td><td>SMARTT, STEPHEN</td><td>100323125</td><td>ivo://eso.org/ID?ADP.2014-01-20T10:01:43.563</td><td>2014-01-20T10:19:18.350Z</td><td>PSNJ15213475-0722183</td><td>SPECTRUM</td><td>EDP</td><td></td><td>--</td><td>https://archive.eso.org/dataset/ADP.2014-01-20T10:01:43.563</td><td>188.D-3003(Q)</td><td>2014-01-20T10:21:59Z</td><td>http://www.eso.org/rm/api/v1/public/releaseDescriptions/30</td><td>-7.37175</td><td>0.00027777</td><td>--</td><td>230.394791</td><td>POSITION J2000 230.394791 -7.37175</td><td>--</td><td>--</td><td>--</td><td>10.4</td><td>--</td><td>2700.0</td><td>56356.2809881</td><td>56356.249738</td><td>2700.00864</td><td>--</td><td>PSNJ15213475-0722183</td></tr>\n",
       "<tr><td>--</td><td>46</td><td>application/x-votable+xml;content=datalink</td><td>http://archive.eso.org/datalink/links?ID=ivo://eso.org/ID?ADP.2014-01-20T10:01:43.583</td><td>Smartt et. al. (2014)</td><td>2</td><td></td><td>spectrum</td><td>ADP.2014-01-20T10:01:43.583</td><td>9.265080000000001e-07</td><td>3.66447e-07</td><td>227.5982</td><td>1015</td><td>ESO-NTT</td><td></td><td>-75.561671</td><td>194.541123</td><td>EFOSC</td><td>2020-10-13T14:00:34.487Z</td><td>S</td><td>1</td><td>absolute</td><td></td><td>PESSTO</td><td>ivo://eso.org/origfile?LSQ12dlf_20120909_Gr13_Free_slit1.5_56456_2_sb.fits</td><td>SMARTT, STEPHEN</td><td>100314740</td><td>ivo://eso.org/ID?ADP.2014-01-20T10:01:43.583</td><td>2014-01-20T10:19:18.350Z</td><td>LSQ12dlf</td><td>SPECTRUM</td><td>EDP</td><td></td><td>--</td><td>https://archive.eso.org/dataset/ADP.2014-01-20T10:01:43.583</td><td>188.D-3003(I)</td><td>2014-01-20T10:21:59Z</td><td>http://www.eso.org/rm/api/v1/public/releaseDescriptions/30</td><td>-21.812611</td><td>0.00041666</td><td>--</td><td>27.624166</td><td>POSITION J2000 27.624166000000002 -21.812611</td><td>--</td><td>--</td><td>--</td><td>9.2</td><td>--</td><td>1800.0</td><td>56180.3723115</td><td>56180.3514781</td><td>1800.00576</td><td>--</td><td>LSQ12dlf</td></tr>\n",
       "<tr><td>--</td><td>46</td><td>application/x-votable+xml;content=datalink</td><td>http://archive.eso.org/datalink/links?ID=ivo://eso.org/ID?ADP.2014-01-20T10:01:43.610</td><td>Smartt et. al. (2014)</td><td>2</td><td></td><td>spectrum</td><td>ADP.2014-01-20T10:01:43.610</td><td>9.250879999999999e-07</td><td>3.6500599999999995e-07</td><td>356.3345</td><td>1015</td><td>ESO-NTT</td><td></td><td>-37.952084</td><td>198.297084</td><td>EFOSC</td><td>2020-10-13T14:00:34.487Z</td><td>S</td><td>1</td><td>absolute</td><td></td><td>PESSTO</td><td>ivo://eso.org/origfile?LSQ12hxg_20130121_Gr13_Free_slit1.0_56456_2_sb.fits</td><td>SMARTT, STEPHEN</td><td>100321065</td><td>ivo://eso.org/ID?ADP.2014-01-20T10:01:43.610</td><td>2014-01-20T10:19:18.350Z</td><td>LSQ12hxg</td><td>SPECTRUM</td><td>EDP</td><td></td><td>--</td><td>https://archive.eso.org/dataset/ADP.2014-01-20T10:01:43.610</td><td>188.D-3003(O)</td><td>2014-01-20T10:21:59Z</td><td>http://www.eso.org/rm/api/v1/public/releaseDescriptions/30</td><td>-5.918944</td><td>0.00027777</td><td>--</td><td>62.947541</td><td>POSITION J2000 62.947541 -5.918944</td><td>--</td><td>--</td><td>--</td><td>13.4</td><td>--</td><td>1800.0</td><td>56314.1057809</td><td>56314.0849475</td><td>1800.00576</td><td>--</td><td>LSQ12hxg</td></tr>\n",
       "<tr><td>--</td><td>46</td><td>application/x-votable+xml;content=datalink</td><td>http://archive.eso.org/datalink/links?ID=ivo://eso.org/ID?ADP.2014-01-20T10:01:43.630</td><td>Smartt et. al. (2014)</td><td>2</td><td></td><td>spectrum</td><td>ADP.2014-01-20T10:01:43.630</td><td>9.248659999999999e-07</td><td>3.64824e-07</td><td>356.7844</td><td>1015</td><td>ESO-NTT</td><td></td><td>-26.406704</td><td>64.506252</td><td>EFOSC</td><td>2020-10-13T14:00:34.487Z</td><td>S</td><td>1</td><td>absolute</td><td></td><td>PESSTO</td><td>ivo://eso.org/origfile?CSS121005-212556+122_20121008_Gr13_Free_slit1.0_56456_1_sb.fits</td><td>SMARTT, STEPHEN</td><td>100315842</td><td>ivo://eso.org/ID?ADP.2014-01-20T10:01:43.630</td><td>2014-01-20T10:19:18.350Z</td><td>CSS121005-212556+122328</td><td>SPECTRUM</td><td>EDP</td><td></td><td>--</td><td>https://archive.eso.org/dataset/ADP.2014-01-20T10:01:43.630</td><td>188.D-3003(M)</td><td>2014-01-20T10:21:59Z</td><td>http://www.eso.org/rm/api/v1/public/releaseDescriptions/30</td><td>12.39105</td><td>0.00027777</td><td>--</td><td>321.48275</td><td>POSITION J2000 321.48275 12.39105</td><td>--</td><td>--</td><td>--</td><td>9.3</td><td>--</td><td>300.0</td><td>56209.0027294</td><td>56208.9992572</td><td>299.99808</td><td>--</td><td>CSS121005-212556+122328</td></tr>\n",
       "</table></div>"
      ],
      "text/plain": [
       "<Table length=1000>\n",
       "abmaglim access_estsize ... t_xel       target_name      \n",
       "  mag        kbyte      ...                              \n",
       "float64      int64      ... int64          object        \n",
       "-------- -------------- ... ----- -----------------------\n",
       "  20.789         173983 ...    --                    d020\n",
       "  18.977         199359 ...    --                    d085\n",
       "   19.14         182977 ...    --                    b234\n",
       "  18.756         184628 ...    --                    d123\n",
       "  20.789         298319 ...    --                    d020\n",
       "  18.252         323807 ...    --                    b277\n",
       "  19.921         332982 ...    --                    b396\n",
       "  19.586         256515 ...    --                    b309\n",
       "  18.205         356549 ...    --                    b280\n",
       "     ...            ... ...   ...                     ...\n",
       "      --             46 ...    --                LSQ12dwl\n",
       "      --             46 ...    --                SN2012fr\n",
       "      --             46 ...    -- CSS130403-150213+103846\n",
       "      --             46 ...    --                SN2012hs\n",
       "      --             46 ...    --                LSQ12bgl\n",
       "      --             46 ...    --        OGLE-2013-SN-018\n",
       "      --             46 ...    --    PSNJ15213475-0722183\n",
       "      --             46 ...    --                LSQ12dlf\n",
       "      --             46 ...    --                LSQ12hxg\n",
       "      --             46 ...    -- CSS121005-212556+122328"
      ]
     },
     "execution_count": 26,
     "metadata": {},
     "output_type": "execute_result"
    }
   ],
   "source": [
    "eso_instance.query_collections()"
   ]
  },
  {
   "cell_type": "code",
   "execution_count": 27,
   "metadata": {},
   "outputs": [
    {
     "name": "stdout",
     "output_type": "stream",
     "text": [
      "select obs_collection, calib_level, multi_ob, filter, s_pixel_scale, instrument_name from ivoa.ObsCore where obs_collection in ('sphere', 'vegas') and calib_level = 3 and multi_ob = 'M'\n",
      "Table saved to ./eso_aq_example_filter_vegas.csv\n"
     ]
    }
   ],
   "source": [
    "my_table = eso_instance.query_collections(\"sphere, vegas\", columns=\"obs_collection, calib_level, multi_ob, filter, s_pixel_scale, instrument_name\" , calib_level=3, multi_ob='M')\n",
    "table_to_csv(my_table, \"./eso_aq_example_filter_vegas.csv\")"
   ]
  },
  {
   "cell_type": "markdown",
   "metadata": {},
   "source": [
    "## Query Free"
   ]
  },
  {
   "cell_type": "code",
   "execution_count": 28,
   "metadata": {},
   "outputs": [
    {
     "data": {
      "text/html": [
       "<i>Table length=86</i>\n",
       "<table id=\"table5284711488-717171\" class=\"table-striped table-bordered table-condensed\">\n",
       "<thead><tr><th>idx</th><th>COUNT_ALL</th><th>obs_collection</th></tr></thead>\n",
       "<tr><td>0</td><td>1</td><td>081.C-0827</td></tr>\n",
       "<tr><td>1</td><td>4</td><td>092.A-0472</td></tr>\n",
       "<tr><td>2</td><td>8</td><td>096.B-0054</td></tr>\n",
       "<tr><td>3</td><td>1</td><td>1100.A-0528</td></tr>\n",
       "<tr><td>4</td><td>4</td><td>1101.A-0127</td></tr>\n",
       "<tr><td>5</td><td>5397</td><td>193.D-0232</td></tr>\n",
       "<tr><td>6</td><td>587</td><td>195.B-0283</td></tr>\n",
       "<tr><td>7</td><td>114</td><td>196.B-0578</td></tr>\n",
       "<tr><td>8</td><td>361</td><td>196.D-0214</td></tr>\n",
       "<tr><td>9</td><td>28</td><td>197.A-0384</td></tr>\n",
       "<tr><td>10</td><td>165</td><td>198.A-0708</td></tr>\n",
       "<tr><td>11</td><td>2</td><td>60.A-9284H</td></tr>\n",
       "<tr><td>12</td><td>1</td><td>60.A-9493</td></tr>\n",
       "<tr><td>13</td><td>3720</td><td>ADHOC</td></tr>\n",
       "<tr><td>14</td><td>5</td><td>ALCOHOLS</td></tr>\n",
       "<tr><td>15</td><td>88</td><td>ALLSMOG</td></tr>\n",
       "<tr><td>16</td><td>698445</td><td>ALMA</td></tr>\n",
       "<tr><td>17</td><td>25</td><td>AMAZE</td></tr>\n",
       "<tr><td>18</td><td>3</td><td>AMBRE</td></tr>\n",
       "<tr><td>19</td><td>1</td><td>APEX-SciOps</td></tr>\n",
       "<tr><td>20</td><td>48</td><td>ATLASGAL</td></tr>\n",
       "<tr><td>21</td><td>96</td><td>CAFFEINE</td></tr>\n",
       "<tr><td>22</td><td>3</td><td>ENTROPY</td></tr>\n",
       "<tr><td>23</td><td>2655</td><td>ePESSTOplus</td></tr>\n",
       "<tr><td>24</td><td>340</td><td>ERIS-NIX</td></tr>\n",
       "<tr><td>25</td><td>1047</td><td>ERIS-SPIFFIER</td></tr>\n",
       "<tr><td>26</td><td>23424</td><td>ESPRESSO</td></tr>\n",
       "<tr><td>27</td><td>185</td><td>ESSENCE</td></tr>\n",
       "<tr><td>28</td><td>102</td><td>FDS</td></tr>\n",
       "<tr><td>29</td><td>91987</td><td>FEROS</td></tr>\n",
       "<tr><td>30</td><td>31</td><td>Fornax3D</td></tr>\n",
       "<tr><td>31</td><td>90350</td><td>FORS2-SPEC</td></tr>\n",
       "<tr><td>32</td><td>194423</td><td>GAIAESO</td></tr>\n",
       "<tr><td>33</td><td>1058</td><td>GCAV</td></tr>\n",
       "<tr><td>34</td><td>1097100</td><td>GIRAFFE</td></tr>\n",
       "<tr><td>35</td><td>1716</td><td>GOODS_FORS2</td></tr>\n",
       "<tr><td>36</td><td>83</td><td>GOODS_ISAAC</td></tr>\n",
       "<tr><td>37</td><td>2</td><td>GOODS_VIMOS_IMAG</td></tr>\n",
       "<tr><td>38</td><td>5053</td><td>GOODS_VIMOS_SPEC</td></tr>\n",
       "<tr><td>39</td><td>15</td><td>GW170817</td></tr>\n",
       "<tr><td>40</td><td>340392</td><td>HARPS</td></tr>\n",
       "<tr><td>41</td><td>28506</td><td>HAWKI</td></tr>\n",
       "<tr><td>42</td><td>21</td><td>HUGS</td></tr>\n",
       "<tr><td>43</td><td>195</td><td>INSPIRE</td></tr>\n",
       "<tr><td>44</td><td>17993</td><td>KIDS</td></tr>\n",
       "<tr><td>45</td><td>125514</td><td>KMOS</td></tr>\n",
       "<tr><td>46</td><td>4154</td><td>LEGA-C</td></tr>\n",
       "<tr><td>47</td><td>1</td><td>LESS</td></tr>\n",
       "<tr><td>48</td><td>18</td><td>MAGIC</td></tr>\n",
       "<tr><td>49</td><td>21050</td><td>MUSE</td></tr>\n",
       "<tr><td>50</td><td>1499</td><td>MUSE-DEEP</td></tr>\n",
       "<tr><td>51</td><td>35</td><td>MUSE-STD</td></tr>\n",
       "<tr><td>52</td><td>4096</td><td>MW-BULGE-PSFPHOT</td></tr>\n",
       "<tr><td>53</td><td>1944</td><td>NGTS</td></tr>\n",
       "<tr><td>54</td><td>246</td><td>PENELLOPE</td></tr>\n",
       "<tr><td>55</td><td>7484</td><td>PESSTO</td></tr>\n",
       "<tr><td>56</td><td>38</td><td>PHANGS</td></tr>\n",
       "<tr><td>57</td><td>4681</td><td>PIONIER</td></tr>\n",
       "<tr><td>58</td><td>20</td><td>SHARKS</td></tr>\n",
       "<tr><td>59</td><td>602</td><td>SPHERE</td></tr>\n",
       "<tr><td>60</td><td>20</td><td>SUPER</td></tr>\n",
       "<tr><td>61</td><td>17</td><td>UltraVISTA</td></tr>\n",
       "<tr><td>62</td><td>84057</td><td>UVES</td></tr>\n",
       "<tr><td>63</td><td>467</td><td>UVES_SQUAD</td></tr>\n",
       "<tr><td>64</td><td>2167</td><td>VANDELS</td></tr>\n",
       "<tr><td>65</td><td>23</td><td>VEGAS</td></tr>\n",
       "<tr><td>66</td><td>6526</td><td>VEILS</td></tr>\n",
       "<tr><td>67</td><td>126</td><td>VEXAS</td></tr>\n",
       "<tr><td>68</td><td>458782</td><td>VHS</td></tr>\n",
       "<tr><td>69</td><td>31672</td><td>VIDEO</td></tr>\n",
       "<tr><td>70</td><td>20711</td><td>VIKING</td></tr>\n",
       "<tr><td>71</td><td>16728</td><td>VIMOS</td></tr>\n",
       "<tr><td>72</td><td>2016</td><td>VINROUGE</td></tr>\n",
       "<tr><td>73</td><td>91509</td><td>VIPERS</td></tr>\n",
       "<tr><td>74</td><td>3374</td><td>VISIONS</td></tr>\n",
       "<tr><td>75</td><td>42589</td><td>VMC</td></tr>\n",
       "<tr><td>76</td><td>58831</td><td>VPHASplus</td></tr>\n",
       "<tr><td>77</td><td>62765</td><td>VST-ATLAS</td></tr>\n",
       "<tr><td>78</td><td>216281</td><td>VVV</td></tr>\n",
       "<tr><td>79</td><td>405625</td><td>VVVX</td></tr>\n",
       "<tr><td>80</td><td>455</td><td>XQ-100</td></tr>\n",
       "<tr><td>81</td><td>518</td><td>XSGRB</td></tr>\n",
       "<tr><td>82</td><td>177513</td><td>XSHOOTER</td></tr>\n",
       "<tr><td>83</td><td>260</td><td>XShootU</td></tr>\n",
       "<tr><td>84</td><td>2634</td><td>XSL</td></tr>\n",
       "<tr><td>85</td><td>20806</td><td>ZCOSMOS</td></tr>\n",
       "</table><style>table.dataTable {clear: both; width: auto !important; margin: 0 !important;}\n",
       ".dataTables_info, .dataTables_length, .dataTables_filter, .dataTables_paginate{\n",
       "display: inline-block; margin-right: 1em; }\n",
       ".paginate_button { margin-right: 5px; }\n",
       "</style>\n",
       "<script>\n",
       "\n",
       "var astropy_sort_num = function(a, b) {\n",
       "    var a_num = parseFloat(a);\n",
       "    var b_num = parseFloat(b);\n",
       "\n",
       "    if (isNaN(a_num) && isNaN(b_num))\n",
       "        return ((a < b) ? -1 : ((a > b) ? 1 : 0));\n",
       "    else if (!isNaN(a_num) && !isNaN(b_num))\n",
       "        return ((a_num < b_num) ? -1 : ((a_num > b_num) ? 1 : 0));\n",
       "    else\n",
       "        return isNaN(a_num) ? -1 : 1;\n",
       "}\n",
       "\n",
       "require.config({paths: {\n",
       "    datatables: 'https://cdn.datatables.net/1.10.12/js/jquery.dataTables.min'\n",
       "}});\n",
       "require([\"datatables\"], function(){\n",
       "    console.log(\"$('#table5284711488-717171').dataTable()\");\n",
       "    \n",
       "jQuery.extend( jQuery.fn.dataTableExt.oSort, {\n",
       "    \"optionalnum-asc\": astropy_sort_num,\n",
       "    \"optionalnum-desc\": function (a,b) { return -astropy_sort_num(a, b); }\n",
       "});\n",
       "\n",
       "    $('#table5284711488-717171').dataTable({\n",
       "        order: [],\n",
       "        pageLength: 50,\n",
       "        lengthMenu: [[10, 25, 50, 100, 500, 1000, -1], [10, 25, 50, 100, 500, 1000, 'All']],\n",
       "        pagingType: \"full_numbers\",\n",
       "        columnDefs: [{targets: [0, 1], type: \"optionalnum\"}]\n",
       "    });\n",
       "});\n",
       "</script>\n"
      ],
      "text/plain": [
       "<IPython.core.display.HTML object>"
      ]
     },
     "execution_count": 28,
     "metadata": {},
     "output_type": "execute_result"
    }
   ],
   "source": [
    "eso_instance.query_tap_service(\"Select count(*), obs_collection from ivoa.ObsCore group by obs_collection order by obs_collection\").show_in_notebook()"
   ]
  },
  {
   "cell_type": "markdown",
   "metadata": {},
   "source": [
    "## BUG fixing and improvements before release"
   ]
  },
  {
   "cell_type": "markdown",
   "metadata": {},
   "source": [
    "### Authenticated queries - BUG\n",
    "Even when the login is correct, the query is unauthenticated"
   ]
  },
  {
   "cell_type": "markdown",
   "metadata": {},
   "source": [
    "### Cone search - BUG\n",
    " - We need to pass a collection for the cone search to work?"
   ]
  },
  {
   "cell_type": "code",
   "execution_count": 31,
   "metadata": {},
   "outputs": [
    {
     "name": "stdout",
     "output_type": "stream",
     "text": [
      "select target_name, s_ra, s_dec, s_region from ivoa.ObsCore where obs_collection in ('MUSE') and intersects(s_region, circle('ICRS', 150, -59, 1))=1\n",
      "select target_name, s_ra, s_dec, s_region from ivoa.ObsCore\n"
     ]
    },
    {
     "name": "stderr",
     "output_type": "stream",
     "text": [
      "WARNING: NoResultsWarning: Query returned no results [astroquery.eso.core]\n"
     ]
    }
   ],
   "source": [
    "my_table = eso_instance.query_collections(collections='MUSE', ra=150, dec=-59, radius=1, columns=\"target_name, s_ra, s_dec, s_region\")\n",
    "my_table = eso_instance.query_collections(ra=150, dec=-59, radius=1, columns=\"target_name, s_ra, s_dec, s_region\")\n",
    "#table_to_csv(my_table, \"./eso_aq_example_cone_search.csv\")"
   ]
  },
  {
   "cell_type": "markdown",
   "metadata": {},
   "source": [
    "### Help message - Improvement"
   ]
  },
  {
   "cell_type": "code",
   "execution_count": 32,
   "metadata": {},
   "outputs": [
    {
     "name": "stdout",
     "output_type": "stream",
     "text": [
      "INFO: \n",
      "Columns present in the table ivoa.ObsCore:\n",
      "    column_name     datatype    xtype     unit                                                                                                                                                                                        description                                                                                                                                                                                       \n",
      "------------------- -------- ----------- ------ ----------------------------------------------------------------------------------------------------------------------------------------------------------------------------------------------------------------------------------------------------------------------------------------------------------------------------------------------------------------------------------------\n",
      "           abmaglim   double                mag                                                                                                                                        ESO-specific field not present in the standard ObsCore. 5-sigma limiting AB (Oke) magnitude. The quoted magnitude should refer to the total flux of a point source. Applicable to the following data product type: cube, image, and measurements.\n",
      "     access_estsize     long              kbyte                                                                                                                                                                                                                                                                                                                                         Estimated size of the downloaded file in KBytes.\n",
      "      access_format     char                                                                                                                                                                                                                                                                                                                                                                          The format of the downloaded file.\n",
      "         access_url     char                                                                                                                                                                                                                                                  A URL that points to the DataLink (VO Standard) service that is used to download the dataset, associated files, their provenance or derived products, etc.\n",
      "      bib_reference     char                                                                                                                                                                                                                                                                                                                                         URL or bibcode to the main publication that refers to the data set.\n",
      "        calib_level      int                                                   Calibration level: 0-instrument (raw) data in non-standard format, 1-instrumental (raw) data in standard format, 2-science ready data with instrument signature removed, 3-more highly processed data. Ref. PRODLVL keyword in ESO SDP standard if present, otherwise: set to 3 when dataproduct_type contains token deep or tile, set to 4 for catalogs.\n",
      "dataproduct_subtype     char                                                                                                                                                                                                                                                                        A data-provider/collection specific secondary type, e.g. srctbl or catalog for measurements, tile or pawprint for VISTA images, etc.\n",
      "   dataproduct_type     char                                                                                                                                                                                                                                                                                                                               Logical data set type (image, spectrum, visibility, cube, measurements, etc.)\n",
      "              dp_id     char                                                                                                                                        ESO-specific field not present in the standard ObsCore. The original ESO identifier of the main science file. ObsCore uses obs_publisher_did, which returns the full IVO Identifier. This field can be used to join with other ESO (non-VO) tables, like provenance.\n",
      "             em_max   double                  m                                                                                                                                                                                                                                                                    Maximum spectral value observed, expressed in vacuum wavelength in meters; ref. WAVELMAX keyword in ESO SDP standard.\n",
      "             em_min   double                  m                                                                                                                                                                                                                                                                    Minimum specrtal value observed, expressed in vacuum wavelength in meters; ref. WAVELMIN keyword in ESO SDP standard.\n",
      "       em_res_power   double                                                                                                                                   The characteristic spectral resolving power (lambda/delta(lambda)) of the data set. Ref. SPECRES keyword in ESO SDP standard, computed from em_min and em_max when SPECRES not provided := central lambda / delta(lambda) = 0.5*(wavelmin+wavelmax) / (wavelmax-wavelmin)\n",
      "             em_xel     long                                                                                                                                                                                                                                                                                                                                                                    Number of elements on the spectral axis.\n",
      "      facility_name     char                                                                                                                                    Name of the ESO telescope utilised to gather the photons. Possible values are: APEX-12m ESO-3.6 ESO-NTT ESO-VISTA ESO-VLT-U1 ESO-VLT-U2 ESO-VLT-U3 ESO-VLT-U4 ESO-VST MPG/ESO-2.2, and more to come, plus any combination of those (comma-separated), or the word MULTI.\n",
      "             filter     char                                                                                                                                                                ESO-specific field not present in the standard ObsCore. The ESO instrument filter name. ObsCore uses em_min, em_max, and em_res_power to characterise the transmission curve of the bandpass; this field can be used to improve readibility.\n",
      "            gal_lat   double                deg                                                                                                                                               ESO-specific field not present in the standard ObsCore. Galactic coordinate: latitude; Image/tile/cube centre, barycentre of image arrays in MEF format ; spectroscopic target position; centre of the survey field in case of catalogues.\n",
      "            gal_lon   double                deg                                                                                                                                              ESO-specific field not present in the standard ObsCore. Galactic coordinate: longitude; Image/tile/cube centre, barycentre of image arrays in MEF format ; spectroscopic target position; centre of the survey field in case of catalogues.\n",
      "    instrument_name     char                                                                                                                                                                                                                                                                  Name of the instrument(s) utilised to gather the data; if the data set combines multiple instruments, usually the value MULTI is assigned.\n",
      "      last_mod_date     char   timestamp                                                                                                                                                                                                                                                                                                                                                 Time stamp of last modification of the metadata\n",
      "           multi_ob     char                    ESO-specific field not present in the standard ObsCore. A flag, either M or S. M-Multi OB means that the exposures from different telescope visits have been combined together; S-Single OB means that the product is the result of either a single exposure, or of the combination of exposures taken during the same visit, hence with similar atmospheric conditions, airmasses, etc.\n",
      "              n_obs      int                                                                                                                                                                                                                                                                                        ESO-specific field not present in the standard ObsCore. Number of observations participating into this data product.\n",
      "     o_calib_status     char                                                                                                                                                                                                                                                                                                                                                     Level of the calibration of the observable (e.g. flux).\n",
      "              o_ucd     char                                                                                                                                                                                                                                                                                                   Nature of the observable within the data set, expressed as an Uniform Content Descriptor (IVOA standard).\n",
      "     obs_collection     char                                                                                                                                                                                                                                                                                                                                                    The name of the data collection the data set belongs to.\n",
      "    obs_creator_did     char                                                                                                                                                                                                                                                                                                                      The original file name as assigned by the data producer, in form of a IVOA identifier.\n",
      "   obs_creator_name     char                                                                                                                                                                                                                          The Principal Investigator either of the team that provided the data set to ESO through the Phase 3 process, or of the observing team in case the data have been certified by ESO.\n",
      "             obs_id     char                                                                                                                                                   In case multiple data sets are available for an observation, e.g. with different calibration levels, the obs_id value will be the same for each data set the observation comprises. The obs_id should remain identical through time for future reference.\n",
      "  obs_publisher_did     char                                                                                                                                                                                                                                                                                     IVOA dataset identifier for the published data set. It must be unique within the namespace controlled by the publisher.\n",
      "   obs_release_date     char   timestamp                                                                                                                                                                                                                                                                                                                                                      The date when the data set becomes public.\n",
      "          obs_title     char                                                                                                                                                                                                                                                                It should contain a brief description (displayable in less than one line of text) specifying in scientific terms the content of the dataset.\n",
      "            obstech     char                                                                                                                                                                                                             ESO-specific field not present in the standard ObsCore. Technique used during the observation. Normally, OBSTECH should be adopted from the keyword HIERARCH ESO DPR TECH of the original data.\n",
      "             p3orig     char                                                                                                                                                                                          ESO-specific field not present in the standard ObsCore. Possible values: EDP or IDP. EDP is for products prepared and certified by the astronomical community, IDP is for products generated and certified by ESO.\n",
      "         pol_states     char                                                                                                                           A list of the polarisation states present in the data set. It is serialised as a concatenated list of the possible values: {I Q U V RR LL RL LR XX YY XY YX POLI POLA} where the list separator is a slash /. Leading and trailing slashes must always be present; example: /YY/.\n",
      "            pol_xel     long                                                                                                                                                                                                                                                                                                                                                    Number of polarisation states available in the data set.\n",
      "       preview_html     char                                                                                                                                                                                                                                                                    The web (html) rendering of the preview, both for ALMA and LPO data. (The datalink offered by the access_url does not support ALMA data)\n",
      "        proposal_id     char                                                                                                                                                                                                                                                                                                                              The identifier(s) of the observing programme(s) this data set originates from.\n",
      "   publication_date     char   timestamp                                                                                                                                                                                              ESO-specific field not present in the standard ObsCore. The publication date is the time when the product has been made available to the user community (whether under proprietary period or not).\n",
      "release_description     char                                                                                                                                                    ESO-specific field. It provides the link to the PDF document describing the release content, the originating observations, the calibration and data reduction procedures, the data quality, the data format, and the scientific context of the programme\n",
      "              s_dec   double                deg                                                                                                                                                Equatorial coordinate: Declination (FK5/J2000); Image/tile/cube centre, barycentre of image arrays in MEF format ; spectroscopic target position; centre of the survey field in case of catalogues. Ref. DEC keyword in ESO SDP standard.\n",
      "              s_fov   double                deg                                                                                                                                                                                                                                                                                                               Angular size of the spatial field of view the photons were collected from.\n",
      "      s_pixel_scale   double             arcsec                                                                                                                                                                                                                                                                                                                                                                      Spatial pixel scale\n",
      "               s_ra   double                deg                                                                                                                                             Equatorial coordinate: Right Ascension (FK5/J2000); Image/tile/cube centre, barycentre of image arrays in MEF format ; spectroscopic target position; centre of the survey field in case of catalogues. Ref. RA keyword in ESO SDP standard.\n",
      "           s_region     char adql:REGION                                                                                                                                                                                                                                                                                The spatial footprint of the data set. For an ESO spectrum, the returned footprint is the position (s_ra,s_dec).\n",
      "       s_resolution   double             arcsec                                                                                                                                                                                                                   The characteristic spatial resolution of the data set; ref. ESO SDP standard: PSF_FWHM for images, SKY_RES for 3d cubes, assumed to be the APERTURE for spectral data.\n",
      "             s_xel1     long                                                                                                                                                                                                                                                                                                                                              Number of elements (e.g. pixels) along the first spatial axis.\n",
      "             s_xel2     long                                                                                                                                                                                                                                                                                                                                             Number of elements (e.g. pixels) along the second spatial axis.\n",
      "                snr   double                                                                                                                                                                                                                                                        ESO-specific field not present in the standard ObsCore. The average signal-to-noise ratio of a spectrum. Not applicable to other data product types.\n",
      "             strehl   double                                                                                                                                                                 Strehl ratio: Ratio of the intensity at the peak of the light distribution of an on-axis point source to the intensity assuming an ideal optical system limited only by diffraction over the aperture. It should be a value between 0 and 1\n",
      "          t_exptime   double                  s                                                                                                                                                                                                                                                                                                 Total integration time per pixel (in seconds); ref. EXPTIME keyword in ESO SDP standard.\n",
      "              t_max   double                  d                                                                                                                                                                                                                                                                                                                              Stop time in MJD; ref. MJD-END keyword in ESO SDP standard.\n",
      "              t_min   double                  d                                                                                                                                                                                                                                                                                                                              Start time in MJD; ref MJD-OBS keyword in ESO SDP standard.\n",
      "       t_resolution   double                  s                                                                                                                                                                                                                                                                                                      Temporal resolution (FWHM) in seconds; currently defined as := (t_max-t_min)*86400.\n",
      "              t_xel     long                                                                                                                                                                                                                                                                                                                           Number of elements along the time axis (currently set to 1 for all observations).\n",
      "        target_name     char                                                                                                                                                                  The target name as assigned by the Principal Investigator; ref. Ref. OBJECT keyword in ESO SDP standard. For spectroscopic public surveys, the value shall be set to the survey source identifier, which shall be unique within the survey\n",
      "\n",
      "Number of records present in the table ivoa.ObsCore:\n",
      "4483639\n",
      " [astroquery.eso.core]\n"
     ]
    }
   ],
   "source": [
    "# do not require collections argument\n",
    "# print also units and descriptions\n",
    "eso_instance.query_collections(collections=\"MUSE\", print_help=True) "
   ]
  },
  {
   "cell_type": "code",
   "execution_count": 34,
   "metadata": {},
   "outputs": [
    {
     "name": "stdout",
     "output_type": "stream",
     "text": [
      "select count(*) from dbo.raw\n",
      "select count(*) from dbo.raw\n",
      "34412961 34412961\n",
      "select count(*) from ivoa.ObsCore where obs_collection in ('MUSE')\n",
      "select count(*) from ivoa.ObsCore where obs_collection in ('MUSE') and intersects(s_region, circle('ICRS', 18, 0, 1))=1\n",
      "21050 22\n"
     ]
    }
   ],
   "source": [
    "# Filtering gives the same count ... ?\n",
    "\n",
    "eso_instance.maxrec = None\n",
    "count_n = eso_instance.query_main(count_only=True)\n",
    "count_m = eso_instance.query_main(ra=18, dec=0 , radius=0.0001, count_only=True)\n",
    "print(count_n, count_m)\n",
    "\n",
    "count_n = eso_instance.query_collections('MUSE', count_only=True)\n",
    "count_m = eso_instance.query_collections('MUSE', ra=18, dec=0 , radius=1, count_only=True)\n",
    "print(count_n, count_m)\n",
    "\n",
    "#eso_instance.query_collections('MUSE', columns=['s_ra', 's_dec'], ra=18, dec=0 , radius=1).show_in_notebook()"
   ]
  },
  {
   "cell_type": "code",
   "execution_count": 35,
   "metadata": {},
   "outputs": [
    {
     "name": "stdout",
     "output_type": "stream",
     "text": [
      "select count(*) from dbo.raw\n",
      "34412962\n"
     ]
    }
   ],
   "source": [
    "count_n = eso_instance.query_main(ra=18, dec=0 , radius=0.1, count_only=True)\n",
    "print(count_n)"
   ]
  },
  {
   "cell_type": "markdown",
   "metadata": {},
   "source": [
    "## Missing items for this release\n",
    "\n",
    " - Documentation\n",
    " - ISTS\n",
    " - Apex quicklook products\n",
    " - Authenticated queries\n",
    " - Bug fixing and improvements\n",
    " - Internal review and testing (ESO)\n",
    " - External review (astroquery people)\n"
   ]
  },
  {
   "cell_type": "markdown",
   "metadata": {},
   "source": [
    "## Upcoming features for next releases\n",
    "\n",
    " - SkyCoord\n",
    " - query_region\n",
    " - query_object\n",
    " - OR, >, <, between, like, ...\n",
    " - query_catalogues\n",
    "\n",
    " - cutouts - definition and download\n",
    " - asyncronous queries\n",
    " - ? previews, ssap, datalink"
   ]
  },
  {
   "cell_type": "markdown",
   "metadata": {},
   "source": []
  }
 ],
 "metadata": {
  "kernelspec": {
   "display_name": "py39",
   "language": "python",
   "name": "python3"
  },
  "language_info": {
   "codemirror_mode": {
    "name": "ipython",
    "version": 3
   },
   "file_extension": ".py",
   "mimetype": "text/x-python",
   "name": "python",
   "nbconvert_exporter": "python",
   "pygments_lexer": "ipython3",
   "version": "3.9.20"
  }
 },
 "nbformat": 4,
 "nbformat_minor": 2
}
