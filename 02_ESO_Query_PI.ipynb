{
 "cells": [
  {
   "cell_type": "markdown",
   "metadata": {},
   "source": [
    "<hr style=\"border:2px solid #0281c9\"> </hr>\n",
    "\n",
    "<img align=\"left\" alt=\"ESO Logo\" src=\"http://archive.eso.org/i/esologo.png\">  \n",
    "\n",
    "<div align=\"center\">\n",
    "  <h1 style=\"color: #0281c9; font-weight: bold;\">ESO Science Archive</h1> \n",
    "  <h2 style=\"color: #0281c9; font-weight: bold;\">Jupyter Notebooks</h2>\n",
    "</div>\n",
    "\n",
    "<hr style=\"border:2px solid #0281c9\"> </hr>"
   ]
  },
  {
   "cell_type": "markdown",
   "metadata": {},
   "source": [
    "## Query by PI name(s)\n",
    "\n",
    "<hr style=\"border:2px solid #0281c9\"> </hr>"
   ]
  },
  {
   "cell_type": "markdown",
   "metadata": {},
   "source": [
    "### Importing and basic usage of astroquery.eso "
   ]
  },
  {
   "cell_type": "markdown",
   "metadata": {},
   "source": [
    "In this example, we will create an instance of the ESO class using:\n",
    "\n",
    "```python\n",
    "from astroquery.eso import Eso # import the ESO module from astroquery\n",
    "eso = Eso()  # create an instance of the ESO class\n",
    "```\n",
    "\n",
    "This instance will be used to demonstrate various queries to the ESO Archive, including searching for raw data and data products from a range of instruments and sources."
   ]
  },
  {
   "cell_type": "code",
   "execution_count": 1,
   "metadata": {},
   "outputs": [],
   "source": [
    "from astroquery.eso import Eso # import the ESO module from astroquery"
   ]
  },
  {
   "cell_type": "code",
   "execution_count": 2,
   "metadata": {},
   "outputs": [],
   "source": [
    "eso = Eso() # create an instance of the ESO class "
   ]
  },
  {
   "cell_type": "markdown",
   "metadata": {},
   "source": [
    "### Performing a Search for Data from the PI \"SCHOEDEL\" and COIs\n",
    "\n",
    "Here we would like to search for a project containing multiple PIs ``'SCHOEDEL/ DO/ ECKART/ GIRARD/ MUZIC/ NEUMAYER/ NISHIYAMA/ SANCHEZ BERMUDEZ'``, which should return projects related to the **the GALACTICNUCLEUS survey (195.B-0283)** (as also used in the other notebook examples).\n",
    "\n",
    "This search can also be accessed via the following: \n",
    "- **TAP** - [see here]() (TBD)\n",
    "- **ESO Science Portal** [see here]() TBD"
   ]
  },
  {
   "cell_type": "code",
   "execution_count": 3,
   "metadata": {},
   "outputs": [],
   "source": [
    "instrument = 'HAWKI'       # set the instrument to HAWKI\n",
    "pi_coi = 'SCHOEDEL/ DO/ ECKART/ GIRARD/ MUZIC/ NEUMAYER/ NISHIYAMA/ SANCHEZ BERMUDEZ' # set the Co-Investigators\n",
    "dp_cat = 'SCIENCE'         # set the data product category to SCIENCE\n",
    "\n",
    "table = eso.query_instrument(instrument, column_filters={'pi_coi':pi_coi, 'dp_cat':dp_cat}) # query the ESO archive for HAWKI science data from SCHOEDEL et al."
   ]
  },
  {
   "cell_type": "markdown",
   "metadata": {},
   "source": [
    "We can now inspect the results, which are stored as an ``astropy.table``."
   ]
  },
  {
   "cell_type": "code",
   "execution_count": 4,
   "metadata": {},
   "outputs": [
    {
     "data": {
      "text/html": [
       "<div><i>Table length=3</i>\n",
       "<table id=\"table5145307360\" class=\"table-striped table-bordered table-condensed\">\n",
       "<thead><tr><th>access_estsize</th><th>access_url</th><th>datalink_url</th><th>date_obs</th><th>dec</th><th>dec_pnt</th><th>det_chip1id</th><th>det_chop_ncycles</th><th>det_dit</th><th>det_expid</th><th>det_ndit</th><th>dp_cat</th><th>dp_id</th><th>dp_tech</th><th>dp_type</th><th>ecl_lat</th><th>ecl_lon</th><th>exp_start</th><th>exposure</th><th>filter_path</th><th>gal_lat</th><th>gal_lon</th><th>grat_path</th><th>gris_path</th><th>ins_mode</th><th>instrument</th><th>lambda_max</th><th>lambda_min</th><th>last_mod_date</th><th>mjd_obs</th><th>ob_id</th><th>ob_name</th><th>object</th><th>obs_mode</th><th>origfile</th><th>period</th><th>pi_coi</th><th>prog_id</th><th>prog_title</th><th>prog_type</th><th>ra</th><th>ra_pnt</th><th>release_date</th><th>s_region</th><th>slit_path</th><th>target</th><th>tel_airm_end</th><th>tel_airm_start</th><th>tel_alt</th><th>tel_ambi_fwhm_end</th><th>tel_ambi_fwhm_start</th><th>tel_ambi_pres_end</th><th>tel_ambi_pres_start</th><th>tel_ambi_rhum</th><th>tel_az</th><th>telescope</th><th>tpl_expno</th><th>tpl_id</th><th>tpl_name</th><th>tpl_nexp</th><th>tpl_seqno</th><th>tpl_start</th></tr></thead>\n",
       "<thead><tr><th>kB</th><th></th><th></th><th></th><th>deg</th><th>deg</th><th></th><th></th><th>s</th><th></th><th></th><th></th><th></th><th></th><th></th><th>deg</th><th>deg</th><th></th><th>s</th><th></th><th>deg</th><th>deg</th><th></th><th></th><th></th><th></th><th>AA</th><th>AA</th><th></th><th>d</th><th></th><th></th><th></th><th></th><th></th><th></th><th></th><th></th><th></th><th></th><th>deg</th><th>deg</th><th></th><th></th><th></th><th></th><th></th><th></th><th>deg</th><th>arcsec</th><th>arcsec</th><th>hPa</th><th>hPa</th><th></th><th>deg</th><th></th><th></th><th></th><th></th><th></th><th></th><th></th></tr></thead>\n",
       "<thead><tr><th>int64</th><th>object</th><th>object</th><th>object</th><th>float64</th><th>float64</th><th>object</th><th>int16</th><th>float32</th><th>int16</th><th>int16</th><th>object</th><th>object</th><th>object</th><th>object</th><th>float64</th><th>float64</th><th>object</th><th>float32</th><th>object</th><th>float64</th><th>float64</th><th>object</th><th>object</th><th>object</th><th>object</th><th>float64</th><th>float64</th><th>object</th><th>float32</th><th>int32</th><th>object</th><th>object</th><th>object</th><th>object</th><th>int16</th><th>object</th><th>object</th><th>object</th><th>int32</th><th>float64</th><th>float64</th><th>object</th><th>object</th><th>object</th><th>object</th><th>float32</th><th>float32</th><th>float32</th><th>float32</th><th>float32</th><th>float32</th><th>float32</th><th>float32</th><th>float32</th><th>object</th><th>int32</th><th>object</th><th>object</th><th>int32</th><th>int32</th><th>object</th></tr></thead>\n",
       "<tr><td>315728</td><td>https://dataportal.eso.org/dataPortal/file/HAWKI.2013-06-06T22:41:42.371</td><td>https://archive.eso.org/datalink/links?ID=ivo://eso.org/ID?HAWKI.2013-06-06T22:41:42.371</td><td>2013-06-06T22:41:42.3702</td><td>-58.21667</td><td>-58.21667</td><td></td><td>--</td><td>0.851</td><td>32767</td><td>50</td><td>SCIENCE</td><td>HAWKI.2013-06-06T22:41:42.371</td><td>IMAGE,HIT</td><td>OBJECT</td><td>-58.774845</td><td>341.487592</td><td>2013-06-06T22:41:42.370Z</td><td>42.55</td><td>J,OPEN</td><td>0.08333</td><td>285.8463</td><td></td><td></td><td>IMG</td><td>HAWKI</td><td>1335.0</td><td>1181.0</td><td>2013-06-07T01:31:45.877Z</td><td>56449.945</td><td>200271362</td><td>FAST_NGC3293_Test_512x</td><td>NGC3293</td><td>v</td><td>HAWKI_IMG_OBS_FAST157_0001.fits</td><td>91</td><td>SCHOEDEL/ DO/ ECKART/ GIRARD/ MUZIC/ NEUMAYER/ NISHIYAMA/ SANCHEZ BERMUDEZ</td><td>091.B-0418(D)</td><td>A COMPLETE OVERVIEW OF YOUNG, MASSIVE STARS IN THE NUCLEAR STAR CLUSTER OF THE MILKY WAY</td><td>0</td><td>158.95541694</td><td>158.955417</td><td>2014-06-07T01:32:23.790Z</td><td>POSITION J2000 158.955417 -58.21667</td><td></td><td>NGC3293</td><td>1.206</td><td>1.205</td><td>56.032</td><td>0.82</td><td>0.72</td><td>743.35</td><td>743.33</td><td>8.5</td><td>6.041</td><td>ESO-VLT-U4</td><td>1</td><td>HAWKI_img_obs_FastPhot</td><td>Imaging fast photometry with jitter (no offsets</td><td>2</td><td>2</td><td>2013-06-06T22:41:23</td></tr>\n",
       "<tr><td>296266</td><td>https://dataportal.eso.org/dataPortal/file/HAWKI.2013-06-06T22:42:32.535</td><td>https://archive.eso.org/datalink/links?ID=ivo://eso.org/ID?HAWKI.2013-06-06T22:42:32.535</td><td>2013-06-06T22:42:32.5353</td><td>-58.21667</td><td>-58.21667</td><td></td><td>--</td><td>0.851</td><td>32767</td><td>50</td><td>SCIENCE</td><td>HAWKI.2013-06-06T22:42:32.535</td><td>IMAGE,HIT</td><td>OBJECT</td><td>-58.774845</td><td>341.487592</td><td>2013-06-06T22:42:32.537Z</td><td>42.55</td><td>J,OPEN</td><td>0.08333</td><td>285.8463</td><td></td><td></td><td>IMG</td><td>HAWKI</td><td>1335.0</td><td>1181.0</td><td>2013-06-07T01:31:40.523Z</td><td>56449.945</td><td>200271362</td><td>FAST_NGC3293_Test_512x</td><td>NGC3293</td><td>v</td><td>HAWKI_IMG_OBS_FAST157_0002.fits</td><td>91</td><td>SCHOEDEL/ DO/ ECKART/ GIRARD/ MUZIC/ NEUMAYER/ NISHIYAMA/ SANCHEZ BERMUDEZ</td><td>091.B-0418(D)</td><td>A COMPLETE OVERVIEW OF YOUNG, MASSIVE STARS IN THE NUCLEAR STAR CLUSTER OF THE MILKY WAY</td><td>0</td><td>158.95541694</td><td>158.955417</td><td>2014-06-07T01:32:23.790Z</td><td>POSITION J2000 158.955417 -58.21667</td><td></td><td>NGC3293</td><td>1.206</td><td>1.206</td><td>56.012</td><td>0.8</td><td>0.82</td><td>743.4</td><td>743.35</td><td>9.5</td><td>6.234</td><td>ESO-VLT-U4</td><td>2</td><td>HAWKI_img_obs_FastPhot</td><td>Imaging fast photometry with jitter (no offsets</td><td>2</td><td>2</td><td>2013-06-06T22:41:23</td></tr>\n",
       "<tr><td>208774</td><td>https://dataportal.eso.org/dataPortal/file/HAWKI.2013-06-06T22:52:16.611</td><td>https://archive.eso.org/datalink/links?ID=ivo://eso.org/ID?HAWKI.2013-06-06T22:52:16.611</td><td>2013-06-06T22:52:16.6118</td><td>-58.21667</td><td>-58.21667</td><td></td><td>--</td><td>0.851</td><td>32767</td><td>32</td><td>SCIENCE</td><td>HAWKI.2013-06-06T22:52:16.611</td><td>IMAGE,HIT</td><td>OBJECT</td><td>-58.774845</td><td>341.487592</td><td>2013-06-06T22:52:16.610Z</td><td>27.232</td><td>J,OPEN</td><td>0.08333</td><td>285.8463</td><td></td><td></td><td>IMG</td><td>HAWKI</td><td>1335.0</td><td>1181.0</td><td>2013-06-07T01:31:40.707Z</td><td>56449.953</td><td>200271362</td><td>FAST_NGC3293_Test_512x</td><td>NGC3293</td><td>v</td><td>HAWKI_IMG_OBS_FAST157_0003.fits</td><td>91</td><td>SCHOEDEL/ DO/ ECKART/ GIRARD/ MUZIC/ NEUMAYER/ NISHIYAMA/ SANCHEZ BERMUDEZ</td><td>091.B-0418(D)</td><td>A COMPLETE OVERVIEW OF YOUNG, MASSIVE STARS IN THE NUCLEAR STAR CLUSTER OF THE MILKY WAY</td><td>0</td><td>158.95541694</td><td>158.955417</td><td>2014-06-07T01:32:23.790Z</td><td>POSITION J2000 158.955417 -58.21667</td><td></td><td>NGC3293</td><td>1.21</td><td>1.21</td><td>55.728</td><td>0.93</td><td>0.93</td><td>743.38</td><td>743.38</td><td>8.0</td><td>8.462</td><td>ESO-VLT-U4</td><td>1</td><td>HAWKI_img_obs_FastPhot</td><td>Imaging fast photometry with jitter (no offsets</td><td>10</td><td>3</td><td>2013-06-06T22:44:42</td></tr>\n",
       "</table></div>"
      ],
      "text/plain": [
       "<Table length=3>\n",
       "access_estsize ...      tpl_start     \n",
       "      kB       ...                    \n",
       "    int64      ...        object      \n",
       "-------------- ... -------------------\n",
       "        315728 ... 2013-06-06T22:41:23\n",
       "        296266 ... 2013-06-06T22:41:23\n",
       "        208774 ... 2013-06-06T22:44:42"
      ]
     },
     "execution_count": 4,
     "metadata": {},
     "output_type": "execute_result"
    }
   ],
   "source": [
    "table[:3] # print the first 3 rows of the table"
   ]
  },
  {
   "cell_type": "code",
   "execution_count": 5,
   "metadata": {},
   "outputs": [
    {
     "data": {
      "text/plain": [
       "['access_estsize',\n",
       " 'access_url',\n",
       " 'datalink_url',\n",
       " 'date_obs',\n",
       " 'dec',\n",
       " 'dec_pnt',\n",
       " 'det_chip1id',\n",
       " 'det_chop_ncycles',\n",
       " 'det_dit',\n",
       " 'det_expid',\n",
       " 'det_ndit',\n",
       " 'dp_cat',\n",
       " 'dp_id',\n",
       " 'dp_tech',\n",
       " 'dp_type',\n",
       " 'ecl_lat',\n",
       " 'ecl_lon',\n",
       " 'exp_start',\n",
       " 'exposure',\n",
       " 'filter_path',\n",
       " 'gal_lat',\n",
       " 'gal_lon',\n",
       " 'grat_path',\n",
       " 'gris_path',\n",
       " 'ins_mode',\n",
       " 'instrument',\n",
       " 'lambda_max',\n",
       " 'lambda_min',\n",
       " 'last_mod_date',\n",
       " 'mjd_obs',\n",
       " 'ob_id',\n",
       " 'ob_name',\n",
       " 'object',\n",
       " 'obs_mode',\n",
       " 'origfile',\n",
       " 'period',\n",
       " 'pi_coi',\n",
       " 'prog_id',\n",
       " 'prog_title',\n",
       " 'prog_type',\n",
       " 'ra',\n",
       " 'ra_pnt',\n",
       " 'release_date',\n",
       " 's_region',\n",
       " 'slit_path',\n",
       " 'target',\n",
       " 'tel_airm_end',\n",
       " 'tel_airm_start',\n",
       " 'tel_alt',\n",
       " 'tel_ambi_fwhm_end',\n",
       " 'tel_ambi_fwhm_start',\n",
       " 'tel_ambi_pres_end',\n",
       " 'tel_ambi_pres_start',\n",
       " 'tel_ambi_rhum',\n",
       " 'tel_az',\n",
       " 'telescope',\n",
       " 'tpl_expno',\n",
       " 'tpl_id',\n",
       " 'tpl_name',\n",
       " 'tpl_nexp',\n",
       " 'tpl_seqno',\n",
       " 'tpl_start']"
      ]
     },
     "execution_count": 5,
     "metadata": {},
     "output_type": "execute_result"
    }
   ],
   "source": [
    "table.colnames # print the column names of the table"
   ]
  },
  {
   "cell_type": "markdown",
   "metadata": {},
   "source": [
    "<hr style=\"border:2px solid #0281c9\"> </hr>"
   ]
  }
 ],
 "metadata": {
  "kernelspec": {
   "display_name": "tst",
   "language": "python",
   "name": "python3"
  },
  "language_info": {
   "codemirror_mode": {
    "name": "ipython",
    "version": 3
   },
   "file_extension": ".py",
   "mimetype": "text/x-python",
   "name": "python",
   "nbconvert_exporter": "python",
   "pygments_lexer": "ipython3",
   "version": "3.9.21"
  }
 },
 "nbformat": 4,
 "nbformat_minor": 2
}
