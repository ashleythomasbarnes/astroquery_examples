{
 "cells": [
  {
   "cell_type": "markdown",
   "metadata": {},
   "source": [
    "<hr style=\"border:2px solid #0281c9\"> </hr>\n",
    "\n",
    "<img align=\"left\" alt=\"ESO Logo\" src=\"http://archive.eso.org/i/esologo.png\">  \n",
    "\n",
    "<div align=\"center\">\n",
    "  <h1 style=\"color: #0281c9; font-weight: bold;\">ESO Science Archive</h1> \n",
    "  <h2 style=\"color: #0281c9; font-weight: bold;\">Jupyter Notebooks</h2>\n",
    "</div>\n",
    "\n",
    "<hr style=\"border:2px solid #0281c9\"> </hr>"
   ]
  },
  {
   "cell_type": "markdown",
   "metadata": {},
   "source": [
    "## Query by source name/position\n",
    "\n",
    "This notebook demonstrates how to use the astroquery.eso module to search for and download raw HAWK-I near-infrared observations from the ESO archive, specifically targeting Sgr A*, the supermassive black hole at the center of the Milky Way. It guides users through querying both the main ESO archive table and instrument-specific tables, filtering results based on observation parameters, and retrieving raw, unprocessed data for further calibration and analysis, enabling direct access to ESO’s extensive collection of observational datasets.\n",
    "\n",
    "<hr style=\"border:2px solid #0281c9\"> </hr>"
   ]
  },
  {
   "cell_type": "markdown",
   "metadata": {},
   "source": [
    "### Importing and basic usage of astroquery.eso "
   ]
  },
  {
   "cell_type": "markdown",
   "metadata": {},
   "source": [
    "In this example, we will create an instance of the ESO class using:\n",
    "\n",
    "```python\n",
    "from astroquery.eso import Eso # import the ESO module from astroquery\n",
    "eso = Eso()  # create an instance of the ESO class\n",
    "```\n",
    "\n",
    "This instance will be used to demonstrate various queries to the ESO Archive, including searching for raw data and data products from a range of instruments and sources."
   ]
  },
  {
   "cell_type": "code",
   "execution_count": 1,
   "metadata": {},
   "outputs": [],
   "source": [
    "from astroquery.eso import Eso # import the ESO module from astroquery"
   ]
  },
  {
   "cell_type": "code",
   "execution_count": 2,
   "metadata": {},
   "outputs": [],
   "source": [
    "eso_instance = Eso() # create an instance of the ESO class"
   ]
  },
  {
   "cell_type": "code",
   "execution_count": 3,
   "metadata": {},
   "outputs": [],
   "source": [
    "# DEMO - use the INT server througout the notebook\n",
    "import os\n",
    "try:\n",
    "    _ = os.environ[\"ESO_TAP_URL\"]\n",
    "except KeyError:\n",
    "    print(\"Setting up env var ESO_TAP_URL...\")\n",
    "    os.environ[\"ESO_TAP_URL\"] = \"http://dfidev5.hq.eso.org:8123/tap_obs\"\n",
    "    pass"
   ]
  },
  {
   "cell_type": "markdown",
   "metadata": {},
   "source": [
    "### Performing a Small Cone Search Around Sgr A*\n",
    "\n",
    "To perform a small cone search of **10 arcseconds** around the source **Sgr A**, we first need to resolve the source name to obtain its **Right Ascension (RA)** and **Declination (Dec)** coordinates. This can be done using an online name resolver such as the ``SkyCoord.from_name()`` method from astropy.coordinates, which allows us to resolve object names into precise RA/Dec coordinates using online astronomical databases. This gives: \n",
    "\n",
    "```python\n",
    "ra = 266.835\n",
    "dec = -28.38528\n",
    "```\n",
    "\n",
    "In coordinate values of degrees in the ICRS (International Celestial Reference System) frame."
   ]
  },
  {
   "cell_type": "code",
   "execution_count": 4,
   "metadata": {},
   "outputs": [],
   "source": [
    "from astropy.coordinates import SkyCoord # import the SkyCoord class from the astropy.coordinates module\n",
    "import astropy.units as u # import the astropy.units module\n",
    "\n",
    "coords = SkyCoord.from_name('Sgr A*') # create a SkyCoord object from the name of the source\n",
    "radius = 20 *u.arcmin # set the radius of the search to 20 arcminutes"
   ]
  },
  {
   "cell_type": "markdown",
   "metadata": {},
   "source": [
    "We use `astroquery.eso` to search for observations of **Sgr A** taken with the **HAWKI** instrument on the **VLT (Very Large Telescope)**.\n",
    "\n",
    "This search can also be accessed via the following: \n",
    "\n",
    "[tap-link]: https://archive.eso.org/tap_obs/sync?REQUEST=doQuery&amp;LANG=ADQL&amp;MAXREC=200&amp;FORMAT=txt&amp;QUERY=SELECT%20*%0Afrom%20ivoa.obscore%0Awhere%20intersects(s_region,%20circle(%27%27,%20266.835,%20-28.38528,%200.1666))=1%0AAND%20instrument_name%20=%20%27HAWKI%27\n",
    "\n",
    "[sp-link]: https://archive.eso.org/scienceportal/home?data_release_date=*:2025-02-07&pos=266.41682,-29.00782&r=0.016667&fovcorners=266.800868,-29.226927,266.033328,-29.226929,266.034957,-28.787142,266.799236,-28.787141&ins_id=HAWKI&dp_type=IMAGE&sort=dist,-fov,-obs_date&s=P%2fDSS2%2fcolor&f=0.669626&fc=266.799236,-28.787141&cs=J2000&av=true&ac=false&c=9,10,11,12,13,15,16,17,18,19,20,21&ta=RES&dts=true&sdtm=%7b%22IMAGE%22%3atrue%7d&at=266.41682,-29.00782&sr=i\n",
    "\n",
    "- **TAP** - [see here][tap-link]\n",
    "- **ESO Science Portal** [see here](sp-link)"
   ]
  },
  {
   "cell_type": "code",
   "execution_count": 5,
   "metadata": {},
   "outputs": [
    {
     "name": "stderr",
     "output_type": "stream",
     "text": [
      "/Users/jcarmona/miniconda3/envs/py39/lib/python3.9/site-packages/pyvo/dal/query.py:339: DALOverflowWarning: Partial result set. Potential causes MAXREC, async storage space, etc.\n",
      "  warn(\"Partial result set. Potential causes MAXREC, async storage space, etc.\",\n",
      "WARNING: MaxResultsWarning: Results truncated to 50. To retrieve all the records set to None the maxrec attribute [astroquery.eso.core]\n"
     ]
    }
   ],
   "source": [
    "instrument = 'HAWKI'       # set the instrument to HAWKI\n",
    "ra = coords.ra             # get the right ascension of the source\n",
    "dec = coords.dec           # get the declination of the source\n",
    "radius = radius.to('deg')  # convert the radius to degrees\n",
    "\n",
    "table_instrument = eso_instance.query_instrument(instrument, ra=ra.value, dec=dec.value, radius=radius.value) # query\n",
    "table_main = eso_instance.query_main(instrument, ra=ra.value, dec=dec.value, radius=radius.value) # query "
   ]
  },
  {
   "cell_type": "code",
   "execution_count": 6,
   "metadata": {},
   "outputs": [],
   "source": [
    "table = eso_instance.query_instrument(instrument) # query the instrument"
   ]
  },
  {
   "cell_type": "markdown",
   "metadata": {},
   "source": [
    "We can now inspect the results, which are stored as an ``astropy.table``. However note here these results include all data from the science achive, included non-science data... "
   ]
  },
  {
   "cell_type": "code",
   "execution_count": 7,
   "metadata": {},
   "outputs": [
    {
     "data": {
      "text/html": [
       "<div><i>Table length=3</i>\n",
       "<table id=\"table4549851216\" class=\"table-striped table-bordered table-condensed\">\n",
       "<thead><tr><th>access_estsize</th><th>access_url</th><th>datalink_url</th><th>date_obs</th><th>dec</th><th>det_dit</th><th>det_ncorrs_name</th><th>det_ndit</th><th>dimm_fwhm_avg</th><th>dimm_fwhm_rms</th><th>dp_cat</th><th>dp_id</th><th>dp_tech</th><th>dp_type</th><th>ecl_lat</th><th>ecl_lon</th><th>exp_start</th><th>exposure</th><th>exptime</th><th>gal_lat</th><th>gal_lon</th><th>ins_filt1_name</th><th>ins_filt2_name</th><th>ins_mode</th><th>instrument</th><th>lambda_max</th><th>lambda_min</th><th>last_mod_date</th><th>lst</th><th>mjd_obs</th><th>moon_illu</th><th>night_flag</th><th>ob_container_id</th><th>ob_container_parent_id</th><th>ob_container_parent_type</th><th>ob_container_type</th><th>ob_id</th><th>ob_name</th><th>ob_start</th><th>ob_targ_name</th><th>ob_tplno</th><th>object</th><th>observing_mode</th><th>origfile</th><th>period</th><th>pi_coi</th><th>prog_id</th><th>prog_title</th><th>prog_type</th><th>ra</th><th>release_date</th><th>s_region</th><th>tel_airm_end</th><th>tel_airm_start</th><th>tel_alt</th><th>tel_ambi_fwhm_end</th><th>tel_ambi_fwhm_start</th><th>tel_ambi_pres_end</th><th>tel_ambi_pres_start</th><th>tel_ambi_rhum</th><th>tel_az</th><th>telescope</th><th>tpl_expno</th><th>tpl_id</th><th>tpl_name</th><th>tpl_nexp</th><th>tpl_start</th><th>utc</th></tr></thead>\n",
       "<thead><tr><th>kbyte</th><th></th><th></th><th></th><th>deg</th><th>s</th><th></th><th></th><th>arcsec</th><th>arcsec</th><th></th><th></th><th></th><th></th><th>deg</th><th>deg</th><th></th><th>s</th><th>s</th><th>deg</th><th>deg</th><th></th><th></th><th></th><th></th><th>nm</th><th>nm</th><th></th><th>s</th><th>d</th><th></th><th></th><th></th><th></th><th></th><th></th><th></th><th></th><th></th><th></th><th></th><th></th><th></th><th></th><th></th><th></th><th></th><th></th><th></th><th>deg</th><th></th><th></th><th></th><th></th><th>deg</th><th>arcsec</th><th>arcsec</th><th>hPa</th><th>hPa</th><th>%</th><th>deg</th><th></th><th></th><th></th><th></th><th></th><th></th><th>s</th></tr></thead>\n",
       "<thead><tr><th>int64</th><th>object</th><th>object</th><th>object</th><th>float64</th><th>float32</th><th>object</th><th>int32</th><th>float32</th><th>float32</th><th>object</th><th>object</th><th>object</th><th>object</th><th>float64</th><th>float64</th><th>object</th><th>float32</th><th>float32</th><th>float64</th><th>float64</th><th>object</th><th>object</th><th>object</th><th>object</th><th>float64</th><th>float64</th><th>object</th><th>float32</th><th>float64</th><th>int16</th><th>object</th><th>int32</th><th>int32</th><th>object</th><th>object</th><th>int32</th><th>object</th><th>object</th><th>object</th><th>int32</th><th>object</th><th>object</th><th>object</th><th>int32</th><th>object</th><th>object</th><th>object</th><th>object</th><th>float64</th><th>object</th><th>object</th><th>float32</th><th>float32</th><th>float32</th><th>float32</th><th>float32</th><th>float32</th><th>float32</th><th>float32</th><th>float32</th><th>object</th><th>int32</th><th>object</th><th>object</th><th>int32</th><th>object</th><th>float32</th></tr></thead>\n",
       "<tr><td>1142</td><td>https://dataportal.eso.org/dataPortal/file/HAWKI.2007-07-31T03:00:36.759</td><td>https://archive.eso.org/datalink/links?ID=ivo://eso.org/ID?HAWKI.2007-07-31T03:00:36.759</td><td>2007-07-31T03:00:36.7591</td><td>--</td><td>1.2572</td><td>Double</td><td>1</td><td>1.09</td><td>0.31464267</td><td>CALIB</td><td>HAWKI.2007-07-31T03:00:36.759</td><td>IMAGE</td><td>STD</td><td>--</td><td>--</td><td>2007-07-31T03:00:36.757Z</td><td>1.257</td><td>1.257</td><td>--</td><td>--</td><td>Y</td><td>OPEN</td><td>NOTCS</td><td>HAWKI</td><td>1070.0</td><td>969.0</td><td>2011-12-01T17:07:48.690Z</td><td>--</td><td>54312.12542545</td><td>98</td><td>night</td><td>--</td><td>--</td><td></td><td></td><td>-1</td><td>Test</td><td>2007-07-31T03:00:05</td><td></td><td>6</td><td>STD</td><td>Vervice</td><td>HAWKI_IMG_STD_GenericOffset212_0013.fits</td><td>--</td><td>Control Model Accoun</td><td>60.A-9282(A)</td><td>Control Model run for HAWKI</td><td>Normal</td><td>--</td><td>2007-07-31T03:00:36.760Z</td><td></td><td>--</td><td>--</td><td>--</td><td>--</td><td>--</td><td>--</td><td>--</td><td>--</td><td>--</td><td></td><td>2</td><td>HAWKI_img_cal_GenericOffset</td><td>Imaging standards with offsets</td><td>11</td><td>2007-07-31T03:00:22</td><td>--</td></tr>\n",
       "<tr><td>1139</td><td>https://dataportal.eso.org/dataPortal/file/HAWKI.2007-07-31T03:00:43.919</td><td>https://archive.eso.org/datalink/links?ID=ivo://eso.org/ID?HAWKI.2007-07-31T03:00:43.919</td><td>2007-07-31T03:00:43.9192</td><td>--</td><td>1.2572</td><td>Double</td><td>1</td><td>1.09</td><td>0.31464267</td><td>CALIB</td><td>HAWKI.2007-07-31T03:00:43.919</td><td>IMAGE</td><td>STD</td><td>--</td><td>--</td><td>2007-07-31T03:00:43.917Z</td><td>1.257</td><td>1.257</td><td>--</td><td>--</td><td>Y</td><td>OPEN</td><td>NOTCS</td><td>HAWKI</td><td>1070.0</td><td>969.0</td><td>2011-12-01T17:08:05.993Z</td><td>--</td><td>54312.12550832</td><td>98</td><td>night</td><td>--</td><td>--</td><td></td><td></td><td>-1</td><td>Test</td><td>2007-07-31T03:00:05</td><td></td><td>6</td><td>STD</td><td>Vervice</td><td>HAWKI_IMG_STD_GenericOffset212_0014.fits</td><td>--</td><td>Control Model Accoun</td><td>60.A-9282(A)</td><td>Control Model run for HAWKI</td><td>Normal</td><td>--</td><td>2007-07-31T03:00:43.920Z</td><td></td><td>--</td><td>--</td><td>--</td><td>--</td><td>--</td><td>--</td><td>--</td><td>--</td><td>--</td><td></td><td>3</td><td>HAWKI_img_cal_GenericOffset</td><td>Imaging standards with offsets</td><td>11</td><td>2007-07-31T03:00:22</td><td>--</td></tr>\n",
       "<tr><td>1130</td><td>https://dataportal.eso.org/dataPortal/file/HAWKI.2007-07-31T03:00:51.081</td><td>https://archive.eso.org/datalink/links?ID=ivo://eso.org/ID?HAWKI.2007-07-31T03:00:51.081</td><td>2007-07-31T03:00:51.0802</td><td>--</td><td>1.2572</td><td>Double</td><td>1</td><td>1.06</td><td>0.2521904</td><td>CALIB</td><td>HAWKI.2007-07-31T03:00:51.081</td><td>IMAGE</td><td>STD</td><td>--</td><td>--</td><td>2007-07-31T03:00:51.807Z</td><td>1.257</td><td>1.257</td><td>--</td><td>--</td><td>Y</td><td>OPEN</td><td>NOTCS</td><td>HAWKI</td><td>1070.0</td><td>969.0</td><td>2011-12-01T17:07:50.463Z</td><td>--</td><td>54312.12559121</td><td>98</td><td>night</td><td>--</td><td>--</td><td></td><td></td><td>-1</td><td>Test</td><td>2007-07-31T03:00:05</td><td></td><td>6</td><td>STD</td><td>Vervice</td><td>HAWKI_IMG_STD_GenericOffset212_0015.fits</td><td>--</td><td>Control Model Accoun</td><td>60.A-9282(A)</td><td>Control Model run for HAWKI</td><td>Normal</td><td>--</td><td>2007-07-31T03:00:51.080Z</td><td></td><td>--</td><td>--</td><td>--</td><td>--</td><td>--</td><td>--</td><td>--</td><td>--</td><td>--</td><td></td><td>4</td><td>HAWKI_img_cal_GenericOffset</td><td>Imaging standards with offsets</td><td>11</td><td>2007-07-31T03:00:22</td><td>--</td></tr>\n",
       "</table></div>"
      ],
      "text/plain": [
       "<Table length=3>\n",
       "access_estsize ...   utc  \n",
       "    kbyte      ...    s   \n",
       "    int64      ... float32\n",
       "-------------- ... -------\n",
       "          1142 ...      --\n",
       "          1139 ...      --\n",
       "          1130 ...      --"
      ]
     },
     "execution_count": 7,
     "metadata": {},
     "output_type": "execute_result"
    }
   ],
   "source": [
    "table[:3] # print the first 3 rows of the table"
   ]
  },
  {
   "cell_type": "markdown",
   "metadata": {},
   "source": [
    "To search for only the science data, we need to refine our results using the following ``column_filters={'dp_cat':'SCIENCE'}``\n",
    "```python\n",
    "table = eso.query_instrument(instrument, ra=ra.value, dec=dec.value, radius=radius.value, column_filters={'dp_cat':'SCIENCE'}) \n",
    "```\n",
    "or alternatively we could use the could simply filter the results already in ``table``. "
   ]
  },
  {
   "cell_type": "code",
   "execution_count": 8,
   "metadata": {},
   "outputs": [],
   "source": [
    "# table = eso.query_instrument(instrument, ra=ra.value, dec=dec.value, radius=radius.value, column_filters={'dp_cat':'SCIENCE'}) "
   ]
  },
  {
   "cell_type": "code",
   "execution_count": 9,
   "metadata": {},
   "outputs": [
    {
     "data": {
      "text/html": [
       "<div><i>Table length=3</i>\n",
       "<table id=\"table4549851264\" class=\"table-striped table-bordered table-condensed\">\n",
       "<thead><tr><th>access_estsize</th><th>access_url</th><th>datalink_url</th><th>date_obs</th><th>dec</th><th>det_dit</th><th>det_ncorrs_name</th><th>det_ndit</th><th>dimm_fwhm_avg</th><th>dimm_fwhm_rms</th><th>dp_cat</th><th>dp_id</th><th>dp_tech</th><th>dp_type</th><th>ecl_lat</th><th>ecl_lon</th><th>exp_start</th><th>exposure</th><th>exptime</th><th>gal_lat</th><th>gal_lon</th><th>ins_filt1_name</th><th>ins_filt2_name</th><th>ins_mode</th><th>instrument</th><th>lambda_max</th><th>lambda_min</th><th>last_mod_date</th><th>lst</th><th>mjd_obs</th><th>moon_illu</th><th>night_flag</th><th>ob_container_id</th><th>ob_container_parent_id</th><th>ob_container_parent_type</th><th>ob_container_type</th><th>ob_id</th><th>ob_name</th><th>ob_start</th><th>ob_targ_name</th><th>ob_tplno</th><th>object</th><th>observing_mode</th><th>origfile</th><th>period</th><th>pi_coi</th><th>prog_id</th><th>prog_title</th><th>prog_type</th><th>ra</th><th>release_date</th><th>s_region</th><th>tel_airm_end</th><th>tel_airm_start</th><th>tel_alt</th><th>tel_ambi_fwhm_end</th><th>tel_ambi_fwhm_start</th><th>tel_ambi_pres_end</th><th>tel_ambi_pres_start</th><th>tel_ambi_rhum</th><th>tel_az</th><th>telescope</th><th>tpl_expno</th><th>tpl_id</th><th>tpl_name</th><th>tpl_nexp</th><th>tpl_start</th><th>utc</th></tr></thead>\n",
       "<thead><tr><th>kbyte</th><th></th><th></th><th></th><th>deg</th><th>s</th><th></th><th></th><th>arcsec</th><th>arcsec</th><th></th><th></th><th></th><th></th><th>deg</th><th>deg</th><th></th><th>s</th><th>s</th><th>deg</th><th>deg</th><th></th><th></th><th></th><th></th><th>nm</th><th>nm</th><th></th><th>s</th><th>d</th><th></th><th></th><th></th><th></th><th></th><th></th><th></th><th></th><th></th><th></th><th></th><th></th><th></th><th></th><th></th><th></th><th></th><th></th><th></th><th>deg</th><th></th><th></th><th></th><th></th><th>deg</th><th>arcsec</th><th>arcsec</th><th>hPa</th><th>hPa</th><th>%</th><th>deg</th><th></th><th></th><th></th><th></th><th></th><th></th><th>s</th></tr></thead>\n",
       "<thead><tr><th>int64</th><th>object</th><th>object</th><th>object</th><th>float64</th><th>float32</th><th>object</th><th>int32</th><th>float32</th><th>float32</th><th>object</th><th>object</th><th>object</th><th>object</th><th>float64</th><th>float64</th><th>object</th><th>float32</th><th>float32</th><th>float64</th><th>float64</th><th>object</th><th>object</th><th>object</th><th>object</th><th>float64</th><th>float64</th><th>object</th><th>float32</th><th>float64</th><th>int16</th><th>object</th><th>int32</th><th>int32</th><th>object</th><th>object</th><th>int32</th><th>object</th><th>object</th><th>object</th><th>int32</th><th>object</th><th>object</th><th>object</th><th>int32</th><th>object</th><th>object</th><th>object</th><th>object</th><th>float64</th><th>object</th><th>object</th><th>float32</th><th>float32</th><th>float32</th><th>float32</th><th>float32</th><th>float32</th><th>float32</th><th>float32</th><th>float32</th><th>object</th><th>int32</th><th>object</th><th>object</th><th>int32</th><th>object</th><th>float32</th></tr></thead>\n",
       "<tr><td>1137</td><td>https://dataportal.eso.org/dataPortal/file/HAWKI.2007-07-31T03:01:52.319</td><td>https://archive.eso.org/datalink/links?ID=ivo://eso.org/ID?HAWKI.2007-07-31T03:01:52.319</td><td>2007-07-31T03:01:52.3188</td><td>--</td><td>1.2572</td><td>Double</td><td>1</td><td>1.14</td><td>0.39949968</td><td>SCIENCE</td><td>HAWKI.2007-07-31T03:01:52.319</td><td>IMAGE</td><td>OBJECT</td><td>--</td><td>--</td><td>2007-07-31T03:01:52.320Z</td><td>1.257</td><td>1.257</td><td>--</td><td>--</td><td>H</td><td>OPEN</td><td>IMG</td><td>HAWKI</td><td>1764.0</td><td>1474.0</td><td>2011-12-01T17:07:56.687Z</td><td>--</td><td>54312.12629999</td><td>98</td><td>night</td><td>--</td><td>--</td><td></td><td></td><td>-1</td><td>Test</td><td>2007-07-31T03:00:05</td><td></td><td>7</td><td></td><td>Vervice</td><td>HAWKI_IMG_OBS_AutoJitter212_0011.fits</td><td>--</td><td>Control Model Accoun</td><td>60.A-9282(A)</td><td>Control Model run for HAWKI</td><td>Normal</td><td>--</td><td>2008-07-31T03:01:52.320Z</td><td></td><td>--</td><td>--</td><td>--</td><td>--</td><td>--</td><td>--</td><td>--</td><td>--</td><td>--</td><td>ESO-VLT-U4</td><td>1</td><td>HAWKI_img_obs_AutoJitter</td><td>Imaging with jitter (no offsets)</td><td>10</td><td>2007-07-31T03:01:46</td><td>--</td></tr>\n",
       "<tr><td>1185</td><td>https://dataportal.eso.org/dataPortal/file/HAWKI.2007-07-31T03:12:51.681</td><td>https://archive.eso.org/datalink/links?ID=ivo://eso.org/ID?HAWKI.2007-07-31T03:12:51.681</td><td>2007-07-31T03:12:51.6810</td><td>--</td><td>1.2572</td><td>Double</td><td>1</td><td>1.3</td><td>0.6244998</td><td>SCIENCE</td><td>HAWKI.2007-07-31T03:12:51.681</td><td>IMAGE</td><td>OBJECT</td><td>--</td><td>--</td><td>2007-07-31T03:12:51.680Z</td><td>1.257</td><td>1.257</td><td>--</td><td>--</td><td>H</td><td>OPEN</td><td>IMG</td><td>HAWKI</td><td>1764.0</td><td>1474.0</td><td>2011-12-01T17:08:03.183Z</td><td>--</td><td>54312.13393149</td><td>98</td><td>night</td><td>--</td><td>--</td><td></td><td></td><td>-1</td><td>Test</td><td>2007-07-31T03:11:21</td><td></td><td>7</td><td></td><td>Vervice</td><td>HAWKI_IMG_OBS_AutoJitter212_0012.fits</td><td>--</td><td>Control Model Accoun</td><td>60.A-9282(A)</td><td>Control Model run for HAWKI</td><td>Normal</td><td>--</td><td>2008-07-31T03:12:51.680Z</td><td></td><td>--</td><td>--</td><td>--</td><td>--</td><td>--</td><td>--</td><td>--</td><td>--</td><td>--</td><td>ESO-VLT-U4</td><td>1</td><td>HAWKI_img_obs_AutoJitter</td><td>Imaging with jitter (no offsets)</td><td>10</td><td>2007-07-31T03:12:45</td><td>--</td></tr>\n",
       "<tr><td>1160</td><td>https://dataportal.eso.org/dataPortal/file/HAWKI.2007-07-31T03:12:58.842</td><td>https://archive.eso.org/datalink/links?ID=ivo://eso.org/ID?HAWKI.2007-07-31T03:12:58.842</td><td>2007-07-31T03:12:58.8423</td><td>--</td><td>1.2572</td><td>Double</td><td>1</td><td>1.3</td><td>0.6244998</td><td>SCIENCE</td><td>HAWKI.2007-07-31T03:12:58.842</td><td>IMAGE</td><td>OBJECT</td><td>--</td><td>--</td><td>2007-07-31T03:12:58.843Z</td><td>1.257</td><td>1.257</td><td>--</td><td>--</td><td>H</td><td>OPEN</td><td>IMG</td><td>HAWKI</td><td>1764.0</td><td>1474.0</td><td>2011-12-01T17:07:50.623Z</td><td>--</td><td>54312.13401438</td><td>98</td><td>night</td><td>--</td><td>--</td><td></td><td></td><td>-1</td><td>Test</td><td>2007-07-31T03:11:21</td><td></td><td>7</td><td></td><td>Vervice</td><td>HAWKI_IMG_OBS_AutoJitter212_0013.fits</td><td>--</td><td>Control Model Accoun</td><td>60.A-9282(A)</td><td>Control Model run for HAWKI</td><td>Normal</td><td>--</td><td>2008-07-31T03:12:58.843Z</td><td></td><td>--</td><td>--</td><td>--</td><td>--</td><td>--</td><td>--</td><td>--</td><td>--</td><td>--</td><td>ESO-VLT-U4</td><td>2</td><td>HAWKI_img_obs_AutoJitter</td><td>Imaging with jitter (no offsets)</td><td>10</td><td>2007-07-31T03:12:45</td><td>--</td></tr>\n",
       "</table></div>"
      ],
      "text/plain": [
       "<Table length=3>\n",
       "access_estsize ...   utc  \n",
       "    kbyte      ...    s   \n",
       "    int64      ... float32\n",
       "-------------- ... -------\n",
       "          1137 ...      --\n",
       "          1185 ...      --\n",
       "          1160 ...      --"
      ]
     },
     "execution_count": 9,
     "metadata": {},
     "output_type": "execute_result"
    }
   ],
   "source": [
    "table = table[table['dp_cat']==\"SCIENCE\"] # select only the rows with the dp_cat column equal to \"SCIENCE\"\n",
    "table[:3] # print the first 3 rows of the table"
   ]
  },
  {
   "cell_type": "markdown",
   "metadata": {},
   "source": [
    "We can check all the column names in the table by printing the ``table.colnames`` attribute to see what else we could filter... "
   ]
  },
  {
   "cell_type": "code",
   "execution_count": 10,
   "metadata": {},
   "outputs": [
    {
     "data": {
      "text/plain": [
       "['access_estsize',\n",
       " 'access_url',\n",
       " 'datalink_url',\n",
       " 'date_obs',\n",
       " 'dec',\n",
       " 'det_dit',\n",
       " 'det_ncorrs_name',\n",
       " 'det_ndit',\n",
       " 'dimm_fwhm_avg',\n",
       " 'dimm_fwhm_rms',\n",
       " 'dp_cat',\n",
       " 'dp_id',\n",
       " 'dp_tech',\n",
       " 'dp_type',\n",
       " 'ecl_lat',\n",
       " 'ecl_lon',\n",
       " 'exp_start',\n",
       " 'exposure',\n",
       " 'exptime',\n",
       " 'gal_lat',\n",
       " 'gal_lon',\n",
       " 'ins_filt1_name',\n",
       " 'ins_filt2_name',\n",
       " 'ins_mode',\n",
       " 'instrument',\n",
       " 'lambda_max',\n",
       " 'lambda_min',\n",
       " 'last_mod_date',\n",
       " 'lst',\n",
       " 'mjd_obs',\n",
       " 'moon_illu',\n",
       " 'night_flag',\n",
       " 'ob_container_id',\n",
       " 'ob_container_parent_id',\n",
       " 'ob_container_parent_type',\n",
       " 'ob_container_type',\n",
       " 'ob_id',\n",
       " 'ob_name',\n",
       " 'ob_start',\n",
       " 'ob_targ_name',\n",
       " 'ob_tplno',\n",
       " 'object',\n",
       " 'observing_mode',\n",
       " 'origfile',\n",
       " 'period',\n",
       " 'pi_coi',\n",
       " 'prog_id',\n",
       " 'prog_title',\n",
       " 'prog_type',\n",
       " 'ra',\n",
       " 'release_date',\n",
       " 's_region',\n",
       " 'tel_airm_end',\n",
       " 'tel_airm_start',\n",
       " 'tel_alt',\n",
       " 'tel_ambi_fwhm_end',\n",
       " 'tel_ambi_fwhm_start',\n",
       " 'tel_ambi_pres_end',\n",
       " 'tel_ambi_pres_start',\n",
       " 'tel_ambi_rhum',\n",
       " 'tel_az',\n",
       " 'telescope',\n",
       " 'tpl_expno',\n",
       " 'tpl_id',\n",
       " 'tpl_name',\n",
       " 'tpl_nexp',\n",
       " 'tpl_start',\n",
       " 'utc']"
      ]
     },
     "execution_count": 10,
     "metadata": {},
     "output_type": "execute_result"
    }
   ],
   "source": [
    "table.colnames # print the column names of the table"
   ]
  },
  {
   "cell_type": "markdown",
   "metadata": {},
   "source": [
    "## Downloading datasets from the archive"
   ]
  },
  {
   "cell_type": "markdown",
   "metadata": {},
   "source": [
    "The returned table has an ``dp_id`` column. It can be used to retrieve the datasets with ``retrieve_data()``.\n",
    "\n",
    "The file names, returned in ``data_files``, points to the decompressed datasets (without the .Z extension) that have been locally downloaded. \n",
    "\n",
    "The default location (in the ``astropy`` cache) of the decompressed datasets can be adjusted by providing a destination keyword in the call to ``retrieve_data()``. By default, if a requested dataset is already found, it is not downloaded again from the archive. To force the retrieval of data that are present in the destination directory, use ``continuation=True`` in the call to ``retrieve_data()``."
   ]
  },
  {
   "cell_type": "code",
   "execution_count": 11,
   "metadata": {},
   "outputs": [
    {
     "name": "stdout",
     "output_type": "stream",
     "text": [
      "INFO: Downloading datasets ... [astroquery.eso.core]\n",
      "INFO: Downloading 1 files ... [astroquery.eso.core]\n",
      "INFO: Downloading file 1/1 https://dataportal.eso.org/dataPortal/file/HAWKI.2007-07-31T03:01:52.319 to /Users/jcarmona/.astropy/cache/astroquery/Eso [astroquery.eso.core]\n",
      "INFO: Done! [astroquery.eso.core]\n"
     ]
    },
    {
     "name": "stderr",
     "output_type": "stream",
     "text": [
      "ERROR: Access denied to https://dataportal.eso.org/dataPortal/file/HAWKI.2007-07-31T03:01:52.319 [astroquery.eso.core]\n"
     ]
    }
   ],
   "source": [
    "data_files = eso_instance.retrieve_data(table['dp_id'][0]) # download the first data product\n",
    "# data_files = eso.retrieve_data(table['dp_id'][0], continuation=True) # force the download of all files even if present in the destination directory\n",
    "# data_files = eso.retrieve_data(table['dp_id'][0], destination='./') # specify the destination directory for the download"
   ]
  },
  {
   "cell_type": "markdown",
   "metadata": {},
   "source": [
    "<hr style=\"border:2px solid #0281c9\"> </hr>"
   ]
  }
 ],
 "metadata": {
  "kernelspec": {
   "display_name": "py39",
   "language": "python",
   "name": "python3"
  },
  "language_info": {
   "codemirror_mode": {
    "name": "ipython",
    "version": 3
   },
   "file_extension": ".py",
   "mimetype": "text/x-python",
   "name": "python",
   "nbconvert_exporter": "python",
   "pygments_lexer": "ipython3",
   "version": "3.9.20"
  }
 },
 "nbformat": 4,
 "nbformat_minor": 2
}
